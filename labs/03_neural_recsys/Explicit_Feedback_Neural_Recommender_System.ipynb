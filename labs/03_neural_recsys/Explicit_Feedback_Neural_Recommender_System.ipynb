{
 "cells": [
  {
   "cell_type": "markdown",
   "metadata": {},
   "source": [
    "# Explicit Feedback Neural Recommender Systems\n",
    "\n",
    "Goals:\n",
    "- Understand recommender data\n",
    "- Build different models architectures using Keras\n",
    "- Retrieve Embeddings and visualize them\n",
    "- Add metadata information as input to the model"
   ]
  },
  {
   "cell_type": "code",
   "execution_count": 1,
   "metadata": {},
   "outputs": [],
   "source": [
    "%matplotlib inline\n",
    "import matplotlib.pyplot as plt\n",
    "import numpy as np\n",
    "import os.path as op\n",
    "\n",
    "from zipfile import ZipFile\n",
    "try:\n",
    "    from urllib.request import urlretrieve\n",
    "except ImportError:  # Python 2 compat\n",
    "    from urllib import urlretrieve\n",
    "\n",
    "\n",
    "ML_100K_URL = \"http://files.grouplens.org/datasets/movielens/ml-100k.zip\"\n",
    "ML_100K_FILENAME = ML_100K_URL.rsplit('/', 1)[1]\n",
    "ML_100K_FOLDER = 'ml-100k'\n",
    "\n",
    "if not op.exists(ML_100K_FILENAME):\n",
    "    print('Downloading %s to %s...' % (ML_100K_URL, ML_100K_FILENAME))\n",
    "    urlretrieve(ML_100K_URL, ML_100K_FILENAME)\n",
    "\n",
    "if not op.exists(ML_100K_FOLDER):\n",
    "    print('Extracting %s to %s...' % (ML_100K_FILENAME, ML_100K_FOLDER))\n",
    "    ZipFile(ML_100K_FILENAME).extractall('.')"
   ]
  },
  {
   "cell_type": "markdown",
   "metadata": {},
   "source": [
    "### Ratings file\n",
    "\n",
    "Each line contains a rated movie: \n",
    "- a user\n",
    "- an item\n",
    "- a rating from 1 to 5 stars"
   ]
  },
  {
   "cell_type": "code",
   "execution_count": 2,
   "metadata": {},
   "outputs": [
    {
     "data": {
      "text/html": [
       "<div>\n",
       "<style scoped>\n",
       "    .dataframe tbody tr th:only-of-type {\n",
       "        vertical-align: middle;\n",
       "    }\n",
       "\n",
       "    .dataframe tbody tr th {\n",
       "        vertical-align: top;\n",
       "    }\n",
       "\n",
       "    .dataframe thead th {\n",
       "        text-align: right;\n",
       "    }\n",
       "</style>\n",
       "<table border=\"1\" class=\"dataframe\">\n",
       "  <thead>\n",
       "    <tr style=\"text-align: right;\">\n",
       "      <th></th>\n",
       "      <th>user_id</th>\n",
       "      <th>item_id</th>\n",
       "      <th>rating</th>\n",
       "      <th>timestamp</th>\n",
       "    </tr>\n",
       "  </thead>\n",
       "  <tbody>\n",
       "    <tr>\n",
       "      <th>0</th>\n",
       "      <td>196</td>\n",
       "      <td>242</td>\n",
       "      <td>3</td>\n",
       "      <td>881250949</td>\n",
       "    </tr>\n",
       "    <tr>\n",
       "      <th>1</th>\n",
       "      <td>186</td>\n",
       "      <td>302</td>\n",
       "      <td>3</td>\n",
       "      <td>891717742</td>\n",
       "    </tr>\n",
       "    <tr>\n",
       "      <th>2</th>\n",
       "      <td>22</td>\n",
       "      <td>377</td>\n",
       "      <td>1</td>\n",
       "      <td>878887116</td>\n",
       "    </tr>\n",
       "    <tr>\n",
       "      <th>3</th>\n",
       "      <td>244</td>\n",
       "      <td>51</td>\n",
       "      <td>2</td>\n",
       "      <td>880606923</td>\n",
       "    </tr>\n",
       "    <tr>\n",
       "      <th>4</th>\n",
       "      <td>166</td>\n",
       "      <td>346</td>\n",
       "      <td>1</td>\n",
       "      <td>886397596</td>\n",
       "    </tr>\n",
       "  </tbody>\n",
       "</table>\n",
       "</div>"
      ],
      "text/plain": [
       "   user_id  item_id  rating  timestamp\n",
       "0      196      242       3  881250949\n",
       "1      186      302       3  891717742\n",
       "2       22      377       1  878887116\n",
       "3      244       51       2  880606923\n",
       "4      166      346       1  886397596"
      ]
     },
     "execution_count": 2,
     "metadata": {},
     "output_type": "execute_result"
    }
   ],
   "source": [
    "import pandas as pd\n",
    "\n",
    "raw_ratings = pd.read_csv(op.join(ML_100K_FOLDER, 'u.data'), sep='\\t',\n",
    "                      names=[\"user_id\", \"item_id\", \"rating\", \"timestamp\"])\n",
    "raw_ratings.head()"
   ]
  },
  {
   "cell_type": "markdown",
   "metadata": {},
   "source": [
    "### Item metadata file\n",
    "\n",
    "The item metadata file contains metadata like the name of the movie or the date it was released. The movies file contains columns indicating the movie's genres. Let's only load the first five columns of the file with `usecols`."
   ]
  },
  {
   "cell_type": "code",
   "execution_count": 3,
   "metadata": {},
   "outputs": [
    {
     "data": {
      "text/html": [
       "<div>\n",
       "<style scoped>\n",
       "    .dataframe tbody tr th:only-of-type {\n",
       "        vertical-align: middle;\n",
       "    }\n",
       "\n",
       "    .dataframe tbody tr th {\n",
       "        vertical-align: top;\n",
       "    }\n",
       "\n",
       "    .dataframe thead th {\n",
       "        text-align: right;\n",
       "    }\n",
       "</style>\n",
       "<table border=\"1\" class=\"dataframe\">\n",
       "  <thead>\n",
       "    <tr style=\"text-align: right;\">\n",
       "      <th></th>\n",
       "      <th>item_id</th>\n",
       "      <th>title</th>\n",
       "      <th>release_date</th>\n",
       "      <th>video_release_date</th>\n",
       "      <th>imdb_url</th>\n",
       "    </tr>\n",
       "  </thead>\n",
       "  <tbody>\n",
       "    <tr>\n",
       "      <th>0</th>\n",
       "      <td>1</td>\n",
       "      <td>Toy Story (1995)</td>\n",
       "      <td>01-Jan-1995</td>\n",
       "      <td>NaN</td>\n",
       "      <td>http://us.imdb.com/M/title-exact?Toy%20Story%2...</td>\n",
       "    </tr>\n",
       "    <tr>\n",
       "      <th>1</th>\n",
       "      <td>2</td>\n",
       "      <td>GoldenEye (1995)</td>\n",
       "      <td>01-Jan-1995</td>\n",
       "      <td>NaN</td>\n",
       "      <td>http://us.imdb.com/M/title-exact?GoldenEye%20(...</td>\n",
       "    </tr>\n",
       "    <tr>\n",
       "      <th>2</th>\n",
       "      <td>3</td>\n",
       "      <td>Four Rooms (1995)</td>\n",
       "      <td>01-Jan-1995</td>\n",
       "      <td>NaN</td>\n",
       "      <td>http://us.imdb.com/M/title-exact?Four%20Rooms%...</td>\n",
       "    </tr>\n",
       "    <tr>\n",
       "      <th>3</th>\n",
       "      <td>4</td>\n",
       "      <td>Get Shorty (1995)</td>\n",
       "      <td>01-Jan-1995</td>\n",
       "      <td>NaN</td>\n",
       "      <td>http://us.imdb.com/M/title-exact?Get%20Shorty%...</td>\n",
       "    </tr>\n",
       "    <tr>\n",
       "      <th>4</th>\n",
       "      <td>5</td>\n",
       "      <td>Copycat (1995)</td>\n",
       "      <td>01-Jan-1995</td>\n",
       "      <td>NaN</td>\n",
       "      <td>http://us.imdb.com/M/title-exact?Copycat%20(1995)</td>\n",
       "    </tr>\n",
       "  </tbody>\n",
       "</table>\n",
       "</div>"
      ],
      "text/plain": [
       "   item_id              title release_date  video_release_date  \\\n",
       "0        1   Toy Story (1995)  01-Jan-1995                 NaN   \n",
       "1        2   GoldenEye (1995)  01-Jan-1995                 NaN   \n",
       "2        3  Four Rooms (1995)  01-Jan-1995                 NaN   \n",
       "3        4  Get Shorty (1995)  01-Jan-1995                 NaN   \n",
       "4        5     Copycat (1995)  01-Jan-1995                 NaN   \n",
       "\n",
       "                                            imdb_url  \n",
       "0  http://us.imdb.com/M/title-exact?Toy%20Story%2...  \n",
       "1  http://us.imdb.com/M/title-exact?GoldenEye%20(...  \n",
       "2  http://us.imdb.com/M/title-exact?Four%20Rooms%...  \n",
       "3  http://us.imdb.com/M/title-exact?Get%20Shorty%...  \n",
       "4  http://us.imdb.com/M/title-exact?Copycat%20(1995)  "
      ]
     },
     "execution_count": 3,
     "metadata": {},
     "output_type": "execute_result"
    }
   ],
   "source": [
    "m_cols = ['item_id', 'title', 'release_date', 'video_release_date', 'imdb_url']\n",
    "items = pd.read_csv(op.join(ML_100K_FOLDER, 'u.item'), sep='|',\n",
    "                    names=m_cols, usecols=range(5), encoding='latin-1')\n",
    "items.head()"
   ]
  },
  {
   "cell_type": "markdown",
   "metadata": {},
   "source": [
    "Let's write a bit of Python preprocessing code to extract the release year as an integer value:"
   ]
  },
  {
   "cell_type": "code",
   "execution_count": 4,
   "metadata": {},
   "outputs": [
    {
     "data": {
      "image/png": "[encoded data removed]",
      "text/plain": [
       "<Figure size 432x288 with 1 Axes>"
      ]
     },
     "metadata": {
      "needs_background": "light"
     },
     "output_type": "display_data"
    }
   ],
   "source": [
    "def extract_year(release_date):\n",
    "    if hasattr(release_date, 'split'):\n",
    "        components = release_date.split('-')\n",
    "        if len(components) == 3:\n",
    "            return int(components[2])\n",
    "    # Missing value marker\n",
    "    return 1920\n",
    "\n",
    "\n",
    "items['release_year'] = items['release_date'].map(extract_year)\n",
    "items.hist('release_year', bins=50);"
   ]
  },
  {
   "cell_type": "markdown",
   "metadata": {},
   "source": [
    "Enrich the raw ratings data with the collected items metadata:"
   ]
  },
  {
   "cell_type": "code",
   "execution_count": 5,
   "metadata": {},
   "outputs": [],
   "source": [
    "all_ratings = pd.merge(items, raw_ratings)"
   ]
  },
  {
   "cell_type": "code",
   "execution_count": 6,
   "metadata": {},
   "outputs": [
    {
     "data": {
      "text/html": [
       "<div>\n",
       "<style scoped>\n",
       "    .dataframe tbody tr th:only-of-type {\n",
       "        vertical-align: middle;\n",
       "    }\n",
       "\n",
       "    .dataframe tbody tr th {\n",
       "        vertical-align: top;\n",
       "    }\n",
       "\n",
       "    .dataframe thead th {\n",
       "        text-align: right;\n",
       "    }\n",
       "</style>\n",
       "<table border=\"1\" class=\"dataframe\">\n",
       "  <thead>\n",
       "    <tr style=\"text-align: right;\">\n",
       "      <th></th>\n",
       "      <th>item_id</th>\n",
       "      <th>title</th>\n",
       "      <th>release_date</th>\n",
       "      <th>video_release_date</th>\n",
       "      <th>imdb_url</th>\n",
       "      <th>release_year</th>\n",
       "      <th>user_id</th>\n",
       "      <th>rating</th>\n",
       "      <th>timestamp</th>\n",
       "    </tr>\n",
       "  </thead>\n",
       "  <tbody>\n",
       "    <tr>\n",
       "      <th>0</th>\n",
       "      <td>1</td>\n",
       "      <td>Toy Story (1995)</td>\n",
       "      <td>01-Jan-1995</td>\n",
       "      <td>NaN</td>\n",
       "      <td>http://us.imdb.com/M/title-exact?Toy%20Story%2...</td>\n",
       "      <td>1995</td>\n",
       "      <td>308</td>\n",
       "      <td>4</td>\n",
       "      <td>887736532</td>\n",
       "    </tr>\n",
       "    <tr>\n",
       "      <th>1</th>\n",
       "      <td>1</td>\n",
       "      <td>Toy Story (1995)</td>\n",
       "      <td>01-Jan-1995</td>\n",
       "      <td>NaN</td>\n",
       "      <td>http://us.imdb.com/M/title-exact?Toy%20Story%2...</td>\n",
       "      <td>1995</td>\n",
       "      <td>287</td>\n",
       "      <td>5</td>\n",
       "      <td>875334088</td>\n",
       "    </tr>\n",
       "    <tr>\n",
       "      <th>2</th>\n",
       "      <td>1</td>\n",
       "      <td>Toy Story (1995)</td>\n",
       "      <td>01-Jan-1995</td>\n",
       "      <td>NaN</td>\n",
       "      <td>http://us.imdb.com/M/title-exact?Toy%20Story%2...</td>\n",
       "      <td>1995</td>\n",
       "      <td>148</td>\n",
       "      <td>4</td>\n",
       "      <td>877019411</td>\n",
       "    </tr>\n",
       "    <tr>\n",
       "      <th>3</th>\n",
       "      <td>1</td>\n",
       "      <td>Toy Story (1995)</td>\n",
       "      <td>01-Jan-1995</td>\n",
       "      <td>NaN</td>\n",
       "      <td>http://us.imdb.com/M/title-exact?Toy%20Story%2...</td>\n",
       "      <td>1995</td>\n",
       "      <td>280</td>\n",
       "      <td>4</td>\n",
       "      <td>891700426</td>\n",
       "    </tr>\n",
       "    <tr>\n",
       "      <th>4</th>\n",
       "      <td>1</td>\n",
       "      <td>Toy Story (1995)</td>\n",
       "      <td>01-Jan-1995</td>\n",
       "      <td>NaN</td>\n",
       "      <td>http://us.imdb.com/M/title-exact?Toy%20Story%2...</td>\n",
       "      <td>1995</td>\n",
       "      <td>66</td>\n",
       "      <td>3</td>\n",
       "      <td>883601324</td>\n",
       "    </tr>\n",
       "  </tbody>\n",
       "</table>\n",
       "</div>"
      ],
      "text/plain": [
       "   item_id             title release_date  video_release_date  \\\n",
       "0        1  Toy Story (1995)  01-Jan-1995                 NaN   \n",
       "1        1  Toy Story (1995)  01-Jan-1995                 NaN   \n",
       "2        1  Toy Story (1995)  01-Jan-1995                 NaN   \n",
       "3        1  Toy Story (1995)  01-Jan-1995                 NaN   \n",
       "4        1  Toy Story (1995)  01-Jan-1995                 NaN   \n",
       "\n",
       "                                            imdb_url  release_year  user_id  \\\n",
       "0  http://us.imdb.com/M/title-exact?Toy%20Story%2...          1995      308   \n",
       "1  http://us.imdb.com/M/title-exact?Toy%20Story%2...          1995      287   \n",
       "2  http://us.imdb.com/M/title-exact?Toy%20Story%2...          1995      148   \n",
       "3  http://us.imdb.com/M/title-exact?Toy%20Story%2...          1995      280   \n",
       "4  http://us.imdb.com/M/title-exact?Toy%20Story%2...          1995       66   \n",
       "\n",
       "   rating  timestamp  \n",
       "0       4  887736532  \n",
       "1       5  875334088  \n",
       "2       4  877019411  \n",
       "3       4  891700426  \n",
       "4       3  883601324  "
      ]
     },
     "execution_count": 6,
     "metadata": {},
     "output_type": "execute_result"
    }
   ],
   "source": [
    "all_ratings.head()"
   ]
  },
  {
   "cell_type": "markdown",
   "metadata": {},
   "source": [
    "### Data preprocessing\n",
    "\n",
    "To understand well the distribution of the data, the following statistics are computed:\n",
    "- the number of users\n",
    "- the number of items\n",
    "- the rating distribution\n",
    "- the popularity of each movie"
   ]
  },
  {
   "cell_type": "code",
   "execution_count": 7,
   "metadata": {},
   "outputs": [
    {
     "data": {
      "text/plain": [
       "1"
      ]
     },
     "execution_count": 7,
     "metadata": {},
     "output_type": "execute_result"
    }
   ],
   "source": [
    "min_user_id = all_ratings['user_id'].min()\n",
    "min_user_id"
   ]
  },
  {
   "cell_type": "code",
   "execution_count": 8,
   "metadata": {},
   "outputs": [
    {
     "data": {
      "text/plain": [
       "943"
      ]
     },
     "execution_count": 8,
     "metadata": {},
     "output_type": "execute_result"
    }
   ],
   "source": [
    "max_user_id = all_ratings['user_id'].max()\n",
    "max_user_id"
   ]
  },
  {
   "cell_type": "code",
   "execution_count": 9,
   "metadata": {},
   "outputs": [
    {
     "data": {
      "text/plain": [
       "1"
      ]
     },
     "execution_count": 9,
     "metadata": {},
     "output_type": "execute_result"
    }
   ],
   "source": [
    "min_item_id = all_ratings['item_id'].min()\n",
    "min_item_id"
   ]
  },
  {
   "cell_type": "code",
   "execution_count": 10,
   "metadata": {},
   "outputs": [
    {
     "data": {
      "text/plain": [
       "1682"
      ]
     },
     "execution_count": 10,
     "metadata": {},
     "output_type": "execute_result"
    }
   ],
   "source": [
    "max_item_id = all_ratings['item_id'].max()\n",
    "max_item_id"
   ]
  },
  {
   "cell_type": "code",
   "execution_count": 11,
   "metadata": {},
   "outputs": [
    {
     "data": {
      "text/plain": [
       "count    100000.000000\n",
       "mean          3.529860\n",
       "std           1.125674\n",
       "min           1.000000\n",
       "25%           3.000000\n",
       "50%           4.000000\n",
       "75%           4.000000\n",
       "max           5.000000\n",
       "Name: rating, dtype: float64"
      ]
     },
     "execution_count": 11,
     "metadata": {},
     "output_type": "execute_result"
    }
   ],
   "source": [
    "all_ratings['rating'].describe()"
   ]
  },
  {
   "cell_type": "markdown",
   "metadata": {},
   "source": [
    "Let's do a bit more pandas magic compute the popularity of each movie (number of ratings):"
   ]
  },
  {
   "cell_type": "code",
   "execution_count": 12,
   "metadata": {},
   "outputs": [
    {
     "data": {
      "text/html": [
       "<div>\n",
       "<style scoped>\n",
       "    .dataframe tbody tr th:only-of-type {\n",
       "        vertical-align: middle;\n",
       "    }\n",
       "\n",
       "    .dataframe tbody tr th {\n",
       "        vertical-align: top;\n",
       "    }\n",
       "\n",
       "    .dataframe thead th {\n",
       "        text-align: right;\n",
       "    }\n",
       "</style>\n",
       "<table border=\"1\" class=\"dataframe\">\n",
       "  <thead>\n",
       "    <tr style=\"text-align: right;\">\n",
       "      <th></th>\n",
       "      <th>item_id</th>\n",
       "      <th>popularity</th>\n",
       "      <th>title</th>\n",
       "      <th>release_date</th>\n",
       "      <th>video_release_date</th>\n",
       "      <th>imdb_url</th>\n",
       "      <th>release_year</th>\n",
       "    </tr>\n",
       "  </thead>\n",
       "  <tbody>\n",
       "    <tr>\n",
       "      <th>49</th>\n",
       "      <td>50</td>\n",
       "      <td>583</td>\n",
       "      <td>Star Wars (1977)</td>\n",
       "      <td>01-Jan-1977</td>\n",
       "      <td>NaN</td>\n",
       "      <td>http://us.imdb.com/M/title-exact?Star%20Wars%2...</td>\n",
       "      <td>1977</td>\n",
       "    </tr>\n",
       "    <tr>\n",
       "      <th>257</th>\n",
       "      <td>258</td>\n",
       "      <td>509</td>\n",
       "      <td>Contact (1997)</td>\n",
       "      <td>11-Jul-1997</td>\n",
       "      <td>NaN</td>\n",
       "      <td>http://us.imdb.com/Title?Contact+(1997/I)</td>\n",
       "      <td>1997</td>\n",
       "    </tr>\n",
       "    <tr>\n",
       "      <th>99</th>\n",
       "      <td>100</td>\n",
       "      <td>508</td>\n",
       "      <td>Fargo (1996)</td>\n",
       "      <td>14-Feb-1997</td>\n",
       "      <td>NaN</td>\n",
       "      <td>http://us.imdb.com/M/title-exact?Fargo%20(1996)</td>\n",
       "      <td>1997</td>\n",
       "    </tr>\n",
       "    <tr>\n",
       "      <th>180</th>\n",
       "      <td>181</td>\n",
       "      <td>507</td>\n",
       "      <td>Return of the Jedi (1983)</td>\n",
       "      <td>14-Mar-1997</td>\n",
       "      <td>NaN</td>\n",
       "      <td>http://us.imdb.com/M/title-exact?Return%20of%2...</td>\n",
       "      <td>1997</td>\n",
       "    </tr>\n",
       "    <tr>\n",
       "      <th>293</th>\n",
       "      <td>294</td>\n",
       "      <td>485</td>\n",
       "      <td>Liar Liar (1997)</td>\n",
       "      <td>21-Mar-1997</td>\n",
       "      <td>NaN</td>\n",
       "      <td>http://us.imdb.com/Title?Liar+Liar+(1997)</td>\n",
       "      <td>1997</td>\n",
       "    </tr>\n",
       "    <tr>\n",
       "      <th>285</th>\n",
       "      <td>286</td>\n",
       "      <td>481</td>\n",
       "      <td>English Patient, The (1996)</td>\n",
       "      <td>15-Nov-1996</td>\n",
       "      <td>NaN</td>\n",
       "      <td>http://us.imdb.com/M/title-exact?English%20Pat...</td>\n",
       "      <td>1996</td>\n",
       "    </tr>\n",
       "    <tr>\n",
       "      <th>287</th>\n",
       "      <td>288</td>\n",
       "      <td>478</td>\n",
       "      <td>Scream (1996)</td>\n",
       "      <td>20-Dec-1996</td>\n",
       "      <td>NaN</td>\n",
       "      <td>http://us.imdb.com/M/title-exact?Scream%20(1996)</td>\n",
       "      <td>1996</td>\n",
       "    </tr>\n",
       "    <tr>\n",
       "      <th>0</th>\n",
       "      <td>1</td>\n",
       "      <td>452</td>\n",
       "      <td>Toy Story (1995)</td>\n",
       "      <td>01-Jan-1995</td>\n",
       "      <td>NaN</td>\n",
       "      <td>http://us.imdb.com/M/title-exact?Toy%20Story%2...</td>\n",
       "      <td>1995</td>\n",
       "    </tr>\n",
       "    <tr>\n",
       "      <th>299</th>\n",
       "      <td>300</td>\n",
       "      <td>431</td>\n",
       "      <td>Air Force One (1997)</td>\n",
       "      <td>01-Jan-1997</td>\n",
       "      <td>NaN</td>\n",
       "      <td>http://us.imdb.com/M/title-exact?Air+Force+One...</td>\n",
       "      <td>1997</td>\n",
       "    </tr>\n",
       "    <tr>\n",
       "      <th>120</th>\n",
       "      <td>121</td>\n",
       "      <td>429</td>\n",
       "      <td>Independence Day (ID4) (1996)</td>\n",
       "      <td>03-Jul-1996</td>\n",
       "      <td>NaN</td>\n",
       "      <td>http://us.imdb.com/M/title-exact?Independence%...</td>\n",
       "      <td>1996</td>\n",
       "    </tr>\n",
       "  </tbody>\n",
       "</table>\n",
       "</div>"
      ],
      "text/plain": [
       "     item_id  popularity                          title release_date  \\\n",
       "49        50         583               Star Wars (1977)  01-Jan-1977   \n",
       "257      258         509                 Contact (1997)  11-Jul-1997   \n",
       "99       100         508                   Fargo (1996)  14-Feb-1997   \n",
       "180      181         507      Return of the Jedi (1983)  14-Mar-1997   \n",
       "293      294         485               Liar Liar (1997)  21-Mar-1997   \n",
       "285      286         481    English Patient, The (1996)  15-Nov-1996   \n",
       "287      288         478                  Scream (1996)  20-Dec-1996   \n",
       "0          1         452               Toy Story (1995)  01-Jan-1995   \n",
       "299      300         431           Air Force One (1997)  01-Jan-1997   \n",
       "120      121         429  Independence Day (ID4) (1996)  03-Jul-1996   \n",
       "\n",
       "     video_release_date                                           imdb_url  \\\n",
       "49                  NaN  http://us.imdb.com/M/title-exact?Star%20Wars%2...   \n",
       "257                 NaN          http://us.imdb.com/Title?Contact+(1997/I)   \n",
       "99                  NaN    http://us.imdb.com/M/title-exact?Fargo%20(1996)   \n",
       "180                 NaN  http://us.imdb.com/M/title-exact?Return%20of%2...   \n",
       "293                 NaN          http://us.imdb.com/Title?Liar+Liar+(1997)   \n",
       "285                 NaN  http://us.imdb.com/M/title-exact?English%20Pat...   \n",
       "287                 NaN   http://us.imdb.com/M/title-exact?Scream%20(1996)   \n",
       "0                   NaN  http://us.imdb.com/M/title-exact?Toy%20Story%2...   \n",
       "299                 NaN  http://us.imdb.com/M/title-exact?Air+Force+One...   \n",
       "120                 NaN  http://us.imdb.com/M/title-exact?Independence%...   \n",
       "\n",
       "     release_year  \n",
       "49           1977  \n",
       "257          1997  \n",
       "99           1997  \n",
       "180          1997  \n",
       "293          1997  \n",
       "285          1996  \n",
       "287          1996  \n",
       "0            1995  \n",
       "299          1997  \n",
       "120          1996  "
      ]
     },
     "execution_count": 12,
     "metadata": {},
     "output_type": "execute_result"
    }
   ],
   "source": [
    "popularity = all_ratings.groupby('item_id').size().reset_index(name='popularity')\n",
    "items = pd.merge(popularity, items)\n",
    "items.nlargest(10, 'popularity')"
   ]
  },
  {
   "cell_type": "code",
   "execution_count": 13,
   "metadata": {},
   "outputs": [
    {
     "data": {
      "text/plain": [
       "'GoodFellas (1990)'"
      ]
     },
     "execution_count": 13,
     "metadata": {},
     "output_type": "execute_result"
    }
   ],
   "source": [
    "items[\"title\"][181]  # which is wrong because the movie ID is not yet the index"
   ]
  },
  {
   "cell_type": "code",
   "execution_count": 14,
   "metadata": {},
   "outputs": [
    {
     "data": {
      "text/plain": [
       "'Return of the Jedi (1983)'"
      ]
     },
     "execution_count": 14,
     "metadata": {},
     "output_type": "execute_result"
    }
   ],
   "source": [
    "indexed_items = items.set_index('item_id')\n",
    "indexed_items[\"title\"][181]"
   ]
  },
  {
   "cell_type": "code",
   "execution_count": 15,
   "metadata": {},
   "outputs": [
    {
     "data": {
      "text/html": [
       "<div>\n",
       "<style scoped>\n",
       "    .dataframe tbody tr th:only-of-type {\n",
       "        vertical-align: middle;\n",
       "    }\n",
       "\n",
       "    .dataframe tbody tr th {\n",
       "        vertical-align: top;\n",
       "    }\n",
       "\n",
       "    .dataframe thead th {\n",
       "        text-align: right;\n",
       "    }\n",
       "</style>\n",
       "<table border=\"1\" class=\"dataframe\">\n",
       "  <thead>\n",
       "    <tr style=\"text-align: right;\">\n",
       "      <th></th>\n",
       "      <th>item_id</th>\n",
       "      <th>popularity</th>\n",
       "      <th>video_release_date</th>\n",
       "      <th>release_year</th>\n",
       "      <th>user_id</th>\n",
       "      <th>rating</th>\n",
       "      <th>timestamp</th>\n",
       "    </tr>\n",
       "  </thead>\n",
       "  <tbody>\n",
       "    <tr>\n",
       "      <th>count</th>\n",
       "      <td>100000.000000</td>\n",
       "      <td>100000.000000</td>\n",
       "      <td>0.0</td>\n",
       "      <td>100000.000000</td>\n",
       "      <td>100000.00000</td>\n",
       "      <td>100000.000000</td>\n",
       "      <td>1.000000e+05</td>\n",
       "    </tr>\n",
       "    <tr>\n",
       "      <th>mean</th>\n",
       "      <td>425.530130</td>\n",
       "      <td>168.071900</td>\n",
       "      <td>NaN</td>\n",
       "      <td>1987.950100</td>\n",
       "      <td>462.48475</td>\n",
       "      <td>3.529860</td>\n",
       "      <td>8.835289e+08</td>\n",
       "    </tr>\n",
       "    <tr>\n",
       "      <th>std</th>\n",
       "      <td>330.798356</td>\n",
       "      <td>121.784558</td>\n",
       "      <td>NaN</td>\n",
       "      <td>14.169558</td>\n",
       "      <td>266.61442</td>\n",
       "      <td>1.125674</td>\n",
       "      <td>5.343856e+06</td>\n",
       "    </tr>\n",
       "    <tr>\n",
       "      <th>min</th>\n",
       "      <td>1.000000</td>\n",
       "      <td>1.000000</td>\n",
       "      <td>NaN</td>\n",
       "      <td>1920.000000</td>\n",
       "      <td>1.00000</td>\n",
       "      <td>1.000000</td>\n",
       "      <td>8.747247e+08</td>\n",
       "    </tr>\n",
       "    <tr>\n",
       "      <th>25%</th>\n",
       "      <td>175.000000</td>\n",
       "      <td>71.000000</td>\n",
       "      <td>NaN</td>\n",
       "      <td>1986.000000</td>\n",
       "      <td>254.00000</td>\n",
       "      <td>3.000000</td>\n",
       "      <td>8.794487e+08</td>\n",
       "    </tr>\n",
       "    <tr>\n",
       "      <th>50%</th>\n",
       "      <td>322.000000</td>\n",
       "      <td>145.000000</td>\n",
       "      <td>NaN</td>\n",
       "      <td>1994.000000</td>\n",
       "      <td>447.00000</td>\n",
       "      <td>4.000000</td>\n",
       "      <td>8.828269e+08</td>\n",
       "    </tr>\n",
       "    <tr>\n",
       "      <th>75%</th>\n",
       "      <td>631.000000</td>\n",
       "      <td>239.000000</td>\n",
       "      <td>NaN</td>\n",
       "      <td>1996.000000</td>\n",
       "      <td>682.00000</td>\n",
       "      <td>4.000000</td>\n",
       "      <td>8.882600e+08</td>\n",
       "    </tr>\n",
       "    <tr>\n",
       "      <th>max</th>\n",
       "      <td>1682.000000</td>\n",
       "      <td>583.000000</td>\n",
       "      <td>NaN</td>\n",
       "      <td>1998.000000</td>\n",
       "      <td>943.00000</td>\n",
       "      <td>5.000000</td>\n",
       "      <td>8.932866e+08</td>\n",
       "    </tr>\n",
       "  </tbody>\n",
       "</table>\n",
       "</div>"
      ],
      "text/plain": [
       "             item_id     popularity  video_release_date   release_year  \\\n",
       "count  100000.000000  100000.000000                 0.0  100000.000000   \n",
       "mean      425.530130     168.071900                 NaN    1987.950100   \n",
       "std       330.798356     121.784558                 NaN      14.169558   \n",
       "min         1.000000       1.000000                 NaN    1920.000000   \n",
       "25%       175.000000      71.000000                 NaN    1986.000000   \n",
       "50%       322.000000     145.000000                 NaN    1994.000000   \n",
       "75%       631.000000     239.000000                 NaN    1996.000000   \n",
       "max      1682.000000     583.000000                 NaN    1998.000000   \n",
       "\n",
       "            user_id         rating     timestamp  \n",
       "count  100000.00000  100000.000000  1.000000e+05  \n",
       "mean      462.48475       3.529860  8.835289e+08  \n",
       "std       266.61442       1.125674  5.343856e+06  \n",
       "min         1.00000       1.000000  8.747247e+08  \n",
       "25%       254.00000       3.000000  8.794487e+08  \n",
       "50%       447.00000       4.000000  8.828269e+08  \n",
       "75%       682.00000       4.000000  8.882600e+08  \n",
       "max       943.00000       5.000000  8.932866e+08  "
      ]
     },
     "execution_count": 15,
     "metadata": {},
     "output_type": "execute_result"
    }
   ],
   "source": [
    "all_ratings = pd.merge(popularity, all_ratings)\n",
    "all_ratings.describe()"
   ]
  },
  {
   "cell_type": "code",
   "execution_count": 16,
   "metadata": {},
   "outputs": [
    {
     "data": {
      "text/html": [
       "<div>\n",
       "<style scoped>\n",
       "    .dataframe tbody tr th:only-of-type {\n",
       "        vertical-align: middle;\n",
       "    }\n",
       "\n",
       "    .dataframe tbody tr th {\n",
       "        vertical-align: top;\n",
       "    }\n",
       "\n",
       "    .dataframe thead th {\n",
       "        text-align: right;\n",
       "    }\n",
       "</style>\n",
       "<table border=\"1\" class=\"dataframe\">\n",
       "  <thead>\n",
       "    <tr style=\"text-align: right;\">\n",
       "      <th></th>\n",
       "      <th>item_id</th>\n",
       "      <th>popularity</th>\n",
       "      <th>title</th>\n",
       "      <th>release_date</th>\n",
       "      <th>video_release_date</th>\n",
       "      <th>imdb_url</th>\n",
       "      <th>release_year</th>\n",
       "      <th>user_id</th>\n",
       "      <th>rating</th>\n",
       "      <th>timestamp</th>\n",
       "    </tr>\n",
       "  </thead>\n",
       "  <tbody>\n",
       "    <tr>\n",
       "      <th>0</th>\n",
       "      <td>1</td>\n",
       "      <td>452</td>\n",
       "      <td>Toy Story (1995)</td>\n",
       "      <td>01-Jan-1995</td>\n",
       "      <td>NaN</td>\n",
       "      <td>http://us.imdb.com/M/title-exact?Toy%20Story%2...</td>\n",
       "      <td>1995</td>\n",
       "      <td>308</td>\n",
       "      <td>4</td>\n",
       "      <td>887736532</td>\n",
       "    </tr>\n",
       "    <tr>\n",
       "      <th>1</th>\n",
       "      <td>1</td>\n",
       "      <td>452</td>\n",
       "      <td>Toy Story (1995)</td>\n",
       "      <td>01-Jan-1995</td>\n",
       "      <td>NaN</td>\n",
       "      <td>http://us.imdb.com/M/title-exact?Toy%20Story%2...</td>\n",
       "      <td>1995</td>\n",
       "      <td>287</td>\n",
       "      <td>5</td>\n",
       "      <td>875334088</td>\n",
       "    </tr>\n",
       "    <tr>\n",
       "      <th>2</th>\n",
       "      <td>1</td>\n",
       "      <td>452</td>\n",
       "      <td>Toy Story (1995)</td>\n",
       "      <td>01-Jan-1995</td>\n",
       "      <td>NaN</td>\n",
       "      <td>http://us.imdb.com/M/title-exact?Toy%20Story%2...</td>\n",
       "      <td>1995</td>\n",
       "      <td>148</td>\n",
       "      <td>4</td>\n",
       "      <td>877019411</td>\n",
       "    </tr>\n",
       "    <tr>\n",
       "      <th>3</th>\n",
       "      <td>1</td>\n",
       "      <td>452</td>\n",
       "      <td>Toy Story (1995)</td>\n",
       "      <td>01-Jan-1995</td>\n",
       "      <td>NaN</td>\n",
       "      <td>http://us.imdb.com/M/title-exact?Toy%20Story%2...</td>\n",
       "      <td>1995</td>\n",
       "      <td>280</td>\n",
       "      <td>4</td>\n",
       "      <td>891700426</td>\n",
       "    </tr>\n",
       "    <tr>\n",
       "      <th>4</th>\n",
       "      <td>1</td>\n",
       "      <td>452</td>\n",
       "      <td>Toy Story (1995)</td>\n",
       "      <td>01-Jan-1995</td>\n",
       "      <td>NaN</td>\n",
       "      <td>http://us.imdb.com/M/title-exact?Toy%20Story%2...</td>\n",
       "      <td>1995</td>\n",
       "      <td>66</td>\n",
       "      <td>3</td>\n",
       "      <td>883601324</td>\n",
       "    </tr>\n",
       "  </tbody>\n",
       "</table>\n",
       "</div>"
      ],
      "text/plain": [
       "   item_id  popularity             title release_date  video_release_date  \\\n",
       "0        1         452  Toy Story (1995)  01-Jan-1995                 NaN   \n",
       "1        1         452  Toy Story (1995)  01-Jan-1995                 NaN   \n",
       "2        1         452  Toy Story (1995)  01-Jan-1995                 NaN   \n",
       "3        1         452  Toy Story (1995)  01-Jan-1995                 NaN   \n",
       "4        1         452  Toy Story (1995)  01-Jan-1995                 NaN   \n",
       "\n",
       "                                            imdb_url  release_year  user_id  \\\n",
       "0  http://us.imdb.com/M/title-exact?Toy%20Story%2...          1995      308   \n",
       "1  http://us.imdb.com/M/title-exact?Toy%20Story%2...          1995      287   \n",
       "2  http://us.imdb.com/M/title-exact?Toy%20Story%2...          1995      148   \n",
       "3  http://us.imdb.com/M/title-exact?Toy%20Story%2...          1995      280   \n",
       "4  http://us.imdb.com/M/title-exact?Toy%20Story%2...          1995       66   \n",
       "\n",
       "   rating  timestamp  \n",
       "0       4  887736532  \n",
       "1       5  875334088  \n",
       "2       4  877019411  \n",
       "3       4  891700426  \n",
       "4       3  883601324  "
      ]
     },
     "execution_count": 16,
     "metadata": {},
     "output_type": "execute_result"
    }
   ],
   "source": [
    "all_ratings.head()"
   ]
  },
  {
   "cell_type": "markdown",
   "metadata": {},
   "source": [
    "Later in the analysis we will assume that this popularity does not come from the ratings themselves but from an external metadata, e.g. box office numbers in the month after the release in movie theaters.\n",
    "\n",
    "Let's split the enriched data in a train / test split to make it possible to do predictive modeling:"
   ]
  },
  {
   "cell_type": "code",
   "execution_count": 17,
   "metadata": {},
   "outputs": [],
   "source": [
    "from sklearn.model_selection import train_test_split\n",
    "\n",
    "ratings_train, ratings_test = train_test_split(\n",
    "    all_ratings, test_size=0.2, random_state=0)\n",
    "\n",
    "user_id_train = np.array(ratings_train['user_id'])\n",
    "item_id_train = np.array(ratings_train['item_id'])\n",
    "rating_train = np.array(ratings_train['rating'])\n",
    "\n",
    "user_id_test = np.array(ratings_test['user_id'])\n",
    "item_id_test = np.array(ratings_test['item_id'])\n",
    "rating_test = np.array(ratings_test['rating'])"
   ]
  },
  {
   "cell_type": "markdown",
   "metadata": {},
   "source": [
    "# Explicit feedback: supervised ratings prediction\n",
    "\n",
    "For each pair of (user, item) try to predict the rating the user would give to the item.\n",
    "\n",
    "This is the classical setup for building recommender systems from offline data with explicit supervision signal. "
   ]
  },
  {
   "cell_type": "markdown",
   "metadata": {},
   "source": [
    "## Predictive ratings  as a regression problem\n",
    "\n",
    "The following code implements the following architecture:\n",
    "\n",
    "<img src=\"images/rec_archi_1.svg\" style=\"width: 600px;\" />"
   ]
  },
  {
   "cell_type": "code",
   "execution_count": 18,
   "metadata": {},
   "outputs": [],
   "source": [
    "from tensorflow.keras.layers import Embedding, Flatten, Dense, Dropout\n",
    "from tensorflow.keras.layers import Dot\n",
    "from tensorflow.keras.models import Model"
   ]
  },
  {
   "cell_type": "code",
   "execution_count": 19,
   "metadata": {},
   "outputs": [],
   "source": [
    "# For each sample we input the integer identifiers\n",
    "# of a single user and a single item\n",
    "class RegressionModel(Model):\n",
    "    def __init__(self, embedding_size, max_user_id, max_item_id):\n",
    "        super().__init__()\n",
    "        \n",
    "        self.user_embedding = Embedding(output_dim=embedding_size,\n",
    "                                        input_dim=max_user_id + 1,\n",
    "                                        input_length=1,\n",
    "                                        name='user_embedding')\n",
    "        self.item_embedding = Embedding(output_dim=embedding_size,\n",
    "                                        input_dim=max_item_id + 1,\n",
    "                                        input_length=1,\n",
    "                                        name='item_embedding')\n",
    "        \n",
    "        # The following two layers don't have parameters.\n",
    "        self.flatten = Flatten()\n",
    "        self.dot = Dot(axes=1)\n",
    "        \n",
    "    def call(self, inputs):\n",
    "        user_inputs = inputs[0]\n",
    "        item_inputs = inputs[1]\n",
    "        \n",
    "        user_vecs = self.flatten(self.user_embedding(user_inputs))\n",
    "        item_vecs = self.flatten(self.item_embedding(item_inputs))\n",
    "        \n",
    "        y = self.dot([user_vecs, item_vecs])\n",
    "        \n",
    "        return y\n",
    "\n",
    "\n",
    "model = RegressionModel(64, max_user_id, max_item_id)\n",
    "model.compile(optimizer=\"adam\", loss='mae')"
   ]
  },
  {
   "cell_type": "code",
   "execution_count": 20,
   "metadata": {},
   "outputs": [
    {
     "data": {
      "text/plain": [
       "(1682, 943)"
      ]
     },
     "execution_count": 20,
     "metadata": {},
     "output_type": "execute_result"
    }
   ],
   "source": [
    "max_item_id, max_user_id"
   ]
  },
  {
   "cell_type": "code",
   "execution_count": 21,
   "metadata": {},
   "outputs": [
    {
     "data": {
      "text/plain": [
       "((80000,), (80000,))"
      ]
     },
     "execution_count": 21,
     "metadata": {},
     "output_type": "execute_result"
    }
   ],
   "source": [
    "user_id_train.shape, item_id_train.shape"
   ]
  },
  {
   "cell_type": "code",
   "execution_count": 22,
   "metadata": {},
   "outputs": [
    {
     "data": {
      "text/plain": [
       "(80000, 1)"
      ]
     },
     "execution_count": 22,
     "metadata": {},
     "output_type": "execute_result"
    }
   ],
   "source": [
    "# Useful for debugging the output shape of model\n",
    "initial_train_preds = model.predict([user_id_train, item_id_train])\n",
    "initial_train_preds.shape"
   ]
  },
  {
   "cell_type": "markdown",
   "metadata": {},
   "source": [
    "### Model error\n",
    "\n",
    "Using `initial_train_preds`, compute the model errors:\n",
    "- mean absolute error\n",
    "- mean squared error\n",
    "\n",
    "Converting a pandas Series to numpy array is usually implicit, but you may use `rating_train.values` to do so explicitly. Be sure to monitor the shapes of each object you deal with by using `object.shape`."
   ]
  },
  {
   "cell_type": "code",
   "execution_count": 35,
   "metadata": {},
   "outputs": [
    {
     "data": {
      "text/plain": [
       "((80000, 1), (80000, 1))"
      ]
     },
     "execution_count": 35,
     "metadata": {},
     "output_type": "execute_result"
    }
   ],
   "source": [
    "rating_train.reshape(-1,1).shape, initial_train_preds.shape"
   ]
  },
  {
   "cell_type": "code",
   "execution_count": 36,
   "metadata": {},
   "outputs": [
    {
     "data": {
      "text/plain": [
       "2.23606797749979"
      ]
     },
     "execution_count": 36,
     "metadata": {},
     "output_type": "execute_result"
    }
   ],
   "source": [
    "MSE(np.ones(5), np.zeros(5))"
   ]
  },
  {
   "cell_type": "code",
   "execution_count": 39,
   "metadata": {},
   "outputs": [
    {
     "name": "stdout",
     "output_type": "stream",
     "text": [
      "MSE: 13.719281142265705 \n",
      "MAE: 3.528532352719536\n"
     ]
    }
   ],
   "source": [
    "def MAE(y_true, y_pred):\n",
    "    return np.mean(np.abs(y_true - y_pred))\n",
    "\n",
    "def MSE(y_true, y_pred):\n",
    "    return np.mean(np.square(y_true - y_pred))\n",
    "\n",
    "print(\"MSE:\", MSE(initial_train_preds, rating_train.reshape(-1,1)), \n",
    "     \"\\nMAE:\", MAE(initial_train_preds, rating_train.reshape(-1,1)),)"
   ]
  },
  {
   "cell_type": "code",
   "execution_count": 42,
   "metadata": {},
   "outputs": [],
   "source": [
    "# %load solutions/compute_errors.py"
   ]
  },
  {
   "cell_type": "markdown",
   "metadata": {},
   "source": [
    "### Monitoring runs\n",
    "\n",
    "Keras enables to monitor various variables during training. \n",
    "\n",
    "`history.history` returned by the `model.fit` function is a dictionary\n",
    "containing the `'loss'` and validation loss `'val_loss'` after each epoch"
   ]
  },
  {
   "cell_type": "code",
   "execution_count": 43,
   "metadata": {},
   "outputs": [
    {
     "name": "stdout",
     "output_type": "stream",
     "text": [
      "Epoch 1/10\n",
      "1125/1125 [==============================] - 17s 9ms/step - loss: 2.6092 - val_loss: 1.0481\n",
      "Epoch 2/10\n",
      "1125/1125 [==============================] - 5s 4ms/step - loss: 0.8480 - val_loss: 0.7962\n",
      "Epoch 3/10\n",
      "1125/1125 [==============================] - 4s 4ms/step - loss: 0.7520 - val_loss: 0.7659\n",
      "Epoch 4/10\n",
      "1125/1125 [==============================] - 5s 4ms/step - loss: 0.7248 - val_loss: 0.7509\n",
      "Epoch 5/10\n",
      "1125/1125 [==============================] - 4s 4ms/step - loss: 0.7042 - val_loss: 0.7456\n",
      "Epoch 6/10\n",
      "1125/1125 [==============================] - 4s 4ms/step - loss: 0.6860 - val_loss: 0.7434\n",
      "Epoch 7/10\n",
      "1125/1125 [==============================] - 4s 4ms/step - loss: 0.6661 - val_loss: 0.7394\n",
      "Epoch 8/10\n",
      "1125/1125 [==============================] - 5s 4ms/step - loss: 0.6459 - val_loss: 0.7376\n",
      "Epoch 9/10\n",
      "1125/1125 [==============================] - 5s 4ms/step - loss: 0.6235 - val_loss: 0.7400\n",
      "Epoch 10/10\n",
      "1125/1125 [==============================] - 5s 4ms/step - loss: 0.5999 - val_loss: 0.7389\n",
      "Wall time: 1min 8s\n"
     ]
    }
   ],
   "source": [
    "%%time\n",
    "\n",
    "# Training the model\n",
    "history = model.fit([user_id_train, item_id_train], rating_train,\n",
    "                    batch_size=64, epochs=10, validation_split=0.1,\n",
    "                    shuffle=True)"
   ]
  },
  {
   "cell_type": "code",
   "execution_count": 44,
   "metadata": {},
   "outputs": [
    {
     "data": {
      "image/png": "[encoded data removed]",
      "text/plain": [
       "<Figure size 432x288 with 1 Axes>"
      ]
     },
     "metadata": {
      "needs_background": "light"
     },
     "output_type": "display_data"
    }
   ],
   "source": [
    "plt.plot(history.history['loss'], label='train')\n",
    "plt.plot(history.history['val_loss'], label='validation')\n",
    "plt.ylim(0, 2)\n",
    "plt.legend(loc='best')\n",
    "plt.title('Loss');"
   ]
  },
  {
   "cell_type": "markdown",
   "metadata": {},
   "source": [
    "**Questions**:\n",
    "\n",
    "- Why is the train loss higher than the first loss in the first few epochs?\n",
    "- Why is Keras not computing the train loss on the full training set at the end of each epoch as it does on the validation set?\n",
    "\n",
    "\n",
    "Now that the model is trained, the model MSE and MAE look nicer:"
   ]
  },
  {
   "cell_type": "code",
   "execution_count": 45,
   "metadata": {},
   "outputs": [],
   "source": [
    "def plot_predictions(y_true, y_pred):\n",
    "    plt.figure(figsize=(4, 4))\n",
    "    plt.xlim(-1, 6)\n",
    "    plt.xlabel(\"True rating\")\n",
    "    plt.ylim(-1, 6)\n",
    "    plt.ylabel(\"Predicted rating\")\n",
    "    plt.scatter(y_true, y_pred, s=60, alpha=0.01)"
   ]
  },
  {
   "cell_type": "code",
   "execution_count": 46,
   "metadata": {},
   "outputs": [
    {
     "name": "stdout",
     "output_type": "stream",
     "text": [
      "Final test MSE: 0.899\n",
      "Final test MAE: 0.731\n"
     ]
    },
    {
     "data": {
      "image/png": "[encoded data removed]",
      "text/plain": [
       "<Figure size 288x288 with 1 Axes>"
      ]
     },
     "metadata": {
      "needs_background": "light"
     },
     "output_type": "display_data"
    }
   ],
   "source": [
    "from sklearn.metrics import mean_squared_error\n",
    "from sklearn.metrics import mean_absolute_error\n",
    "\n",
    "test_preds = model.predict([user_id_test, item_id_test])\n",
    "print(\"Final test MSE: %0.3f\" % mean_squared_error(test_preds, rating_test))\n",
    "print(\"Final test MAE: %0.3f\" % mean_absolute_error(test_preds, rating_test))\n",
    "plot_predictions(rating_test, test_preds)"
   ]
  },
  {
   "cell_type": "code",
   "execution_count": 47,
   "metadata": {},
   "outputs": [
    {
     "name": "stdout",
     "output_type": "stream",
     "text": [
      "Final train MSE: 0.629\n",
      "Final train MAE: 0.579\n"
     ]
    },
    {
     "data": {
      "image/png": "[encoded data removed]",
      "text/plain": [
       "<Figure size 288x288 with 1 Axes>"
      ]
     },
     "metadata": {
      "needs_background": "light"
     },
     "output_type": "display_data"
    }
   ],
   "source": [
    "train_preds = model.predict([user_id_train, item_id_train])\n",
    "print(\"Final train MSE: %0.3f\" % mean_squared_error(train_preds, rating_train))\n",
    "print(\"Final train MAE: %0.3f\" % mean_absolute_error(train_preds, rating_train))\n",
    "plot_predictions(rating_train, train_preds)"
   ]
  },
  {
   "cell_type": "markdown",
   "metadata": {},
   "source": [
    "### Model Embeddings\n",
    "\n",
    "- It is possible to retrieve the embeddings by simply using the Keras function `model.get_weights` which returns all the model learnable parameters.\n",
    "- The weights are returned the same order as they were build in the model\n",
    "- What is the total number of parameters?"
   ]
  },
  {
   "cell_type": "code",
   "execution_count": 48,
   "metadata": {},
   "outputs": [
    {
     "data": {
      "text/plain": [
       "[(944, 64), (1683, 64)]"
      ]
     },
     "execution_count": 48,
     "metadata": {},
     "output_type": "execute_result"
    }
   ],
   "source": [
    "# weights and shape\n",
    "weights = model.get_weights()\n",
    "[w.shape for w in weights]"
   ]
  },
  {
   "cell_type": "code",
   "execution_count": 39,
   "metadata": {},
   "outputs": [],
   "source": [
    "# Solution: \n",
    "# model.summary()"
   ]
  },
  {
   "cell_type": "code",
   "execution_count": 49,
   "metadata": {},
   "outputs": [],
   "source": [
    "user_embeddings = weights[0]\n",
    "item_embeddings = weights[1]"
   ]
  },
  {
   "cell_type": "code",
   "execution_count": 50,
   "metadata": {},
   "outputs": [
    {
     "name": "stdout",
     "output_type": "stream",
     "text": [
      "Title for item_id=181: Return of the Jedi (1983)\n"
     ]
    }
   ],
   "source": [
    "item_id = 181\n",
    "print(f\"Title for item_id={item_id}: {indexed_items['title'][item_id]}\")"
   ]
  },
  {
   "cell_type": "code",
   "execution_count": 51,
   "metadata": {},
   "outputs": [
    {
     "name": "stdout",
     "output_type": "stream",
     "text": [
      "Embedding vector for item_id=181\n",
      "[-0.4642559   0.32816258 -0.21572371 -0.4046808   0.47111994 -0.20020369\n",
      " -0.3256734  -0.18428247  0.2884682   0.22308041 -0.486825    0.29284072\n",
      "  0.25000235 -0.00845005  0.43654758 -0.20406066 -0.22165304 -0.28042704\n",
      " -0.05826223 -0.42636648 -0.28950852 -0.40158117  0.4757608  -0.0834408\n",
      " -0.32339138 -0.06317398 -0.5132466   0.53354883 -0.37349603  0.41270524\n",
      "  0.24994372 -0.36313462  0.28263327 -0.20711146 -0.19368315 -0.04748688\n",
      "  0.29411754  0.09860268 -0.36205196 -0.643509   -0.30304912 -0.15067203\n",
      " -0.36163256 -0.38079774  0.00833828 -0.07339112  0.42790145 -0.12304512\n",
      " -0.27420288  0.26070437  0.12187973 -0.29625764  0.25531095 -0.34523588\n",
      " -0.37502903 -0.30459785  0.38724282  0.14118204  0.11221575 -0.3018938\n",
      "  0.5553649   0.4994878  -0.04817007  0.37973854]\n",
      "shape: (64,)\n"
     ]
    }
   ],
   "source": [
    "print(f\"Embedding vector for item_id={item_id}\")\n",
    "print(item_embeddings[item_id])\n",
    "print(\"shape:\", item_embeddings[item_id].shape)"
   ]
  },
  {
   "cell_type": "markdown",
   "metadata": {},
   "source": [
    "### Finding most similar items\n",
    "\n",
    "Finding k most similar items to a point in embedding space\n",
    "\n",
    "- Write in numpy a function to compute the cosine similarity between two points in embedding space.\n",
    "- Test it on the following cells to check the similarities between popular movies.\n",
    "- Bonus: try to generalize the function to compute the similarities between one movie and all the others and return the most related movies.\n",
    "\n",
    "Notes:\n",
    "- you may use `np.linalg.norm` to compute the norm of vector, and you may specify the `axis=`\n",
    "- the numpy function `np.argsort(...)` enables to compute the sorted indices of a vector\n",
    "- `items[\"name\"][idxs]` returns the names of the items indexed by array idxs"
   ]
  },
  {
   "cell_type": "code",
   "execution_count": 52,
   "metadata": {},
   "outputs": [],
   "source": [
    "EPSILON = 1e-07  # to avoid division by 0.\n",
    "\n",
    "def cosine(x, y):\n",
    "    # TODO: implement me!\n",
    "    x /= np.sqrt(np.sum(np.square(x+EPSILON)))\n",
    "    y /= np.sqrt(np.sum(np.square(y+EPSILON)))\n",
    "    return np.dot(x, y)"
   ]
  },
  {
   "cell_type": "code",
   "execution_count": 53,
   "metadata": {},
   "outputs": [],
   "source": [
    "# %load solutions/similarity.py"
   ]
  },
  {
   "cell_type": "code",
   "execution_count": 54,
   "metadata": {},
   "outputs": [
    {
     "name": "stdout",
     "output_type": "stream",
     "text": [
      "Star Wars (1977)\n",
      "Return of the Jedi (1983)\n",
      "Cosine similarity: 0.918\n"
     ]
    }
   ],
   "source": [
    "def print_similarity(item_a, item_b, item_embeddings, titles):\n",
    "    print(titles[item_a])\n",
    "    print(titles[item_b])\n",
    "    similarity = cosine(item_embeddings[item_a],\n",
    "                        item_embeddings[item_b])\n",
    "    print(f\"Cosine similarity: {similarity:.3}\")\n",
    "    \n",
    "print_similarity(50, 181, item_embeddings, indexed_items[\"title\"])"
   ]
  },
  {
   "cell_type": "code",
   "execution_count": 55,
   "metadata": {},
   "outputs": [
    {
     "name": "stdout",
     "output_type": "stream",
     "text": [
      "Return of the Jedi (1983)\n",
      "Scream (1996)\n",
      "Cosine similarity: 0.719\n"
     ]
    }
   ],
   "source": [
    "print_similarity(181, 288, item_embeddings, indexed_items[\"title\"])"
   ]
  },
  {
   "cell_type": "code",
   "execution_count": 56,
   "metadata": {},
   "outputs": [
    {
     "name": "stdout",
     "output_type": "stream",
     "text": [
      "Return of the Jedi (1983)\n",
      "Toy Story (1995)\n",
      "Cosine similarity: 0.824\n"
     ]
    }
   ],
   "source": [
    "print_similarity(181, 1, item_embeddings, indexed_items[\"title\"])"
   ]
  },
  {
   "cell_type": "code",
   "execution_count": 58,
   "metadata": {},
   "outputs": [
    {
     "name": "stdout",
     "output_type": "stream",
     "text": [
      "Scream (1996)\n",
      "Toy Story (1995)\n",
      "Cosine similarity: 0.735\n"
     ]
    }
   ],
   "source": [
    "print_similarity(288, 1, item_embeddings, indexed_items[\"title\"])"
   ]
  },
  {
   "cell_type": "code",
   "execution_count": 57,
   "metadata": {},
   "outputs": [
    {
     "name": "stdout",
     "output_type": "stream",
     "text": [
      "Return of the Jedi (1983)\n",
      "Return of the Jedi (1983)\n",
      "Cosine similarity: 1.0\n"
     ]
    }
   ],
   "source": [
    "print_similarity(181, 181, item_embeddings, indexed_items[\"title\"])"
   ]
  },
  {
   "cell_type": "code",
   "execution_count": 59,
   "metadata": {},
   "outputs": [
    {
     "data": {
      "text/plain": [
       "array([0.14124677, 0.8244012 , 0.72073907, ..., 0.6999593 , 0.7628585 ,\n",
       "       0.63821524], dtype=float32)"
      ]
     },
     "execution_count": 59,
     "metadata": {},
     "output_type": "execute_result"
    }
   ],
   "source": [
    "def cosine_similarities(item_id, item_embeddings):\n",
    "    \"\"\"Compute similarities between item_id and all items embeddings\"\"\"\n",
    "    query_vector = item_embeddings[item_id]\n",
    "    dot_products = item_embeddings @ query_vector\n",
    "\n",
    "    query_vector_norm = np.linalg.norm(query_vector)\n",
    "    all_item_norms = np.linalg.norm(item_embeddings, axis=1)\n",
    "    norm_products = query_vector_norm * all_item_norms\n",
    "    return dot_products / (norm_products + EPSILON)\n",
    "\n",
    "\n",
    "similarities = cosine_similarities(181, item_embeddings)\n",
    "similarities"
   ]
  },
  {
   "cell_type": "code",
   "execution_count": 60,
   "metadata": {},
   "outputs": [
    {
     "data": {
      "image/png": "[encoded data removed]",
      "text/plain": [
       "<Figure size 432x288 with 1 Axes>"
      ]
     },
     "metadata": {
      "needs_background": "light"
     },
     "output_type": "display_data"
    }
   ],
   "source": [
    "plt.hist(similarities, bins=30);"
   ]
  },
  {
   "cell_type": "code",
   "execution_count": 65,
   "metadata": {},
   "outputs": [
    {
     "data": {
      "text/plain": [
       "[(50, 'Star Wars (1977)', 1.0),\n",
       " (181, 'Return of the Jedi (1983)', 0.9178027),\n",
       " (172, 'Empire Strikes Back, The (1980)', 0.9048328),\n",
       " (174, 'Raiders of the Lost Ark (1981)', 0.89443165),\n",
       " (176, 'Aliens (1986)', 0.867192),\n",
       " (404, 'Pinocchio (1940)', 0.86230844),\n",
       " (257, 'Men in Black (1997)', 0.8565761),\n",
       " (183, 'Alien (1979)', 0.8542547),\n",
       " (864, 'My Fellow Americans (1996)', 0.84924424),\n",
       " (205, 'Patton (1970)', 0.84766316)]"
      ]
     },
     "execution_count": 65,
     "metadata": {},
     "output_type": "execute_result"
    }
   ],
   "source": [
    "def most_similar(item_id, item_embeddings, titles,\n",
    "                 top_n=30):\n",
    "    sims = cosine_similarities(item_id, item_embeddings)\n",
    "    # [::-1] makes it possible to reverse the order of a numpy\n",
    "    # array, this is required because most similar items have\n",
    "    # a larger cosine similarity value\n",
    "    sorted_indexes = np.argsort(sims)[::-1]\n",
    "    idxs = sorted_indexes[0:top_n]\n",
    "    return list(zip(idxs, titles[idxs], sims[idxs]))\n",
    "\n",
    "\n",
    "most_similar(50, item_embeddings, indexed_items[\"title\"], top_n=10)"
   ]
  },
  {
   "cell_type": "code",
   "execution_count": 66,
   "metadata": {},
   "outputs": [],
   "source": [
    "# items[items['title'].str.contains(\"Star Trek\")]"
   ]
  },
  {
   "cell_type": "code",
   "execution_count": 67,
   "metadata": {},
   "outputs": [
    {
     "data": {
      "text/plain": [
       "[(227, 'Star Trek VI: The Undiscovered Country (1991)', 0.9999999),\n",
       " (228, 'Star Trek: The Wrath of Khan (1982)', 0.9313745),\n",
       " (230, 'Star Trek IV: The Voyage Home (1986)', 0.9145512),\n",
       " (72, 'Mask, The (1994)', 0.8907313),\n",
       " (186, 'Blues Brothers, The (1980)', 0.8764272),\n",
       " (1269, 'Love in the Afternoon (1957)', 0.8740048),\n",
       " (1443, '8 Seconds (1994)', 0.873652),\n",
       " (399, 'Three Musketeers, The (1993)', 0.87337863),\n",
       " (1542, 'Scarlet Letter, The (1926)', 0.87287587),\n",
       " (164, 'Abyss, The (1989)', 0.8710342)]"
      ]
     },
     "execution_count": 67,
     "metadata": {},
     "output_type": "execute_result"
    }
   ],
   "source": [
    "most_similar(227, item_embeddings, indexed_items[\"title\"], top_n=10)"
   ]
  },
  {
   "cell_type": "markdown",
   "metadata": {},
   "source": [
    "The similarities do not always make sense: the number of ratings is low and the embedding  does not automatically capture semantic relationships in that context. Better representations arise with higher number of ratings, and less overfitting  in models or maybe better loss function, such as those based on implicit feedback."
   ]
  },
  {
   "cell_type": "markdown",
   "metadata": {},
   "source": [
    "### Visualizing embeddings using TSNE\n",
    "\n",
    "- we use scikit learn to visualize items embeddings\n",
    "- Try different perplexities, and visualize user embeddings as well\n",
    "- What can you conclude ?"
   ]
  },
  {
   "cell_type": "code",
   "execution_count": 68,
   "metadata": {},
   "outputs": [
    {
     "name": "stderr",
     "output_type": "stream",
     "text": [
      "D:\\Users\\dernh\\anaconda3\\envs\\deeplearning\\lib\\site-packages\\sklearn\\manifold\\_t_sne.py:780: FutureWarning: The default initialization in TSNE will change from 'random' to 'pca' in 1.2.\n",
      "  warnings.warn(\n",
      "D:\\Users\\dernh\\anaconda3\\envs\\deeplearning\\lib\\site-packages\\sklearn\\manifold\\_t_sne.py:790: FutureWarning: The default learning rate in TSNE will change from 200.0 to 'auto' in 1.2.\n",
      "  warnings.warn(\n"
     ]
    }
   ],
   "source": [
    "from sklearn.manifold import TSNE\n",
    "\n",
    "item_tsne = TSNE(perplexity=30, ).fit_transform(item_embeddings)"
   ]
  },
  {
   "cell_type": "code",
   "execution_count": 69,
   "metadata": {},
   "outputs": [
    {
     "data": {
      "image/png": "[encoded data removed]",
      "text/plain": [
       "<Figure size 720x720 with 1 Axes>"
      ]
     },
     "metadata": {},
     "output_type": "display_data"
    }
   ],
   "source": [
    "import matplotlib.pyplot as plt\n",
    "\n",
    "plt.figure(figsize=(10, 10))\n",
    "plt.scatter(item_tsne[:, 0], item_tsne[:, 1]);\n",
    "plt.xticks(()); plt.yticks(());\n",
    "plt.show()"
   ]
  },
  {
   "cell_type": "code",
   "execution_count": 70,
   "metadata": {},
   "outputs": [
    {
     "name": "stdout",
     "output_type": "stream",
     "text": [
      "Note: you may need to restart the kernel to use updated packages.\n"
     ]
    }
   ],
   "source": [
    "%pip install -q plotly"
   ]
  },
  {
   "cell_type": "code",
   "execution_count": 72,
   "metadata": {},
   "outputs": [
    {
     "data": {
      "application/vnd.plotly.v1+json": {
       "config": {
        "plotlyServerURL": "https://plot.ly"
       },
       "data": [
        {
         "customdata": [
          [
           1,
           "Toy Story (1995)",
           1995,
           452
          ],
          [
           2,
           "GoldenEye (1995)",
           1995,
           131
          ],
          [
           3,
           "Four Rooms (1995)",
           1995,
           90
          ],
          [
           4,
           "Get Shorty (1995)",
           1995,
           209
          ],
          [
           5,
           "Copycat (1995)",
           1995,
           86
          ],
          [
           6,
           "Shanghai Triad (Yao a yao yao dao waipo qiao) (1995)",
           1995,
           26
          ],
          [
           7,
           "Twelve Monkeys (1995)",
           1995,
           392
          ],
          [
           8,
           "Babe (1995)",
           1995,
           219
          ],
          [
           9,
           "Dead Man Walking (1995)",
           1995,
           299
          ],
          [
           10,
           "Richard III (1995)",
           1996,
           89
          ],
          [
           11,
           "Seven (Se7en) (1995)",
           1995,
           236
          ],
          [
           12,
           "Usual Suspects, The (1995)",
           1995,
           267
          ],
          [
           13,
           "Mighty Aphrodite (1995)",
           1995,
           184
          ],
          [
           14,
           "Postino, Il (1994)",
           1994,
           183
          ],
          [
           15,
           "Mr. Holland's Opus (1995)",
           1996,
           293
          ],
          [
           16,
           "French Twist (Gazon maudit) (1995)",
           1995,
           39
          ],
          [
           17,
           "From Dusk Till Dawn (1996)",
           1996,
           92
          ],
          [
           18,
           "White Balloon, The (1995)",
           1995,
           10
          ],
          [
           19,
           "Antonia's Line (1995)",
           1995,
           69
          ],
          [
           20,
           "Angels and Insects (1995)",
           1995,
           72
          ],
          [
           21,
           "Muppet Treasure Island (1996)",
           1996,
           84
          ],
          [
           22,
           "Braveheart (1995)",
           1996,
           297
          ],
          [
           23,
           "Taxi Driver (1976)",
           1996,
           182
          ],
          [
           24,
           "Rumble in the Bronx (1995)",
           1996,
           174
          ],
          [
           25,
           "Birdcage, The (1996)",
           1996,
           293
          ],
          [
           26,
           "Brothers McMullen, The (1995)",
           1995,
           73
          ],
          [
           27,
           "Bad Boys (1995)",
           1995,
           57
          ],
          [
           28,
           "Apollo 13 (1995)",
           1995,
           276
          ],
          [
           29,
           "Batman Forever (1995)",
           1995,
           114
          ],
          [
           30,
           "Belle de jour (1967)",
           1967,
           37
          ],
          [
           31,
           "Crimson Tide (1995)",
           1995,
           154
          ],
          [
           32,
           "Crumb (1994)",
           1994,
           81
          ],
          [
           33,
           "Desperado (1995)",
           1995,
           97
          ],
          [
           34,
           "Doom Generation, The (1995)",
           1995,
           7
          ],
          [
           35,
           "Free Willy 2: The Adventure Home (1995)",
           1995,
           11
          ],
          [
           36,
           "Mad Love (1995)",
           1995,
           13
          ],
          [
           37,
           "Nadja (1994)",
           1994,
           8
          ],
          [
           38,
           "Net, The (1995)",
           1995,
           120
          ],
          [
           39,
           "Strange Days (1995)",
           1995,
           87
          ],
          [
           40,
           "To Wong Foo, Thanks for Everything! Julie Newmar (1995)",
           1995,
           57
          ],
          [
           41,
           "Billy Madison (1995)",
           1995,
           37
          ],
          [
           42,
           "Clerks (1994)",
           1994,
           148
          ],
          [
           43,
           "Disclosure (1994)",
           1994,
           40
          ],
          [
           44,
           "Dolores Claiborne (1994)",
           1994,
           79
          ],
          [
           45,
           "Eat Drink Man Woman (1994)",
           1994,
           80
          ],
          [
           46,
           "Exotica (1994)",
           1994,
           27
          ],
          [
           47,
           "Ed Wood (1994)",
           1994,
           133
          ],
          [
           48,
           "Hoop Dreams (1994)",
           1994,
           117
          ],
          [
           49,
           "I.Q. (1994)",
           1994,
           81
          ],
          [
           50,
           "Star Wars (1977)",
           1977,
           583
          ],
          [
           51,
           "Legends of the Fall (1994)",
           1994,
           81
          ],
          [
           52,
           "Madness of King George, The (1994)",
           1994,
           91
          ],
          [
           53,
           "Natural Born Killers (1994)",
           1994,
           128
          ],
          [
           54,
           "Outbreak (1995)",
           1995,
           104
          ],
          [
           55,
           "Professional, The (1994)",
           1994,
           149
          ],
          [
           56,
           "Pulp Fiction (1994)",
           1994,
           394
          ],
          [
           57,
           "Priest (1994)",
           1994,
           40
          ],
          [
           58,
           "Quiz Show (1994)",
           1994,
           175
          ],
          [
           59,
           "Three Colors: Red (1994)",
           1994,
           83
          ],
          [
           60,
           "Three Colors: Blue (1993)",
           1993,
           64
          ],
          [
           61,
           "Three Colors: White (1994)",
           1994,
           59
          ],
          [
           62,
           "Stargate (1994)",
           1994,
           127
          ],
          [
           63,
           "Santa Clause, The (1994)",
           1994,
           82
          ],
          [
           64,
           "Shawshank Redemption, The (1994)",
           1994,
           283
          ],
          [
           65,
           "What's Eating Gilbert Grape (1993)",
           1993,
           115
          ],
          [
           66,
           "While You Were Sleeping (1995)",
           1995,
           162
          ],
          [
           67,
           "Ace Ventura: Pet Detective (1994)",
           1994,
           103
          ],
          [
           68,
           "Crow, The (1994)",
           1994,
           134
          ],
          [
           69,
           "Forrest Gump (1994)",
           1994,
           321
          ],
          [
           70,
           "Four Weddings and a Funeral (1994)",
           1994,
           251
          ],
          [
           71,
           "Lion King, The (1994)",
           1994,
           220
          ],
          [
           72,
           "Mask, The (1994)",
           1994,
           129
          ],
          [
           73,
           "Maverick (1994)",
           1994,
           128
          ],
          [
           74,
           "Faster Pussycat! Kill! Kill! (1965)",
           1965,
           7
          ],
          [
           75,
           "Brother Minister: The Assassination of Malcolm X (1994)",
           1994,
           5
          ],
          [
           76,
           "Carlito's Way (1993)",
           1993,
           54
          ],
          [
           77,
           "Firm, The (1993)",
           1993,
           151
          ],
          [
           78,
           "Free Willy (1993)",
           1993,
           33
          ],
          [
           79,
           "Fugitive, The (1993)",
           1993,
           336
          ],
          [
           80,
           "Hot Shots! Part Deux (1993)",
           1993,
           68
          ],
          [
           81,
           "Hudsucker Proxy, The (1994)",
           1994,
           110
          ],
          [
           82,
           "Jurassic Park (1993)",
           1993,
           261
          ],
          [
           83,
           "Much Ado About Nothing (1993)",
           1993,
           176
          ],
          [
           84,
           "Robert A. Heinlein's The Puppet Masters (1994)",
           1994,
           18
          ],
          [
           85,
           "Ref, The (1994)",
           1994,
           58
          ],
          [
           86,
           "Remains of the Day, The (1993)",
           1993,
           150
          ],
          [
           87,
           "Searching for Bobby Fischer (1993)",
           1993,
           138
          ],
          [
           88,
           "Sleepless in Seattle (1993)",
           1993,
           213
          ],
          [
           89,
           "Blade Runner (1982)",
           1982,
           275
          ],
          [
           90,
           "So I Married an Axe Murderer (1993)",
           1993,
           95
          ],
          [
           91,
           "Nightmare Before Christmas, The (1993)",
           1993,
           143
          ],
          [
           92,
           "True Romance (1993)",
           1993,
           104
          ],
          [
           93,
           "Welcome to the Dollhouse (1995)",
           1996,
           112
          ],
          [
           94,
           "Home Alone (1990)",
           1990,
           137
          ],
          [
           95,
           "Aladdin (1992)",
           1992,
           219
          ],
          [
           96,
           "Terminator 2: Judgment Day (1991)",
           1991,
           295
          ],
          [
           97,
           "Dances with Wolves (1990)",
           1990,
           256
          ],
          [
           98,
           "Silence of the Lambs, The (1991)",
           1991,
           390
          ],
          [
           99,
           "Snow White and the Seven Dwarfs (1937)",
           1937,
           172
          ],
          [
           100,
           "Fargo (1996)",
           1997,
           508
          ],
          [
           101,
           "Heavy Metal (1981)",
           1981,
           73
          ],
          [
           102,
           "Aristocats, The (1970)",
           1970,
           54
          ],
          [
           103,
           "All Dogs Go to Heaven 2 (1996)",
           1996,
           15
          ],
          [
           104,
           "Theodore Rex (1995)",
           1996,
           5
          ],
          [
           105,
           "Sgt. Bilko (1996)",
           1996,
           74
          ],
          [
           106,
           "Diabolique (1996)",
           1996,
           71
          ],
          [
           107,
           "Moll Flanders (1996)",
           1996,
           42
          ],
          [
           108,
           "Kids in the Hall: Brain Candy (1996)",
           1996,
           65
          ],
          [
           109,
           "Mystery Science Theater 3000: The Movie (1996)",
           1996,
           130
          ],
          [
           110,
           "Operation Dumbo Drop (1995)",
           1995,
           31
          ],
          [
           111,
           "Truth About Cats & Dogs, The (1996)",
           1996,
           272
          ],
          [
           112,
           "Flipper (1996)",
           1996,
           20
          ],
          [
           113,
           "Horseman on the Roof, The (Hussard sur le toit, Le) (1995)",
           1996,
           9
          ],
          [
           114,
           "Wallace & Gromit: The Best of Aardman Animation (1996)",
           1996,
           67
          ],
          [
           115,
           "Haunted World of Edward D. Wood Jr., The (1995)",
           1996,
           15
          ],
          [
           116,
           "Cold Comfort Farm (1995)",
           1996,
           125
          ],
          [
           117,
           "Rock, The (1996)",
           1996,
           378
          ],
          [
           118,
           "Twister (1996)",
           1996,
           293
          ],
          [
           119,
           "Maya Lin: A Strong Clear Vision (1994)",
           1994,
           4
          ],
          [
           120,
           "Striptease (1996)",
           1996,
           67
          ],
          [
           121,
           "Independence Day (ID4) (1996)",
           1996,
           429
          ],
          [
           122,
           "Cable Guy, The (1996)",
           1996,
           106
          ],
          [
           123,
           "Frighteners, The (1996)",
           1996,
           115
          ],
          [
           124,
           "Lone Star (1996)",
           1996,
           187
          ],
          [
           125,
           "Phenomenon (1996)",
           1996,
           244
          ],
          [
           126,
           "Spitfire Grill, The (1996)",
           1996,
           97
          ],
          [
           127,
           "Godfather, The (1972)",
           1972,
           413
          ],
          [
           128,
           "Supercop (1992)",
           1996,
           65
          ],
          [
           129,
           "Bound (1996)",
           1996,
           129
          ],
          [
           130,
           "Kansas City (1996)",
           1996,
           23
          ],
          [
           131,
           "Breakfast at Tiffany's (1961)",
           1961,
           95
          ],
          [
           132,
           "Wizard of Oz, The (1939)",
           1939,
           246
          ],
          [
           133,
           "Gone with the Wind (1939)",
           1939,
           171
          ],
          [
           134,
           "Citizen Kane (1941)",
           1941,
           198
          ],
          [
           135,
           "2001: A Space Odyssey (1968)",
           1968,
           259
          ],
          [
           136,
           "Mr. Smith Goes to Washington (1939)",
           1939,
           105
          ],
          [
           137,
           "Big Night (1996)",
           1996,
           171
          ],
          [
           138,
           "D3: The Mighty Ducks (1996)",
           1996,
           19
          ],
          [
           139,
           "Love Bug, The (1969)",
           1969,
           50
          ],
          [
           140,
           "Homeward Bound: The Incredible Journey (1993)",
           1993,
           61
          ],
          [
           141,
           "20,000 Leagues Under the Sea (1954)",
           1954,
           72
          ],
          [
           142,
           "Bedknobs and Broomsticks (1971)",
           1971,
           57
          ],
          [
           143,
           "Sound of Music, The (1965)",
           1965,
           222
          ],
          [
           144,
           "Die Hard (1988)",
           1988,
           243
          ],
          [
           145,
           "Lawnmower Man, The (1992)",
           1992,
           65
          ],
          [
           146,
           "Unhook the Stars (1996)",
           1996,
           10
          ],
          [
           147,
           "Long Kiss Goodnight, The (1996)",
           1996,
           185
          ],
          [
           148,
           "Ghost and the Darkness, The (1996)",
           1996,
           128
          ],
          [
           149,
           "Jude (1996)",
           1996,
           23
          ],
          [
           150,
           "Swingers (1996)",
           1996,
           157
          ],
          [
           151,
           "Willy Wonka and the Chocolate Factory (1971)",
           1971,
           326
          ],
          [
           152,
           "Sleeper (1973)",
           1973,
           82
          ],
          [
           153,
           "Fish Called Wanda, A (1988)",
           1988,
           247
          ],
          [
           154,
           "Monty Python's Life of Brian (1979)",
           1979,
           174
          ],
          [
           155,
           "Dirty Dancing (1987)",
           1987,
           98
          ],
          [
           156,
           "Reservoir Dogs (1992)",
           1992,
           148
          ],
          [
           157,
           "Platoon (1986)",
           1986,
           127
          ],
          [
           158,
           "Weekend at Bernie's (1989)",
           1989,
           60
          ],
          [
           159,
           "Basic Instinct (1992)",
           1992,
           101
          ],
          [
           160,
           "Glengarry Glen Ross (1992)",
           1992,
           69
          ],
          [
           161,
           "Top Gun (1986)",
           1986,
           220
          ],
          [
           162,
           "On Golden Pond (1981)",
           1981,
           106
          ],
          [
           163,
           "Return of the Pink Panther, The (1974)",
           1974,
           92
          ],
          [
           164,
           "Abyss, The (1989)",
           1989,
           151
          ],
          [
           165,
           "Jean de Florette (1986)",
           1986,
           64
          ],
          [
           166,
           "Manon of the Spring (Manon des sources) (1986)",
           1986,
           58
          ],
          [
           167,
           "Private Benjamin (1980)",
           1980,
           67
          ],
          [
           168,
           "Monty Python and the Holy Grail (1974)",
           1974,
           316
          ],
          [
           169,
           "Wrong Trousers, The (1993)",
           1993,
           118
          ],
          [
           170,
           "Cinema Paradiso (1988)",
           1988,
           121
          ],
          [
           171,
           "Delicatessen (1991)",
           1991,
           65
          ],
          [
           172,
           "Empire Strikes Back, The (1980)",
           1980,
           367
          ],
          [
           173,
           "Princess Bride, The (1987)",
           1987,
           324
          ],
          [
           174,
           "Raiders of the Lost Ark (1981)",
           1981,
           420
          ],
          [
           175,
           "Brazil (1985)",
           1985,
           208
          ],
          [
           176,
           "Aliens (1986)",
           1986,
           284
          ],
          [
           177,
           "Good, The Bad and The Ugly, The (1966)",
           1966,
           137
          ],
          [
           178,
           "12 Angry Men (1957)",
           1957,
           125
          ],
          [
           179,
           "Clockwork Orange, A (1971)",
           1971,
           221
          ],
          [
           180,
           "Apocalypse Now (1979)",
           1979,
           221
          ],
          [
           181,
           "Return of the Jedi (1983)",
           1997,
           507
          ],
          [
           182,
           "GoodFellas (1990)",
           1990,
           226
          ],
          [
           183,
           "Alien (1979)",
           1979,
           291
          ],
          [
           184,
           "Army of Darkness (1993)",
           1993,
           116
          ],
          [
           185,
           "Psycho (1960)",
           1960,
           239
          ],
          [
           186,
           "Blues Brothers, The (1980)",
           1980,
           251
          ],
          [
           187,
           "Godfather: Part II, The (1974)",
           1974,
           209
          ],
          [
           188,
           "Full Metal Jacket (1987)",
           1987,
           170
          ],
          [
           189,
           "Grand Day Out, A (1992)",
           1992,
           66
          ],
          [
           190,
           "Henry V (1989)",
           1989,
           124
          ],
          [
           191,
           "Amadeus (1984)",
           1984,
           276
          ],
          [
           192,
           "Raging Bull (1980)",
           1980,
           116
          ],
          [
           193,
           "Right Stuff, The (1983)",
           1983,
           157
          ],
          [
           194,
           "Sting, The (1973)",
           1973,
           241
          ],
          [
           195,
           "Terminator, The (1984)",
           1984,
           301
          ],
          [
           196,
           "Dead Poets Society (1989)",
           1989,
           251
          ],
          [
           197,
           "Graduate, The (1967)",
           1967,
           239
          ],
          [
           198,
           "Nikita (La Femme Nikita) (1990)",
           1990,
           127
          ],
          [
           199,
           "Bridge on the River Kwai, The (1957)",
           1957,
           165
          ],
          [
           200,
           "Shining, The (1980)",
           1980,
           206
          ],
          [
           201,
           "Evil Dead II (1987)",
           1987,
           89
          ],
          [
           202,
           "Groundhog Day (1993)",
           1993,
           280
          ],
          [
           203,
           "Unforgiven (1992)",
           1992,
           182
          ],
          [
           204,
           "Back to the Future (1985)",
           1985,
           350
          ],
          [
           205,
           "Patton (1970)",
           1970,
           136
          ],
          [
           206,
           "Akira (1988)",
           1988,
           50
          ],
          [
           207,
           "Cyrano de Bergerac (1990)",
           1990,
           66
          ],
          [
           208,
           "Young Frankenstein (1974)",
           1974,
           200
          ],
          [
           209,
           "This Is Spinal Tap (1984)",
           1984,
           191
          ],
          [
           210,
           "Indiana Jones and the Last Crusade (1989)",
           1989,
           331
          ],
          [
           211,
           "M*A*S*H (1970)",
           1970,
           206
          ],
          [
           212,
           "Unbearable Lightness of Being, The (1988)",
           1988,
           92
          ],
          [
           213,
           "Room with a View, A (1986)",
           1986,
           134
          ],
          [
           214,
           "Pink Floyd - The Wall (1982)",
           1982,
           114
          ],
          [
           215,
           "Field of Dreams (1989)",
           1989,
           212
          ],
          [
           216,
           "When Harry Met Sally... (1989)",
           1989,
           290
          ],
          [
           217,
           "Bram Stoker's Dracula (1992)",
           1992,
           120
          ],
          [
           218,
           "Cape Fear (1991)",
           1991,
           171
          ],
          [
           219,
           "Nightmare on Elm Street, A (1984)",
           1984,
           111
          ],
          [
           220,
           "Mirror Has Two Faces, The (1996)",
           1996,
           66
          ],
          [
           221,
           "Breaking the Waves (1996)",
           1996,
           74
          ],
          [
           222,
           "Star Trek: First Contact (1996)",
           1996,
           365
          ],
          [
           223,
           "Sling Blade (1996)",
           1996,
           136
          ],
          [
           224,
           "Ridicule (1996)",
           1996,
           44
          ],
          [
           225,
           "101 Dalmatians (1996)",
           1996,
           109
          ],
          [
           226,
           "Die Hard 2 (1990)",
           1990,
           166
          ],
          [
           227,
           "Star Trek VI: The Undiscovered Country (1991)",
           1991,
           161
          ],
          [
           228,
           "Star Trek: The Wrath of Khan (1982)",
           1982,
           244
          ],
          [
           229,
           "Star Trek III: The Search for Spock (1984)",
           1984,
           171
          ],
          [
           230,
           "Star Trek IV: The Voyage Home (1986)",
           1986,
           199
          ],
          [
           231,
           "Batman Returns (1992)",
           1992,
           142
          ],
          [
           232,
           "Young Guns (1988)",
           1988,
           101
          ],
          [
           233,
           "Under Siege (1992)",
           1992,
           124
          ],
          [
           234,
           "Jaws (1975)",
           1975,
           280
          ],
          [
           235,
           "Mars Attacks! (1996)",
           1996,
           217
          ],
          [
           236,
           "Citizen Ruth (1996)",
           1996,
           45
          ],
          [
           237,
           "Jerry Maguire (1996)",
           1996,
           384
          ],
          [
           238,
           "Raising Arizona (1987)",
           1987,
           256
          ],
          [
           239,
           "Sneakers (1992)",
           1992,
           150
          ],
          [
           240,
           "Beavis and Butt-head Do America (1996)",
           1996,
           156
          ],
          [
           241,
           "Last of the Mohicans, The (1992)",
           1992,
           128
          ],
          [
           242,
           "Kolya (1996)",
           1997,
           117
          ],
          [
           243,
           "Jungle2Jungle (1997)",
           1997,
           132
          ],
          [
           244,
           "Smilla's Sense of Snow (1997)",
           1997,
           48
          ],
          [
           245,
           "Devil's Own, The (1997)",
           1997,
           240
          ],
          [
           246,
           "Chasing Amy (1997)",
           1997,
           124
          ],
          [
           247,
           "Turbo: A Power Rangers Movie (1997)",
           1997,
           5
          ],
          [
           248,
           "Grosse Pointe Blank (1997)",
           1997,
           160
          ],
          [
           249,
           "Austin Powers: International Man of Mystery (1997)",
           1997,
           130
          ],
          [
           250,
           "Fifth Element, The (1997)",
           1997,
           197
          ],
          [
           251,
           "Shall We Dance? (1996)",
           1997,
           46
          ],
          [
           252,
           "Lost World: Jurassic Park, The (1997)",
           1997,
           158
          ],
          [
           253,
           "Pillow Book, The (1995)",
           1997,
           26
          ],
          [
           254,
           "Batman & Robin (1997)",
           1997,
           62
          ],
          [
           255,
           "My Best Friend's Wedding (1997)",
           1997,
           172
          ],
          [
           256,
           "When the Cats Away (Chacun cherche son chat) (1996)",
           1997,
           16
          ],
          [
           257,
           "Men in Black (1997)",
           1997,
           303
          ],
          [
           258,
           "Contact (1997)",
           1997,
           509
          ],
          [
           259,
           "George of the Jungle (1997)",
           1997,
           162
          ],
          [
           260,
           "Event Horizon (1997)",
           1997,
           127
          ],
          [
           261,
           "Air Bud (1997)",
           1997,
           43
          ],
          [
           262,
           "In the Company of Men (1997)",
           1997,
           66
          ],
          [
           263,
           "Steel (1997)",
           1997,
           19
          ],
          [
           264,
           "Mimic (1997)",
           1997,
           101
          ],
          [
           265,
           "Hunt for Red October, The (1990)",
           1990,
           227
          ],
          [
           266,
           "Kull the Conqueror (1997)",
           1997,
           35
          ],
          [
           267,
           "unknown",
           1920,
           9
          ],
          [
           268,
           "Chasing Amy (1997)",
           1997,
           255
          ],
          [
           269,
           "Full Monty, The (1997)",
           1997,
           315
          ],
          [
           270,
           "Gattaca (1997)",
           1997,
           136
          ],
          [
           271,
           "Starship Troopers (1997)",
           1997,
           211
          ],
          [
           272,
           "Good Will Hunting (1997)",
           1997,
           198
          ],
          [
           273,
           "Heat (1995)",
           1995,
           223
          ],
          [
           274,
           "Sabrina (1995)",
           1995,
           190
          ],
          [
           275,
           "Sense and Sensibility (1995)",
           1995,
           268
          ],
          [
           276,
           "Leaving Las Vegas (1995)",
           1995,
           298
          ],
          [
           277,
           "Restoration (1995)",
           1995,
           71
          ],
          [
           278,
           "Bed of Roses (1996)",
           1996,
           60
          ],
          [
           279,
           "Once Upon a Time... When We Were Colored (1995)",
           1995,
           28
          ],
          [
           280,
           "Up Close and Personal (1996)",
           1996,
           85
          ],
          [
           281,
           "River Wild, The (1994)",
           1994,
           146
          ],
          [
           282,
           "Time to Kill, A (1996)",
           1996,
           232
          ],
          [
           283,
           "Emma (1996)",
           1996,
           177
          ],
          [
           284,
           "Tin Cup (1996)",
           1996,
           193
          ],
          [
           285,
           "Secrets & Lies (1996)",
           1996,
           162
          ],
          [
           286,
           "English Patient, The (1996)",
           1996,
           481
          ],
          [
           287,
           "Marvin's Room (1996)",
           1996,
           78
          ],
          [
           288,
           "Scream (1996)",
           1996,
           478
          ],
          [
           289,
           "Evita (1996)",
           1996,
           259
          ],
          [
           290,
           "Fierce Creatures (1997)",
           1997,
           96
          ],
          [
           291,
           "Absolute Power (1997)",
           1997,
           127
          ],
          [
           292,
           "Rosewood (1997)",
           1997,
           114
          ],
          [
           293,
           "Donnie Brasco (1997)",
           1997,
           147
          ],
          [
           294,
           "Liar Liar (1997)",
           1997,
           485
          ],
          [
           295,
           "Breakdown (1997)",
           1997,
           77
          ],
          [
           296,
           "Promesse, La (1996)",
           1997,
           6
          ],
          [
           297,
           "Ulee's Gold (1997)",
           1997,
           50
          ],
          [
           298,
           "Face/Off (1997)",
           1997,
           194
          ],
          [
           299,
           "Hoodlum (1997)",
           1997,
           73
          ],
          [
           300,
           "Air Force One (1997)",
           1997,
           431
          ],
          [
           301,
           "In & Out (1997)",
           1997,
           230
          ],
          [
           302,
           "L.A. Confidential (1997)",
           1997,
           297
          ],
          [
           303,
           "Ulee's Gold (1997)",
           1997,
           134
          ],
          [
           304,
           "Fly Away Home (1996)",
           1996,
           149
          ],
          [
           305,
           "Ice Storm, The (1997)",
           1997,
           87
          ],
          [
           306,
           "Mrs. Brown (Her Majesty, Mrs. Brown) (1997)",
           1997,
           96
          ],
          [
           307,
           "Devil's Advocate, The (1997)",
           1997,
           188
          ],
          [
           308,
           "FairyTale: A True Story (1997)",
           1997,
           30
          ],
          [
           309,
           "Deceiver (1997)",
           1997,
           28
          ],
          [
           310,
           "Rainmaker, The (1997)",
           1997,
           145
          ],
          [
           311,
           "Wings of the Dove, The (1997)",
           1997,
           75
          ],
          [
           312,
           "Midnight in the Garden of Good and Evil (1997)",
           1997,
           80
          ],
          [
           313,
           "Titanic (1997)",
           1997,
           350
          ],
          [
           314,
           "3 Ninjas: High Noon At Mega Mountain (1998)",
           1997,
           5
          ],
          [
           315,
           "Apt Pupil (1998)",
           1998,
           160
          ],
          [
           316,
           "As Good As It Gets (1997)",
           1997,
           112
          ],
          [
           317,
           "In the Name of the Father (1993)",
           1993,
           102
          ],
          [
           318,
           "Schindler's List (1993)",
           1993,
           298
          ],
          [
           319,
           "Everyone Says I Love You (1996)",
           1996,
           168
          ],
          [
           320,
           "Paradise Lost: The Child Murders at Robin Hood Hills (1996)",
           1996,
           20
          ],
          [
           321,
           "Mother (1996)",
           1996,
           169
          ],
          [
           322,
           "Murder at 1600 (1997)",
           1997,
           218
          ],
          [
           323,
           "Dante's Peak (1997)",
           1997,
           240
          ],
          [
           324,
           "Lost Highway (1997)",
           1997,
           125
          ],
          [
           325,
           "Crash (1996)",
           1997,
           128
          ],
          [
           326,
           "G.I. Jane (1997)",
           1997,
           175
          ],
          [
           327,
           "Cop Land (1997)",
           1997,
           175
          ],
          [
           328,
           "Conspiracy Theory (1997)",
           1997,
           295
          ],
          [
           329,
           "Desperate Measures (1998)",
           1998,
           45
          ],
          [
           330,
           "187 (1997)",
           1997,
           41
          ],
          [
           331,
           "Edge, The (1997)",
           1997,
           113
          ],
          [
           332,
           "Kiss the Girls (1997)",
           1997,
           143
          ],
          [
           333,
           "Game, The (1997)",
           1997,
           251
          ],
          [
           334,
           "U Turn (1997)",
           1997,
           64
          ],
          [
           335,
           "How to Be a Player (1997)",
           1997,
           21
          ],
          [
           336,
           "Playing God (1997)",
           1997,
           43
          ],
          [
           337,
           "House of Yes, The (1997)",
           1997,
           18
          ],
          [
           338,
           "Bean (1997)",
           1997,
           91
          ],
          [
           339,
           "Mad City (1997)",
           1997,
           47
          ],
          [
           340,
           "Boogie Nights (1997)",
           1997,
           189
          ],
          [
           341,
           "Critical Care (1997)",
           1997,
           11
          ],
          [
           342,
           "Man Who Knew Too Little, The (1997)",
           1997,
           52
          ],
          [
           343,
           "Alien: Resurrection (1997)",
           1997,
           124
          ],
          [
           344,
           "Apostle, The (1997)",
           1997,
           55
          ],
          [
           345,
           "Deconstructing Harry (1997)",
           1997,
           65
          ],
          [
           346,
           "Jackie Brown (1997)",
           1997,
           126
          ],
          [
           347,
           "Wag the Dog (1997)",
           1998,
           137
          ],
          [
           348,
           "Desperate Measures (1998)",
           1998,
           27
          ],
          [
           349,
           "Hard Rain (1998)",
           1998,
           31
          ],
          [
           350,
           "Fallen (1998)",
           1998,
           41
          ],
          [
           351,
           "Prophecy II, The (1998)",
           1998,
           20
          ],
          [
           352,
           "Spice World (1997)",
           1997,
           26
          ],
          [
           353,
           "Deep Rising (1998)",
           1998,
           14
          ],
          [
           354,
           "Wedding Singer, The (1998)",
           1998,
           72
          ],
          [
           355,
           "Sphere (1998)",
           1998,
           41
          ],
          [
           356,
           "Client, The (1994)",
           1994,
           97
          ],
          [
           357,
           "One Flew Over the Cuckoo's Nest (1975)",
           1975,
           264
          ],
          [
           358,
           "Spawn (1997)",
           1997,
           143
          ],
          [
           359,
           "Assignment, The (1997)",
           1997,
           18
          ],
          [
           360,
           "Wonderland (1997)",
           1997,
           10
          ],
          [
           361,
           "Incognito (1997)",
           1997,
           10
          ],
          [
           362,
           "Blues Brothers 2000 (1998)",
           1998,
           28
          ],
          [
           363,
           "Sudden Death (1995)",
           1995,
           47
          ],
          [
           364,
           "Ace Ventura: When Nature Calls (1995)",
           1995,
           37
          ],
          [
           365,
           "Powder (1995)",
           1995,
           48
          ],
          [
           366,
           "Dangerous Minds (1995)",
           1995,
           47
          ],
          [
           367,
           "Clueless (1995)",
           1995,
           170
          ],
          [
           368,
           "Bio-Dome (1996)",
           1996,
           31
          ],
          [
           369,
           "Black Sheep (1996)",
           1996,
           55
          ],
          [
           370,
           "Mary Reilly (1996)",
           1996,
           39
          ],
          [
           371,
           "Bridges of Madison County, The (1995)",
           1996,
           67
          ],
          [
           372,
           "Jeffrey (1995)",
           1995,
           34
          ],
          [
           373,
           "Judge Dredd (1995)",
           1995,
           39
          ],
          [
           374,
           "Mighty Morphin Power Rangers: The Movie (1995)",
           1995,
           11
          ],
          [
           375,
           "Showgirls (1995)",
           1995,
           23
          ],
          [
           376,
           "Houseguest (1994)",
           1994,
           24
          ],
          [
           377,
           "Heavyweights (1994)",
           1994,
           13
          ],
          [
           378,
           "Miracle on 34th Street (1994)",
           1994,
           101
          ],
          [
           379,
           "Tales From the Crypt Presents: Demon Knight (1995)",
           1995,
           43
          ],
          [
           380,
           "Star Trek: Generations (1994)",
           1994,
           116
          ],
          [
           381,
           "Muriel's Wedding (1994)",
           1994,
           100
          ],
          [
           382,
           "Adventures of Priscilla, Queen of the Desert, The (1994)",
           1994,
           111
          ],
          [
           383,
           "Flintstones, The (1994)",
           1994,
           31
          ],
          [
           384,
           "Naked Gun 33 1/3: The Final Insult (1994)",
           1994,
           69
          ],
          [
           385,
           "True Lies (1994)",
           1994,
           208
          ],
          [
           386,
           "Addams Family Values (1993)",
           1993,
           87
          ],
          [
           387,
           "Age of Innocence, The (1993)",
           1993,
           65
          ],
          [
           388,
           "Beverly Hills Cop III (1994)",
           1994,
           28
          ],
          [
           389,
           "Black Beauty (1994)",
           1994,
           27
          ],
          [
           390,
           "Fear of a Black Hat (1993)",
           1993,
           10
          ],
          [
           391,
           "Last Action Hero (1993)",
           1993,
           59
          ],
          [
           392,
           "Man Without a Face, The (1993)",
           1993,
           68
          ],
          [
           393,
           "Mrs. Doubtfire (1993)",
           1993,
           192
          ],
          [
           394,
           "Radioland Murders (1994)",
           1994,
           12
          ],
          [
           395,
           "Robin Hood: Men in Tights (1993)",
           1993,
           56
          ],
          [
           396,
           "Serial Mom (1994)",
           1994,
           54
          ],
          [
           397,
           "Striking Distance (1993)",
           1993,
           12
          ],
          [
           398,
           "Super Mario Bros. (1993)",
           1993,
           26
          ],
          [
           399,
           "Three Musketeers, The (1993)",
           1993,
           89
          ],
          [
           400,
           "Little Rascals, The (1994)",
           1994,
           18
          ],
          [
           401,
           "Brady Bunch Movie, The (1995)",
           1995,
           76
          ],
          [
           402,
           "Ghost (1990)",
           1990,
           170
          ],
          [
           403,
           "Batman (1989)",
           1989,
           201
          ],
          [
           404,
           "Pinocchio (1940)",
           1940,
           101
          ],
          [
           405,
           "Mission: Impossible (1996)",
           1996,
           344
          ],
          [
           406,
           "Thinner (1996)",
           1996,
           49
          ],
          [
           407,
           "Spy Hard (1996)",
           1996,
           43
          ],
          [
           408,
           "Close Shave, A (1995)",
           1996,
           112
          ],
          [
           409,
           "Jack (1996)",
           1996,
           70
          ],
          [
           410,
           "Kingpin (1996)",
           1996,
           162
          ],
          [
           411,
           "Nutty Professor, The (1996)",
           1996,
           163
          ],
          [
           412,
           "Very Brady Sequel, A (1996)",
           1996,
           93
          ],
          [
           413,
           "Tales from the Crypt Presents: Bordello of Blood (1996)",
           1996,
           55
          ],
          [
           414,
           "My Favorite Year (1982)",
           1982,
           62
          ],
          [
           415,
           "Apple Dumpling Gang, The (1975)",
           1975,
           25
          ],
          [
           416,
           "Old Yeller (1957)",
           1957,
           64
          ],
          [
           417,
           "Parent Trap, The (1961)",
           1961,
           73
          ],
          [
           418,
           "Cinderella (1950)",
           1950,
           129
          ],
          [
           419,
           "Mary Poppins (1964)",
           1964,
           178
          ],
          [
           420,
           "Alice in Wonderland (1951)",
           1951,
           81
          ],
          [
           421,
           "William Shakespeare's Romeo and Juliet (1996)",
           1996,
           106
          ],
          [
           422,
           "Aladdin and the King of Thieves (1996)",
           1996,
           26
          ],
          [
           423,
           "E.T. the Extra-Terrestrial (1982)",
           1982,
           300
          ],
          [
           424,
           "Children of the Corn: The Gathering (1996)",
           1996,
           19
          ],
          [
           425,
           "Bob Roberts (1992)",
           1992,
           85
          ],
          [
           426,
           "Transformers: The Movie, The (1986)",
           1986,
           32
          ],
          [
           427,
           "To Kill a Mockingbird (1962)",
           1962,
           219
          ],
          [
           428,
           "Harold and Maude (1971)",
           1971,
           121
          ],
          [
           429,
           "Day the Earth Stood Still, The (1951)",
           1951,
           97
          ],
          [
           430,
           "Duck Soup (1933)",
           1933,
           93
          ],
          [
           431,
           "Highlander (1986)",
           1986,
           153
          ],
          [
           432,
           "Fantasia (1940)",
           1940,
           174
          ],
          [
           433,
           "Heathers (1989)",
           1989,
           171
          ],
          [
           434,
           "Forbidden Planet (1956)",
           1956,
           67
          ],
          [
           435,
           "Butch Cassidy and the Sundance Kid (1969)",
           1969,
           216
          ],
          [
           436,
           "American Werewolf in London, An (1981)",
           1981,
           99
          ],
          [
           437,
           "Amityville 1992: It's About Time (1992)",
           1992,
           5
          ],
          [
           438,
           "Amityville 3-D (1983)",
           1983,
           6
          ],
          [
           439,
           "Amityville: A New Generation (1993)",
           1993,
           5
          ],
          [
           440,
           "Amityville II: The Possession (1982)",
           1982,
           14
          ],
          [
           441,
           "Amityville Horror, The (1979)",
           1979,
           53
          ],
          [
           442,
           "Amityville Curse, The (1990)",
           1990,
           4
          ],
          [
           443,
           "Birds, The (1963)",
           1963,
           162
          ],
          [
           444,
           "Blob, The (1958)",
           1958,
           46
          ],
          [
           445,
           "Body Snatcher, The (1945)",
           1945,
           22
          ],
          [
           446,
           "Burnt Offerings (1976)",
           1976,
           9
          ],
          [
           447,
           "Carrie (1976)",
           1976,
           121
          ],
          [
           448,
           "Omen, The (1976)",
           1976,
           85
          ],
          [
           449,
           "Star Trek: The Motion Picture (1979)",
           1979,
           117
          ],
          [
           450,
           "Star Trek V: The Final Frontier (1989)",
           1989,
           63
          ],
          [
           451,
           "Grease (1978)",
           1978,
           170
          ],
          [
           452,
           "Jaws 2 (1978)",
           1978,
           66
          ],
          [
           453,
           "Jaws 3-D (1983)",
           1983,
           16
          ],
          [
           454,
           "Bastard Out of Carolina (1996)",
           1996,
           16
          ],
          [
           455,
           "Jackie Chan's First Strike (1996)",
           1997,
           145
          ],
          [
           456,
           "Beverly Hills Ninja (1997)",
           1997,
           48
          ],
          [
           457,
           "Free Willy 3: The Rescue (1997)",
           1997,
           27
          ],
          [
           458,
           "Nixon (1995)",
           1995,
           90
          ],
          [
           459,
           "Cry, the Beloved Country (1995)",
           1995,
           24
          ],
          [
           460,
           "Crossing Guard, The (1995)",
           1995,
           28
          ],
          [
           461,
           "Smoke (1995)",
           1995,
           74
          ],
          [
           462,
           "Like Water For Chocolate (Como agua para chocolate) (1992)",
           1992,
           148
          ],
          [
           463,
           "Secret of Roan Inish, The (1994)",
           1994,
           71
          ],
          [
           464,
           "Vanya on 42nd Street (1994)",
           1994,
           27
          ],
          [
           465,
           "Jungle Book, The (1994)",
           1994,
           85
          ],
          [
           466,
           "Red Rock West (1992)",
           1992,
           52
          ],
          [
           467,
           "Bronx Tale, A (1993)",
           1993,
           48
          ],
          [
           468,
           "Rudy (1993)",
           1993,
           64
          ],
          [
           469,
           "Short Cuts (1993)",
           1993,
           67
          ],
          [
           470,
           "Tombstone (1993)",
           1993,
           108
          ],
          [
           471,
           "Courage Under Fire (1996)",
           1996,
           221
          ],
          [
           472,
           "Dragonheart (1996)",
           1996,
           158
          ],
          [
           473,
           "James and the Giant Peach (1996)",
           1996,
           126
          ],
          [
           474,
           "Dr. Strangelove or: How I Learned to Stop Worrying and Love the Bomb (1963)",
           1963,
           194
          ],
          [
           475,
           "Trainspotting (1996)",
           1996,
           250
          ],
          [
           476,
           "First Wives Club, The (1996)",
           1996,
           160
          ],
          [
           477,
           "Matilda (1996)",
           1996,
           95
          ],
          [
           478,
           "Philadelphia Story, The (1940)",
           1940,
           104
          ],
          [
           479,
           "Vertigo (1958)",
           1958,
           179
          ],
          [
           480,
           "North by Northwest (1959)",
           1959,
           179
          ],
          [
           481,
           "Apartment, The (1960)",
           1960,
           63
          ],
          [
           482,
           "Some Like It Hot (1959)",
           1959,
           128
          ],
          [
           483,
           "Casablanca (1942)",
           1942,
           243
          ],
          [
           484,
           "Maltese Falcon, The (1941)",
           1941,
           138
          ],
          [
           485,
           "My Fair Lady (1964)",
           1964,
           125
          ],
          [
           486,
           "Sabrina (1954)",
           1954,
           64
          ],
          [
           487,
           "Roman Holiday (1953)",
           1953,
           68
          ],
          [
           488,
           "Sunset Blvd. (1950)",
           1950,
           65
          ],
          [
           489,
           "Notorious (1946)",
           1946,
           52
          ],
          [
           490,
           "To Catch a Thief (1955)",
           1955,
           50
          ],
          [
           491,
           "Adventures of Robin Hood, The (1938)",
           1938,
           67
          ],
          [
           492,
           "East of Eden (1955)",
           1955,
           59
          ],
          [
           493,
           "Thin Man, The (1934)",
           1934,
           60
          ],
          [
           494,
           "His Girl Friday (1940)",
           1940,
           56
          ],
          [
           495,
           "Around the World in 80 Days (1956)",
           1956,
           59
          ],
          [
           496,
           "It's a Wonderful Life (1946)",
           1946,
           231
          ],
          [
           497,
           "Bringing Up Baby (1938)",
           1938,
           68
          ],
          [
           498,
           "African Queen, The (1951)",
           1951,
           152
          ],
          [
           499,
           "Cat on a Hot Tin Roof (1958)",
           1958,
           62
          ],
          [
           500,
           "Fly Away Home (1996)",
           1996,
           31
          ],
          [
           501,
           "Dumbo (1941)",
           1941,
           123
          ],
          [
           502,
           "Bananas (1971)",
           1971,
           57
          ],
          [
           503,
           "Candidate, The (1972)",
           1972,
           39
          ],
          [
           504,
           "Bonnie and Clyde (1967)",
           1967,
           122
          ],
          [
           505,
           "Dial M for Murder (1954)",
           1954,
           68
          ],
          [
           506,
           "Rebel Without a Cause (1955)",
           1955,
           90
          ],
          [
           507,
           "Streetcar Named Desire, A (1951)",
           1951,
           98
          ],
          [
           508,
           "People vs. Larry Flynt, The (1996)",
           1996,
           215
          ],
          [
           509,
           "My Left Foot (1989)",
           1989,
           121
          ],
          [
           510,
           "Magnificent Seven, The (1954)",
           1954,
           121
          ],
          [
           511,
           "Lawrence of Arabia (1962)",
           1962,
           173
          ],
          [
           512,
           "Wings of Desire (1987)",
           1987,
           57
          ],
          [
           513,
           "Third Man, The (1949)",
           1949,
           72
          ],
          [
           514,
           "Annie Hall (1977)",
           1977,
           180
          ],
          [
           515,
           "Boot, Das (1981)",
           1997,
           201
          ],
          [
           516,
           "Local Hero (1983)",
           1983,
           63
          ],
          [
           517,
           "Manhattan (1979)",
           1979,
           91
          ],
          [
           518,
           "Miller's Crossing (1990)",
           1990,
           89
          ],
          [
           519,
           "Treasure of the Sierra Madre, The (1948)",
           1948,
           80
          ],
          [
           520,
           "Great Escape, The (1963)",
           1963,
           124
          ],
          [
           521,
           "Deer Hunter, The (1978)",
           1978,
           120
          ],
          [
           522,
           "Down by Law (1986)",
           1986,
           35
          ],
          [
           523,
           "Cool Hand Luke (1967)",
           1967,
           164
          ],
          [
           524,
           "Great Dictator, The (1940)",
           1940,
           46
          ],
          [
           525,
           "Big Sleep, The (1946)",
           1946,
           73
          ],
          [
           526,
           "Ben-Hur (1959)",
           1959,
           124
          ],
          [
           527,
           "Gandhi (1982)",
           1982,
           195
          ],
          [
           528,
           "Killing Fields, The (1984)",
           1984,
           121
          ],
          [
           529,
           "My Life as a Dog (Mitt liv som hund) (1985)",
           1985,
           93
          ],
          [
           530,
           "Man Who Would Be King, The (1975)",
           1975,
           80
          ],
          [
           531,
           "Shine (1996)",
           1996,
           129
          ],
          [
           532,
           "Kama Sutra: A Tale of Love (1996)",
           1997,
           22
          ],
          [
           533,
           "Daytrippers, The (1996)",
           1997,
           15
          ],
          [
           534,
           "Traveller (1997)",
           1997,
           13
          ],
          [
           535,
           "Addicted to Love (1997)",
           1997,
           54
          ],
          [
           536,
           "Ponette (1996)",
           1997,
           10
          ],
          [
           537,
           "My Own Private Idaho (1991)",
           1991,
           30
          ],
          [
           538,
           "Anastasia (1997)",
           1997,
           66
          ],
          [
           539,
           "Mouse Hunt (1997)",
           1997,
           44
          ],
          [
           540,
           "Money Train (1995)",
           1995,
           43
          ],
          [
           541,
           "Mortal Kombat (1995)",
           1995,
           49
          ],
          [
           542,
           "Pocahontas (1995)",
           1995,
           51
          ],
          [
           543,
           "Misérables, Les (1995)",
           1995,
           21
          ],
          [
           544,
           "Things to Do in Denver when You're Dead (1995)",
           1996,
           71
          ],
          [
           545,
           "Vampire in Brooklyn (1995)",
           1995,
           12
          ],
          [
           546,
           "Broken Arrow (1996)",
           1996,
           254
          ],
          [
           547,
           "Young Poisoner's Handbook, The (1995)",
           1996,
           41
          ],
          [
           548,
           "NeverEnding Story III, The (1994)",
           1996,
           12
          ],
          [
           549,
           "Rob Roy (1995)",
           1995,
           92
          ],
          [
           550,
           "Die Hard: With a Vengeance (1995)",
           1995,
           151
          ],
          [
           551,
           "Lord of Illusions (1995)",
           1995,
           24
          ],
          [
           552,
           "Species (1995)",
           1995,
           45
          ],
          [
           553,
           "Walk in the Clouds, A (1995)",
           1995,
           63
          ],
          [
           554,
           "Waterworld (1995)",
           1995,
           102
          ],
          [
           555,
           "White Man's Burden (1995)",
           1995,
           10
          ],
          [
           556,
           "Wild Bill (1995)",
           1995,
           12
          ],
          [
           557,
           "Farinelli: il castrato (1994)",
           1994,
           17
          ],
          [
           558,
           "Heavenly Creatures (1994)",
           1994,
           70
          ],
          [
           559,
           "Interview with the Vampire (1994)",
           1994,
           137
          ],
          [
           560,
           "Kid in King Arthur's Court, A (1995)",
           1995,
           22
          ],
          [
           561,
           "Mary Shelley's Frankenstein (1994)",
           1994,
           59
          ],
          [
           562,
           "Quick and the Dead, The (1995)",
           1995,
           48
          ],
          [
           563,
           "Stephen King's The Langoliers (1995)",
           1995,
           29
          ],
          [
           564,
           "Tales from the Hood (1995)",
           1995,
           27
          ],
          [
           565,
           "Village of the Damned (1995)",
           1995,
           22
          ],
          [
           566,
           "Clear and Present Danger (1994)",
           1994,
           179
          ],
          [
           567,
           "Wes Craven's New Nightmare (1994)",
           1994,
           35
          ],
          [
           568,
           "Speed (1994)",
           1994,
           230
          ],
          [
           569,
           "Wolf (1994)",
           1994,
           67
          ],
          [
           570,
           "Wyatt Earp (1994)",
           1994,
           50
          ],
          [
           571,
           "Another Stakeout (1993)",
           1993,
           28
          ],
          [
           572,
           "Blown Away (1994)",
           1994,
           29
          ],
          [
           573,
           "Body Snatchers (1993)",
           1993,
           33
          ],
          [
           574,
           "Boxing Helena (1993)",
           1993,
           15
          ],
          [
           575,
           "City Slickers II: The Legend of Curly's Gold (1994)",
           1994,
           44
          ],
          [
           576,
           "Cliffhanger (1993)",
           1993,
           93
          ],
          [
           577,
           "Coneheads (1993)",
           1993,
           41
          ],
          [
           578,
           "Demolition Man (1993)",
           1993,
           92
          ],
          [
           579,
           "Fatal Instinct (1993)",
           1993,
           19
          ],
          [
           580,
           "Englishman Who Went Up a Hill, But Came Down a Mountain, The (1995)",
           1995,
           32
          ],
          [
           581,
           "Kalifornia (1993)",
           1993,
           59
          ],
          [
           582,
           "Piano, The (1993)",
           1993,
           168
          ],
          [
           583,
           "Romeo Is Bleeding (1993)",
           1993,
           37
          ],
          [
           584,
           "Secret Garden, The (1993)",
           1993,
           79
          ],
          [
           585,
           "Son in Law (1993)",
           1993,
           39
          ],
          [
           586,
           "Terminal Velocity (1994)",
           1994,
           34
          ],
          [
           587,
           "Hour of the Pig, The (1993)",
           1993,
           14
          ],
          [
           588,
           "Beauty and the Beast (1991)",
           1991,
           202
          ],
          [
           589,
           "Wild Bunch, The (1969)",
           1969,
           43
          ],
          [
           590,
           "Hellraiser: Bloodline (1996)",
           1996,
           18
          ],
          [
           591,
           "Primal Fear (1996)",
           1996,
           178
          ],
          [
           592,
           "True Crime (1995)",
           1995,
           9
          ],
          [
           593,
           "Stalingrad (1993)",
           1993,
           12
          ],
          [
           594,
           "Heavy (1995)",
           1996,
           5
          ],
          [
           595,
           "Fan, The (1996)",
           1996,
           64
          ],
          [
           596,
           "Hunchback of Notre Dame, The (1996)",
           1996,
           127
          ],
          [
           597,
           "Eraser (1996)",
           1996,
           206
          ],
          [
           598,
           "Big Squeeze, The (1996)",
           1996,
           4
          ],
          [
           599,
           "Police Story 4: Project S (Chao ji ji hua) (1993)",
           1996,
           1
          ],
          [
           600,
           "Daniel Defoe's Robinson Crusoe (1996)",
           1996,
           2
          ],
          [
           601,
           "For Whom the Bell Tolls (1943)",
           1943,
           20
          ],
          [
           602,
           "American in Paris, An (1951)",
           1951,
           50
          ],
          [
           603,
           "Rear Window (1954)",
           1954,
           209
          ],
          [
           604,
           "It Happened One Night (1934)",
           1934,
           81
          ],
          [
           605,
           "Meet Me in St. Louis (1944)",
           1944,
           31
          ],
          [
           606,
           "All About Eve (1950)",
           1950,
           66
          ],
          [
           607,
           "Rebecca (1940)",
           1940,
           66
          ],
          [
           608,
           "Spellbound (1945)",
           1945,
           30
          ],
          [
           609,
           "Father of the Bride (1950)",
           1950,
           60
          ],
          [
           610,
           "Gigi (1958)",
           1958,
           41
          ],
          [
           611,
           "Laura (1944)",
           1944,
           40
          ],
          [
           612,
           "Lost Horizon (1937)",
           1937,
           34
          ],
          [
           613,
           "My Man Godfrey (1936)",
           1936,
           27
          ],
          [
           614,
           "Giant (1956)",
           1956,
           51
          ],
          [
           615,
           "39 Steps, The (1935)",
           1935,
           59
          ],
          [
           616,
           "Night of the Living Dead (1968)",
           1968,
           64
          ],
          [
           617,
           "Blue Angel, The (Blaue Engel, Der) (1930)",
           1930,
           18
          ],
          [
           618,
           "Picnic (1955)",
           1955,
           18
          ],
          [
           619,
           "Extreme Measures (1996)",
           1996,
           64
          ],
          [
           620,
           "Chamber, The (1996)",
           1996,
           43
          ],
          [
           621,
           "Davy Crockett, King of the Wild Frontier (1955)",
           1955,
           11
          ],
          [
           622,
           "Swiss Family Robinson (1960)",
           1960,
           39
          ],
          [
           623,
           "Angels in the Outfield (1994)",
           1994,
           39
          ],
          [
           624,
           "Three Caballeros, The (1945)",
           1945,
           22
          ],
          [
           625,
           "Sword in the Stone, The (1963)",
           1963,
           82
          ],
          [
           626,
           "So Dear to My Heart (1949)",
           1949,
           4
          ],
          [
           627,
           "Robin Hood: Prince of Thieves (1991)",
           1991,
           75
          ],
          [
           628,
           "Sleepers (1996)",
           1996,
           169
          ],
          [
           629,
           "Victor/Victoria (1982)",
           1982,
           77
          ],
          [
           630,
           "Great Race, The (1965)",
           1965,
           31
          ],
          [
           631,
           "Crying Game, The (1992)",
           1992,
           119
          ],
          [
           632,
           "Sophie's Choice (1982)",
           1982,
           58
          ],
          [
           633,
           "Christmas Carol, A (1938)",
           1938,
           69
          ],
          [
           634,
           "Microcosmos: Le peuple de l'herbe (1996)",
           1996,
           24
          ],
          [
           635,
           "Fog, The (1980)",
           1980,
           23
          ],
          [
           636,
           "Escape from New York (1981)",
           1981,
           91
          ],
          [
           637,
           "Howling, The (1981)",
           1981,
           38
          ],
          [
           638,
           "Return of Martin Guerre, The (Retour de Martin Guerre, Le) (1982)",
           1982,
           44
          ],
          [
           639,
           "Tin Drum, The (Blechtrommel, Die) (1979)",
           1979,
           40
          ],
          [
           640,
           "Cook the Thief His Wife & Her Lover, The (1989)",
           1989,
           82
          ],
          [
           641,
           "Paths of Glory (1957)",
           1957,
           33
          ],
          [
           642,
           "Grifters, The (1990)",
           1990,
           89
          ],
          [
           643,
           "The Innocent (1994)",
           1994,
           4
          ],
          [
           644,
           "Thin Blue Line, The (1988)",
           1988,
           35
          ],
          [
           645,
           "Paris Is Burning (1990)",
           1990,
           27
          ],
          [
           646,
           "Once Upon a Time in the West (1969)",
           1969,
           38
          ],
          [
           647,
           "Ran (1985)",
           1985,
           70
          ],
          [
           648,
           "Quiet Man, The (1952)",
           1952,
           67
          ],
          [
           649,
           "Once Upon a Time in America (1984)",
           1984,
           50
          ],
          [
           650,
           "Seventh Seal, The (Sjunde inseglet, Det) (1957)",
           1957,
           72
          ],
          [
           651,
           "Glory (1989)",
           1989,
           171
          ],
          [
           652,
           "Rosencrantz and Guildenstern Are Dead (1990)",
           1990,
           90
          ],
          [
           653,
           "Touch of Evil (1958)",
           1958,
           34
          ],
          [
           654,
           "Chinatown (1974)",
           1974,
           147
          ],
          [
           655,
           "Stand by Me (1986)",
           1986,
           227
          ],
          [
           656,
           "M (1931)",
           1931,
           44
          ],
          [
           657,
           "Manchurian Candidate, The (1962)",
           1962,
           131
          ],
          [
           658,
           "Pump Up the Volume (1990)",
           1990,
           79
          ],
          [
           659,
           "Arsenic and Old Lace (1944)",
           1944,
           115
          ],
          [
           660,
           "Fried Green Tomatoes (1991)",
           1991,
           153
          ],
          [
           661,
           "High Noon (1952)",
           1952,
           88
          ],
          [
           662,
           "Somewhere in Time (1980)",
           1980,
           82
          ],
          [
           663,
           "Being There (1979)",
           1979,
           116
          ],
          [
           664,
           "Paris, Texas (1984)",
           1984,
           46
          ],
          [
           665,
           "Alien 3 (1992)",
           1992,
           100
          ],
          [
           666,
           "Blood For Dracula (Andy Warhol's Dracula) (1974)",
           1974,
           5
          ],
          [
           667,
           "Audrey Rose (1977)",
           1977,
           12
          ],
          [
           668,
           "Blood Beach (1981)",
           1981,
           6
          ],
          [
           669,
           "Body Parts (1991)",
           1991,
           13
          ],
          [
           670,
           "Body Snatchers (1993)",
           1993,
           36
          ],
          [
           671,
           "Bride of Frankenstein (1935)",
           1935,
           46
          ],
          [
           672,
           "Candyman (1992)",
           1992,
           65
          ],
          [
           673,
           "Cape Fear (1962)",
           1962,
           86
          ],
          [
           674,
           "Cat People (1982)",
           1982,
           48
          ],
          [
           675,
           "Nosferatu (Nosferatu, eine Symphonie des Grauens) (1922)",
           1922,
           54
          ],
          [
           676,
           "Crucible, The (1996)",
           1996,
           77
          ],
          [
           677,
           "Fire on the Mountain (1996)",
           1997,
           1
          ],
          [
           678,
           "Volcano (1997)",
           1997,
           219
          ],
          [
           679,
           "Conan the Barbarian (1981)",
           1981,
           107
          ],
          [
           680,
           "Kull the Conqueror (1997)",
           1997,
           34
          ],
          [
           681,
           "Wishmaster (1997)",
           1997,
           27
          ],
          [
           682,
           "I Know What You Did Last Summer (1997)",
           1997,
           100
          ],
          [
           683,
           "Rocket Man (1997)",
           1997,
           49
          ],
          [
           684,
           "In the Line of Fire (1993)",
           1993,
           169
          ],
          [
           685,
           "Executive Decision (1996)",
           1996,
           157
          ],
          [
           686,
           "Perfect World, A (1993)",
           1993,
           50
          ],
          [
           687,
           "McHale's Navy (1997)",
           1997,
           69
          ],
          [
           688,
           "Leave It to Beaver (1997)",
           1997,
           44
          ],
          [
           689,
           "Jackal, The (1997)",
           1997,
           87
          ],
          [
           690,
           "Seven Years in Tibet (1997)",
           1997,
           155
          ],
          [
           691,
           "Dark City (1998)",
           1998,
           16
          ],
          [
           692,
           "American President, The (1995)",
           1995,
           164
          ],
          [
           693,
           "Casino (1995)",
           1995,
           91
          ],
          [
           694,
           "Persuasion (1995)",
           1995,
           44
          ],
          [
           695,
           "Kicking and Screaming (1995)",
           1995,
           13
          ],
          [
           696,
           "City Hall (1996)",
           1996,
           79
          ],
          [
           697,
           "Basketball Diaries, The (1995)",
           1995,
           40
          ],
          [
           698,
           "Browning Version, The (1994)",
           1994,
           10
          ],
          [
           699,
           "Little Women (1994)",
           1994,
           102
          ],
          [
           700,
           "Miami Rhapsody (1995)",
           1995,
           15
          ],
          [
           701,
           "Wonderful, Horrible Life of Leni Riefenstahl, The (1993)",
           1993,
           10
          ],
          [
           702,
           "Barcelona (1994)",
           1994,
           53
          ],
          [
           703,
           "Widows' Peak (1994)",
           1994,
           19
          ],
          [
           704,
           "House of the Spirits, The (1993)",
           1993,
           24
          ],
          [
           705,
           "Singin' in the Rain (1952)",
           1952,
           137
          ],
          [
           706,
           "Bad Moon (1996)",
           1996,
           6
          ],
          [
           707,
           "Enchanted April (1991)",
           1991,
           70
          ],
          [
           708,
           "Sex, Lies, and Videotape (1989)",
           1989,
           101
          ],
          [
           709,
           "Strictly Ballroom (1992)",
           1992,
           104
          ],
          [
           710,
           "Better Off Dead... (1985)",
           1985,
           79
          ],
          [
           711,
           "Substance of Fire, The (1996)",
           1996,
           1
          ],
          [
           712,
           "Tin Men (1987)",
           1987,
           51
          ],
          [
           713,
           "Othello (1995)",
           1995,
           72
          ],
          [
           714,
           "Carrington (1995)",
           1995,
           13
          ],
          [
           715,
           "To Die For (1995)",
           1995,
           87
          ],
          [
           716,
           "Home for the Holidays (1995)",
           1995,
           58
          ],
          [
           717,
           "Juror, The (1996)",
           1996,
           82
          ],
          [
           718,
           "In the Bleak Midwinter (1995)",
           1996,
           16
          ],
          [
           719,
           "Canadian Bacon (1994)",
           1994,
           29
          ],
          [
           720,
           "First Knight (1995)",
           1995,
           86
          ],
          [
           721,
           "Mallrats (1995)",
           1995,
           54
          ],
          [
           722,
           "Nine Months (1995)",
           1995,
           58
          ],
          [
           723,
           "Boys on the Side (1995)",
           1995,
           34
          ],
          [
           724,
           "Circle of Friends (1995)",
           1995,
           76
          ],
          [
           725,
           "Exit to Eden (1994)",
           1994,
           16
          ],
          [
           726,
           "Fluke (1995)",
           1995,
           14
          ],
          [
           727,
           "Immortal Beloved (1994)",
           1994,
           63
          ],
          [
           728,
           "Junior (1994)",
           1994,
           45
          ],
          [
           729,
           "Nell (1994)",
           1994,
           81
          ],
          [
           730,
           "Queen Margot (Reine Margot, La) (1994)",
           1996,
           24
          ],
          [
           731,
           "Corrina, Corrina (1994)",
           1994,
           39
          ],
          [
           732,
           "Dave (1993)",
           1993,
           180
          ],
          [
           733,
           "Go Fish (1994)",
           1994,
           15
          ],
          [
           734,
           "Made in America (1993)",
           1993,
           27
          ],
          [
           735,
           "Philadelphia (1993)",
           1993,
           137
          ],
          [
           736,
           "Shadowlands (1993)",
           1993,
           78
          ],
          [
           737,
           "Sirens (1994)",
           1994,
           59
          ],
          [
           738,
           "Threesome (1994)",
           1994,
           31
          ],
          [
           739,
           "Pretty Woman (1990)",
           1990,
           164
          ],
          [
           740,
           "Jane Eyre (1996)",
           1996,
           63
          ],
          [
           741,
           "Last Supper, The (1995)",
           1996,
           58
          ],
          [
           742,
           "Ransom (1996)",
           1996,
           267
          ],
          [
           743,
           "Crow: City of Angels, The (1996)",
           1996,
           39
          ],
          [
           744,
           "Michael Collins (1996)",
           1996,
           92
          ],
          [
           745,
           "Ruling Class, The (1972)",
           1972,
           16
          ],
          [
           746,
           "Real Genius (1985)",
           1985,
           119
          ],
          [
           747,
           "Benny & Joon (1993)",
           1993,
           102
          ],
          [
           748,
           "Saint, The (1997)",
           1997,
           316
          ],
          [
           749,
           "MatchMaker, The (1997)",
           1997,
           51
          ],
          [
           750,
           "Amistad (1997)",
           1997,
           124
          ],
          [
           751,
           "Tomorrow Never Dies (1997)",
           1997,
           180
          ],
          [
           752,
           "Replacement Killers, The (1998)",
           1998,
           39
          ],
          [
           753,
           "Burnt By the Sun (1994)",
           1994,
           24
          ],
          [
           754,
           "Red Corner (1997)",
           1997,
           57
          ],
          [
           755,
           "Jumanji (1995)",
           1995,
           96
          ],
          [
           756,
           "Father of the Bride Part II (1995)",
           1995,
           128
          ],
          [
           757,
           "Across the Sea of Time (1995)",
           1995,
           4
          ],
          [
           758,
           "Lawnmower Man 2: Beyond Cyberspace (1996)",
           1996,
           21
          ],
          [
           759,
           "Fair Game (1995)",
           1995,
           11
          ],
          [
           760,
           "Screamers (1995)",
           1995,
           46
          ],
          [
           761,
           "Nick of Time (1995)",
           1995,
           44
          ],
          [
           762,
           "Beautiful Girls (1996)",
           1996,
           115
          ],
          [
           763,
           "Happy Gilmore (1996)",
           1996,
           149
          ],
          [
           764,
           "If Lucy Fell (1996)",
           1996,
           29
          ],
          [
           765,
           "Boomerang (1992)",
           1992,
           32
          ],
          [
           766,
           "Man of the Year (1995)",
           1996,
           9
          ],
          [
           767,
           "Addiction, The (1995)",
           1995,
           11
          ],
          [
           768,
           "Casper (1995)",
           1995,
           52
          ],
          [
           769,
           "Congo (1995)",
           1995,
           42
          ],
          [
           770,
           "Devil in a Blue Dress (1995)",
           1995,
           57
          ],
          [
           771,
           "Johnny Mnemonic (1995)",
           1995,
           41
          ],
          [
           772,
           "Kids (1995)",
           1995,
           49
          ],
          [
           773,
           "Mute Witness (1994)",
           1994,
           17
          ],
          [
           774,
           "Prophecy, The (1995)",
           1995,
           32
          ],
          [
           775,
           "Something to Talk About (1995)",
           1995,
           26
          ],
          [
           776,
           "Three Wishes (1995)",
           1995,
           9
          ],
          [
           777,
           "Castle Freak (1995)",
           1995,
           4
          ],
          [
           778,
           "Don Juan DeMarco (1995)",
           1995,
           76
          ],
          [
           779,
           "Drop Zone (1994)",
           1994,
           31
          ],
          [
           780,
           "Dumb & Dumber (1994)",
           1994,
           69
          ],
          [
           781,
           "French Kiss (1995)",
           1995,
           84
          ],
          [
           782,
           "Little Odessa (1994)",
           1994,
           10
          ],
          [
           783,
           "Milk Money (1994)",
           1994,
           37
          ],
          [
           784,
           "Beyond Bedlam (1993)",
           1993,
           2
          ],
          [
           785,
           "Only You (1994)",
           1994,
           39
          ],
          [
           786,
           "Perez Family, The (1995)",
           1995,
           14
          ],
          [
           787,
           "Roommates (1995)",
           1995,
           13
          ],
          [
           788,
           "Relative Fear (1994)",
           1994,
           3
          ],
          [
           789,
           "Swimming with Sharks (1995)",
           1995,
           47
          ],
          [
           790,
           "Tommy Boy (1995)",
           1995,
           66
          ],
          [
           791,
           "Baby-Sitters Club, The (1995)",
           1995,
           10
          ],
          [
           792,
           "Bullets Over Broadway (1994)",
           1994,
           86
          ],
          [
           793,
           "Crooklyn (1994)",
           1994,
           10
          ],
          [
           794,
           "It Could Happen to You (1994)",
           1994,
           46
          ],
          [
           795,
           "Richie Rich (1994)",
           1994,
           21
          ],
          [
           796,
           "Speechless (1994)",
           1994,
           36
          ],
          [
           797,
           "Timecop (1994)",
           1994,
           31
          ],
          [
           798,
           "Bad Company (1995)",
           1995,
           9
          ],
          [
           799,
           "Boys Life (1995)",
           1995,
           5
          ],
          [
           800,
           "In the Mouth of Madness (1995)",
           1995,
           26
          ],
          [
           801,
           "Air Up There, The (1994)",
           1994,
           16
          ],
          [
           802,
           "Hard Target (1993)",
           1993,
           40
          ],
          [
           803,
           "Heaven & Earth (1993)",
           1993,
           9
          ],
          [
           804,
           "Jimmy Hollywood (1994)",
           1994,
           8
          ],
          [
           805,
           "Manhattan Murder Mystery (1993)",
           1993,
           27
          ],
          [
           806,
           "Menace II Society (1993)",
           1993,
           50
          ],
          [
           807,
           "Poetic Justice (1993)",
           1993,
           9
          ],
          [
           808,
           "Program, The (1993)",
           1993,
           31
          ],
          [
           809,
           "Rising Sun (1993)",
           1993,
           43
          ],
          [
           810,
           "Shadow, The (1994)",
           1994,
           45
          ],
          [
           811,
           "Thirty-Two Short Films About Glenn Gould (1993)",
           1993,
           18
          ],
          [
           812,
           "Andre (1994)",
           1994,
           18
          ],
          [
           813,
           "Celluloid Closet, The (1995)",
           1996,
           56
          ],
          [
           814,
           "Great Day in Harlem, A (1994)",
           1994,
           1
          ],
          [
           815,
           "One Fine Day (1996)",
           1996,
           112
          ],
          [
           816,
           "Candyman: Farewell to the Flesh (1995)",
           1995,
           21
          ],
          [
           817,
           "Frisk (1995)",
           1996,
           3
          ],
          [
           818,
           "Girl 6 (1996)",
           1996,
           25
          ],
          [
           819,
           "Eddie (1996)",
           1996,
           40
          ],
          [
           820,
           "Space Jam (1996)",
           1996,
           93
          ],
          [
           821,
           "Mrs. Winterbourne (1996)",
           1996,
           22
          ],
          [
           822,
           "Faces (1968)",
           1968,
           4
          ],
          [
           823,
           "Mulholland Falls (1996)",
           1996,
           82
          ],
          [
           824,
           "Great White Hype, The (1996)",
           1996,
           49
          ],
          [
           825,
           "Arrival, The (1996)",
           1996,
           83
          ],
          [
           826,
           "Phantom, The (1996)",
           1996,
           80
          ],
          [
           827,
           "Daylight (1996)",
           1996,
           57
          ],
          [
           828,
           "Alaska (1996)",
           1996,
           13
          ],
          [
           829,
           "Fled (1996)",
           1996,
           34
          ],
          [
           830,
           "Power 98 (1995)",
           1996,
           1
          ],
          [
           831,
           "Escape from L.A. (1996)",
           1996,
           91
          ],
          [
           832,
           "Bogus (1996)",
           1996,
           22
          ],
          [
           833,
           "Bulletproof (1996)",
           1996,
           49
          ],
          [
           834,
           "Halloween: The Curse of Michael Myers (1995)",
           1995,
           25
          ],
          [
           835,
           "Gay Divorcee, The (1934)",
           1934,
           15
          ],
          [
           836,
           "Ninotchka (1939)",
           1939,
           26
          ],
          [
           837,
           "Meet John Doe (1941)",
           1941,
           25
          ],
          [
           838,
           "In the Line of Duty 2 (1987)",
           1996,
           4
          ],
          [
           839,
           "Loch Ness (1995)",
           1995,
           4
          ],
          [
           840,
           "Last Man Standing (1996)",
           1996,
           53
          ],
          [
           841,
           "Glimmer Man, The (1996)",
           1996,
           48
          ],
          [
           842,
           "Pollyanna (1960)",
           1960,
           27
          ],
          [
           843,
           "Shaggy Dog, The (1959)",
           1959,
           30
          ],
          [
           844,
           "Freeway (1996)",
           1996,
           42
          ],
          [
           845,
           "That Thing You Do! (1996)",
           1996,
           176
          ],
          [
           846,
           "To Gillian on Her 37th Birthday (1996)",
           1996,
           44
          ],
          [
           847,
           "Looking for Richard (1996)",
           1996,
           55
          ],
          [
           848,
           "Murder, My Sweet (1944)",
           1944,
           9
          ],
          [
           849,
           "Days of Thunder (1990)",
           1990,
           53
          ],
          [
           850,
           "Perfect Candidate, A (1996)",
           1996,
           4
          ],
          [
           851,
           "Two or Three Things I Know About Her (1966)",
           1966,
           4
          ],
          [
           852,
           "Bloody Child, The (1996)",
           1996,
           1
          ],
          [
           853,
           "Braindead (1992)",
           1992,
           14
          ],
          [
           854,
           "Bad Taste (1987)",
           1987,
           16
          ],
          [
           855,
           "Diva (1981)",
           1981,
           66
          ],
          [
           856,
           "Night on Earth (1991)",
           1991,
           36
          ],
          [
           857,
           "Paris Was a Woman (1995)",
           1996,
           1
          ],
          [
           858,
           "Amityville: Dollhouse (1996)",
           1996,
           3
          ],
          [
           859,
           "April Fool's Day (1986)",
           1986,
           15
          ],
          [
           860,
           "Believers, The (1987)",
           1987,
           16
          ],
          [
           861,
           "Nosferatu a Venezia (1986)",
           1986,
           3
          ],
          [
           862,
           "Jingle All the Way (1996)",
           1996,
           18
          ],
          [
           863,
           "Garden of Finzi-Contini, The (Giardino dei Finzi-Contini, Il) (1970)",
           1996,
           24
          ],
          [
           864,
           "My Fellow Americans (1996)",
           1996,
           86
          ],
          [
           865,
           "Ice Storm, The (1997)",
           1997,
           21
          ],
          [
           866,
           "Michael (1996)",
           1996,
           119
          ],
          [
           867,
           "Whole Wide World, The (1996)",
           1996,
           6
          ],
          [
           868,
           "Hearts and Minds (1996)",
           1997,
           5
          ],
          [
           869,
           "Fools Rush In (1997)",
           1997,
           24
          ],
          [
           870,
           "Touch (1997)",
           1997,
           9
          ],
          [
           871,
           "Vegas Vacation (1997)",
           1997,
           75
          ],
          [
           872,
           "Love Jones (1997)",
           1997,
           42
          ],
          [
           873,
           "Picture Perfect (1997)",
           1997,
           81
          ],
          [
           874,
           "Career Girls (1997)",
           1997,
           39
          ],
          [
           875,
           "She's So Lovely (1997)",
           1997,
           53
          ],
          [
           876,
           "Money Talks (1997)",
           1997,
           47
          ],
          [
           877,
           "Excess Baggage (1997)",
           1997,
           52
          ],
          [
           878,
           "That Darn Cat! (1997)",
           1997,
           33
          ],
          [
           879,
           "Peacemaker, The (1997)",
           1997,
           136
          ],
          [
           880,
           "Soul Food (1997)",
           1997,
           59
          ],
          [
           881,
           "Money Talks (1997)",
           1997,
           45
          ],
          [
           882,
           "Washington Square (1997)",
           1997,
           34
          ],
          [
           883,
           "Telling Lies in America (1997)",
           1997,
           13
          ],
          [
           884,
           "Year of the Horse (1997)",
           1997,
           7
          ],
          [
           885,
           "Phantoms (1998)",
           1998,
           13
          ],
          [
           886,
           "Life Less Ordinary, A (1997)",
           1997,
           53
          ],
          [
           887,
           "Eve's Bayou (1997)",
           1997,
           64
          ],
          [
           888,
           "One Night Stand (1997)",
           1997,
           15
          ],
          [
           889,
           "Tango Lesson, The (1997)",
           1997,
           13
          ],
          [
           890,
           "Mortal Kombat: Annihilation (1997)",
           1997,
           43
          ],
          [
           891,
           "Bent (1997)",
           1997,
           6
          ],
          [
           892,
           "Flubber (1997)",
           1997,
           53
          ],
          [
           893,
           "For Richer or Poorer (1997)",
           1997,
           14
          ],
          [
           894,
           "Home Alone 3 (1997)",
           1997,
           19
          ],
          [
           895,
           "Scream 2 (1997)",
           1997,
           106
          ],
          [
           896,
           "Sweet Hereafter, The (1997)",
           1997,
           44
          ],
          [
           897,
           "Time Tracers (1995)",
           1995,
           2
          ],
          [
           898,
           "Postman, The (1997)",
           1997,
           58
          ],
          [
           899,
           "Winter Guest, The (1997)",
           1997,
           9
          ],
          [
           900,
           "Kundun (1997)",
           1997,
           42
          ],
          [
           901,
           "Mr. Magoo (1997)",
           1997,
           12
          ],
          [
           902,
           "Big Lebowski, The (1998)",
           1997,
           42
          ],
          [
           903,
           "Afterglow (1997)",
           1997,
           18
          ],
          [
           904,
           "Ma vie en rose (My Life in Pink) (1997)",
           1997,
           20
          ],
          [
           905,
           "Great Expectations (1998)",
           1998,
           27
          ],
          [
           906,
           "Oscar & Lucinda (1997)",
           1997,
           21
          ],
          [
           907,
           "Vermin (1998)",
           1997,
           2
          ],
          [
           908,
           "Half Baked (1998)",
           1998,
           20
          ],
          [
           909,
           "Dangerous Beauty (1998)",
           1998,
           13
          ],
          [
           910,
           "Nil By Mouth (1997)",
           1998,
           4
          ],
          [
           911,
           "Twilight (1998)",
           1998,
           4
          ],
          [
           912,
           "U.S. Marshalls (1998)",
           1998,
           9
          ],
          [
           913,
           "Love and Death on Long Island (1997)",
           1998,
           2
          ],
          [
           914,
           "Wild Things (1998)",
           1998,
           11
          ],
          [
           915,
           "Primary Colors (1998)",
           1998,
           13
          ],
          [
           916,
           "Lost in Space (1998)",
           1998,
           18
          ],
          [
           917,
           "Mercury Rising (1998)",
           1998,
           7
          ],
          [
           918,
           "City of Angels (1998)",
           1998,
           8
          ],
          [
           919,
           "City of Lost Children, The (1995)",
           1995,
           96
          ],
          [
           920,
           "Two Bits (1995)",
           1995,
           5
          ],
          [
           921,
           "Farewell My Concubine (1993)",
           1993,
           46
          ],
          [
           922,
           "Dead Man (1995)",
           1996,
           34
          ],
          [
           923,
           "Raise the Red Lantern (1991)",
           1991,
           58
          ],
          [
           924,
           "White Squall (1996)",
           1996,
           85
          ],
          [
           925,
           "Unforgettable (1996)",
           1996,
           34
          ],
          [
           926,
           "Down Periscope (1996)",
           1996,
           101
          ],
          [
           927,
           "Flower of My Secret, The (Flor de mi secreto, La) (1995)",
           1996,
           6
          ],
          [
           928,
           "Craft, The (1996)",
           1996,
           104
          ],
          [
           929,
           "Harriet the Spy (1996)",
           1996,
           40
          ],
          [
           930,
           "Chain Reaction (1996)",
           1996,
           80
          ],
          [
           931,
           "Island of Dr. Moreau, The (1996)",
           1996,
           57
          ],
          [
           932,
           "First Kid (1996)",
           1996,
           40
          ],
          [
           933,
           "Funeral, The (1996)",
           1996,
           21
          ],
          [
           934,
           "Preacher's Wife, The (1996)",
           1996,
           68
          ],
          [
           935,
           "Paradise Road (1997)",
           1997,
           7
          ],
          [
           936,
           "Brassed Off (1996)",
           1997,
           32
          ],
          [
           937,
           "Thousand Acres, A (1997)",
           1997,
           37
          ],
          [
           938,
           "Smile Like Yours, A (1997)",
           1997,
           25
          ],
          [
           939,
           "Murder in the First (1995)",
           1995,
           60
          ],
          [
           940,
           "Airheads (1994)",
           1994,
           32
          ],
          [
           941,
           "With Honors (1994)",
           1994,
           46
          ],
          [
           942,
           "What's Love Got to Do with It (1993)",
           1993,
           45
          ],
          [
           943,
           "Killing Zoe (1994)",
           1994,
           40
          ],
          [
           944,
           "Renaissance Man (1994)",
           1994,
           43
          ],
          [
           945,
           "Charade (1963)",
           1963,
           40
          ],
          [
           946,
           "Fox and the Hound, The (1981)",
           1981,
           61
          ],
          [
           947,
           "Big Blue, The (Grand bleu, Le) (1988)",
           1988,
           17
          ],
          [
           948,
           "Booty Call (1997)",
           1997,
           48
          ],
          [
           949,
           "How to Make an American Quilt (1995)",
           1995,
           71
          ],
          [
           950,
           "Georgia (1995)",
           1995,
           30
          ],
          [
           951,
           "Indian in the Cupboard, The (1995)",
           1995,
           39
          ],
          [
           952,
           "Blue in the Face (1995)",
           1995,
           45
          ],
          [
           953,
           "Unstrung Heroes (1995)",
           1995,
           22
          ],
          [
           954,
           "Unzipped (1995)",
           1995,
           11
          ],
          [
           955,
           "Before Sunrise (1995)",
           1995,
           49
          ],
          [
           956,
           "Nobody's Fool (1994)",
           1994,
           46
          ],
          [
           957,
           "Pushing Hands (1992)",
           1992,
           2
          ],
          [
           958,
           "To Live (Huozhe) (1994)",
           1994,
           14
          ],
          [
           959,
           "Dazed and Confused (1993)",
           1993,
           64
          ],
          [
           960,
           "Naked (1993)",
           1993,
           25
          ],
          [
           961,
           "Orlando (1993)",
           1993,
           34
          ],
          [
           962,
           "Ruby in Paradise (1993)",
           1993,
           23
          ],
          [
           963,
           "Some Folks Call It a Sling Blade (1993)",
           1993,
           41
          ],
          [
           964,
           "Month by the Lake, A (1995)",
           1995,
           9
          ],
          [
           965,
           "Funny Face (1957)",
           1957,
           21
          ],
          [
           966,
           "Affair to Remember, An (1957)",
           1957,
           26
          ],
          [
           967,
           "Little Lord Fauntleroy (1936)",
           1936,
           12
          ],
          [
           968,
           "Inspector General, The (1949)",
           1949,
           18
          ],
          [
           969,
           "Winnie the Pooh and the Blustery Day (1968)",
           1968,
           75
          ],
          [
           970,
           "Hear My Song (1991)",
           1991,
           8
          ],
          [
           971,
           "Mediterraneo (1991)",
           1991,
           34
          ],
          [
           972,
           "Passion Fish (1992)",
           1992,
           28
          ],
          [
           973,
           "Grateful Dead (1995)",
           1996,
           4
          ],
          [
           974,
           "Eye for an Eye (1996)",
           1996,
           32
          ],
          [
           975,
           "Fear (1996)",
           1996,
           44
          ],
          [
           976,
           "Solo (1996)",
           1996,
           12
          ],
          [
           977,
           "Substitute, The (1996)",
           1996,
           49
          ],
          [
           978,
           "Heaven's Prisoners (1996)",
           1996,
           27
          ],
          [
           979,
           "Trigger Effect, The (1996)",
           1996,
           35
          ],
          [
           980,
           "Mother Night (1996)",
           1996,
           22
          ],
          [
           981,
           "Dangerous Ground (1997)",
           1996,
           8
          ],
          [
           982,
           "Maximum Risk (1996)",
           1996,
           20
          ],
          [
           983,
           "Rich Man's Wife, The (1996)",
           1996,
           15
          ],
          [
           984,
           "Shadow Conspiracy (1997)",
           1997,
           44
          ],
          [
           985,
           "Blood & Wine (1997)",
           1996,
           22
          ],
          [
           986,
           "Turbulence (1997)",
           1997,
           23
          ],
          [
           987,
           "Underworld (1997)",
           1997,
           4
          ],
          [
           988,
           "Beautician and the Beast, The (1997)",
           1997,
           86
          ],
          [
           989,
           "Cats Don't Dance (1997)",
           1997,
           32
          ],
          [
           990,
           "Anna Karenina (1997)",
           1997,
           33
          ],
          [
           991,
           "Keys to Tulsa (1997)",
           1997,
           25
          ],
          [
           992,
           "Head Above Water (1996)",
           1997,
           4
          ],
          [
           993,
           "Hercules (1997)",
           1997,
           66
          ],
          [
           994,
           "Last Time I Committed Suicide, The (1997)",
           1997,
           7
          ],
          [
           995,
           "Kiss Me, Guido (1997)",
           1997,
           31
          ],
          [
           996,
           "Big Green, The (1995)",
           1995,
           14
          ],
          [
           997,
           "Stuart Saves His Family (1995)",
           1995,
           16
          ],
          [
           998,
           "Cabin Boy (1994)",
           1994,
           16
          ],
          [
           999,
           "Clean Slate (1994)",
           1994,
           10
          ],
          [
           1000,
           "Lightning Jack (1994)",
           1994,
           10
          ],
          [
           1001,
           "Stupids, The (1996)",
           1996,
           17
          ],
          [
           1002,
           "Pest, The (1997)",
           1997,
           8
          ],
          [
           1003,
           "That Darn Cat! (1997)",
           1997,
           8
          ],
          [
           1004,
           "Geronimo: An American Legend (1993)",
           1993,
           9
          ],
          [
           1005,
           "Double vie de Véronique, La (Double Life of Veronique, The) (1991)",
           1991,
           22
          ],
          [
           1006,
           "Until the End of the World (Bis ans Ende der Welt) (1991)",
           1991,
           23
          ],
          [
           1007,
           "Waiting for Guffman (1996)",
           1997,
           47
          ],
          [
           1008,
           "I Shot Andy Warhol (1996)",
           1996,
           37
          ],
          [
           1009,
           "Stealing Beauty (1996)",
           1996,
           64
          ],
          [
           1010,
           "Basquiat (1996)",
           1996,
           44
          ],
          [
           1011,
           "2 Days in the Valley (1996)",
           1996,
           93
          ],
          [
           1012,
           "Private Parts (1997)",
           1997,
           100
          ],
          [
           1013,
           "Anaconda (1997)",
           1997,
           38
          ],
          [
           1014,
           "Romy and Michele's High School Reunion (1997)",
           1997,
           98
          ],
          [
           1015,
           "Shiloh (1997)",
           1997,
           12
          ],
          [
           1016,
           "Con Air (1997)",
           1997,
           137
          ],
          [
           1017,
           "Trees Lounge (1996)",
           1996,
           50
          ],
          [
           1018,
           "Tie Me Up! Tie Me Down! (1990)",
           1990,
           32
          ],
          [
           1019,
           "Die xue shuang xiong (Killer, The) (1989)",
           1989,
           31
          ],
          [
           1020,
           "Gaslight (1944)",
           1944,
           35
          ],
          [
           1021,
           "8 1/2 (1963)",
           1963,
           38
          ],
          [
           1022,
           "Fast, Cheap & Out of Control (1997)",
           1997,
           32
          ],
          [
           1023,
           "Fathers' Day (1997)",
           1997,
           31
          ],
          [
           1024,
           "Mrs. Dalloway (1997)",
           1997,
           15
          ],
          [
           1025,
           "Fire Down Below (1997)",
           1997,
           44
          ],
          [
           1026,
           "Lay of the Land, The (1997)",
           1997,
           4
          ],
          [
           1027,
           "Shooter, The (1995)",
           1995,
           3
          ],
          [
           1028,
           "Grumpier Old Men (1995)",
           1995,
           148
          ],
          [
           1029,
           "Jury Duty (1995)",
           1995,
           14
          ],
          [
           1030,
           "Beverly Hillbillies, The (1993)",
           1993,
           20
          ],
          [
           1031,
           "Lassie (1994)",
           1994,
           7
          ],
          [
           1032,
           "Little Big League (1994)",
           1994,
           16
          ],
          [
           1033,
           "Homeward Bound II: Lost in San Francisco (1996)",
           1996,
           32
          ],
          [
           1034,
           "Quest, The (1996)",
           1996,
           27
          ],
          [
           1035,
           "Cool Runnings (1993)",
           1993,
           68
          ],
          [
           1036,
           "Drop Dead Fred (1991)",
           1991,
           24
          ],
          [
           1037,
           "Grease 2 (1982)",
           1982,
           24
          ],
          [
           1038,
           "Switchback (1997)",
           1997,
           17
          ],
          [
           1039,
           "Hamlet (1996)",
           1997,
           90
          ],
          [
           1040,
           "Two if by Sea (1996)",
           1996,
           25
          ],
          [
           1041,
           "Forget Paris (1995)",
           1995,
           62
          ],
          [
           1042,
           "Just Cause (1995)",
           1995,
           28
          ],
          [
           1043,
           "Rent-a-Kid (1995)",
           1995,
           8
          ],
          [
           1044,
           "Paper, The (1994)",
           1994,
           40
          ],
          [
           1045,
           "Fearless (1993)",
           1993,
           25
          ],
          [
           1046,
           "Malice (1993)",
           1993,
           46
          ],
          [
           1047,
           "Multiplicity (1996)",
           1996,
           134
          ],
          [
           1048,
           "She's the One (1996)",
           1996,
           73
          ],
          [
           1049,
           "House Arrest (1996)",
           1996,
           25
          ],
          [
           1050,
           "Ghost and Mrs. Muir, The (1947)",
           1947,
           43
          ],
          [
           1051,
           "Associate, The (1996)",
           1996,
           41
          ],
          [
           1052,
           "Dracula: Dead and Loving It (1995)",
           1995,
           25
          ],
          [
           1053,
           "Now and Then (1995)",
           1995,
           24
          ],
          [
           1054,
           "Mr. Wrong (1996)",
           1996,
           23
          ],
          [
           1055,
           "Simple Twist of Fate, A (1994)",
           1994,
           10
          ],
          [
           1056,
           "Cronos (1992)",
           1992,
           10
          ],
          [
           1057,
           "Pallbearer, The (1996)",
           1996,
           22
          ],
          [
           1058,
           "War, The (1994)",
           1994,
           15
          ],
          [
           1059,
           "Don't Be a Menace to South Central While Drinking Your Juice in the Hood (1996)",
           1996,
           35
          ],
          [
           1060,
           "Adventures of Pinocchio, The (1996)",
           1996,
           39
          ],
          [
           1061,
           "Evening Star, The (1996)",
           1996,
           29
          ],
          [
           1062,
           "Four Days in September (1997)",
           1998,
           12
          ],
          [
           1063,
           "Little Princess, A (1995)",
           1995,
           41
          ],
          [
           1064,
           "Crossfire (1947)",
           1947,
           4
          ],
          [
           1065,
           "Koyaanisqatsi (1983)",
           1983,
           53
          ],
          [
           1066,
           "Balto (1995)",
           1995,
           16
          ],
          [
           1067,
           "Bottle Rocket (1996)",
           1996,
           44
          ],
          [
           1068,
           "Star Maker, The (Uomo delle stelle, L') (1995)",
           1996,
           12
          ],
          [
           1069,
           "Amateur (1994)",
           1994,
           18
          ],
          [
           1070,
           "Living in Oblivion (1995)",
           1995,
           27
          ],
          [
           1071,
           "Party Girl (1995)",
           1995,
           16
          ],
          [
           1072,
           "Pyromaniac's Love Story, A (1995)",
           1995,
           7
          ],
          [
           1073,
           "Shallow Grave (1994)",
           1994,
           66
          ],
          [
           1074,
           "Reality Bites (1994)",
           1994,
           77
          ],
          [
           1075,
           "Man of No Importance, A (1994)",
           1994,
           7
          ],
          [
           1076,
           "Pagemaster, The (1994)",
           1994,
           12
          ],
          [
           1077,
           "Love and a .45 (1994)",
           1994,
           8
          ],
          [
           1078,
           "Oliver & Company (1988)",
           1988,
           22
          ],
          [
           1079,
           "Joe's Apartment (1996)",
           1996,
           45
          ],
          [
           1080,
           "Celestial Clockwork (1994)",
           1996,
           2
          ],
          [
           1081,
           "Curdled (1996)",
           1996,
           8
          ],
          [
           1082,
           "Female Perversions (1996)",
           1997,
           8
          ],
          [
           1083,
           "Albino Alligator (1996)",
           1997,
           6
          ],
          [
           1084,
           "Anne Frank Remembered (1995)",
           1996,
           21
          ],
          [
           1085,
           "Carried Away (1996)",
           1996,
           11
          ],
          [
           1086,
           "It's My Party (1995)",
           1996,
           21
          ],
          [
           1087,
           "Bloodsport 2 (1995)",
           1996,
           10
          ],
          [
           1088,
           "Double Team (1997)",
           1997,
           13
          ],
          [
           1089,
           "Speed 2: Cruise Control (1997)",
           1997,
           38
          ],
          [
           1090,
           "Sliver (1993)",
           1993,
           37
          ],
          [
           1091,
           "Pete's Dragon (1977)",
           1977,
           43
          ],
          [
           1092,
           "Dear God (1996)",
           1996,
           12
          ],
          [
           1093,
           "Live Nude Girls (1995)",
           1996,
           23
          ],
          [
           1094,
           "Thin Line Between Love and Hate, A (1996)",
           1996,
           12
          ],
          [
           1095,
           "High School High (1996)",
           1996,
           29
          ],
          [
           1096,
           "Commandments (1997)",
           1997,
           3
          ],
          [
           1097,
           "Hate (Haine, La) (1995)",
           1996,
           18
          ],
          [
           1098,
           "Flirting With Disaster (1996)",
           1996,
           42
          ],
          [
           1099,
           "Red Firecracker, Green Firecracker (1994)",
           1994,
           13
          ],
          [
           1100,
           "What Happened Was... (1994)",
           1994,
           8
          ],
          [
           1101,
           "Six Degrees of Separation (1993)",
           1993,
           74
          ],
          [
           1102,
           "Two Much (1996)",
           1996,
           7
          ],
          [
           1103,
           "Trust (1990)",
           1990,
           19
          ],
          [
           1104,
           "C'est arrivé près de chez vous (1992)",
           1992,
           4
          ],
          [
           1105,
           "Firestorm (1998)",
           1998,
           18
          ],
          [
           1106,
           "Newton Boys, The (1998)",
           1998,
           4
          ],
          [
           1107,
           "Beyond Rangoon (1995)",
           1995,
           18
          ],
          [
           1108,
           "Feast of July (1995)",
           1995,
           5
          ],
          [
           1109,
           "Death and the Maiden (1994)",
           1994,
           28
          ],
          [
           1110,
           "Tank Girl (1995)",
           1995,
           41
          ],
          [
           1111,
           "Double Happiness (1994)",
           1996,
           7
          ],
          [
           1112,
           "Cobb (1994)",
           1994,
           15
          ],
          [
           1113,
           "Mrs. Parker and the Vicious Circle (1994)",
           1994,
           22
          ],
          [
           1114,
           "Faithful (1996)",
           1996,
           10
          ],
          [
           1115,
           "Twelfth Night (1996)",
           1996,
           29
          ],
          [
           1116,
           "Mark of Zorro, The (1940)",
           1940,
           13
          ],
          [
           1117,
           "Surviving Picasso (1996)",
           1996,
           19
          ],
          [
           1118,
           "Up in Smoke (1978)",
           1978,
           47
          ],
          [
           1119,
           "Some Kind of Wonderful (1987)",
           1987,
           59
          ],
          [
           1120,
           "I'm Not Rappaport (1996)",
           1996,
           17
          ],
          [
           1121,
           "Umbrellas of Cherbourg, The (Parapluies de Cherbourg, Les) (1964)",
           1996,
           21
          ],
          [
           1122,
           "They Made Me a Criminal (1939)",
           1939,
           1
          ],
          [
           1123,
           "Last Time I Saw Paris, The (1954)",
           1954,
           3
          ],
          [
           1124,
           "Farewell to Arms, A (1932)",
           1932,
           12
          ],
          [
           1125,
           "Innocents, The (1961)",
           1961,
           4
          ],
          [
           1126,
           "Old Man and the Sea, The (1958)",
           1958,
           32
          ],
          [
           1127,
           "Truman Show, The (1998)",
           1998,
           11
          ],
          [
           1128,
           "Heidi Fleiss: Hollywood Madam (1995) ",
           1996,
           13
          ],
          [
           1129,
           "Chungking Express (1994)",
           1996,
           28
          ],
          [
           1130,
           "Jupiter's Wife (1994)",
           1996,
           1
          ],
          [
           1131,
           "Safe (1995)",
           1995,
           13
          ],
          [
           1132,
           "Feeling Minnesota (1996)",
           1996,
           32
          ],
          [
           1133,
           "Escape to Witch Mountain (1975)",
           1975,
           30
          ],
          [
           1134,
           "Get on the Bus (1996)",
           1996,
           38
          ],
          [
           1135,
           "Doors, The (1991)",
           1991,
           46
          ],
          [
           1136,
           "Ghosts of Mississippi (1996)",
           1996,
           29
          ],
          [
           1137,
           "Beautiful Thing (1996)",
           1996,
           29
          ],
          [
           1138,
           "Best Men (1997)",
           1997,
           5
          ],
          [
           1139,
           "Hackers (1995)",
           1995,
           33
          ],
          [
           1140,
           "Road to Wellville, The (1994)",
           1994,
           17
          ],
          [
           1141,
           "War Room, The (1993)",
           1993,
           9
          ],
          [
           1142,
           "When We Were Kings (1996)",
           1997,
           44
          ],
          [
           1143,
           "Hard Eight (1996)",
           1997,
           15
          ],
          [
           1144,
           "Quiet Room, The (1996)",
           1997,
           3
          ],
          [
           1145,
           "Blue Chips (1994)",
           1994,
           9
          ],
          [
           1146,
           "Calendar Girl (1993)",
           1993,
           3
          ],
          [
           1147,
           "My Family (1995)",
           1995,
           21
          ],
          [
           1148,
           "Tom & Viv (1994)",
           1994,
           9
          ],
          [
           1149,
           "Walkabout (1971)",
           1971,
           26
          ],
          [
           1150,
           "Last Dance (1996)",
           1996,
           9
          ],
          [
           1151,
           "Original Gangstas (1996)",
           1996,
           7
          ],
          [
           1152,
           "In Love and War (1996)",
           1997,
           28
          ],
          [
           1153,
           "Backbeat (1993)",
           1993,
           19
          ],
          [
           1154,
           "Alphaville (1965)",
           1965,
           12
          ],
          [
           1155,
           "Rendezvous in Paris (Rendez-vous de Paris, Les) (1995)",
           1996,
           3
          ],
          [
           1156,
           "Cyclo (1995)",
           1996,
           1
          ],
          [
           1157,
           "Relic, The (1997)",
           1997,
           25
          ],
          [
           1158,
           "Fille seule, La (A Single Girl) (1995)",
           1996,
           4
          ],
          [
           1159,
           "Stalker (1979)",
           1979,
           11
          ],
          [
           1160,
           "Love! Valour! Compassion! (1997)",
           1997,
           26
          ],
          [
           1161,
           "Palookaville (1996)",
           1996,
           13
          ],
          [
           1162,
           "Phat Beach (1996)",
           1996,
           5
          ],
          [
           1163,
           "Portrait of a Lady, The (1996)",
           1996,
           25
          ],
          [
           1164,
           "Zeus and Roxanne (1997)",
           1997,
           6
          ],
          [
           1165,
           "Big Bully (1996)",
           1996,
           14
          ],
          [
           1166,
           "Love & Human Remains (1993)",
           1993,
           12
          ],
          [
           1167,
           "Sum of Us, The (1994)",
           1994,
           11
          ],
          [
           1168,
           "Little Buddha (1993)",
           1993,
           22
          ],
          [
           1169,
           "Fresh (1994)",
           1994,
           10
          ],
          [
           1170,
           "Spanking the Monkey (1994)",
           1994,
           27
          ],
          [
           1171,
           "Wild Reeds (1994)",
           1994,
           14
          ],
          [
           1172,
           "Women, The (1939)",
           1939,
           15
          ],
          [
           1173,
           "Bliss (1997)",
           1997,
           7
          ],
          [
           1174,
           "Caught (1996)",
           1996,
           8
          ],
          [
           1175,
           "Hugo Pool (1997)",
           1997,
           5
          ],
          [
           1176,
           "Welcome To Sarajevo (1997)",
           1997,
           22
          ],
          [
           1177,
           "Dunston Checks In (1996)",
           1996,
           7
          ],
          [
           1178,
           "Major Payne (1994)",
           1994,
           19
          ],
          [
           1179,
           "Man of the House (1995)",
           1995,
           9
          ],
          [
           1180,
           "I Love Trouble (1994)",
           1994,
           10
          ],
          [
           1181,
           "Low Down Dirty Shame, A (1994)",
           1994,
           10
          ],
          [
           1182,
           "Cops and Robbersons (1994)",
           1994,
           13
          ],
          [
           1183,
           "Cowboy Way, The (1994)",
           1994,
           19
          ],
          [
           1184,
           "Endless Summer 2, The (1994)",
           1994,
           10
          ],
          [
           1185,
           "In the Army Now (1994)",
           1994,
           18
          ],
          [
           1186,
           "Inkwell, The (1994)",
           1994,
           3
          ],
          [
           1187,
           "Switchblade Sisters (1975)",
           1975,
           13
          ],
          [
           1188,
           "Young Guns II (1990)",
           1990,
           44
          ],
          [
           1189,
           "Prefontaine (1997)",
           1997,
           3
          ],
          [
           1190,
           "That Old Feeling (1997)",
           1997,
           11
          ],
          [
           1191,
           "Letter From Death Row, A (1998)",
           1998,
           3
          ],
          [
           1192,
           "Boys of St. Vincent, The (1993)",
           1993,
           13
          ],
          [
           1193,
           "Before the Rain (Pred dozhdot) (1994)",
           1994,
           10
          ],
          [
           1194,
           "Once Were Warriors (1994)",
           1994,
           31
          ],
          [
           1195,
           "Strawberry and Chocolate (Fresa y chocolate) (1993)",
           1993,
           11
          ],
          [
           1196,
           "Savage Nights (Nuits fauves, Les) (1992)",
           1992,
           3
          ],
          [
           1197,
           "Family Thing, A (1996)",
           1996,
           45
          ],
          [
           1198,
           "Purple Noon (1960)",
           1960,
           7
          ],
          [
           1199,
           "Cemetery Man (Dellamorte Dellamore) (1994)",
           1996,
           23
          ],
          [
           1200,
           "Kim (1950)",
           1950,
           7
          ],
          [
           1201,
           "Marlene Dietrich: Shadow and Light (1996) ",
           1996,
           1
          ],
          [
           1202,
           "Maybe, Maybe Not (Bewegte Mann, Der) (1994)",
           1996,
           8
          ],
          [
           1203,
           "Top Hat (1935)",
           1935,
           21
          ],
          [
           1204,
           "To Be or Not to Be (1942)",
           1942,
           18
          ],
          [
           1205,
           "Secret Agent, The (1996)",
           1996,
           6
          ],
          [
           1206,
           "Amos & Andrew (1993)",
           1993,
           19
          ],
          [
           1207,
           "Jade (1995)",
           1995,
           17
          ],
          [
           1208,
           "Kiss of Death (1995)",
           1995,
           20
          ],
          [
           1209,
           "Mixed Nuts (1994)",
           1994,
           15
          ],
          [
           1210,
           "Virtuosity (1995)",
           1995,
           38
          ],
          [
           1211,
           "Blue Sky (1994)",
           1994,
           12
          ],
          [
           1212,
           "Flesh and Bone (1993)",
           1993,
           6
          ],
          [
           1213,
           "Guilty as Sin (1993)",
           1993,
           6
          ],
          [
           1214,
           "In the Realm of the Senses (Ai no corrida) (1976)",
           1976,
           9
          ],
          [
           1215,
           "Barb Wire (1996)",
           1996,
           30
          ],
          [
           1216,
           "Kissed (1996)",
           1997,
           6
          ],
          [
           1217,
           "Assassins (1995)",
           1995,
           39
          ],
          [
           1218,
           "Friday (1995)",
           1995,
           26
          ],
          [
           1219,
           "Goofy Movie, A (1995)",
           1995,
           20
          ],
          [
           1220,
           "Higher Learning (1995)",
           1995,
           30
          ],
          [
           1221,
           "When a Man Loves a Woman (1994)",
           1994,
           39
          ],
          [
           1222,
           "Judgment Night (1993)",
           1993,
           25
          ],
          [
           1223,
           "King of the Hill (1993)",
           1993,
           4
          ],
          [
           1224,
           "Scout, The (1994)",
           1994,
           12
          ],
          [
           1225,
           "Angus (1995)",
           1995,
           14
          ],
          [
           1226,
           "Night Falls on Manhattan (1997)",
           1997,
           32
          ],
          [
           1227,
           "Awfully Big Adventure, An (1995)",
           1995,
           8
          ],
          [
           1228,
           "Under Siege 2: Dark Territory (1995)",
           1995,
           48
          ],
          [
           1229,
           "Poison Ivy II (1995)",
           1995,
           13
          ],
          [
           1230,
           "Ready to Wear (Pret-A-Porter) (1994)",
           1994,
           18
          ],
          [
           1231,
           "Marked for Death (1990)",
           1990,
           22
          ],
          [
           1232,
           "Madonna: Truth or Dare (1991)",
           1991,
           17
          ],
          [
           1233,
           "Nénette et Boni (1996)",
           1996,
           6
          ],
          [
           1234,
           "Chairman of the Board (1998)",
           1998,
           8
          ],
          [
           1235,
           "Big Bang Theory, The (1994)",
           1994,
           1
          ],
          [
           1236,
           "Other Voices, Other Rooms (1997)",
           1997,
           1
          ],
          [
           1237,
           "Twisted (1996)",
           1996,
           6
          ],
          [
           1238,
           "Full Speed (1996)",
           1996,
           8
          ],
          [
           1239,
           "Cutthroat Island (1995)",
           1995,
           18
          ],
          [
           1240,
           "Ghost in the Shell (Kokaku kidotai) (1995)",
           1996,
           26
          ],
          [
           1241,
           "Van, The (1996)",
           1997,
           6
          ],
          [
           1242,
           "Old Lady Who Walked in the Sea, The (Vieille qui marchait dans la mer, La) (1991)",
           1991,
           5
          ],
          [
           1243,
           "Night Flier (1997)",
           1998,
           7
          ],
          [
           1244,
           "Metro (1997)",
           1997,
           36
          ],
          [
           1245,
           "Gridlock'd (1997)",
           1997,
           19
          ],
          [
           1246,
           "Bushwhacked (1995)",
           1995,
           7
          ],
          [
           1247,
           "Bad Girls (1994)",
           1994,
           6
          ],
          [
           1248,
           "Blink (1994)",
           1994,
           19
          ],
          [
           1249,
           "For Love or Money (1993)",
           1993,
           12
          ],
          [
           1250,
           "Best of the Best 3: No Turning Back (1995)",
           1995,
           6
          ],
          [
           1251,
           "A Chef in Love (1996)",
           1997,
           8
          ],
          [
           1252,
           "Contempt (Mépris, Le) (1963)",
           1997,
           9
          ],
          [
           1253,
           "Tie That Binds, The (1995)",
           1995,
           7
          ],
          [
           1254,
           "Gone Fishin' (1997)",
           1997,
           11
          ],
          [
           1255,
           "Broken English (1996)",
           1997,
           8
          ],
          [
           1256,
           "Designated Mourner, The (1997)",
           1997,
           3
          ],
          [
           1257,
           "Designated Mourner, The (1997)",
           1997,
           4
          ],
          [
           1258,
           "Trial and Error (1997)",
           1997,
           23
          ],
          [
           1259,
           "Pie in the Sky (1995)",
           1996,
           4
          ],
          [
           1260,
           "Total Eclipse (1995)",
           1995,
           4
          ],
          [
           1261,
           "Run of the Country, The (1995)",
           1995,
           4
          ],
          [
           1262,
           "Walking and Talking (1996)",
           1996,
           8
          ],
          [
           1263,
           "Foxfire (1996)",
           1996,
           15
          ],
          [
           1264,
           "Nothing to Lose (1994)",
           1996,
           7
          ],
          [
           1265,
           "Star Maps (1997)",
           1997,
           19
          ],
          [
           1266,
           "Bread and Chocolate (Pane e cioccolata) (1973)",
           1973,
           12
          ],
          [
           1267,
           "Clockers (1995)",
           1995,
           33
          ],
          [
           1268,
           "Bitter Moon (1992)",
           1992,
           10
          ],
          [
           1269,
           "Love in the Afternoon (1957)",
           1957,
           10
          ],
          [
           1270,
           "Life with Mikey (1993)",
           1993,
           7
          ],
          [
           1271,
           "North (1994)",
           1994,
           7
          ],
          [
           1272,
           "Talking About Sex (1994)",
           1994,
           5
          ],
          [
           1273,
           "Color of Night (1994)",
           1994,
           15
          ],
          [
           1274,
           "Robocop 3 (1993)",
           1993,
           11
          ],
          [
           1275,
           "Killer (Bulletproof Heart) (1994)",
           1994,
           4
          ],
          [
           1276,
           "Sunset Park (1996)",
           1996,
           8
          ],
          [
           1277,
           "Set It Off (1996)",
           1996,
           19
          ],
          [
           1278,
           "Selena (1997)",
           1997,
           16
          ],
          [
           1279,
           "Wild America (1997)",
           1997,
           9
          ],
          [
           1280,
           "Gang Related (1997)",
           1997,
           16
          ],
          [
           1281,
           "Manny & Lo (1996)",
           1996,
           13
          ],
          [
           1282,
           "Grass Harp, The (1995)",
           1996,
           9
          ],
          [
           1283,
           "Out to Sea (1997)",
           1997,
           19
          ],
          [
           1284,
           "Before and After (1996)",
           1996,
           26
          ],
          [
           1285,
           "Princess Caraboo (1994)",
           1994,
           15
          ],
          [
           1286,
           "Shall We Dance? (1937)",
           1937,
           17
          ],
          [
           1287,
           "Ed (1996)",
           1996,
           6
          ],
          [
           1288,
           "Denise Calls Up (1995)",
           1996,
           7
          ],
          [
           1289,
           "Jack and Sarah (1995)",
           1996,
           7
          ],
          [
           1290,
           "Country Life (1994)",
           1994,
           2
          ],
          [
           1291,
           "Celtic Pride (1996)",
           1996,
           15
          ],
          [
           1292,
           "Simple Wish, A (1997)",
           1997,
           3
          ],
          [
           1293,
           "Star Kid (1997)",
           1998,
           3
          ],
          [
           1294,
           "Ayn Rand: A Sense of Life (1997)",
           1998,
           7
          ],
          [
           1295,
           "Kicked in the Head (1997)",
           1997,
           7
          ],
          [
           1296,
           "Indian Summer (1996)",
           1996,
           20
          ],
          [
           1297,
           "Love Affair (1994)",
           1994,
           12
          ],
          [
           1298,
           "Band Wagon, The (1953)",
           1953,
           9
          ],
          [
           1299,
           "Penny Serenade (1941)",
           1941,
           8
          ],
          [
           1300,
           "'Til There Was You (1997)",
           1997,
           9
          ],
          [
           1301,
           "Stripes (1981)",
           1981,
           5
          ],
          [
           1302,
           "Late Bloomers (1996)",
           1997,
           5
          ],
          [
           1303,
           "Getaway, The (1994)",
           1994,
           18
          ],
          [
           1304,
           "New York Cop (1996)",
           1996,
           2
          ],
          [
           1305,
           "National Lampoon's Senior Trip (1995)",
           1995,
           7
          ],
          [
           1306,
           "Delta of Venus (1994)",
           1994,
           2
          ],
          [
           1307,
           "Carmen Miranda: Bananas Is My Business (1994)",
           1994,
           2
          ],
          [
           1308,
           "Babyfever (1994)",
           1994,
           2
          ],
          [
           1309,
           "Very Natural Thing, A (1974)",
           1974,
           1
          ],
          [
           1310,
           "Walk in the Sun, A (1945)",
           1945,
           1
          ],
          [
           1311,
           "Waiting to Exhale (1995)",
           1996,
           16
          ],
          [
           1312,
           "Pompatus of Love, The (1996)",
           1996,
           7
          ],
          [
           1313,
           "Palmetto (1998)",
           1998,
           14
          ],
          [
           1314,
           "Surviving the Game (1994)",
           1994,
           11
          ],
          [
           1315,
           "Inventing the Abbotts (1997)",
           1997,
           23
          ],
          [
           1316,
           "Horse Whisperer, The (1998)",
           1997,
           7
          ],
          [
           1317,
           "Journey of August King, The (1995)",
           1996,
           4
          ],
          [
           1318,
           "Catwalk (1995)",
           1996,
           3
          ],
          [
           1319,
           "Neon Bible, The (1995)",
           1996,
           4
          ],
          [
           1320,
           "Homage (1995)",
           1996,
           1
          ],
          [
           1321,
           "Open Season (1996)",
           1996,
           2
          ],
          [
           1322,
           "Metisse (Café au Lait) (1993)",
           1993,
           6
          ],
          [
           1323,
           "Wooden Man's Bride, The (Wu Kui) (1994)",
           1994,
           3
          ],
          [
           1324,
           "Loaded (1994)",
           1996,
           5
          ],
          [
           1325,
           "August (1996)",
           1996,
           1
          ],
          [
           1326,
           "Boys (1996)",
           1996,
           6
          ],
          [
           1327,
           "Captives (1994)",
           1994,
           3
          ],
          [
           1328,
           "Of Love and Shadows (1994)",
           1996,
           6
          ],
          [
           1329,
           "Low Life, The (1994)",
           1996,
           1
          ],
          [
           1330,
           "An Unforgettable Summer (1994)",
           1994,
           4
          ],
          [
           1331,
           "Last Klezmer: Leopold Kozlowski, His Life and Music, The (1995)",
           1995,
           4
          ],
          [
           1332,
           "My Life and Times With Antonin Artaud (En compagnie d'Antonin Artaud) (1993)",
           1993,
           2
          ],
          [
           1333,
           "Midnight Dancers (Sibak) (1994)",
           1994,
           5
          ],
          [
           1334,
           "Somebody to Love (1994)",
           1996,
           2
          ],
          [
           1335,
           "American Buffalo (1996)",
           1996,
           11
          ],
          [
           1336,
           "Kazaam (1996)",
           1996,
           10
          ],
          [
           1337,
           "Larger Than Life (1996)",
           1996,
           9
          ],
          [
           1338,
           "Two Deaths (1995)",
           1996,
           4
          ],
          [
           1339,
           "Stefano Quantestorie (1993)",
           1993,
           1
          ],
          [
           1340,
           "Crude Oasis, The (1995)",
           1995,
           1
          ],
          [
           1341,
           "Hedd Wyn (1992)",
           1992,
           1
          ],
          [
           1342,
           "Convent, The (Convento, O) (1995)",
           1996,
           2
          ],
          [
           1343,
           "Lotto Land (1995)",
           1995,
           1
          ],
          [
           1344,
           "Story of Xinghua, The (1993)",
           1993,
           5
          ],
          [
           1345,
           "Day the Sun Turned Cold, The (Tianguo niezi) (1994)",
           1994,
           2
          ],
          [
           1346,
           "Dingo (1992)",
           1992,
           5
          ],
          [
           1347,
           "Ballad of Narayama, The (Narayama Bushiko) (1958)",
           1958,
           4
          ],
          [
           1348,
           "Every Other Weekend (1990)",
           1990,
           1
          ],
          [
           1349,
           "Mille bolle blu (1993)",
           1993,
           1
          ],
          [
           1350,
           "Crows and Sparrows (1949)",
           1949,
           2
          ],
          [
           1351,
           "Lover's Knot (1996)",
           1996,
           3
          ],
          [
           1352,
           "Shadow of Angels (Schatten der Engel) (1976)",
           1976,
           1
          ],
          [
           1353,
           "1-900 (1994)",
           1994,
           5
          ],
          [
           1354,
           "Venice/Venice (1992)",
           1992,
           2
          ],
          [
           1355,
           "Infinity (1996)",
           1996,
           6
          ],
          [
           1356,
           "Ed's Next Move (1996)",
           1996,
           3
          ],
          [
           1357,
           "For the Moment (1994)",
           1994,
           3
          ],
          [
           1358,
           "The Deadly Cure (1996)",
           1996,
           2
          ],
          [
           1359,
           "Boys in Venice (1996)",
           1996,
           2
          ],
          [
           1360,
           "Sexual Life of the Belgians, The (1994)",
           1994,
           2
          ],
          [
           1361,
           "Search for One-eye Jimmy, The (1996)",
           1996,
           3
          ],
          [
           1362,
           "American Strays (1996)",
           1996,
           2
          ],
          [
           1363,
           "Leopard Son, The (1996)",
           1996,
           1
          ],
          [
           1364,
           "Bird of Prey (1996)",
           1996,
           1
          ],
          [
           1365,
           "Johnny 100 Pesos (1993)",
           1993,
           2
          ],
          [
           1366,
           "JLG/JLG - autoportrait de décembre (1994)",
           1994,
           1
          ],
          [
           1367,
           "Faust (1994)",
           1994,
           5
          ],
          [
           1368,
           "Mina Tannenbaum (1994)",
           1994,
           6
          ],
          [
           1369,
           "Forbidden Christ, The (Cristo proibito, Il) (1950)",
           1950,
           4
          ],
          [
           1370,
           "I Can't Sleep (J'ai pas sommeil) (1994)",
           1994,
           3
          ],
          [
           1371,
           "Machine, The (1994)",
           1994,
           2
          ],
          [
           1372,
           "Stranger, The (1994)",
           1994,
           3
          ],
          [
           1373,
           "Good Morning (1971)",
           1971,
           1
          ],
          [
           1374,
           "Falling in Love Again (1980)",
           1980,
           2
          ],
          [
           1375,
           "Cement Garden, The (1993)",
           1993,
           10
          ],
          [
           1376,
           "Meet Wally Sparks (1997)",
           1997,
           7
          ],
          [
           1377,
           "Hotel de Love (1996)",
           1997,
           4
          ],
          [
           1378,
           "Rhyme & Reason (1997)",
           1997,
           5
          ],
          [
           1379,
           "Love and Other Catastrophes (1996)",
           1997,
           7
          ],
          [
           1380,
           "Hollow Reed (1996)",
           1997,
           6
          ],
          [
           1381,
           "Losing Chase (1996)",
           1996,
           8
          ],
          [
           1382,
           "Bonheur, Le (1965)",
           1997,
           4
          ],
          [
           1383,
           "Second Jungle Book: Mowgli & Baloo, The (1997)",
           1997,
           6
          ],
          [
           1384,
           "Squeeze (1996)",
           1997,
           3
          ],
          [
           1385,
           "Roseanna's Grave (For Roseanna) (1997)",
           1997,
           5
          ],
          [
           1386,
           "Tetsuo II: Body Hammer (1992)",
           1997,
           6
          ],
          [
           1387,
           "Fall (1997)",
           1997,
           3
          ],
          [
           1388,
           "Gabbeh (1996)",
           1997,
           6
          ],
          [
           1389,
           "Mondo (1996)",
           1997,
           3
          ],
          [
           1390,
           "Innocent Sleep, The (1995)",
           1997,
           2
          ],
          [
           1391,
           "For Ever Mozart (1996)",
           1997,
           3
          ],
          [
           1392,
           "Locusts, The (1997)",
           1997,
           5
          ],
          [
           1393,
           "Stag (1997)",
           1997,
           9
          ],
          [
           1394,
           "Swept from the Sea (1997)",
           1997,
           7
          ],
          [
           1395,
           "Hurricane Streets (1998)",
           1998,
           6
          ],
          [
           1396,
           "Stonewall (1995)",
           1996,
           5
          ],
          [
           1397,
           "Of Human Bondage (1934)",
           1934,
           5
          ],
          [
           1398,
           "Anna (1996)",
           1996,
           2
          ],
          [
           1399,
           "Stranger in the House (1997)",
           1997,
           7
          ],
          [
           1400,
           "Picture Bride (1995)",
           1995,
           10
          ],
          [
           1401,
           "M. Butterfly (1993)",
           1993,
           18
          ],
          [
           1402,
           "Ciao, Professore! (1993)",
           1993,
           4
          ],
          [
           1403,
           "Caro Diario (Dear Diary) (1994)",
           1994,
           4
          ],
          [
           1404,
           "Withnail and I (1987)",
           1987,
           13
          ],
          [
           1405,
           "Boy's Life 2 (1997)",
           1997,
           6
          ],
          [
           1406,
           "When Night Is Falling (1995)",
           1995,
           5
          ],
          [
           1407,
           "Specialist, The (1994)",
           1994,
           20
          ],
          [
           1408,
           "Gordy (1995)",
           1995,
           3
          ],
          [
           1409,
           "Swan Princess, The (1994)",
           1994,
           7
          ],
          [
           1410,
           "Harlem (1993)",
           1993,
           4
          ],
          [
           1411,
           "Barbarella (1968)",
           1968,
           28
          ],
          [
           1412,
           "Land Before Time III: The Time of the Great Giving (1995) (V)",
           1995,
           6
          ],
          [
           1413,
           "Street Fighter (1994)",
           1994,
           8
          ],
          [
           1414,
           "Coldblooded (1995)",
           1995,
           1
          ],
          [
           1415,
           "Next Karate Kid, The (1994)",
           1994,
           9
          ],
          [
           1416,
           "No Escape (1994)",
           1994,
           5
          ],
          [
           1417,
           "Turning, The (1992)",
           1997,
           2
          ],
          [
           1418,
           "Joy Luck Club, The (1993)",
           1993,
           3
          ],
          [
           1419,
           "Highlander III: The Sorcerer (1994)",
           1994,
           16
          ],
          [
           1420,
           "Gilligan's Island: The Movie (1998)",
           1997,
           3
          ],
          [
           1421,
           "My Crazy Life (Mi vida loca) (1993)",
           1993,
           11
          ],
          [
           1422,
           "Suture (1993)",
           1993,
           4
          ],
          [
           1423,
           "Walking Dead, The (1995)",
           1995,
           4
          ],
          [
           1424,
           "I Like It Like That (1994)",
           1994,
           3
          ],
          [
           1425,
           "I'll Do Anything (1994)",
           1994,
           10
          ],
          [
           1426,
           "Grace of My Heart (1996)",
           1996,
           8
          ],
          [
           1427,
           "Drunks (1995)",
           1996,
           5
          ],
          [
           1428,
           "SubUrbia (1997)",
           1997,
           12
          ],
          [
           1429,
           "Sliding Doors (1998)",
           1998,
           4
          ],
          [
           1430,
           "Ill Gotten Gains (1997)",
           1997,
           3
          ],
          [
           1431,
           "Legal Deceit (1997)",
           1997,
           5
          ],
          [
           1432,
           "Mighty, The (1998)",
           1998,
           3
          ],
          [
           1433,
           "Men of Means (1998)",
           1997,
           2
          ],
          [
           1434,
           "Shooting Fish (1997)",
           1998,
           10
          ],
          [
           1435,
           "Steal Big, Steal Little (1995)",
           1995,
           7
          ],
          [
           1436,
           "Mr. Jones (1993)",
           1993,
           2
          ],
          [
           1437,
           "House Party 3 (1994)",
           1994,
           9
          ],
          [
           1438,
           "Panther (1995)",
           1995,
           5
          ],
          [
           1439,
           "Jason's Lyric (1994)",
           1994,
           8
          ],
          [
           1440,
           "Above the Rim (1994)",
           1994,
           5
          ],
          [
           1441,
           "Moonlight and Valentino (1995)",
           1995,
           7
          ],
          [
           1442,
           "Scarlet Letter, The (1995)",
           1995,
           5
          ],
          [
           1443,
           "8 Seconds (1994)",
           1994,
           4
          ],
          [
           1444,
           "That Darn Cat! (1965)",
           1965,
           19
          ],
          [
           1445,
           "Ladybird Ladybird (1994)",
           1994,
           4
          ],
          [
           1446,
           "Bye Bye, Love (1995)",
           1995,
           15
          ],
          [
           1447,
           "Century (1993)",
           1993,
           1
          ],
          [
           1448,
           "My Favorite Season (1993)",
           1996,
           3
          ],
          [
           1449,
           "Pather Panchali (1955)",
           1996,
           8
          ],
          [
           1450,
           "Golden Earrings (1947)",
           1947,
           2
          ],
          [
           1451,
           "Foreign Correspondent (1940)",
           1940,
           15
          ],
          [
           1452,
           "Lady of Burlesque (1943)",
           1943,
           1
          ],
          [
           1453,
           "Angel on My Shoulder (1946)",
           1946,
           1
          ],
          [
           1454,
           "Angel and the Badman (1947)",
           1947,
           6
          ],
          [
           1455,
           "Outlaw, The (1943)",
           1943,
           2
          ],
          [
           1456,
           "Beat the Devil (1954)",
           1954,
           7
          ],
          [
           1457,
           "Love Is All There Is (1996)",
           1996,
           1
          ],
          [
           1458,
           "Damsel in Distress, A (1937)",
           1937,
           1
          ],
          [
           1459,
           "Madame Butterfly (1995)",
           1996,
           7
          ],
          [
           1460,
           "Sleepover (1995)",
           1996,
           1
          ],
          [
           1461,
           "Here Comes Cookie (1935)",
           1935,
           1
          ],
          [
           1462,
           "Thieves (Voleurs, Les) (1996)",
           1996,
           7
          ],
          [
           1463,
           "Boys, Les (1997)",
           1997,
           3
          ],
          [
           1464,
           "Stars Fell on Henrietta, The (1995)",
           1995,
           3
          ],
          [
           1465,
           "Last Summer in the Hamptons (1995)",
           1995,
           3
          ],
          [
           1466,
           "Margaret's Museum (1995)",
           1995,
           6
          ],
          [
           1467,
           "Saint of Fort Washington, The (1993)",
           1993,
           2
          ],
          [
           1468,
           "Cure, The (1995)",
           1995,
           6
          ],
          [
           1469,
           "Tom and Huck (1995)",
           1995,
           12
          ],
          [
           1470,
           "Gumby: The Movie (1995)",
           1995,
           5
          ],
          [
           1471,
           "Hideaway (1995)",
           1995,
           9
          ],
          [
           1472,
           "Visitors, The (Visiteurs, Les) (1993)",
           1996,
           2
          ],
          [
           1473,
           "Little Princess, The (1939)",
           1939,
           9
          ],
          [
           1474,
           "Nina Takes a Lover (1994)",
           1994,
           6
          ],
          [
           1475,
           "Bhaji on the Beach (1993)",
           1993,
           8
          ],
          [
           1476,
           "Raw Deal (1948)",
           1948,
           1
          ],
          [
           1477,
           "Nightwatch (1997)",
           1997,
           2
          ],
          [
           1478,
           "Dead Presidents (1995)",
           1995,
           18
          ],
          [
           1479,
           "Reckless (1995)",
           1995,
           8
          ],
          [
           1480,
           "Herbie Rides Again (1974)",
           1974,
           11
          ],
          [
           1481,
           "S.F.W. (1994)",
           1994,
           2
          ],
          [
           1482,
           "Gate of Heavenly Peace, The (1995)",
           1996,
           1
          ],
          [
           1483,
           "Man in the Iron Mask, The (1998)",
           1998,
           12
          ],
          [
           1484,
           "Jerky Boys, The (1994)",
           1994,
           3
          ],
          [
           1485,
           "Colonel Chabert, Le (1994)",
           1994,
           4
          ],
          [
           1486,
           "Girl in the Cadillac (1995)",
           1995,
           1
          ],
          [
           1487,
           "Even Cowgirls Get the Blues (1993)",
           1993,
           5
          ],
          [
           1488,
           "Germinal (1993)",
           1993,
           4
          ],
          [
           1489,
           "Chasers (1994)",
           1994,
           5
          ],
          [
           1490,
           "Fausto (1993)",
           1993,
           3
          ],
          [
           1491,
           "Tough and Deadly (1995)",
           1995,
           2
          ],
          [
           1492,
           "Window to Paris (1994)",
           1994,
           1
          ],
          [
           1493,
           "Modern Affair, A (1995)",
           1996,
           1
          ],
          [
           1494,
           "Mostro, Il (1994)",
           1996,
           1
          ],
          [
           1495,
           "Flirt (1995)",
           1996,
           5
          ],
          [
           1496,
           "Carpool (1996)",
           1996,
           5
          ],
          [
           1497,
           "Line King: Al Hirschfeld, The (1996)",
           1996,
           2
          ],
          [
           1498,
           "Farmer & Chase (1995)",
           1997,
           1
          ],
          [
           1499,
           "Grosse Fatigue (1994)",
           1994,
           4
          ],
          [
           1500,
           "Santa with Muscles (1996)",
           1996,
           2
          ],
          [
           1501,
           "Prisoner of the Mountains (Kavkazsky Plennik) (1996)",
           1997,
           5
          ],
          [
           1502,
           "Naked in New York (1994)",
           1994,
           2
          ],
          [
           1503,
           "Gold Diggers: The Secret of Bear Mountain (1995)",
           1995,
           10
          ],
          [
           1504,
           "Bewegte Mann, Der (1994)",
           1996,
           3
          ],
          [
           1505,
           "Killer: A Journal of Murder (1995)",
           1996,
           1
          ],
          [
           1506,
           "Nelly & Monsieur Arnaud (1995)",
           1996,
           3
          ],
          [
           1507,
           "Three Lives and Only One Death (1996)",
           1996,
           1
          ],
          [
           1508,
           "Babysitter, The (1995)",
           1995,
           3
          ],
          [
           1509,
           "Getting Even with Dad (1994)",
           1994,
           5
          ],
          [
           1510,
           "Mad Dog Time (1996)",
           1996,
           1
          ],
          [
           1511,
           "Children of the Revolution (1996)",
           1997,
           5
          ],
          [
           1512,
           "World of Apu, The (Apur Sansar) (1959)",
           1996,
           6
          ],
          [
           1513,
           "Sprung (1997)",
           1997,
           3
          ],
          [
           1514,
           "Dream With the Fishes (1997)",
           1997,
           7
          ],
          [
           1515,
           "Wings of Courage (1995)",
           1995,
           1
          ],
          [
           1516,
           "Wedding Gift, The (1994)",
           1994,
           3
          ],
          [
           1517,
           "Race the Sun (1996)",
           1996,
           5
          ],
          [
           1518,
           "Losing Isaiah (1995)",
           1995,
           12
          ],
          [
           1519,
           "New Jersey Drive (1995)",
           1995,
           2
          ],
          [
           1520,
           "Fear, The (1995)",
           1995,
           1
          ],
          [
           1521,
           "Mr. Wonderful (1993)",
           1993,
           4
          ],
          [
           1522,
           "Trial by Jury (1994)",
           1994,
           7
          ],
          [
           1523,
           "Good Man in Africa, A (1994)",
           1994,
           2
          ],
          [
           1524,
           "Kaspar Hauser (1993)",
           1996,
           8
          ],
          [
           1525,
           "Object of My Affection, The (1998)",
           1998,
           1
          ],
          [
           1526,
           "Witness (1985)",
           1985,
           1
          ],
          [
           1527,
           "Senseless (1998)",
           1998,
           7
          ],
          [
           1528,
           "Nowhere (1997)",
           1997,
           3
          ],
          [
           1529,
           "Underground (1995)",
           1996,
           5
          ],
          [
           1530,
           "Jefferson in Paris (1995)",
           1995,
           5
          ],
          [
           1531,
           "Far From Home: The Adventures of Yellow Dog (1995)",
           1995,
           7
          ],
          [
           1532,
           "Foreign Student (1994)",
           1994,
           2
          ],
          [
           1533,
           "I Don't Want to Talk About It (De eso no se habla) (1993)",
           1993,
           1
          ],
          [
           1534,
           "Twin Town (1997)",
           1997,
           6
          ],
          [
           1535,
           "Enfer, L' (1994)",
           1994,
           4
          ],
          [
           1536,
           "Aiqing wansui (1994)",
           1996,
           1
          ],
          [
           1537,
           "Cosi (1996)",
           1997,
           4
          ],
          [
           1538,
           "All Over Me (1997)",
           1997,
           3
          ],
          [
           1539,
           "Being Human (1993)",
           1993,
           4
          ],
          [
           1540,
           "Amazing Panda Adventure, The (1995)",
           1995,
           10
          ],
          [
           1541,
           "Beans of Egypt, Maine, The (1994)",
           1994,
           2
          ],
          [
           1542,
           "Scarlet Letter, The (1926)",
           1926,
           2
          ],
          [
           1543,
           "Johns (1996)",
           1996,
           1
          ],
          [
           1544,
           "It Takes Two (1995)",
           1995,
           3
          ],
          [
           1545,
           "Frankie Starlight (1995)",
           1995,
           4
          ],
          [
           1546,
           "Shadows (Cienie) (1988)",
           1988,
           1
          ],
          [
           1547,
           "Show, The (1995)",
           1995,
           2
          ],
          [
           1548,
           "The Courtyard (1995)",
           1995,
           1
          ],
          [
           1549,
           "Dream Man (1995)",
           1995,
           2
          ],
          [
           1550,
           "Destiny Turns on the Radio (1995)",
           1995,
           2
          ],
          [
           1551,
           "Glass Shield, The (1994)",
           1994,
           2
          ],
          [
           1552,
           "Hunted, The (1995)",
           1995,
           3
          ],
          [
           1553,
           "Underneath, The (1995)",
           1995,
           4
          ],
          [
           1554,
           "Safe Passage (1994)",
           1994,
           2
          ],
          [
           1555,
           "Secret Adventures of Tom Thumb, The (1993)",
           1993,
           5
          ],
          [
           1556,
           "Condition Red (1995)",
           1995,
           2
          ],
          [
           1557,
           "Yankee Zulu (1994)",
           1996,
           1
          ],
          [
           1558,
           "Aparajito (1956)",
           1996,
           7
          ],
          [
           1559,
           "Hostile Intentions (1994)",
           1994,
           1
          ],
          [
           1560,
           "Clean Slate (Coup de Torchon) (1981)",
           1981,
           4
          ],
          [
           1561,
           "Tigrero: A Film That Was Never Made (1994)",
           1994,
           1
          ],
          [
           1562,
           "Eye of Vichy, The (Oeil de Vichy, L') (1993)",
           1993,
           1
          ],
          [
           1563,
           "Promise, The (Versprechen, Das) (1994)",
           1994,
           1
          ],
          [
           1564,
           "To Cross the Rubicon (1991)",
           1991,
           1
          ],
          [
           1565,
           "Daens (1992)",
           1992,
           1
          ],
          [
           1566,
           "Man from Down Under, The (1943)",
           1943,
           1
          ],
          [
           1567,
           "Careful (1992)",
           1992,
           1
          ],
          [
           1568,
           "Vermont Is For Lovers (1992)",
           1992,
           1
          ],
          [
           1569,
           "Vie est belle, La (Life is Rosey) (1987)",
           1987,
           1
          ],
          [
           1570,
           "Quartier Mozart (1992)",
           1992,
           1
          ],
          [
           1571,
           "Touki Bouki (Journey of the Hyena) (1973)",
           1973,
           1
          ],
          [
           1572,
           "Wend Kuuni (God's Gift) (1982)",
           1982,
           1
          ],
          [
           1573,
           "Spirits of the Dead (Tre passi nel delirio) (1968)",
           1968,
           2
          ],
          [
           1574,
           "Pharaoh's Army (1995)",
           1995,
           1
          ],
          [
           1575,
           "I, Worst of All (Yo, la peor de todas) (1990)",
           1990,
           1
          ],
          [
           1576,
           "Hungarian Fairy Tale, A (1987)",
           1987,
           1
          ],
          [
           1577,
           "Death in the Garden (Mort en ce jardin, La) (1956)",
           1956,
           1
          ],
          [
           1578,
           "Collectionneuse, La (1967)",
           1967,
           2
          ],
          [
           1579,
           "Baton Rouge (1988)",
           1988,
           1
          ],
          [
           1580,
           "Liebelei (1933)",
           1933,
           1
          ],
          [
           1581,
           "Woman in Question, The (1950)",
           1950,
           1
          ],
          [
           1582,
           "T-Men (1947)",
           1947,
           1
          ],
          [
           1583,
           "Invitation, The (Zaproszenie) (1986)",
           1986,
           1
          ],
          [
           1584,
           "Symphonie pastorale, La (1946)",
           1946,
           1
          ],
          [
           1585,
           "American Dream (1990)",
           1990,
           2
          ],
          [
           1586,
           "Lashou shentan (1992)",
           1992,
           1
          ],
          [
           1587,
           "Terror in a Texas Town (1958)",
           1958,
           1
          ],
          [
           1588,
           "Salut cousin! (1996)",
           1997,
           2
          ],
          [
           1589,
           "Schizopolis (1996)",
           1997,
           4
          ],
          [
           1590,
           "To Have, or Not (1995)",
           1997,
           2
          ],
          [
           1591,
           "Duoluo tianshi (1995)",
           1998,
           6
          ],
          [
           1592,
           "Magic Hour, The (1998)",
           1998,
           5
          ],
          [
           1593,
           "Death in Brunswick (1991)",
           1996,
           1
          ],
          [
           1594,
           "Everest (1998)",
           1998,
           2
          ],
          [
           1595,
           "Shopping (1994)",
           1996,
           1
          ],
          [
           1596,
           "Nemesis 2: Nebula (1995)",
           1995,
           1
          ],
          [
           1597,
           "Romper Stomper (1992)",
           1992,
           5
          ],
          [
           1598,
           "City of Industry (1997)",
           1997,
           6
          ],
          [
           1599,
           "Someone Else's America (1995)",
           1996,
           1
          ],
          [
           1600,
           "Guantanamera (1994)",
           1997,
           4
          ],
          [
           1601,
           "Office Killer (1997)",
           1997,
           1
          ],
          [
           1602,
           "Price Above Rubies, A (1998)",
           1998,
           3
          ],
          [
           1603,
           "Angela (1995)",
           1996,
           1
          ],
          [
           1604,
           "He Walked by Night (1948)",
           1948,
           1
          ],
          [
           1605,
           "Love Serenade (1996)",
           1997,
           4
          ],
          [
           1606,
           "Deceiver (1997)",
           1997,
           1
          ],
          [
           1607,
           "Hurricane Streets (1998)",
           1998,
           3
          ],
          [
           1608,
           "Buddy (1997)",
           1997,
           4
          ],
          [
           1609,
           "B*A*P*S (1997)",
           1997,
           3
          ],
          [
           1610,
           "Truth or Consequences, N.M. (1997)",
           1997,
           3
          ],
          [
           1611,
           "Intimate Relations (1996)",
           1997,
           2
          ],
          [
           1612,
           "Leading Man, The (1996)",
           1998,
           4
          ],
          [
           1613,
           "Tokyo Fist (1995)",
           1998,
           1
          ],
          [
           1614,
           "Reluctant Debutante, The (1958)",
           1958,
           1
          ],
          [
           1615,
           "Warriors of Virtue (1997)",
           1997,
           10
          ],
          [
           1616,
           "Desert Winds (1995)",
           1995,
           1
          ],
          [
           1617,
           "Hugo Pool (1997)",
           1997,
           2
          ],
          [
           1618,
           "King of New York (1990)",
           1990,
           1
          ],
          [
           1619,
           "All Things Fair (1996)",
           1996,
           1
          ],
          [
           1620,
           "Sixth Man, The (1997)",
           1997,
           9
          ],
          [
           1621,
           "Butterfly Kiss (1995)",
           1996,
           1
          ],
          [
           1622,
           "Paris, France (1993)",
           1993,
           3
          ],
          [
           1623,
           "Cérémonie, La (1995)",
           1996,
           3
          ],
          [
           1624,
           "Hush (1998)",
           1998,
           1
          ],
          [
           1625,
           "Nightwatch (1997)",
           1997,
           1
          ],
          [
           1626,
           "Nobody Loves Me (Keiner liebt mich) (1994)",
           1996,
           1
          ],
          [
           1627,
           "Wife, The (1995)",
           1996,
           1
          ],
          [
           1628,
           "Lamerica (1994)",
           1994,
           4
          ],
          [
           1629,
           "Nico Icon (1995)",
           1995,
           2
          ],
          [
           1630,
           "Silence of the Palace, The (Saimt el Qusur) (1994)",
           1996,
           1
          ],
          [
           1631,
           "Slingshot, The (1993)",
           1993,
           2
          ],
          [
           1632,
           "Land and Freedom (Tierra y libertad) (1995)",
           1996,
           1
          ],
          [
           1633,
           "Á köldum klaka (Cold Fever) (1994)",
           1996,
           1
          ],
          [
           1634,
           "Etz Hadomim Tafus (Under the Domin Tree) (1994)",
           1996,
           1
          ],
          [
           1635,
           "Two Friends (1986) ",
           1986,
           1
          ],
          [
           1636,
           "Brothers in Trouble (1995)",
           1996,
           1
          ],
          [
           1637,
           "Girls Town (1996)",
           1996,
           1
          ],
          [
           1638,
           "Normal Life (1996)",
           1996,
           1
          ],
          [
           1639,
           "Bitter Sugar (Azucar Amargo) (1996)",
           1996,
           3
          ],
          [
           1640,
           "Eighth Day, The (1996)",
           1996,
           1
          ],
          [
           1641,
           "Dadetown (1995)",
           1996,
           1
          ],
          [
           1642,
           "Some Mother's Son (1996)",
           1996,
           2
          ],
          [
           1643,
           "Angel Baby (1995)",
           1997,
           4
          ],
          [
           1644,
           "Sudden Manhattan (1996)",
           1997,
           2
          ],
          [
           1645,
           "Butcher Boy, The (1998)",
           1998,
           1
          ],
          [
           1646,
           "Men With Guns (1997)",
           1998,
           2
          ],
          [
           1647,
           "Hana-bi (1997)",
           1998,
           1
          ],
          [
           1648,
           "Niagara, Niagara (1997)",
           1998,
           1
          ],
          [
           1649,
           "Big One, The (1997)",
           1998,
           1
          ],
          [
           1650,
           "Butcher Boy, The (1998)",
           1998,
           1
          ],
          [
           1651,
           "Spanish Prisoner, The (1997)",
           1998,
           1
          ],
          [
           1652,
           "Temptress Moon (Feng Yue) (1996)",
           1997,
           3
          ],
          [
           1653,
           "Entertaining Angels: The Dorothy Day Story (1996)",
           1996,
           1
          ],
          [
           1654,
           "Chairman of the Board (1998)",
           1998,
           1
          ],
          [
           1655,
           "Favor, The (1994)",
           1994,
           1
          ],
          [
           1656,
           "Little City (1998)",
           1998,
           2
          ],
          [
           1657,
           "Target (1995)",
           1996,
           1
          ],
          [
           1658,
           "Substance of Fire, The (1996)",
           1996,
           3
          ],
          [
           1659,
           "Getting Away With Murder (1996)",
           1996,
           1
          ],
          [
           1660,
           "Small Faces (1995)",
           1996,
           1
          ],
          [
           1661,
           "New Age, The (1994)",
           1994,
           1
          ],
          [
           1662,
           "Rough Magic (1995)",
           1997,
           2
          ],
          [
           1663,
           "Nothing Personal (1995)",
           1997,
           1
          ],
          [
           1664,
           "8 Heads in a Duffel Bag (1997)",
           1997,
           4
          ],
          [
           1665,
           "Brother's Kiss, A (1997)",
           1997,
           1
          ],
          [
           1666,
           "Ripe (1996)",
           1997,
           1
          ],
          [
           1667,
           "Next Step, The (1995)",
           1997,
           1
          ],
          [
           1668,
           "Wedding Bell Blues (1996)",
           1997,
           1
          ],
          [
           1669,
           "MURDER and murder (1996)",
           1997,
           1
          ],
          [
           1670,
           "Tainted (1998)",
           1998,
           1
          ],
          [
           1671,
           "Further Gesture, A (1996)",
           1998,
           1
          ],
          [
           1672,
           "Kika (1993)",
           1993,
           2
          ],
          [
           1673,
           "Mirage (1995)",
           1995,
           1
          ],
          [
           1674,
           "Mamma Roma (1962)",
           1962,
           1
          ],
          [
           1675,
           "Sunchaser, The (1996)",
           1996,
           1
          ],
          [
           1676,
           "War at Home, The (1996)",
           1996,
           1
          ],
          [
           1677,
           "Sweet Nothing (1995)",
           1996,
           1
          ],
          [
           1678,
           "Mat' i syn (1997)",
           1998,
           1
          ],
          [
           1679,
           "B. Monkey (1998)",
           1998,
           1
          ],
          [
           1680,
           "Sliding Doors (1998)",
           1998,
           1
          ],
          [
           1681,
           "You So Crazy (1994)",
           1994,
           1
          ],
          [
           1682,
           "Scream of Stone (Schrei aus Stein) (1991)",
           1996,
           1
          ]
         ],
         "hovertemplate": "tsne_1=%{x}<br>tsne_2=%{y}<br>item_id=%{customdata[0]}<br>title=%{customdata[1]}<br>release_year=%{customdata[2]}<br>popularity=%{marker.color}<extra></extra>",
         "legendgroup": "",
         "marker": {
          "color": [
           452,
           131,
           90,
           209,
           86,
           26,
           392,
           219,
           299,
           89,
           236,
           267,
           184,
           183,
           293,
           39,
           92,
           10,
           69,
           72,
           84,
           297,
           182,
           174,
           293,
           73,
           57,
           276,
           114,
           37,
           154,
           81,
           97,
           7,
           11,
           13,
           8,
           120,
           87,
           57,
           37,
           148,
           40,
           79,
           80,
           27,
           133,
           117,
           81,
           583,
           81,
           91,
           128,
           104,
           149,
           394,
           40,
           175,
           83,
           64,
           59,
           127,
           82,
           283,
           115,
           162,
           103,
           134,
           321,
           251,
           220,
           129,
           128,
           7,
           5,
           54,
           151,
           33,
           336,
           68,
           110,
           261,
           176,
           18,
           58,
           150,
           138,
           213,
           275,
           95,
           143,
           104,
           112,
           137,
           219,
           295,
           256,
           390,
           172,
           508,
           73,
           54,
           15,
           5,
           74,
           71,
           42,
           65,
           130,
           31,
           272,
           20,
           9,
           67,
           15,
           125,
           378,
           293,
           4,
           67,
           429,
           106,
           115,
           187,
           244,
           97,
           413,
           65,
           129,
           23,
           95,
           246,
           171,
           198,
           259,
           105,
           171,
           19,
           50,
           61,
           72,
           57,
           222,
           243,
           65,
           10,
           185,
           128,
           23,
           157,
           326,
           82,
           247,
           174,
           98,
           148,
           127,
           60,
           101,
           69,
           220,
           106,
           92,
           151,
           64,
           58,
           67,
           316,
           118,
           121,
           65,
           367,
           324,
           420,
           208,
           284,
           137,
           125,
           221,
           221,
           507,
           226,
           291,
           116,
           239,
           251,
           209,
           170,
           66,
           124,
           276,
           116,
           157,
           241,
           301,
           251,
           239,
           127,
           165,
           206,
           89,
           280,
           182,
           350,
           136,
           50,
           66,
           200,
           191,
           331,
           206,
           92,
           134,
           114,
           212,
           290,
           120,
           171,
           111,
           66,
           74,
           365,
           136,
           44,
           109,
           166,
           161,
           244,
           171,
           199,
           142,
           101,
           124,
           280,
           217,
           45,
           384,
           256,
           150,
           156,
           128,
           117,
           132,
           48,
           240,
           124,
           5,
           160,
           130,
           197,
           46,
           158,
           26,
           62,
           172,
           16,
           303,
           509,
           162,
           127,
           43,
           66,
           19,
           101,
           227,
           35,
           9,
           255,
           315,
           136,
           211,
           198,
           223,
           190,
           268,
           298,
           71,
           60,
           28,
           85,
           146,
           232,
           177,
           193,
           162,
           481,
           78,
           478,
           259,
           96,
           127,
           114,
           147,
           485,
           77,
           6,
           50,
           194,
           73,
           431,
           230,
           297,
           134,
           149,
           87,
           96,
           188,
           30,
           28,
           145,
           75,
           80,
           350,
           5,
           160,
           112,
           102,
           298,
           168,
           20,
           169,
           218,
           240,
           125,
           128,
           175,
           175,
           295,
           45,
           41,
           113,
           143,
           251,
           64,
           21,
           43,
           18,
           91,
           47,
           189,
           11,
           52,
           124,
           55,
           65,
           126,
           137,
           27,
           31,
           41,
           20,
           26,
           14,
           72,
           41,
           97,
           264,
           143,
           18,
           10,
           10,
           28,
           47,
           37,
           48,
           47,
           170,
           31,
           55,
           39,
           67,
           34,
           39,
           11,
           23,
           24,
           13,
           101,
           43,
           116,
           100,
           111,
           31,
           69,
           208,
           87,
           65,
           28,
           27,
           10,
           59,
           68,
           192,
           12,
           56,
           54,
           12,
           26,
           89,
           18,
           76,
           170,
           201,
           101,
           344,
           49,
           43,
           112,
           70,
           162,
           163,
           93,
           55,
           62,
           25,
           64,
           73,
           129,
           178,
           81,
           106,
           26,
           300,
           19,
           85,
           32,
           219,
           121,
           97,
           93,
           153,
           174,
           171,
           67,
           216,
           99,
           5,
           6,
           5,
           14,
           53,
           4,
           162,
           46,
           22,
           9,
           121,
           85,
           117,
           63,
           170,
           66,
           16,
           16,
           145,
           48,
           27,
           90,
           24,
           28,
           74,
           148,
           71,
           27,
           85,
           52,
           48,
           64,
           67,
           108,
           221,
           158,
           126,
           194,
           250,
           160,
           95,
           104,
           179,
           179,
           63,
           128,
           243,
           138,
           125,
           64,
           68,
           65,
           52,
           50,
           67,
           59,
           60,
           56,
           59,
           231,
           68,
           152,
           62,
           31,
           123,
           57,
           39,
           122,
           68,
           90,
           98,
           215,
           121,
           121,
           173,
           57,
           72,
           180,
           201,
           63,
           91,
           89,
           80,
           124,
           120,
           35,
           164,
           46,
           73,
           124,
           195,
           121,
           93,
           80,
           129,
           22,
           15,
           13,
           54,
           10,
           30,
           66,
           44,
           43,
           49,
           51,
           21,
           71,
           12,
           254,
           41,
           12,
           92,
           151,
           24,
           45,
           63,
           102,
           10,
           12,
           17,
           70,
           137,
           22,
           59,
           48,
           29,
           27,
           22,
           179,
           35,
           230,
           67,
           50,
           28,
           29,
           33,
           15,
           44,
           93,
           41,
           92,
           19,
           32,
           59,
           168,
           37,
           79,
           39,
           34,
           14,
           202,
           43,
           18,
           178,
           9,
           12,
           5,
           64,
           127,
           206,
           4,
           1,
           2,
           20,
           50,
           209,
           81,
           31,
           66,
           66,
           30,
           60,
           41,
           40,
           34,
           27,
           51,
           59,
           64,
           18,
           18,
           64,
           43,
           11,
           39,
           39,
           22,
           82,
           4,
           75,
           169,
           77,
           31,
           119,
           58,
           69,
           24,
           23,
           91,
           38,
           44,
           40,
           82,
           33,
           89,
           4,
           35,
           27,
           38,
           70,
           67,
           50,
           72,
           171,
           90,
           34,
           147,
           227,
           44,
           131,
           79,
           115,
           153,
           88,
           82,
           116,
           46,
           100,
           5,
           12,
           6,
           13,
           36,
           46,
           65,
           86,
           48,
           54,
           77,
           1,
           219,
           107,
           34,
           27,
           100,
           49,
           169,
           157,
           50,
           69,
           44,
           87,
           155,
           16,
           164,
           91,
           44,
           13,
           79,
           40,
           10,
           102,
           15,
           10,
           53,
           19,
           24,
           137,
           6,
           70,
           101,
           104,
           79,
           1,
           51,
           72,
           13,
           87,
           58,
           82,
           16,
           29,
           86,
           54,
           58,
           34,
           76,
           16,
           14,
           63,
           45,
           81,
           24,
           39,
           180,
           15,
           27,
           137,
           78,
           59,
           31,
           164,
           63,
           58,
           267,
           39,
           92,
           16,
           119,
           102,
           316,
           51,
           124,
           180,
           39,
           24,
           57,
           96,
           128,
           4,
           21,
           11,
           46,
           44,
           115,
           149,
           29,
           32,
           9,
           11,
           52,
           42,
           57,
           41,
           49,
           17,
           32,
           26,
           9,
           4,
           76,
           31,
           69,
           84,
           10,
           37,
           2,
           39,
           14,
           13,
           3,
           47,
           66,
           10,
           86,
           10,
           46,
           21,
           36,
           31,
           9,
           5,
           26,
           16,
           40,
           9,
           8,
           27,
           50,
           9,
           31,
           43,
           45,
           18,
           18,
           56,
           1,
           112,
           21,
           3,
           25,
           40,
           93,
           22,
           4,
           82,
           49,
           83,
           80,
           57,
           13,
           34,
           1,
           91,
           22,
           49,
           25,
           15,
           26,
           25,
           4,
           4,
           53,
           48,
           27,
           30,
           42,
           176,
           44,
           55,
           9,
           53,
           4,
           4,
           1,
           14,
           16,
           66,
           36,
           1,
           3,
           15,
           16,
           3,
           18,
           24,
           86,
           21,
           119,
           6,
           5,
           24,
           9,
           75,
           42,
           81,
           39,
           53,
           47,
           52,
           33,
           136,
           59,
           45,
           34,
           13,
           7,
           13,
           53,
           64,
           15,
           13,
           43,
           6,
           53,
           14,
           19,
           106,
           44,
           2,
           58,
           9,
           42,
           12,
           42,
           18,
           20,
           27,
           21,
           2,
           20,
           13,
           4,
           4,
           9,
           2,
           11,
           13,
           18,
           7,
           8,
           96,
           5,
           46,
           34,
           58,
           85,
           34,
           101,
           6,
           104,
           40,
           80,
           57,
           40,
           21,
           68,
           7,
           32,
           37,
           25,
           60,
           32,
           46,
           45,
           40,
           43,
           40,
           61,
           17,
           48,
           71,
           30,
           39,
           45,
           22,
           11,
           49,
           46,
           2,
           14,
           64,
           25,
           34,
           23,
           41,
           9,
           21,
           26,
           12,
           18,
           75,
           8,
           34,
           28,
           4,
           32,
           44,
           12,
           49,
           27,
           35,
           22,
           8,
           20,
           15,
           44,
           22,
           23,
           4,
           86,
           32,
           33,
           25,
           4,
           66,
           7,
           31,
           14,
           16,
           16,
           10,
           10,
           17,
           8,
           8,
           9,
           22,
           23,
           47,
           37,
           64,
           44,
           93,
           100,
           38,
           98,
           12,
           137,
           50,
           32,
           31,
           35,
           38,
           32,
           31,
           15,
           44,
           4,
           3,
           148,
           14,
           20,
           7,
           16,
           32,
           27,
           68,
           24,
           24,
           17,
           90,
           25,
           62,
           28,
           8,
           40,
           25,
           46,
           134,
           73,
           25,
           43,
           41,
           25,
           24,
           23,
           10,
           10,
           22,
           15,
           35,
           39,
           29,
           12,
           41,
           4,
           53,
           16,
           44,
           12,
           18,
           27,
           16,
           7,
           66,
           77,
           7,
           12,
           8,
           22,
           45,
           2,
           8,
           8,
           6,
           21,
           11,
           21,
           10,
           13,
           38,
           37,
           43,
           12,
           23,
           12,
           29,
           3,
           18,
           42,
           13,
           8,
           74,
           7,
           19,
           4,
           18,
           4,
           18,
           5,
           28,
           41,
           7,
           15,
           22,
           10,
           29,
           13,
           19,
           47,
           59,
           17,
           21,
           1,
           3,
           12,
           4,
           32,
           11,
           13,
           28,
           1,
           13,
           32,
           30,
           38,
           46,
           29,
           29,
           5,
           33,
           17,
           9,
           44,
           15,
           3,
           9,
           3,
           21,
           9,
           26,
           9,
           7,
           28,
           19,
           12,
           3,
           1,
           25,
           4,
           11,
           26,
           13,
           5,
           25,
           6,
           14,
           12,
           11,
           22,
           10,
           27,
           14,
           15,
           7,
           8,
           5,
           22,
           7,
           19,
           9,
           10,
           10,
           13,
           19,
           10,
           18,
           3,
           13,
           44,
           3,
           11,
           3,
           13,
           10,
           31,
           11,
           3,
           45,
           7,
           23,
           7,
           1,
           8,
           21,
           18,
           6,
           19,
           17,
           20,
           15,
           38,
           12,
           6,
           6,
           9,
           30,
           6,
           39,
           26,
           20,
           30,
           39,
           25,
           4,
           12,
           14,
           32,
           8,
           48,
           13,
           18,
           22,
           17,
           6,
           8,
           1,
           1,
           6,
           8,
           18,
           26,
           6,
           5,
           7,
           36,
           19,
           7,
           6,
           19,
           12,
           6,
           8,
           9,
           7,
           11,
           8,
           3,
           4,
           23,
           4,
           4,
           4,
           8,
           15,
           7,
           19,
           12,
           33,
           10,
           10,
           7,
           7,
           5,
           15,
           11,
           4,
           8,
           19,
           16,
           9,
           16,
           13,
           9,
           19,
           26,
           15,
           17,
           6,
           7,
           7,
           2,
           15,
           3,
           3,
           7,
           7,
           20,
           12,
           9,
           8,
           9,
           5,
           5,
           18,
           2,
           7,
           2,
           2,
           2,
           1,
           1,
           16,
           7,
           14,
           11,
           23,
           7,
           4,
           3,
           4,
           1,
           2,
           6,
           3,
           5,
           1,
           6,
           3,
           6,
           1,
           4,
           4,
           2,
           5,
           2,
           11,
           10,
           9,
           4,
           1,
           1,
           1,
           2,
           1,
           5,
           2,
           5,
           4,
           1,
           1,
           2,
           3,
           1,
           5,
           2,
           6,
           3,
           3,
           2,
           2,
           2,
           3,
           2,
           1,
           1,
           2,
           1,
           5,
           6,
           4,
           3,
           2,
           3,
           1,
           2,
           10,
           7,
           4,
           5,
           7,
           6,
           8,
           4,
           6,
           3,
           5,
           6,
           3,
           6,
           3,
           2,
           3,
           5,
           9,
           7,
           6,
           5,
           5,
           2,
           7,
           10,
           18,
           4,
           4,
           13,
           6,
           5,
           20,
           3,
           7,
           4,
           28,
           6,
           8,
           1,
           9,
           5,
           2,
           3,
           16,
           3,
           11,
           4,
           4,
           3,
           10,
           8,
           5,
           12,
           4,
           3,
           5,
           3,
           2,
           10,
           7,
           2,
           9,
           5,
           8,
           5,
           7,
           5,
           4,
           19,
           4,
           15,
           1,
           3,
           8,
           2,
           15,
           1,
           1,
           6,
           2,
           7,
           1,
           1,
           7,
           1,
           1,
           7,
           3,
           3,
           3,
           6,
           2,
           6,
           12,
           5,
           9,
           2,
           9,
           6,
           8,
           1,
           2,
           18,
           8,
           11,
           2,
           1,
           12,
           3,
           4,
           1,
           5,
           4,
           5,
           3,
           2,
           1,
           1,
           1,
           5,
           5,
           2,
           1,
           4,
           2,
           5,
           2,
           10,
           3,
           1,
           3,
           1,
           3,
           5,
           1,
           5,
           6,
           3,
           7,
           1,
           3,
           5,
           12,
           2,
           1,
           4,
           7,
           2,
           8,
           1,
           1,
           7,
           3,
           5,
           5,
           7,
           2,
           1,
           6,
           4,
           1,
           4,
           3,
           4,
           10,
           2,
           2,
           1,
           3,
           4,
           1,
           2,
           1,
           2,
           2,
           2,
           3,
           4,
           2,
           5,
           2,
           1,
           7,
           1,
           4,
           1,
           1,
           1,
           1,
           1,
           1,
           1,
           1,
           1,
           1,
           1,
           1,
           2,
           1,
           1,
           1,
           1,
           2,
           1,
           1,
           1,
           1,
           1,
           1,
           2,
           1,
           1,
           2,
           4,
           2,
           6,
           5,
           1,
           2,
           1,
           1,
           5,
           6,
           1,
           4,
           1,
           3,
           1,
           1,
           4,
           1,
           3,
           4,
           3,
           3,
           2,
           4,
           1,
           1,
           10,
           1,
           2,
           1,
           1,
           9,
           1,
           3,
           3,
           1,
           1,
           1,
           1,
           4,
           2,
           1,
           2,
           1,
           1,
           1,
           1,
           1,
           1,
           1,
           3,
           1,
           1,
           2,
           4,
           2,
           1,
           2,
           1,
           1,
           1,
           1,
           1,
           3,
           1,
           1,
           1,
           2,
           1,
           3,
           1,
           1,
           1,
           2,
           1,
           4,
           1,
           1,
           1,
           1,
           1,
           1,
           1,
           2,
           1,
           1,
           1,
           1,
           1,
           1,
           1,
           1,
           1,
           1
          ],
          "coloraxis": "coloraxis",
          "symbol": "circle"
         },
         "mode": "markers",
         "name": "",
         "showlegend": false,
         "type": "scattergl",
         "x": [
          1.7100105285644531,
          -15.36418342590332,
          -28.954227447509766,
          12.767066955566406,
          -18.93157958984375,
          -0.7370128631591797,
          13.430497169494629,
          19.046180725097656,
          26.26774787902832,
          10.778072357177734,
          12.079178810119629,
          13.224853515625,
          23.482666015625,
          16.519392013549805,
          -18.93101692199707,
          0.6300040483474731,
          -13.609196662902832,
          -4.334747314453125,
          5.5954270362854,
          20.20433235168457,
          -7.164218425750732,
          -25.60805892944336,
          22.196996688842773,
          9.887224197387695,
          -2.016057014465332,
          7.39736270904541,
          -16.25937271118164,
          -17.539953231811523,
          -23.134565353393555,
          13.508898735046387,
          -20.551822662353516,
          13.788134574890137,
          -13.187296867370605,
          -11.359724044799805,
          4.536893367767334,
          1.2662640810012817,
          -3.6258718967437744,
          -13.288634300231934,
          -1.0407922267913818,
          -11.521605491638184,
          -15.529088973999023,
          11.884727478027344,
          -12.657463073730469,
          -3.010523557662964,
          9.911324501037598,
          -1.6270949840545654,
          15.836657524108887,
          16.263153076171875,
          -12.064970016479492,
          5.989584445953369,
          -17.866453170776367,
          17.291034698486328,
          -0.11203701049089432,
          -19.8179931640625,
          12.011141777038574,
          22.538427352905273,
          4.976398944854736,
          7.64188814163208,
          11.739579200744629,
          11.719281196594238,
          11.182019233703613,
          -20.69872283935547,
          -17.63130760192871,
          19.854394912719727,
          3.582118272781372,
          -24.33069610595703,
          -23.99924087524414,
          -22.434885025024414,
          21.456491470336914,
          1.1177932024002075,
          -16.879592895507812,
          -26.138181686401367,
          -20.80293083190918,
          8.871491432189941,
          -12.718564987182617,
          6.858747482299805,
          -24.49016571044922,
          -12.397246360778809,
          -24.671009063720703,
          -13.80174732208252,
          17.204166412353516,
          -24.517349243164062,
          9.656128883361816,
          -9.752849578857422,
          -2.720210552215576,
          11.309337615966797,
          -18.892024993896484,
          -24.111419677734375,
          15.699789047241211,
          -12.822968482971191,
          15.10309886932373,
          8.878239631652832,
          15.317834854125977,
          -18.976594924926758,
          -23.67452049255371,
          -23.933727264404297,
          19.249834060668945,
          20.501039505004883,
          29.85487174987793,
          26.142492294311523,
          -18.782299041748047,
          -14.232808113098145,
          4.5818257331848145,
          0.34978851675987244,
          -6.536862373352051,
          -9.033538818359375,
          3.1539454460144043,
          7.687767028808594,
          14.406877517700195,
          -8.680415153503418,
          -15.6331787109375,
          -6.723996639251709,
          6.029622554779053,
          11.507516860961914,
          -17.087352752685547,
          10.778085708618164,
          -24.25096321105957,
          -21.1546688079834,
          12.36130142211914,
          -1.0440202951431274,
          -22.779766082763672,
          -10.357634544372559,
          -1.476290225982666,
          23.595252990722656,
          -19.127199172973633,
          -2.6663177013397217,
          30.007198333740234,
          -13.26439094543457,
          10.883233070373535,
          5.186435699462891,
          26.768508911132812,
          28.57071876525879,
          21.054798126220703,
          23.91851043701172,
          27.689010620117188,
          18.88517189025879,
          23.541851043701172,
          -15.381280899047852,
          -17.755373001098633,
          -10.892258644104004,
          -21.05944061279297,
          -16.793161392211914,
          -27.796724319458008,
          -24.67436408996582,
          -13.426709175109863,
          -6.4196648597717285,
          -23.045578002929688,
          -7.30570650100708,
          29.19666862487793,
          13.8853178024292,
          16.232807159423828,
          13.005565643310547,
          13.297470092773438,
          18.547990798950195,
          -11.874960899353027,
          13.378678321838379,
          6.771764755249023,
          -24.85196876525879,
          -11.937177658081055,
          16.999080657958984,
          -17.39724349975586,
          9.518593788146973,
          -14.164838790893555,
          -26.88288116455078,
          6.099114894866943,
          9.501350402832031,
          -14.447158813476562,
          15.512898445129395,
          14.370061874389648,
          10.150729179382324,
          10.993703842163086,
          -24.95024299621582,
          -22.637571334838867,
          -25.24466896057129,
          16.144269943237305,
          -24.717546463012695,
          15.90861988067627,
          29.66273307800293,
          21.124216079711914,
          20.13566780090332,
          6.026190757751465,
          13.203875541687012,
          -24.80019187927246,
          -13.261249542236328,
          28.23305892944336,
          -23.159250259399414,
          30.12040901184082,
          5.660972595214844,
          5.279770851135254,
          16.673837661743164,
          30.378110885620117,
          8.025699615478516,
          31.49869728088379,
          20.502086639404297,
          -23.709306716918945,
          6.300955295562744,
          27.76993751525879,
          12.143336296081543,
          13.024532318115234,
          17.174678802490234,
          11.004283905029297,
          -23.82670021057129,
          16.367435455322266,
          -24.907169342041016,
          18.77105712890625,
          8.746636390686035,
          12.876046180725098,
          18.222976684570312,
          19.449811935424805,
          -23.06875991821289,
          30.27549171447754,
          -1.4922820329666138,
          18.58893585205078,
          13.908726692199707,
          -26.064786911010742,
          9.679838180541992,
          -27.370634078979492,
          -13.826753616333008,
          -24.700944900512695,
          -9.784849166870117,
          16.294160842895508,
          -21.49685287475586,
          15.089085578918457,
          8.181878089904785,
          -27.533098220825195,
          -25.00091552734375,
          -28.237852096557617,
          -28.341764450073242,
          -15.0496187210083,
          -28.16745948791504,
          -19.48577117919922,
          -23.644481658935547,
          -22.793697357177734,
          31.050506591796875,
          6.9497809410095215,
          33.413204193115234,
          -11.738550186157227,
          21.959882736206055,
          -22.521297454833984,
          9.81098747253418,
          -0.7549009323120117,
          13.426384925842285,
          -5.154004096984863,
          1.591135859489441,
          1.9956086874008179,
          11.851194381713867,
          -4.941352367401123,
          4.571527481079102,
          -0.873884916305542,
          6.311668872833252,
          10.619596481323242,
          -22.732290267944336,
          8.01679801940918,
          -22.060802459716797,
          -21.701480865478516,
          7.174572467803955,
          -21.88018226623535,
          8.55206298828125,
          -3.1093966960906982,
          0.5096150636672974,
          -8.071004867553711,
          28.35515022277832,
          1.2705440521240234,
          1.3698798418045044,
          -25.064197540283203,
          -4.362542629241943,
          -5.816765308380127,
          12.216758728027344,
          10.624197006225586,
          -14.72349739074707,
          -25.80046844482422,
          10.34613037109375,
          10.988228797912598,
          -18.955917358398438,
          20.014772415161133,
          22.805686950683594,
          5.592442989349365,
          -8.434881210327148,
          21.114994049072266,
          -21.45705223083496,
          -7.199110984802246,
          -19.788644790649414,
          0.6237002015113831,
          -1.4857925176620483,
          14.732276916503906,
          17.11931037902832,
          -7.7843403816223145,
          4.001359462738037,
          -2.737929105758667,
          12.797306060791016,
          -25.02912712097168,
          5.282502174377441,
          11.69760513305664,
          -3.293595790863037,
          -15.142518997192383,
          -3.1896166801452637,
          3.694143056869507,
          7.229001998901367,
          2.1509506702423096,
          -21.07794189453125,
          1.5910853147506714,
          20.23202133178711,
          18.62215232849121,
          -10.953133583068848,
          19.57612419128418,
          8.962878227233887,
          -14.449901580810547,
          13.481331825256348,
          -2.6867082118988037,
          -0.8856520056724548,
          13.41860580444336,
          0.4049922525882721,
          9.339693069458008,
          -5.424172878265381,
          10.79659366607666,
          10.887228965759277,
          13.877790451049805,
          19.330141067504883,
          21.374069213867188,
          24.982206344604492,
          -7.45281982421875,
          -3.4048941135406494,
          -5.250557899475098,
          -4.6122355461120605,
          -3.840573310852051,
          -2.2706799507141113,
          2.8256747722625732,
          -0.8099461197853088,
          0.705896258354187,
          -3.5478575229644775,
          2.6476149559020996,
          -0.9186914563179016,
          -0.6682662963867188,
          4.131697654724121,
          4.760136127471924,
          -1.1429269313812256,
          3.507157325744629,
          -8.50139045715332,
          -4.067066669464111,
          18.96596908569336,
          -3.8557934761047363,
          -11.491023063659668,
          0.35368600487709045,
          18.215152740478516,
          20.3874454498291,
          11.904193878173828,
          12.138911247253418,
          1.2324610948562622,
          -4.560723304748535,
          5.041110992431641,
          2.671186923980713,
          4.9246931076049805,
          -6.194569110870361,
          -24.31785774230957,
          9.152750015258789,
          -21.358142852783203,
          30.062379837036133,
          -12.303455352783203,
          9.203929901123047,
          8.974305152893066,
          -18.649137496948242,
          23.743022918701172,
          -14.220183372497559,
          5.7366790771484375,
          -16.03108024597168,
          -21.736713409423828,
          3.3837459087371826,
          -2.5141584873199463,
          -4.619853973388672,
          -7.571589946746826,
          7.210979461669922,
          7.437497615814209,
          -22.62631607055664,
          -16.841928482055664,
          7.340305328369141,
          -20.626453399658203,
          -15.98829174041748,
          -18.204755783081055,
          -3.8013813495635986,
          -17.648632049560547,
          6.219888210296631,
          7.181301116943359,
          -5.972551345825195,
          -11.8312406539917,
          -25.087127685546875,
          13.339945793151855,
          5.765148639678955,
          -17.48929214477539,
          -20.483776092529297,
          15.234810829162598,
          -2.0125858783721924,
          -15.406028747558594,
          -15.191444396972656,
          -14.744732856750488,
          -21.480968475341797,
          16.147502899169922,
          -20.34933853149414,
          -15.814996719360352,
          -27.847976684570312,
          -17.90692901611328,
          -9.666244506835938,
          -28.13897132873535,
          -25.02308464050293,
          30.57899284362793,
          -21.00481414794922,
          -14.544073104858398,
          -12.387049674987793,
          4.099427223205566,
          -11.197416305541992,
          -0.08682650327682495,
          -9.574795722961426,
          7.6293511390686035,
          -5.2105560302734375,
          27.671504974365234,
          -16.065832138061523,
          -28.006235122680664,
          -13.09639835357666,
          -21.043685913085938,
          16.663074493408203,
          19.377914428710938,
          -0.8433154821395874,
          -7.049821853637695,
          21.46497344970703,
          0.21808312833309174,
          11.918831825256348,
          -4.125494480133057,
          29.296001434326172,
          24.587478637695312,
          16.394275665283203,
          14.177897453308105,
          -22.45213508605957,
          16.972227096557617,
          15.44206714630127,
          1.159394383430481,
          6.834771633148193,
          2.9007368087768555,
          0.5098538398742676,
          1.0872995853424072,
          0.2809164822101593,
          0.11881700903177261,
          -6.005072116851807,
          -0.9428166151046753,
          24.538402557373047,
          -2.4794061183929443,
          12.880691528320312,
          -5.047070026397705,
          8.310969352722168,
          11.793742179870605,
          -9.209490776062012,
          12.957971572875977,
          -22.664247512817383,
          -7.705279350280762,
          -13.180509567260742,
          -13.405051231384277,
          11.052130699157715,
          -15.876559257507324,
          -3.3840811252593994,
          -5.034304141998291,
          -3.0769810676574707,
          -7.413881778717041,
          9.199844360351562,
          5.652650356292725,
          14.145479202270508,
          11.797809600830078,
          3.78572678565979,
          6.415958404541016,
          4.858676910400391,
          -14.06747055053711,
          16.712203979492188,
          -16.530576705932617,
          -8.142840385437012,
          -25.787981033325195,
          -10.322978019714355,
          21.891435623168945,
          22.196775436401367,
          -8.970868110656738,
          3.7988741397857666,
          10.386303901672363,
          22.39453125,
          29.27081871032715,
          11.734079360961914,
          22.180526733398438,
          19.30112648010254,
          20.6060848236084,
          7.166623115539551,
          17.237077713012695,
          10.05445384979248,
          19.406145095825195,
          11.293400764465332,
          5.131918430328369,
          18.550891876220703,
          22.524578094482422,
          20.886558532714844,
          11.399953842163086,
          15.23870849609375,
          20.99597930908203,
          12.886539459228516,
          28.5035400390625,
          21.227861404418945,
          -17.862520217895508,
          30.30811309814453,
          -17.657482147216797,
          5.517482280731201,
          25.765605926513672,
          11.458419799804688,
          26.386743545532227,
          25.816362380981445,
          23.407339096069336,
          21.37627601623535,
          4.717400074005127,
          27.8420352935791,
          12.972320556640625,
          7.95665979385376,
          23.38556480407715,
          7.711790084838867,
          3.0775110721588135,
          23.105257034301758,
          15.756896018981934,
          20.630447387695312,
          19.032106399536133,
          14.193365097045898,
          16.563690185546875,
          18.35085678100586,
          4.23401403427124,
          20.60428810119629,
          20.984588623046875,
          16.9367733001709,
          20.241849899291992,
          14.7689847946167,
          13.734352111816406,
          2.32292103767395,
          4.65739107131958,
          27.401655197143555,
          18.281211853027344,
          -5.158042907714844,
          23.687990188598633,
          10.382588386535645,
          -6.821732044219971,
          -14.863707542419434,
          -11.283451080322266,
          -16.568479537963867,
          -13.905998229980469,
          5.471926212310791,
          0.5553358793258667,
          -0.9466249942779541,
          -12.680997848510742,
          -0.22071631252765656,
          31.17991828918457,
          7.752720355987549,
          -24.84938621520996,
          -10.320293426513672,
          -13.285377502441406,
          -9.280757904052734,
          -11.403399467468262,
          -4.929169654846191,
          -5.669384479522705,
          19.788415908813477,
          1.9936052560806274,
          -22.220783233642578,
          -11.159461975097656,
          -14.031561851501465,
          -6.502649784088135,
          -10.371160507202148,
          -10.1143217086792,
          -13.497849464416504,
          -21.052963256835938,
          -5.57497501373291,
          -17.72803497314453,
          -4.039807319641113,
          9.392379760742188,
          -20.285348892211914,
          -9.125096321105957,
          -11.725815773010254,
          -4.9199419021606445,
          -18.077983856201172,
          -21.291088104248047,
          4.87816858291626,
          -16.39274024963379,
          -20.073617935180664,
          3.7541472911834717,
          -0.2883144021034241,
          19.520299911499023,
          -1.450079083442688,
          9.663744926452637,
          -14.026949882507324,
          -20.271089553833008,
          4.428736686706543,
          -25.531543731689453,
          15.892257690429688,
          -5.539085865020752,
          -11.548174858093262,
          3.0507280826568604,
          10.36041259765625,
          28.59239387512207,
          -5.670894145965576,
          -16.576519012451172,
          -22.7172794342041,
          6.4317169189453125,
          -3.9779748916625977,
          25.094797134399414,
          5.567278861999512,
          27.94271469116211,
          28.855892181396484,
          10.241530418395996,
          3.8460652828216553,
          23.687707901000977,
          6.760244846343994,
          9.335373878479004,
          7.131719589233398,
          26.829204559326172,
          13.760757446289062,
          13.463495254516602,
          12.270522117614746,
          6.485335350036621,
          7.802950382232666,
          -2.259817123413086,
          3.8881564140319824,
          23.51563835144043,
          -6.334066390991211,
          -17.946544647216797,
          15.338903427124023,
          -8.157244682312012,
          -13.092634201049805,
          14.235455513000488,
          -10.605040550231934,
          24.774320602416992,
          -21.911884307861328,
          -27.98110580444336,
          -9.971965789794922,
          -15.200445175170898,
          16.18333625793457,
          25.743444442749023,
          18.77764892578125,
          14.32895278930664,
          -5.018031120300293,
          14.361516952514648,
          2.536165475845337,
          23.795713424682617,
          11.427271842956543,
          16.13202667236328,
          20.122142791748047,
          6.237178325653076,
          9.109871864318848,
          25.277118682861328,
          12.772377014160156,
          12.111220359802246,
          19.53826332092285,
          5.460011959075928,
          18.66839027404785,
          -1.1877398490905762,
          21.455942153930664,
          15.14069652557373,
          12.189614295959473,
          22.23723793029785,
          29.71637535095215,
          16.318574905395508,
          -0.8254184126853943,
          -8.74962043762207,
          3.4586949348449707,
          -0.9392927885055542,
          26.021886825561523,
          -27.82513427734375,
          21.622249603271484,
          23.27912139892578,
          -30.5046329498291,
          4.175389289855957,
          -11.569284439086914,
          4.104352951049805,
          0.34690940380096436,
          7.223336219787598,
          18.373626708984375,
          -5.331568241119385,
          -13.256674766540527,
          -9.799928665161133,
          18.208759307861328,
          -8.10683822631836,
          -16.16176986694336,
          -5.482604503631592,
          13.563143730163574,
          -4.435128688812256,
          -5.989279747009277,
          -2.1097960472106934,
          -1.917799472808838,
          -20.018678665161133,
          -20.8252010345459,
          5.999670028686523,
          -5.591104507446289,
          1.7218071222305298,
          -2.9679694175720215,
          17.13368034362793,
          11.216099739074707,
          -23.593608856201172,
          4.982571125030518,
          11.353204727172852,
          -1.436946153640747,
          -2.5953450202941895,
          -1.5794739723205566,
          3.9563677310943604,
          0.4654473066329956,
          -3.4824419021606445,
          1.6712064743041992,
          -15.646190643310547,
          -1.0126899480819702,
          13.965962409973145,
          19.05585479736328,
          -8.341246604919434,
          6.410655975341797,
          15.521577835083008,
          10.537248611450195,
          -22.49129867553711,
          -16.982059478759766,
          3.4456264972686768,
          -2.6514270305633545,
          0.6339111328125,
          23.776803970336914,
          2.408141851425171,
          -11.160168647766113,
          8.312155723571777,
          -4.129771709442139,
          -14.5980806350708,
          -25.28455352783203,
          -8.168139457702637,
          -3.983397960662842,
          8.312918663024902,
          -7.359955787658691,
          -3.5958595275878906,
          1.655402421951294,
          -20.39676856994629,
          -20.176687240600586,
          10.169248580932617,
          -21.17444610595703,
          -25.011032104492188,
          0.8559991717338562,
          -1.2950959205627441,
          -17.371477127075195,
          9.24697494506836,
          10.112588882446289,
          -17.658077239990234,
          -28.18632698059082,
          -2.9968347549438477,
          13.646500587463379,
          -20.939973831176758,
          -8.515679359436035,
          2.1110682487487793,
          5.358483791351318,
          9.867661476135254,
          11.756329536437988,
          -18.355812072753906,
          3.1077544689178467,
          9.302083015441895,
          -15.216483116149902,
          1.347419023513794,
          3.647674083709717,
          1.2473071813583374,
          -16.88408088684082,
          -10.209513664245605,
          1.6719716787338257,
          -4.349314212799072,
          -8.111200332641602,
          -3.829007148742676,
          -9.98149299621582,
          0.5127421617507935,
          -28.871376037597656,
          -6.482407093048096,
          -10.674554824829102,
          22.51511001586914,
          6.741816997528076,
          -20.039642333984375,
          -14.819143295288086,
          15.469244003295898,
          -19.39542007446289,
          -0.7192099690437317,
          24.120424270629883,
          -17.31787109375,
          -15.85204792022705,
          -9.572016716003418,
          -1.0898207426071167,
          17.094013214111328,
          -6.258791923522949,
          -16.639751434326172,
          -21.30653953552246,
          31.74324607849121,
          -20.58639907836914,
          -18.66107749938965,
          0.9723238945007324,
          -9.51936149597168,
          -22.90993881225586,
          -16.08974266052246,
          8.065531730651855,
          -14.410252571105957,
          8.541924476623535,
          21.861886978149414,
          25.452491760253906,
          -16.77276611328125,
          -17.438854217529297,
          -14.941489219665527,
          -12.55744457244873,
          7.488277912139893,
          15.560380935668945,
          -10.158197402954102,
          -5.102221965789795,
          -18.178831100463867,
          30.500965118408203,
          -20.5100154876709,
          8.455851554870605,
          12.050470352172852,
          -10.522777557373047,
          -8.136655807495117,
          -18.608278274536133,
          -11.989009857177734,
          8.396188735961914,
          -13.812217712402344,
          13.055445671081543,
          -15.386813163757324,
          -21.7825870513916,
          -0.18609081208705902,
          -6.7993388175964355,
          -5.292490005493164,
          -7.913912296295166,
          -9.765941619873047,
          -21.08523941040039,
          15.150516510009766,
          -2.576956033706665,
          -6.758777618408203,
          -16.382625579833984,
          -14.220412254333496,
          -18.774377822875977,
          -13.782675743103027,
          -9.859068870544434,
          -3.2036404609680176,
          -6.765512943267822,
          9.692060470581055,
          -12.600377082824707,
          -7.303301811218262,
          9.45920181274414,
          6.52025032043457,
          6.60688591003418,
          -2.0250656604766846,
          -3.8407557010650635,
          -15.198811531066895,
          -15.78431510925293,
          7.0666913986206055,
          14.945738792419434,
          4.709683895111084,
          -0.32432061433792114,
          -8.112775802612305,
          14.789741516113281,
          8.91903305053711,
          -17.1216983795166,
          13.257527351379395,
          16.34881591796875,
          -3.591547966003418,
          1.4943691492080688,
          1.6057389974594116,
          10.364770889282227,
          16.130416870117188,
          7.555846214294434,
          0.493342787027359,
          -6.11251163482666,
          -8.256050109863281,
          14.667426109313965,
          -9.07117748260498,
          14.340057373046875,
          -20.714704513549805,
          24.76528549194336,
          -19.221729278564453,
          23.011064529418945,
          19.880891799926758,
          -17.468856811523438,
          -23.650278091430664,
          -6.7303385734558105,
          30.23269271850586,
          -0.9174628257751465,
          8.472496032714844,
          5.843970775604248,
          -5.706610679626465,
          4.981287956237793,
          -0.3109099864959717,
          -2.9570605754852295,
          -1.4359426498413086,
          -5.976937294006348,
          6.620572566986084,
          7.735764026641846,
          1.960899829864502,
          0.49645113945007324,
          2.205305814743042,
          10.504676818847656,
          2.277116537094116,
          13.779061317443848,
          -6.75563907623291,
          -3.4917120933532715,
          -4.867146968841553,
          -1.4750914573669434,
          3.419853925704956,
          -0.6122448444366455,
          14.794000625610352,
          0.9949506521224976,
          12.973599433898926,
          -0.06585124135017395,
          10.89914608001709,
          -1.4691766500473022,
          6.935027122497559,
          18.81000518798828,
          13.689214706420898,
          -10.998737335205078,
          4.227637767791748,
          -1.9885648488998413,
          2.599311351776123,
          10.790172576904297,
          29.485313415527344,
          29.87911605834961,
          26.517662048339844,
          -3.5595948696136475,
          2.576899290084839,
          19.335241317749023,
          5.9767746925354,
          6.061639785766602,
          -22.973127365112305,
          9.388948440551758,
          21.42442512512207,
          9.857719421386719,
          13.110907554626465,
          18.626733779907227,
          -11.961918830871582,
          -7.259263038635254,
          -17.36005401611328,
          1.7212287187576294,
          -17.32245635986328,
          -5.2398576736450195,
          -10.288945198059082,
          -7.253458499908447,
          -18.333660125732422,
          4.627421855926514,
          -12.95851993560791,
          4.267834663391113,
          4.238186836242676,
          -11.850175857543945,
          2.7558505535125732,
          -11.218578338623047,
          -0.09044426679611206,
          -16.48052215576172,
          21.790225982666016,
          -2.5285696983337402,
          -19.443836212158203,
          5.372896194458008,
          -12.815467834472656,
          11.722737312316895,
          1.267701506614685,
          12.125248908996582,
          -6.268767356872559,
          1.4460580348968506,
          -9.655566215515137,
          6.141829013824463,
          1.9207918643951416,
          13.458507537841797,
          7.510697841644287,
          4.9324445724487305,
          3.872096538543701,
          10.596607208251953,
          19.33626365661621,
          -1.0224609375,
          22.942092895507812,
          2.5144033432006836,
          24.038480758666992,
          12.180582046508789,
          -18.151887893676758,
          2.347127676010132,
          1.7877627611160278,
          -0.5557929873466492,
          25.00241470336914,
          6.194831848144531,
          3.902867317199707,
          1.1155205965042114,
          -9.861919403076172,
          6.79581880569458,
          -3.024754762649536,
          -10.490411758422852,
          7.292669296264648,
          -14.53697681427002,
          -6.8105974197387695,
          -9.265517234802246,
          -11.924287796020508,
          -9.229394912719727,
          -3.9751181602478027,
          1.970024824142456,
          -6.875391960144043,
          -0.8732675313949585,
          -6.568620204925537,
          -6.504517078399658,
          -5.4589715003967285,
          6.215710639953613,
          4.549069404602051,
          -28.060644149780273,
          -5.130312442779541,
          13.900151252746582,
          -7.720555782318115,
          8.712301254272461,
          -4.445965766906738,
          -16.547786712646484,
          -13.595147132873535,
          -6.628660678863525,
          -11.458751678466797,
          6.452241897583008,
          -11.575157165527344,
          8.932843208312988,
          0.8511679172515869,
          6.024613380432129,
          4.108182907104492,
          0.9937098026275635,
          5.973546981811523,
          5.0486297607421875,
          4.256950855255127,
          0.519108772277832,
          1.8779202699661255,
          -9.527053833007812,
          -18.194730758666992,
          14.653359413146973,
          -6.4190192222595215,
          5.124627113342285,
          20.07599449157715,
          14.923060417175293,
          1.8597458600997925,
          -12.102103233337402,
          -0.7900270223617554,
          -1.9533647298812866,
          6.8873820304870605,
          1.8408379554748535,
          -9.241183280944824,
          -5.188107013702393,
          -10.836221694946289,
          -13.399127960205078,
          -12.06037712097168,
          -7.6889238357543945,
          -8.743074417114258,
          -2.419128894805908,
          -6.745330333709717,
          4.541456699371338,
          4.9988813400268555,
          18.52194595336914,
          -14.71412181854248,
          -16.444580078125,
          -5.545787811279297,
          -4.7982354164123535,
          -9.7594575881958,
          14.860952377319336,
          -22.57581329345703,
          -22.186887741088867,
          0.08665727823972702,
          -13.373458862304688,
          -1.9493935108184814,
          -8.191624641418457,
          -10.041966438293457,
          -19.548084259033203,
          -3.3854544162750244,
          -15.73835277557373,
          2.1891028881073,
          5.823863506317139,
          0.5780225992202759,
          3.483137845993042,
          20.648494720458984,
          -15.51083755493164,
          9.487773895263672,
          -19.063854217529297,
          18.911542892456055,
          10.374831199645996,
          -5.639142036437988,
          -2.4682698249816895,
          13.307969093322754,
          2.214297294616699,
          26.205455780029297,
          -8.72632884979248,
          -11.96772289276123,
          6.619195461273193,
          -7.690821170806885,
          -1.9325114488601685,
          -23.443950653076172,
          1.2393471002578735,
          -15.576208114624023,
          -12.953975677490234,
          21.272624969482422,
          2.065345525741577,
          -0.6712900996208191,
          1.921103835105896,
          11.078248023986816,
          -3.3006362915039062,
          0.3913072943687439,
          2.8250739574432373,
          5.903979778289795,
          -2.6882288455963135,
          -13.941274642944336,
          -5.2891364097595215,
          -19.532384872436523,
          0.5695174932479858,
          1.835512399673462,
          1.8575531244277954,
          6.340761184692383,
          -2.673171281814575,
          8.81029224395752,
          17.18328094482422,
          29.552722930908203,
          -7.751821041107178,
          -1.7758722305297852,
          13.286457061767578,
          5.157773494720459,
          0.290623277425766,
          5.938250541687012,
          26.100393295288086,
          22.91121482849121,
          -3.902885913848877,
          -9.079479217529297,
          6.7403178215026855,
          -7.410786151885986,
          -2.9642443656921387,
          -4.104525566101074,
          8.796438217163086,
          8.506220817565918,
          8.78793716430664,
          15.898393630981445,
          -24.144927978515625,
          -5.239673614501953,
          7.340331554412842,
          4.052357196807861,
          9.317317008972168,
          -18.710769653320312,
          7.269021511077881,
          26.076248168945312,
          6.655011177062988,
          -4.542212009429932,
          7.256361484527588,
          15.05675983428955,
          26.629287719726562,
          -5.6530232429504395,
          -4.609725475311279,
          4.979071140289307,
          4.985981464385986,
          -10.752237319946289,
          6.931802272796631,
          -16.990554809570312,
          -24.7645206451416,
          30.009004592895508,
          25.438758850097656,
          13.654802322387695,
          18.792144775390625,
          9.200122833251953,
          -16.341360092163086,
          2.5668203830718994,
          8.131047248840332,
          24.07248878479004,
          13.886139869689941,
          6.286425590515137,
          -12.416324615478516,
          -13.904407501220703,
          3.9526779651641846,
          -4.217617988586426,
          -14.742743492126465,
          -2.6133787631988525,
          -10.35403823852539,
          9.984628677368164,
          11.505221366882324,
          0.0882907509803772,
          -3.646036148071289,
          -5.783971309661865,
          -3.966721296310425,
          -1.3115367889404297,
          -3.1575896739959717,
          -0.9685476422309875,
          -0.11110785603523254,
          -9.654884338378906,
          18.546663284301758,
          15.939506530761719,
          2.7731716632843018,
          9.877488136291504,
          -9.019744873046875,
          3.375023603439331,
          2.231597423553467,
          13.205096244812012,
          5.455733776092529,
          -15.82993221282959,
          -15.006523132324219,
          -12.89838695526123,
          -6.199333190917969,
          -12.772214889526367,
          -17.149702072143555,
          -8.488874435424805,
          -14.791419982910156,
          25.268505096435547,
          -4.510376453399658,
          -30.95218849182129,
          -18.65678596496582,
          -20.683837890625,
          10.04198932647705,
          21.535926818847656,
          9.84560489654541,
          6.000302314758301,
          -3.540252923965454,
          26.337135314941406,
          4.419162750244141,
          23.556894302368164,
          9.242820739746094,
          7.668985843658447,
          -16.797544479370117,
          23.21111297607422,
          21.703372955322266,
          22.494464874267578,
          -9.678848266601562,
          -9.682907104492188,
          -6.210707664489746,
          7.082574367523193,
          -18.026020050048828,
          -11.591362953186035,
          24.571983337402344,
          3.525991678237915,
          -11.085848808288574,
          8.43576717376709,
          6.809226989746094,
          -4.406116962432861,
          -15.69834041595459,
          -24.858306884765625,
          -20.84371566772461,
          -11.968750953674316,
          -8.717504501342773,
          -5.941199779510498,
          23.608469009399414,
          -13.464444160461426,
          -6.3110737800598145,
          8.435806274414062,
          2.5977320671081543,
          -18.187541961669922,
          -8.113285064697266,
          -3.5019845962524414,
          -10.557561874389648,
          30.591716766357422,
          28.868253707885742,
          -2.113039493560791,
          2.182596445083618,
          -17.62203025817871,
          -3.4368882179260254,
          -1.8982197046279907,
          -15.176336288452148,
          0.9077112078666687,
          -0.06247102469205856,
          7.395534038543701,
          1.3703044652938843,
          -8.432104110717773,
          16.021835327148438,
          -5.1800007820129395,
          -8.050736427307129,
          5.14500617980957,
          -11.829062461853027,
          4.020411491394043,
          10.415148735046387,
          7.767593860626221,
          -10.944287300109863,
          4.159786224365234,
          29.824848175048828,
          28.16356086730957,
          10.890067100524902,
          0.01192123256623745,
          -4.4824700355529785,
          -5.77098274230957,
          2.98722505569458,
          26.652942657470703,
          2.3668761253356934,
          -0.3006609380245209,
          -4.190622329711914,
          8.828561782836914,
          -2.6315784454345703,
          0.42970946431159973,
          -21.99209976196289,
          -15.03142261505127,
          -7.830011367797852,
          -8.076278686523438,
          6.3501458168029785,
          -3.817178249359131,
          -9.463944435119629,
          -8.04436206817627,
          -7.9960432052612305,
          -12.414482116699219,
          -11.059503555297852,
          -4.167561054229736,
          -2.9322280883789062,
          3.293262243270874,
          -17.27371597290039,
          -10.840676307678223,
          -21.786659240722656,
          6.575997829437256,
          0.3425672650337219,
          10.353604316711426,
          0.8504596948623657,
          -15.866755485534668,
          4.400928974151611,
          1.2948788404464722,
          8.56926441192627,
          -0.19523654878139496,
          -12.039963722229004,
          0.7267708778381348,
          -12.734585762023926,
          11.659131050109863,
          -3.4904112815856934,
          -16.307531356811523,
          -13.365751266479492,
          8.340322494506836,
          1.2032699584960938,
          -15.22689437866211,
          -13.14893913269043,
          3.743964195251465,
          6.831814765930176,
          0.43350768089294434,
          -16.41193389892578,
          4.687675952911377,
          -19.262392044067383,
          -6.362375259399414,
          7.7789716720581055,
          -6.742071151733398,
          -9.336527824401855,
          -5.761063575744629,
          3.3785765171051025,
          3.936138868331909,
          28.86614990234375,
          2.4995601177215576,
          -14.162834167480469,
          -6.272547245025635,
          5.090301990509033,
          7.163667678833008,
          2.2261300086975098,
          -4.274056911468506,
          2.35263991355896,
          2.136366844177246,
          -17.370868682861328,
          9.715194702148438,
          7.974464416503906,
          4.224618911743164,
          22.589223861694336,
          2.230902671813965,
          6.223710536956787,
          1.1387741565704346,
          -14.525871276855469,
          4.605958938598633,
          2.532874822616577,
          1.8856457471847534,
          2.5308711528778076,
          -2.8033454418182373,
          1.5696905851364136,
          3.8587772846221924,
          -1.8249293565750122,
          -2.7165024280548096,
          -5.717529773712158,
          2.0943222045898438,
          -15.505095481872559,
          2.5912015438079834,
          28.314180374145508,
          1.9305765628814697,
          4.947462558746338,
          1.1821259260177612,
          -11.562140464782715,
          28.732864379882812,
          1.2274643182754517,
          -1.4617557525634766,
          0.43064185976982117,
          4.444695472717285,
          23.390031814575195,
          1.8120676279067993,
          1.5090888738632202,
          -16.649776458740234,
          -1.0885295867919922,
          2.3097450733184814,
          16.95931053161621,
          22.459169387817383,
          21.979923248291016,
          -0.2086513489484787,
          -2.2970759868621826,
          14.32587718963623,
          1.3759549856185913,
          1.5057154893875122,
          3.1765799522399902,
          2.907794952392578,
          4.452441215515137,
          23.71755027770996,
          19.14006233215332,
          28.735309600830078,
          3.627094268798828,
          7.803105354309082,
          1.6594207286834717,
          2.5753440856933594,
          7.855207443237305,
          2.512239694595337,
          3.8244500160217285,
          7.826338768005371,
          3.7047722339630127,
          4.050843715667725,
          3.901060104370117,
          -0.10280752182006836,
          -10.62227725982666,
          11.287636756896973,
          24.379878997802734,
          9.665655136108398,
          25.119190216064453,
          -5.944549560546875,
          -5.097872734069824,
          -0.26560068130493164,
          9.85884952545166,
          1.2980725765228271,
          28.2362117767334,
          16.1572208404541,
          17.1473445892334,
          4.717947483062744,
          -4.903653144836426,
          -2.9493017196655273,
          -14.403552055358887,
          -17.4746150970459,
          -8.406657218933105,
          -0.06115185469388962,
          -6.079410076141357,
          2.6112945079803467,
          -15.103707313537598,
          4.781167507171631,
          2.9234344959259033,
          26.78880500793457,
          -6.434589862823486,
          -4.720635414123535,
          7.200748920440674,
          1.9612523317337036,
          7.269412994384766,
          -5.95505428314209,
          -7.603667259216309,
          -5.346584796905518,
          4.584447860717773,
          23.77117347717285,
          -5.063643932342529,
          -6.760971546173096,
          -19.277307510375977,
          4.1723103523254395,
          -4.11515998840332,
          2.4136340618133545,
          -9.919151306152344,
          29.823835372924805,
          -10.896262168884277,
          2.8715744018554688,
          0.1931600719690323,
          -16.285045623779297,
          -13.146998405456543,
          -9.341490745544434,
          -17.801647186279297,
          -22.966463088989258,
          25.058574676513672,
          -20.447057723999023,
          27.459596633911133,
          -18.665451049804688,
          17.077131271362305,
          27.32210922241211,
          6.905971050262451,
          27.11404800415039,
          -17.65764808654785,
          -2.993795156478882,
          -6.727923393249512,
          -5.281947612762451,
          27.496726989746094,
          26.931779861450195,
          8.94638442993164,
          -16.33858299255371,
          30.094202041625977,
          15.210145950317383,
          2.6206085681915283,
          11.589483261108398,
          2.9490339756011963,
          11.62251091003418,
          3.5327696800231934,
          1.0186892747879028,
          -13.410429000854492,
          -6.038306713104248,
          -5.288445949554443,
          -17.135765075683594,
          15.997157096862793,
          5.141815662384033,
          -2.0721821784973145,
          -18.4675235748291,
          2.993420362472534,
          1.3793374300003052,
          -7.781374454498291,
          -19.259693145751953,
          -13.652741432189941,
          15.471638679504395,
          -19.57622718811035,
          -7.481552600860596,
          11.021334648132324,
          -3.5236196517944336,
          -6.890279769897461,
          19.936676025390625,
          -13.359170913696289,
          -13.156865119934082,
          -15.2193603515625,
          -14.287578582763672,
          -14.071306228637695,
          -3.4135780334472656,
          11.483673095703125,
          -5.896755695343018,
          -3.450822114944458,
          -13.95436954498291,
          12.27438735961914,
          7.898470878601074,
          28.17974853515625,
          -3.8592329025268555,
          -14.144652366638184,
          -2.5386264324188232,
          -17.419790267944336,
          15.84935474395752,
          -3.571606159210205,
          -15.95056438446045,
          -3.7828328609466553,
          7.504847049713135,
          0.622089147567749,
          17.41349220275879,
          3.5407798290252686,
          -1.769574522972107,
          13.130899429321289,
          7.024541854858398,
          -7.185088157653809,
          -13.5316162109375,
          -22.953418731689453,
          -8.257645606994629,
          4.736178398132324,
          -7.291106700897217,
          -6.579441070556641,
          12.70658016204834,
          15.838894844055176,
          -15.629883766174316,
          -0.18539263308048248,
          -2.1046597957611084,
          -3.589085102081299,
          6.222032070159912,
          2.8253610134124756,
          29.69833755493164,
          14.977724075317383,
          -0.26398879289627075,
          20.56083869934082,
          15.267053604125977,
          10.069339752197266,
          19.362768173217773,
          5.673760414123535,
          -20.724084854125977,
          10.672223091125488,
          -22.444307327270508,
          -13.844640731811523,
          -5.3624444007873535,
          -5.419082164764404,
          2.892180919647217,
          -15.801066398620605,
          2.464170455932617,
          2.2759735584259033,
          -4.019907474517822,
          -16.85706901550293,
          15.126420021057129,
          5.059789657592773,
          -3.981496810913086,
          -1.2814171314239502,
          -7.886988639831543,
          0.5324357151985168,
          21.151470184326172,
          2.110616445541382,
          9.426162719726562,
          0.8960965275764465,
          3.077909469604492,
          2.602527141571045,
          -14.652416229248047,
          1.6224627494812012,
          -15.852304458618164,
          -15.82703685760498,
          2.2605741024017334,
          2.169718027114868,
          -14.531889915466309,
          -1.1223407983779907,
          -0.5207160711288452,
          2.6335840225219727,
          1.3397412300109863,
          1.5355268716812134,
          1.7536336183547974,
          2.973921298980713,
          28.990875244140625,
          -0.6439104676246643,
          1.8069604635238647,
          -18.52850341796875,
          2.153529167175293,
          -15.411812782287598,
          -15.172662734985352,
          27.448373794555664,
          1.9211333990097046,
          1.3184993267059326,
          4.095008373260498,
          1.3963816165924072,
          4.521758556365967,
          8.9888916015625,
          13.173354148864746,
          -17.54733657836914,
          -20.325653076171875,
          -15.248644828796387,
          5.960859775543213,
          14.689538955688477,
          -0.28911396861076355,
          7.368914604187012,
          2.6458346843719482,
          -2.117568254470825,
          4.037510871887207,
          -16.672962188720703,
          10.965426445007324,
          -13.77687931060791,
          3.519625663757324,
          7.528179168701172,
          0.47026777267456055,
          -4.594527244567871,
          2.1089658737182617,
          -3.5596840381622314,
          8.878545761108398,
          0.45659369230270386,
          -16.4589786529541,
          -21.380651473999023,
          -17.530115127563477,
          8.229138374328613,
          -17.16115951538086,
          -12.714665412902832,
          -9.818970680236816,
          -4.452249050140381,
          -6.311341285705566,
          20.882314682006836,
          1.0498956441879272,
          -2.470974922180176,
          -3.3459970951080322,
          14.325085639953613,
          13.256574630737305,
          16.442930221557617,
          28.326622009277344,
          5.970881938934326,
          27.907079696655273,
          27.8693904876709,
          29.770240783691406,
          27.9840030670166,
          -15.960498809814453,
          28.03093147277832,
          -15.200034141540527,
          27.32033348083496,
          28.295198440551758,
          -15.287468910217285,
          13.37096118927002,
          -2.762439250946045,
          -14.623992919921875,
          -18.037302017211914,
          12.9338960647583,
          28.36127281188965,
          -16.589502334594727,
          28.3884220123291,
          -15.454207420349121,
          -17.3841552734375,
          1.8840558528900146,
          -18.516216278076172,
          -16.584211349487305,
          -16.38361167907715,
          1.0738327503204346,
          -8.5191650390625,
          -2.7769899368286133,
          -2.6052887439727783,
          -2.3136582374572754,
          -4.207575798034668,
          1.0858854055404663,
          3.2363831996917725,
          -12.683432579040527,
          -17.303936004638672,
          2.980238676071167,
          4.121992588043213,
          3.9661316871643066,
          3.5980451107025146,
          3.7791213989257812,
          -4.781461238861084,
          5.844228744506836,
          1.087839961051941,
          6.794816493988037,
          -14.636836051940918,
          -0.9264048337936401,
          -2.929945230484009,
          -4.452549934387207,
          0.770908534526825,
          1.290574312210083,
          8.057124137878418,
          23.63210105895996
         ],
         "xaxis": "x",
         "y": [
          -30.707624435424805,
          -14.769505500793457,
          6.844758987426758,
          8.090404510498047,
          -4.0183515548706055,
          27.86683464050293,
          12.162219047546387,
          5.369564533233643,
          25.156925201416016,
          36.71730422973633,
          12.136417388916016,
          14.4766206741333,
          26.835905075073242,
          29.519142150878906,
          3.456641674041748,
          16.695194244384766,
          12.56748104095459,
          13.266114234924316,
          30.553638458251953,
          26.272024154663086,
          -10.547903060913086,
          1.07961905002594,
          22.556705474853516,
          -0.6957899332046509,
          1.3173818588256836,
          11.158953666687012,
          -2.9231810569763184,
          5.405649185180664,
          -14.751949310302734,
          4.328845977783203,
          -1.2859277725219727,
          24.301372528076172,
          13.619613647460938,
          0.12032265961170197,
          -38.98087692260742,
          -17.863754272460938,
          15.356968879699707,
          -6.791227340698242,
          27.681550979614258,
          -15.308631896972656,
          -3.6930694580078125,
          14.304726600646973,
          -2.0449745655059814,
          29.36261558532715,
          32.01875686645508,
          24.38749122619629,
          10.944304466247559,
          5.952479362487793,
          -1.5071429014205933,
          -32.45633316040039,
          10.173158645629883,
          23.3940372467041,
          15.343387603759766,
          -2.2583634853363037,
          14.74819278717041,
          25.4854736328125,
          27.05126190185547,
          12.313136100769043,
          30.907882690429688,
          30.954547882080078,
          30.463178634643555,
          -16.111907958984375,
          -3.9690959453582764,
          2.9324629306793213,
          29.303199768066406,
          -0.7801361083984375,
          -16.02099609375,
          -15.983089447021484,
          -1.9388540983200073,
          9.40684700012207,
          1.2045738697052002,
          -8.79662036895752,
          -2.7985787391662598,
          -17.750913619995117,
          10.472489356994629,
          10.697600364685059,
          -0.008428260684013367,
          -26.59973907470703,
          4.123137950897217,
          -17.990280151367188,
          18.18282699584961,
          -0.038269516080617905,
          18.261184692382812,
          -4.709395885467529,
          -15.678505897521973,
          26.306398391723633,
          2.9532482624053955,
          1.8225945234298706,
          15.454480171203613,
          14.080233573913574,
          12.875062942504883,
          9.285898208618164,
          30.434253692626953,
          -10.821996688842773,
          0.7444279789924622,
          6.403126239776611,
          -1.6988755464553833,
          2.7124955654144287,
          16.547019958496094,
          27.7100887298584,
          -7.663718223571777,
          -4.924774169921875,
          -39.15720748901367,
          -34.07052993774414,
          -13.140810012817383,
          -10.272629737854004,
          7.348181247711182,
          18.28378677368164,
          8.669191360473633,
          -18.19170570373535,
          1.8247153759002686,
          -6.032047748565674,
          30.130048751831055,
          19.595569610595703,
          -0.196759432554245,
          32.93655776977539,
          -3.469514846801758,
          -5.353499889373779,
          26.36376190185547,
          -24.958110809326172,
          -5.071836948394775,
          19.886232376098633,
          -6.936649799346924,
          29.511123657226562,
          -0.19851377606391907,
          1.34772789478302,
          23.34137535095215,
          15.703048706054688,
          13.932870864868164,
          -22.41279411315918,
          18.138580322265625,
          18.894710540771484,
          -0.5776796936988831,
          14.872313499450684,
          21.669435501098633,
          0.8900581002235413,
          29.432292938232422,
          -10.82664680480957,
          -18.818933486938477,
          0.8155828714370728,
          8.116462707519531,
          -18.353540420532227,
          2.7833938598632812,
          5.727621555328369,
          -20.07659339904785,
          5.850408554077148,
          -1.9253840446472168,
          -4.571658134460449,
          6.851484775543213,
          23.3110294342041,
          7.994659900665283,
          6.810997486114502,
          -1.331931710243225,
          19.34398651123047,
          -11.19741153717041,
          15.068981170654297,
          9.191934585571289,
          -19.00684928894043,
          1.9359464645385742,
          20.036006927490234,
          -8.706158638000488,
          4.197826862335205,
          -14.574421882629395,
          -6.860828399658203,
          29.668964385986328,
          32.1772346496582,
          -1.6659044027328491,
          14.415730476379395,
          26.9213809967041,
          22.589038848876953,
          32.718841552734375,
          8.057962417602539,
          4.150751113891602,
          7.573263168334961,
          12.728981018066406,
          8.362764358520508,
          5.010562896728516,
          20.564889907836914,
          19.544666290283203,
          22.751853942871094,
          -32.410675048828125,
          0.13587145507335663,
          8.493212699890137,
          15.766875267028809,
          19.509363174438477,
          8.292333602905273,
          21.945331573486328,
          11.06765365600586,
          27.64700698852539,
          16.59432029724121,
          21.114532470703125,
          15.685722351074219,
          16.95848846435547,
          0.7417846322059631,
          6.489523887634277,
          7.477132797241211,
          19.47347068786621,
          17.216079711914062,
          1.3156415224075317,
          11.474443435668945,
          8.419829368591309,
          3.718515634536743,
          6.2808356285095215,
          4.653328895568848,
          2.723757266998291,
          34.63652420043945,
          19.763437271118164,
          4.984480857849121,
          20.771249771118164,
          0.9585467576980591,
          19.414344787597656,
          24.185224533081055,
          7.198017120361328,
          -4.177910804748535,
          2.5281527042388916,
          16.180030822753906,
          -13.433764457702637,
          10.259916305541992,
          -9.765535354614258,
          -5.315901279449463,
          20.366981506347656,
          6.185808181762695,
          15.210864067077637,
          21.15329933166504,
          -1.3582745790481567,
          -4.521071910858154,
          -7.575873374938965,
          -7.522271633148193,
          -2.654147148132324,
          -7.380209445953369,
          -21.935184478759766,
          -10.628217697143555,
          -0.7786024212837219,
          19.58516502380371,
          -7.822168827056885,
          13.227965354919434,
          6.227086544036865,
          24.236614227294922,
          3.3667423725128174,
          -7.501854419708252,
          -0.6780993342399597,
          34.99590301513672,
          -11.52236557006836,
          32.5166015625,
          -10.42116928100586,
          12.480314254760742,
          -25.460037231445312,
          8.840492248535156,
          7.299838542938232,
          -4.196836948394775,
          29.627437591552734,
          -3.546159505844116,
          31.777896881103516,
          -17.77320098876953,
          -13.957651138305664,
          23.974191665649414,
          8.437355995178223,
          -2.9346060752868652,
          -9.02379035949707,
          -7.825882911682129,
          -7.034714698791504,
          12.087514877319336,
          -28.6176815032959,
          -6.958739757537842,
          2.2236809730529785,
          -5.320644378662109,
          4.725303649902344,
          12.82475757598877,
          33.66079330444336,
          6.983248710632324,
          -10.497065544128418,
          11.07336711883545,
          12.3944673538208,
          -1.9549055099487305,
          28.617517471313477,
          28.178606033325195,
          2.7924351692199707,
          -0.13869494199752808,
          6.984607696533203,
          -2.0072579383850098,
          -0.04665093496441841,
          -4.798440933227539,
          27.076168060302734,
          7.604763031005859,
          33.00141906738281,
          34.16642379760742,
          21.724660873413086,
          -33.952964782714844,
          -0.3760093152523041,
          7.698095798492432,
          -2.635836124420166,
          18.855783462524414,
          5.463418483734131,
          -11.881619453430176,
          4.282658100128174,
          11.851936340332031,
          28.310354232788086,
          10.327692985534668,
          12.716015815734863,
          -5.313268184661865,
          -7.574024677276611,
          29.97120475769043,
          12.64474868774414,
          9.77921199798584,
          30.0944766998291,
          29.6506404876709,
          7.985291004180908,
          30.517641067504883,
          -11.039372444152832,
          -8.726980209350586,
          32.808563232421875,
          -3.1281955242156982,
          10.94533920288086,
          -37.90232467651367,
          10.808248519897461,
          10.75909423828125,
          17.361787796020508,
          2.742896318435669,
          28.33559799194336,
          6.6149516105651855,
          22.35199546813965,
          -9.995849609375,
          -10.597607612609863,
          20.478256225585938,
          -7.300963878631592,
          -11.22623062133789,
          -9.579519271850586,
          -10.743829727172852,
          -5.046812057495117,
          -0.3264605700969696,
          -8.144209861755371,
          -9.115342140197754,
          -10.511651992797852,
          31.340843200683594,
          -8.25102424621582,
          -23.656742095947266,
          18.657957077026367,
          -8.797040939331055,
          2.351619243621826,
          30.626981735229492,
          3.8022849559783936,
          -19.09552001953125,
          -7.218170166015625,
          27.28817367553711,
          28.460662841796875,
          10.444015502929688,
          0.704775869846344,
          -5.327563762664795,
          -9.917179107666016,
          -5.061356544494629,
          -4.829386234283447,
          -23.702486038208008,
          -25.288738250732422,
          -3.57857346534729,
          -4.900739669799805,
          -21.055025100708008,
          21.164167404174805,
          -20.608427047729492,
          25.2529296875,
          23.95212745666504,
          7.799260139465332,
          4.591094970703125,
          -16.801712036132812,
          -6.1365647315979,
          0.7617537379264832,
          -8.74787712097168,
          8.753793716430664,
          -22.39126968383789,
          25.28289794921875,
          -5.043405532836914,
          1.2291988134384155,
          34.63346862792969,
          -10.347249984741211,
          -10.561650276184082,
          -22.712377548217773,
          -11.117918968200684,
          -12.207515716552734,
          7.972192287445068,
          -0.9794006943702698,
          -1.8432276248931885,
          15.974579811096191,
          35.01264190673828,
          -28.054136276245117,
          -17.84659194946289,
          -4.754642486572266,
          -6.177087306976318,
          19.983131408691406,
          -25.9617977142334,
          0.9986262917518616,
          -3.0684900283813477,
          -1.8001909255981445,
          -1.1183390617370605,
          -0.4062860906124115,
          -8.05299186706543,
          -17.994413375854492,
          10.254855155944824,
          -11.797840118408203,
          -22.435049057006836,
          -10.166418075561523,
          -19.514434814453125,
          17.514482498168945,
          2.2183220386505127,
          -12.588688850402832,
          16.774919509887695,
          -4.524095058441162,
          -18.57110023498535,
          -4.474076747894287,
          25.893634796142578,
          -4.946681976318359,
          -13.034310340881348,
          7.546912670135498,
          -17.120635986328125,
          -13.395837783813477,
          9.824060440063477,
          -18.518951416015625,
          -12.100876808166504,
          -0.3979017436504364,
          2.233269453048706,
          3.012392282485962,
          22.99634552001953,
          5.955522060394287,
          4.840611934661865,
          -1.962709903717041,
          -32.07528305053711,
          32.96574783325195,
          1.1054953336715698,
          21.206439971923828,
          21.224044799804688,
          2.5670957565307617,
          14.715075492858887,
          -10.298819541931152,
          14.586902618408203,
          12.978177070617676,
          21.02570152282715,
          11.048401832580566,
          9.561454772949219,
          -37.42280960083008,
          -38.284061431884766,
          -36.429046630859375,
          -30.569543838500977,
          -15.196428298950195,
          -27.733461380004883,
          18.16986846923828,
          21.097681045532227,
          -2.456040143966675,
          -9.622247695922852,
          12.548965454101562,
          -3.617068290710449,
          5.299740314483643,
          -15.993560791015625,
          -7.801712989807129,
          -15.334300994873047,
          -12.857590675354004,
          0.7834753394126892,
          8.596405029296875,
          -12.48198413848877,
          -23.44493293762207,
          22.869646072387695,
          3.4626471996307373,
          8.549710273742676,
          13.418213844299316,
          22.92404556274414,
          26.659950256347656,
          21.095489501953125,
          3.9142701625823975,
          25.089622497558594,
          24.751440048217773,
          0.5688924789428711,
          21.19054412841797,
          -0.7605220079421997,
          6.681045055389404,
          -1.2108960151672363,
          19.89242935180664,
          22.87611198425293,
          25.312271118164062,
          -4.629325866699219,
          14.446285247802734,
          15.26648235321045,
          14.751461029052734,
          20.360336303710938,
          3.0532338619232178,
          2.6883456707000732,
          17.432819366455078,
          18.497373580932617,
          4.695956230163574,
          3.670621871948242,
          16.620378494262695,
          24.397747039794922,
          16.526735305786133,
          20.934900283813477,
          5.210095405578613,
          17.798625946044922,
          21.339786529541016,
          1.5598702430725098,
          2.7547245025634766,
          -0.7032639384269714,
          0.993698000907898,
          18.15291404724121,
          13.67984390258789,
          10.05256462097168,
          16.71255111694336,
          2.231661796569824,
          10.427536010742188,
          17.181962966918945,
          2.847288131713867,
          11.825929641723633,
          18.83795928955078,
          26.83882713317871,
          16.528038024902344,
          21.459564208984375,
          21.317760467529297,
          16.0506534576416,
          27.797821044921875,
          19.444293975830078,
          16.908855438232422,
          21.944337844848633,
          19.426372528076172,
          21.497283935546875,
          18.952228546142578,
          0.9449324607849121,
          15.96784496307373,
          16.65587043762207,
          1.2160885334014893,
          12.462244987487793,
          18.136972427368164,
          -0.6400502324104309,
          5.968504905700684,
          14.349383354187012,
          21.863021850585938,
          4.002085208892822,
          24.74601936340332,
          28.9141845703125,
          17.553993225097656,
          14.45418643951416,
          -0.689200222492218,
          9.95779800415039,
          19.908206939697266,
          -3.221132755279541,
          -11.950284957885742,
          -11.94807243347168,
          -12.326095581054688,
          -24.45149040222168,
          16.406009674072266,
          28.967050552368164,
          -29.23249626159668,
          -7.964795112609863,
          30.779592514038086,
          2.388460636138916,
          34.571537017822266,
          -4.25016975402832,
          -27.732694625854492,
          -6.567944049835205,
          -2.408254623413086,
          -9.05053424835205,
          -25.90504264831543,
          18.43810272216797,
          11.820517539978027,
          26.722789764404297,
          -15.749112129211426,
          -21.96781349182129,
          -5.712174892425537,
          1.0227378606796265,
          -27.71169662475586,
          -22.471065521240234,
          -27.063121795654297,
          -0.4763258993625641,
          -14.841377258300781,
          5.179764747619629,
          -1.4227943420410156,
          -10.133456230163574,
          -23.12162208557129,
          3.843308448791504,
          1.9025537967681885,
          -24.040130615234375,
          -23.9063663482666,
          -21.076370239257812,
          -36.201358795166016,
          -7.278720855712891,
          -8.299262046813965,
          6.380876064300537,
          19.721027374267578,
          25.887453079223633,
          17.560928344726562,
          1.0814863443374634,
          -21.658103942871094,
          -22.955286026000977,
          4.343904972076416,
          3.942399740219116,
          31.888778686523438,
          -28.501625061035156,
          5.939293384552002,
          4.961123943328857,
          4.522930145263672,
          2.8128468990325928,
          -9.109723091125488,
          -2.5379369258880615,
          -5.303090572357178,
          -18.21303939819336,
          -37.50489044189453,
          5.078944683074951,
          9.51776123046875,
          17.52874755859375,
          21.496835708618164,
          25.422243118286133,
          11.855637550354004,
          14.117396354675293,
          15.08265209197998,
          26.89501953125,
          8.752569198608398,
          13.903276443481445,
          22.111783981323242,
          19.010547637939453,
          15.09552001953125,
          11.133687973022461,
          28.16861915588379,
          21.39483642578125,
          11.911608695983887,
          16.47994041442871,
          6.836048603057861,
          -18.69321060180664,
          -3.679349184036255,
          4.159158706665039,
          -5.4874444007873535,
          -8.585858345031738,
          3.4203758239746094,
          12.730631828308105,
          -7.924261093139648,
          -2.787327289581299,
          1.9124664068222046,
          -17.240259170532227,
          27.347230911254883,
          17.522472381591797,
          23.028837203979492,
          3.6725854873657227,
          12.958626747131348,
          7.59202241897583,
          15.871308326721191,
          12.520490646362305,
          27.614721298217773,
          9.365262985229492,
          19.611169815063477,
          17.292661666870117,
          4.5631561279296875,
          20.199520111083984,
          23.12663459777832,
          18.294389724731445,
          24.15370750427246,
          21.006561279296875,
          10.006163597106934,
          14.30700397491455,
          2.5591442584991455,
          20.323850631713867,
          24.540836334228516,
          20.73779296875,
          18.573644638061523,
          22.33852767944336,
          21.350072860717773,
          -12.54607105255127,
          24.599472045898438,
          9.041733741760254,
          20.85602569580078,
          -12.123469352722168,
          11.373100280761719,
          22.047693252563477,
          -4.861409664154053,
          -18.64193344116211,
          -23.808700561523438,
          -16.15605926513672,
          -26.641584396362305,
          -0.9303299188613892,
          21.602962493896484,
          -15.082376480102539,
          3.8484723567962646,
          -14.350379943847656,
          22.438800811767578,
          22.790699005126953,
          -55.37705993652344,
          -11.2027006149292,
          6.23716402053833,
          -5.337072372436523,
          -5.778261661529541,
          -9.305887222290039,
          -13.558365821838379,
          3.5052027702331543,
          5.818538665771484,
          5.869804859161377,
          -22.428037643432617,
          -26.41302490234375,
          -9.914155960083008,
          34.22971725463867,
          7.204378604888916,
          -8.903172492980957,
          24.51910400390625,
          24.60966682434082,
          11.613921165466309,
          1.4359581470489502,
          2.7765703201293945,
          2.783155679702759,
          8.91769790649414,
          4.711379528045654,
          20.888046264648438,
          13.469908714294434,
          8.774288177490234,
          -3.96347713470459,
          8.45759105682373,
          -5.558250427246094,
          28.33722686767578,
          23.124187469482422,
          28.41516876220703,
          2.9707720279693604,
          -54.159305572509766,
          -0.3476107716560364,
          29.607666015625,
          13.974020004272461,
          23.6585636138916,
          1.14961576461792,
          -7.697175979614258,
          23.207801818847656,
          -17.703887939453125,
          -9.005032539367676,
          -15.607166290283203,
          1.5175065994262695,
          8.284595489501953,
          4.2775959968566895,
          3.3489954471588135,
          -2.950646162033081,
          3.1776742935180664,
          -11.945374488830566,
          -1.733267903327942,
          18.816749572753906,
          -11.040080070495605,
          4.112656593322754,
          7.618927955627441,
          -18.868972778320312,
          6.019399642944336,
          28.349132537841797,
          -19.052143096923828,
          -20.889205932617188,
          2.0721240043640137,
          25.866098403930664,
          9.86441707611084,
          -3.688190460205078,
          -22.168729782104492,
          30.328433990478516,
          33.89019012451172,
          6.481228828430176,
          -1.0916974544525146,
          -14.026028633117676,
          -8.311273574829102,
          23.777732849121094,
          7.115752696990967,
          7.08272647857666,
          30.553972244262695,
          -1.0654772520065308,
          -1.4787688255310059,
          -7.087957382202148,
          1.2938566207885742,
          -29.166912078857422,
          -19.976884841918945,
          11.47249984741211,
          -2.592634916305542,
          18.462629318237305,
          7.379676342010498,
          -1.2972767353057861,
          0.006366133224219084,
          16.540239334106445,
          -12.471784591674805,
          -13.582144737243652,
          -10.835490226745605,
          0.43686652183532715,
          -21.313087463378906,
          22.87885284423828,
          7.081897258758545,
          -7.4072136878967285,
          -20.721420288085938,
          -2.7321937084198,
          -27.13143539428711,
          4.313063621520996,
          -7.462367534637451,
          3.071676254272461,
          -2.95019793510437,
          3.19423770904541,
          -18.451932907104492,
          -53.930904388427734,
          5.880914211273193,
          -25.170066833496094,
          -9.890560150146484,
          -54.16592788696289,
          19.063419342041016,
          -3.3918135166168213,
          -19.445180892944336,
          24.00390625,
          2.5919008255004883,
          -17.524585723876953,
          -25.992900848388672,
          -18.33209991455078,
          -15.026216506958008,
          -21.684865951538086,
          19.400802612304688,
          -3.7438724040985107,
          -3.3472375869750977,
          -15.577247619628906,
          5.262390613555908,
          -17.311508178710938,
          15.466485977172852,
          9.601848602294922,
          -11.012497901916504,
          -8.311614990234375,
          -5.8073530197143555,
          -6.528602123260498,
          18.843931198120117,
          -4.568831443786621,
          32.96487045288086,
          -51.928184509277344,
          -12.015288352966309,
          -18.900815963745117,
          -0.21396958827972412,
          16.794633865356445,
          -8.305688858032227,
          -16.52770233154297,
          0.013212572783231735,
          0.028678979724645615,
          -6.80340051651001,
          11.616317749023438,
          -16.120080947875977,
          -20.539775848388672,
          -10.916394233703613,
          -9.895319938659668,
          -8.236126899719238,
          -37.97713088989258,
          -17.0482234954834,
          -14.229423522949219,
          -8.318281173706055,
          -14.068076133728027,
          30.482337951660156,
          14.258275985717773,
          6.020405292510986,
          -21.231861114501953,
          -38.285186767578125,
          -16.233198165893555,
          -9.54616641998291,
          1.3611247539520264,
          -6.062707424163818,
          16.162290573120117,
          6.193538665771484,
          -0.413650244474411,
          18.516122817993164,
          13.68617057800293,
          -8.88076400756836,
          19.52677345275879,
          24.633644104003906,
          -37.741207122802734,
          26.974641799926758,
          28.94649314880371,
          27.171409606933594,
          24.503313064575195,
          -18.450361251831055,
          -36.59953308105469,
          -2.3176422119140625,
          -5.848743438720703,
          10.148551940917969,
          -31.7280216217041,
          29.066022872924805,
          11.589457511901855,
          23.310935974121094,
          -3.238401412963867,
          13.099991798400879,
          19.78278350830078,
          -6.112788677215576,
          -12.422012329101562,
          -12.803018569946289,
          10.690284729003906,
          -3.681591510772705,
          30.339521408081055,
          -14.645215034484863,
          -5.040646553039551,
          -9.225433349609375,
          -22.27381706237793,
          -9.847624778747559,
          13.342645645141602,
          -5.473715782165527,
          28.599084854125977,
          29.34062385559082,
          22.77727699279785,
          -23.389833450317383,
          -9.486101150512695,
          30.648155212402344,
          28.310354232788086,
          31.219064712524414,
          -30.65489387512207,
          4.340150356292725,
          -3.5180506706237793,
          -6.969819068908691,
          -34.78659439086914,
          -5.646287441253662,
          25.205078125,
          -26.607513427734375,
          34.790977478027344,
          30.535972595214844,
          17.874799728393555,
          -30.783010482788086,
          30.1507625579834,
          13.222044944763184,
          31.899791717529297,
          -5.843784332275391,
          -3.4410834312438965,
          -21.366931915283203,
          -6.48193883895874,
          23.898174285888672,
          1.2609483003616333,
          2.509147882461548,
          2.8279201984405518,
          -37.466407775878906,
          -1.3322075605392456,
          9.655170440673828,
          -7.690863132476807,
          12.446455001831055,
          -2.049971103668213,
          20.43509864807129,
          7.995774745941162,
          28.807432174682617,
          27.436796188354492,
          17.547893524169922,
          10.73210620880127,
          -3.4679646492004395,
          -13.087224960327148,
          -33.5769157409668,
          -10.561589241027832,
          0.7060232758522034,
          -9.312703132629395,
          -24.398204803466797,
          -25.474136352539062,
          -14.680493354797363,
          -12.104310989379883,
          19.510013580322266,
          22.90415382385254,
          10.570024490356445,
          -8.15334415435791,
          4.98504638671875,
          -19.719568252563477,
          -19.449567794799805,
          0.9455210566520691,
          9.755516052246094,
          -16.531558990478516,
          7.9108147621154785,
          3.4203178882598877,
          22.342708587646484,
          -20.855009078979492,
          -11.636577606201172,
          18.953800201416016,
          -19.983200073242188,
          15.178168296813965,
          2.130902051925659,
          4.172021865844727,
          21.41379165649414,
          16.66928482055664,
          -17.025249481201172,
          26.66434097290039,
          3.607356071472168,
          15.223134994506836,
          25.139123916625977,
          7.54345178604126,
          24.51874542236328,
          12.168128967285156,
          27.669641494750977,
          0.5081835985183716,
          7.151573657989502,
          6.075497627258301,
          9.726217269897461,
          12.015974044799805,
          26.833162307739258,
          14.982983589172363,
          6.915312767028809,
          -23.37337875366211,
          3.311990976333618,
          -27.0756778717041,
          -7.481174945831299,
          -12.729308128356934,
          6.918041706085205,
          13.77263069152832,
          -21.317813873291016,
          -19.30901527404785,
          -10.25832462310791,
          -11.45734691619873,
          32.24880599975586,
          -7.066648006439209,
          -36.046974182128906,
          -12.001204490661621,
          -1.387172818183899,
          26.768537521362305,
          -10.10914134979248,
          -20.159748077392578,
          -2.980090379714966,
          14.608414649963379,
          20.772966384887695,
          -21.478517532348633,
          -20.74565315246582,
          -17.796573638916016,
          -3.967796802520752,
          -16.513574600219727,
          -31.70157814025879,
          -13.262110710144043,
          -32.001792907714844,
          -3.999769687652588,
          14.149580955505371,
          10.772025108337402,
          7.058115482330322,
          35.196468353271484,
          32.953460693359375,
          17.590635299682617,
          3.77177095413208,
          10.371034622192383,
          -21.626678466796875,
          -12.455405235290527,
          -1.6084882020950317,
          -7.236081123352051,
          -1.999814748764038,
          10.214668273925781,
          34.02926254272461,
          21.595462799072266,
          23.40732765197754,
          10.758211135864258,
          -9.51047420501709,
          25.274438858032227,
          -13.4695463180542,
          28.21736717224121,
          -39.02165985107422,
          -6.789845943450928,
          -28.334726333618164,
          -20.235843658447266,
          -20.693113327026367,
          -8.746711730957031,
          -5.811519622802734,
          -20.172821044921875,
          -4.584345817565918,
          -22.07670783996582,
          -37.43998336791992,
          -6.813558101654053,
          6.935413837432861,
          -10.043085098266602,
          -5.646213531494141,
          1.667831301689148,
          1.0056260824203491,
          0.26586484909057617,
          0.15839846432209015,
          -9.136423110961914,
          -5.171574115753174,
          18.000497817993164,
          -12.444589614868164,
          8.554655075073242,
          -3.4321205615997314,
          -15.830852508544922,
          -6.401169300079346,
          -24.426546096801758,
          -18.215301513671875,
          18.054967880249023,
          -16.399898529052734,
          0.7205376625061035,
          -17.340696334838867,
          9.41147518157959,
          -4.776053428649902,
          29.652311325073242,
          1.6293082237243652,
          17.3437557220459,
          20.138017654418945,
          8.521963119506836,
          29.85488510131836,
          29.517925262451172,
          19.816545486450195,
          15.079593658447266,
          10.682172775268555,
          -16.53282356262207,
          21.37468910217285,
          -1.7421718835830688,
          4.511510848999023,
          -13.196455001831055,
          15.06891918182373,
          -23.386022567749023,
          -21.47149658203125,
          12.963861465454102,
          14.339353561401367,
          11.810063362121582,
          -14.0707426071167,
          25.47574806213379,
          18.24822425842285,
          4.972047328948975,
          -31.493263244628906,
          -26.43018913269043,
          -25.255281448364258,
          -8.470989227294922,
          3.675931453704834,
          -19.696821212768555,
          12.7246732711792,
          -22.557449340820312,
          -19.172504425048828,
          -18.67559051513672,
          25.29152488708496,
          5.3577680587768555,
          22.870807647705078,
          4.38420295715332,
          23.365121841430664,
          -26.640892028808594,
          16.071107864379883,
          -19.510974884033203,
          -3.867999792098999,
          32.090087890625,
          1.7084243297576904,
          8.139240264892578,
          10.37442684173584,
          10.302273750305176,
          22.091102600097656,
          2.6481757164001465,
          16.85002326965332,
          5.509693145751953,
          8.344834327697754,
          28.734756469726562,
          12.860088348388672,
          -0.47371336817741394,
          -7.5622148513793945,
          6.772464752197266,
          19.34747314453125,
          3.601405620574951,
          4.729613780975342,
          0.8539471626281738,
          22.097230911254883,
          7.995967388153076,
          -23.873960494995117,
          18.76561164855957,
          32.427764892578125,
          9.676775932312012,
          14.210187911987305,
          2.6714653968811035,
          1.847080945968628,
          1.434365153312683,
          -0.7904320359230042,
          -1.3480592966079712,
          23.88772964477539,
          -3.091149091720581,
          -14.60125732421875,
          0.8162307143211365,
          9.9647216796875,
          16.421335220336914,
          19.485692977905273,
          20.021621704101562,
          -6.163368225097656,
          -40.74230194091797,
          20.352418899536133,
          22.128128051757812,
          17.444210052490234,
          19.201875686645508,
          -12.12366008758545,
          6.109768390655518,
          17.207813262939453,
          25.404985427856445,
          -53.87592697143555,
          15.170513153076172,
          -12.232298851013184,
          21.57034683227539,
          19.19450569152832,
          2.937971591949463,
          23.86280632019043,
          -31.8221378326416,
          -14.451889038085938,
          -17.730079650878906,
          -24.54251480102539,
          3.005495548248291,
          2.121913194656372,
          -0.8175312876701355,
          16.42020606994629,
          11.531338691711426,
          5.440168380737305,
          2.6281046867370605,
          -20.681884765625,
          0.07289348542690277,
          22.660741806030273,
          25.916128158569336,
          -21.605175018310547,
          -19.964365005493164,
          -23.694581985473633,
          -11.08530044555664,
          -30.55206871032715,
          -19.550756454467773,
          -23.149084091186523,
          2.587991237640381,
          -23.20661735534668,
          11.068571090698242,
          20.17609977722168,
          -0.11250410228967667,
          0.7144548892974854,
          -4.022115707397461,
          26.445791244506836,
          0.9065676927566528,
          22.081697463989258,
          25.621566772460938,
          17.418922424316406,
          4.734958648681641,
          20.59408950805664,
          11.033122062683105,
          -16.425487518310547,
          22.504844665527344,
          -52.905635833740234,
          11.541913032531738,
          12.802328109741211,
          17.03339385986328,
          -18.05437660217285,
          -19.083751678466797,
          -18.806888580322266,
          -19.4571590423584,
          -23.811330795288086,
          -11.685791015625,
          8.605323791503906,
          -15.878377914428711,
          -11.995019912719727,
          -24.970643997192383,
          -31.659334182739258,
          17.22642707824707,
          -7.929707050323486,
          -12.47990608215332,
          -14.288542747497559,
          0.27963629364967346,
          -12.445747375488281,
          7.7532124519348145,
          8.674108505249023,
          -2.6149706840515137,
          -20.22273063659668,
          3.1587166786193848,
          -18.43470001220703,
          -15.753866195678711,
          -23.518537521362305,
          -30.755891799926758,
          -17.07819175720215,
          4.378342628479004,
          4.222205638885498,
          18.49747085571289,
          8.22821044921875,
          -52.01543045043945,
          7.033660888671875,
          -5.231980800628662,
          -10.417924880981445,
          29.279327392578125,
          23.181398391723633,
          -12.79310131072998,
          -9.363579750061035,
          -16.3873233795166,
          19.34170150756836,
          -24.11587905883789,
          -18.843748092651367,
          -0.23801328241825104,
          -4.675943374633789,
          -37.84699630737305,
          26.536462783813477,
          30.854421615600586,
          -4.149524688720703,
          -22.548954010009766,
          6.108938694000244,
          2.712548017501831,
          -23.24512481689453,
          -15.660619735717773,
          14.518335342407227,
          -20.883237838745117,
          14.688711166381836,
          0.07764450460672379,
          16.469709396362305,
          4.986507415771484,
          3.657280206680298,
          26.214641571044922,
          13.266369819641113,
          4.181633949279785,
          0.5745816826820374,
          -10.435094833374023,
          -22.601816177368164,
          16.22085952758789,
          -20.462352752685547,
          -30.294527053833008,
          2.030970573425293,
          -7.453151226043701,
          6.5624847412109375,
          7.941819190979004,
          -22.096149444580078,
          16.160762786865234,
          14.876327514648438,
          8.921581268310547,
          -13.072190284729004,
          -2.739729642868042,
          0.4106341600418091,
          22.33919334411621,
          -34.1922607421875,
          6.486754894256592,
          -17.636056900024414,
          -53.4493293762207,
          -12.488078117370605,
          -25.933549880981445,
          28.343297958374023,
          -10.094111442565918,
          -2.696329355239868,
          7.319418430328369,
          -2.909367799758911,
          20.819255828857422,
          25.275590896606445,
          -21.27785301208496,
          -1.8690437078475952,
          26.49326515197754,
          -16.470703125,
          -54.31920623779297,
          -17.14144515991211,
          3.1913392543792725,
          -21.043821334838867,
          -38.114112854003906,
          -51.71354293823242,
          2.2757341861724854,
          -19.621692657470703,
          3.5985589027404785,
          14.09546184539795,
          -19.41004753112793,
          7.528627872467041,
          6.287281036376953,
          -32.81095886230469,
          -19.73200225830078,
          1.9829308986663818,
          -32.784725189208984,
          -15.663556098937988,
          11.524211883544922,
          18.113481521606445,
          -15.763273239135742,
          -32.26707077026367,
          9.632928848266602,
          -20.76739501953125,
          14.695302963256836,
          -53.899845123291016,
          4.761607646942139,
          19.001150131225586,
          -16.993560791015625,
          9.851898193359375,
          -33.14805603027344,
          -17.730209350585938,
          -30.069747924804688,
          -23.77179718017578,
          -16.493457794189453,
          -33.6599235534668,
          -33.674015045166016,
          -33.193058013916016,
          7.8121538162231445,
          -33.53929901123047,
          25.81151580810547,
          -6.726969242095947,
          7.6062703132629395,
          4.477662563323975,
          -33.844268798828125,
          -53.469303131103516,
          -33.459129333496094,
          5.7721452713012695,
          -32.56479263305664,
          17.994579315185547,
          -32.82562255859375,
          -8.828713417053223,
          5.409305572509766,
          -31.145112991333008,
          8.063899040222168,
          -36.105003356933594,
          -20.18842887878418,
          21.7506160736084,
          -32.99620819091797,
          -32.26025390625,
          -53.365440368652344,
          -26.1546573638916,
          -32.94694137573242,
          25.658985137939453,
          14.572525024414062,
          8.941385269165039,
          8.460460662841797,
          -28.399442672729492,
          21.24407196044922,
          -32.045841217041016,
          -33.57795333862305,
          22.16082763671875,
          -29.448511123657227,
          18.394207000732422,
          8.884750366210938,
          13.813480377197266,
          6.161052227020264,
          25.39946746826172,
          26.628009796142578,
          -24.436824798583984,
          -38.942508697509766,
          26.286029815673828,
          -36.519535064697266,
          -6.225315093994141,
          24.901426315307617,
          -6.4521355628967285,
          -5.9177632331848145,
          -5.710071086883545,
          -17.846660614013672,
          -18.40000343322754,
          22.976551055908203,
          10.442840576171875,
          19.32530403137207,
          20.61180877685547,
          18.29351234436035,
          12.35051441192627,
          4.778976917266846,
          7.792631149291992,
          -18.679506301879883,
          3.5253183841705322,
          21.063270568847656,
          28.96702766418457,
          3.4673218727111816,
          -20.898757934570312,
          -35.68878936767578,
          -3.343454360961914,
          -6.823002815246582,
          13.145614624023438,
          -28.23736000061035,
          -7.57781982421875,
          -17.84922981262207,
          -24.173419952392578,
          -21.977052688598633,
          -16.61566162109375,
          6.545656204223633,
          -19.53229522705078,
          -36.10036087036133,
          -0.6030712127685547,
          -14.016765594482422,
          -19.669326782226562,
          18.041793823242188,
          18.106510162353516,
          26.592697143554688,
          -18.124908447265625,
          22.821800231933594,
          6.279241561889648,
          1.9091877937316895,
          7.545471668243408,
          -21.57843780517578,
          6.835810661315918,
          13.143309593200684,
          -17.490461349487305,
          2.584083080291748,
          -17.570859909057617,
          15.797048568725586,
          1.7570996284484863,
          -3.1798298358917236,
          -3.231525182723999,
          -21.970096588134766,
          -0.504558265209198,
          -11.668429374694824,
          11.962882041931152,
          -16.534950256347656,
          8.450623512268066,
          -54.164573669433594,
          25.384244918823242,
          8.406927108764648,
          27.482189178466797,
          9.769327163696289,
          -52.71224594116211,
          11.957330703735352,
          3.3935546875,
          15.796607971191406,
          8.429948806762695,
          10.09386157989502,
          8.428443908691406,
          -54.48740005493164,
          2.664189577102661,
          22.54792022705078,
          -23.234893798828125,
          18.682483673095703,
          -20.073123931884766,
          29.259552001953125,
          22.796916961669922,
          1.5271247625350952,
          -5.25419807434082,
          -23.593536376953125,
          -7.099180698394775,
          -55.864540100097656,
          5.11464262008667,
          13.898324966430664,
          16.832931518554688,
          -55.46514129638672,
          -5.276610851287842,
          2.7031378746032715,
          -18.470653533935547,
          -21.82619285583496,
          -16.71870231628418,
          8.790336608886719,
          -3.1550095081329346,
          3.300640106201172,
          7.511363506317139,
          -37.96292495727539,
          16.215105056762695,
          10.621495246887207,
          -20.70952033996582,
          -17.15004539489746,
          -51.95187759399414,
          -15.696168899536133,
          -53.184486389160156,
          -37.211952209472656,
          7.137714862823486,
          -31.713098526000977,
          -28.942827224731445,
          -16.34393310546875,
          22.18600082397461,
          6.511425495147705,
          7.026858806610107,
          -36.81507110595703,
          2.28987455368042,
          5.649202346801758,
          -54.55986785888672,
          18.211490631103516,
          16.040149688720703,
          -6.5089521408081055,
          -28.354156494140625,
          -18.369083404541016,
          24.360612869262695,
          25.41451072692871,
          -19.008747100830078,
          15.785282135009766,
          -1.1736929416656494,
          6.170458793640137,
          -10.550354957580566,
          -6.254902362823486,
          -11.537789344787598,
          -22.016769409179688,
          1.7417962551116943,
          -20.649890899658203,
          16.11146354675293,
          26.968233108520508,
          20.052165985107422,
          -52.94180679321289,
          -40.146148681640625,
          15.261489868164062,
          13.932074546813965,
          -22.551799774169922,
          2.4404146671295166,
          2.226346969604492,
          21.208126068115234,
          -20.91327476501465,
          12.770540237426758,
          21.578384399414062,
          26.47951316833496,
          13.850818634033203,
          -20.606849670410156,
          -17.449010848999023,
          17.24685287475586,
          -8.596685409545898,
          -54.45313262939453,
          1.5468263626098633,
          4.258393287658691,
          -39.07883834838867,
          -54.62495422363281,
          -38.31706619262695,
          -38.9217643737793,
          -33.37633514404297,
          -54.9987678527832,
          9.05546760559082,
          -15.314497947692871,
          -33.4092903137207,
          19.789749145507812,
          1.7602709531784058,
          -38.395965576171875,
          13.046370506286621,
          -39.43787384033203,
          21.862728118896484,
          -38.1377067565918,
          -38.76530838012695,
          -39.732200622558594,
          -53.95951843261719,
          -37.849491119384766,
          -53.57653045654297,
          -55.26800537109375,
          -39.82516860961914,
          -37.7298469543457,
          -54.806243896484375,
          -38.59769058227539,
          -38.62514114379883,
          -38.038089752197266,
          -37.67180633544922,
          -39.79701614379883,
          -38.89950180053711,
          -38.616455078125,
          5.129334449768066,
          -38.50004577636719,
          -38.01327133178711,
          -52.76871871948242,
          -37.974369049072266,
          -55.78492736816406,
          -53.29945755004883,
          6.012791633605957,
          -39.47001266479492,
          -38.9769401550293,
          -6.977450847625732,
          10.858430862426758,
          -6.211260795593262,
          27.79439353942871,
          24.402708053588867,
          -55.58549118041992,
          -0.03463657200336456,
          -55.85335159301758,
          -20.08086395263672,
          11.341670989990234,
          -23.000606536865234,
          15.330205917358398,
          7.533777236938477,
          -28.868804931640625,
          17.21146011352539,
          -54.50578689575195,
          2.2702643871307373,
          -1.1855573654174805,
          -21.25074005126953,
          20.594215393066406,
          -24.577550888061523,
          -37.18770217895508,
          -16.5153751373291,
          16.04938316345215,
          23.894065856933594,
          -6.6614885330200195,
          -51.65278244018555,
          -14.187044143676758,
          -52.9750862121582,
          29.091794967651367,
          -51.374168395996094,
          -2.1148505210876465,
          -6.248054504394531,
          -37.78083419799805,
          10.281957626342773,
          12.64704418182373,
          -19.64517593383789,
          6.578791618347168,
          -36.876121520996094,
          8.05870246887207,
          29.72011947631836,
          18.563312530517578,
          5.1255974769592285,
          -19.350460052490234,
          4.744054317474365,
          5.296773433685303,
          2.5400846004486084,
          5.022480010986328,
          -56.306846618652344,
          5.230803966522217,
          -55.1055793762207,
          5.846959590911865,
          4.856276512145996,
          -55.78105163574219,
          29.772123336791992,
          8.973689079284668,
          -52.71411895751953,
          -54.411964416503906,
          24.731294631958008,
          4.787015438079834,
          -56.400672912597656,
          4.7049126625061035,
          -52.65114212036133,
          -53.424774169921875,
          -17.61518669128418,
          -52.94308090209961,
          -55.45585250854492,
          -52.72992706298828,
          -18.635408401489258,
          -17.730403900146484,
          16.3067684173584,
          -36.56383514404297,
          -28.940494537353516,
          -37.14665985107422,
          -24.943344116210938,
          -21.04559326171875,
          10.396105766296387,
          -53.305885314941406,
          -22.321680068969727,
          -6.870443344116211,
          -6.483340263366699,
          -21.822343826293945,
          -6.703004360198975,
          -37.609649658203125,
          -18.803783416748047,
          -18.240266799926758,
          26.069602966308594,
          -54.87410354614258,
          -26.85680389404297,
          15.434885025024414,
          -37.072120666503906,
          -9.852507591247559,
          -21.615102767944336,
          -18.663869857788086,
          8.841737747192383
         ],
         "yaxis": "y"
        }
       ],
       "layout": {
        "coloraxis": {
         "colorbar": {
          "title": {
           "text": "popularity"
          }
         },
         "colorscale": [
          [
           0,
           "#0d0887"
          ],
          [
           0.1111111111111111,
           "#46039f"
          ],
          [
           0.2222222222222222,
           "#7201a8"
          ],
          [
           0.3333333333333333,
           "#9c179e"
          ],
          [
           0.4444444444444444,
           "#bd3786"
          ],
          [
           0.5555555555555556,
           "#d8576b"
          ],
          [
           0.6666666666666666,
           "#ed7953"
          ],
          [
           0.7777777777777778,
           "#fb9f3a"
          ],
          [
           0.8888888888888888,
           "#fdca26"
          ],
          [
           1,
           "#f0f921"
          ]
         ]
        },
        "legend": {
         "tracegroupgap": 0
        },
        "margin": {
         "t": 60
        },
        "template": {
         "data": {
          "bar": [
           {
            "error_x": {
             "color": "#2a3f5f"
            },
            "error_y": {
             "color": "#2a3f5f"
            },
            "marker": {
             "line": {
              "color": "#E5ECF6",
              "width": 0.5
             },
             "pattern": {
              "fillmode": "overlay",
              "size": 10,
              "solidity": 0.2
             }
            },
            "type": "bar"
           }
          ],
          "barpolar": [
           {
            "marker": {
             "line": {
              "color": "#E5ECF6",
              "width": 0.5
             },
             "pattern": {
              "fillmode": "overlay",
              "size": 10,
              "solidity": 0.2
             }
            },
            "type": "barpolar"
           }
          ],
          "carpet": [
           {
            "aaxis": {
             "endlinecolor": "#2a3f5f",
             "gridcolor": "white",
             "linecolor": "white",
             "minorgridcolor": "white",
             "startlinecolor": "#2a3f5f"
            },
            "baxis": {
             "endlinecolor": "#2a3f5f",
             "gridcolor": "white",
             "linecolor": "white",
             "minorgridcolor": "white",
             "startlinecolor": "#2a3f5f"
            },
            "type": "carpet"
           }
          ],
          "choropleth": [
           {
            "colorbar": {
             "outlinewidth": 0,
             "ticks": ""
            },
            "type": "choropleth"
           }
          ],
          "contour": [
           {
            "colorbar": {
             "outlinewidth": 0,
             "ticks": ""
            },
            "colorscale": [
             [
              0,
              "#0d0887"
             ],
             [
              0.1111111111111111,
              "#46039f"
             ],
             [
              0.2222222222222222,
              "#7201a8"
             ],
             [
              0.3333333333333333,
              "#9c179e"
             ],
             [
              0.4444444444444444,
              "#bd3786"
             ],
             [
              0.5555555555555556,
              "#d8576b"
             ],
             [
              0.6666666666666666,
              "#ed7953"
             ],
             [
              0.7777777777777778,
              "#fb9f3a"
             ],
             [
              0.8888888888888888,
              "#fdca26"
             ],
             [
              1,
              "#f0f921"
             ]
            ],
            "type": "contour"
           }
          ],
          "contourcarpet": [
           {
            "colorbar": {
             "outlinewidth": 0,
             "ticks": ""
            },
            "type": "contourcarpet"
           }
          ],
          "heatmap": [
           {
            "colorbar": {
             "outlinewidth": 0,
             "ticks": ""
            },
            "colorscale": [
             [
              0,
              "#0d0887"
             ],
             [
              0.1111111111111111,
              "#46039f"
             ],
             [
              0.2222222222222222,
              "#7201a8"
             ],
             [
              0.3333333333333333,
              "#9c179e"
             ],
             [
              0.4444444444444444,
              "#bd3786"
             ],
             [
              0.5555555555555556,
              "#d8576b"
             ],
             [
              0.6666666666666666,
              "#ed7953"
             ],
             [
              0.7777777777777778,
              "#fb9f3a"
             ],
             [
              0.8888888888888888,
              "#fdca26"
             ],
             [
              1,
              "#f0f921"
             ]
            ],
            "type": "heatmap"
           }
          ],
          "heatmapgl": [
           {
            "colorbar": {
             "outlinewidth": 0,
             "ticks": ""
            },
            "colorscale": [
             [
              0,
              "#0d0887"
             ],
             [
              0.1111111111111111,
              "#46039f"
             ],
             [
              0.2222222222222222,
              "#7201a8"
             ],
             [
              0.3333333333333333,
              "#9c179e"
             ],
             [
              0.4444444444444444,
              "#bd3786"
             ],
             [
              0.5555555555555556,
              "#d8576b"
             ],
             [
              0.6666666666666666,
              "#ed7953"
             ],
             [
              0.7777777777777778,
              "#fb9f3a"
             ],
             [
              0.8888888888888888,
              "#fdca26"
             ],
             [
              1,
              "#f0f921"
             ]
            ],
            "type": "heatmapgl"
           }
          ],
          "histogram": [
           {
            "marker": {
             "pattern": {
              "fillmode": "overlay",
              "size": 10,
              "solidity": 0.2
             }
            },
            "type": "histogram"
           }
          ],
          "histogram2d": [
           {
            "colorbar": {
             "outlinewidth": 0,
             "ticks": ""
            },
            "colorscale": [
             [
              0,
              "#0d0887"
             ],
             [
              0.1111111111111111,
              "#46039f"
             ],
             [
              0.2222222222222222,
              "#7201a8"
             ],
             [
              0.3333333333333333,
              "#9c179e"
             ],
             [
              0.4444444444444444,
              "#bd3786"
             ],
             [
              0.5555555555555556,
              "#d8576b"
             ],
             [
              0.6666666666666666,
              "#ed7953"
             ],
             [
              0.7777777777777778,
              "#fb9f3a"
             ],
             [
              0.8888888888888888,
              "#fdca26"
             ],
             [
              1,
              "#f0f921"
             ]
            ],
            "type": "histogram2d"
           }
          ],
          "histogram2dcontour": [
           {
            "colorbar": {
             "outlinewidth": 0,
             "ticks": ""
            },
            "colorscale": [
             [
              0,
              "#0d0887"
             ],
             [
              0.1111111111111111,
              "#46039f"
             ],
             [
              0.2222222222222222,
              "#7201a8"
             ],
             [
              0.3333333333333333,
              "#9c179e"
             ],
             [
              0.4444444444444444,
              "#bd3786"
             ],
             [
              0.5555555555555556,
              "#d8576b"
             ],
             [
              0.6666666666666666,
              "#ed7953"
             ],
             [
              0.7777777777777778,
              "#fb9f3a"
             ],
             [
              0.8888888888888888,
              "#fdca26"
             ],
             [
              1,
              "#f0f921"
             ]
            ],
            "type": "histogram2dcontour"
           }
          ],
          "mesh3d": [
           {
            "colorbar": {
             "outlinewidth": 0,
             "ticks": ""
            },
            "type": "mesh3d"
           }
          ],
          "parcoords": [
           {
            "line": {
             "colorbar": {
              "outlinewidth": 0,
              "ticks": ""
             }
            },
            "type": "parcoords"
           }
          ],
          "pie": [
           {
            "automargin": true,
            "type": "pie"
           }
          ],
          "scatter": [
           {
            "marker": {
             "colorbar": {
              "outlinewidth": 0,
              "ticks": ""
             }
            },
            "type": "scatter"
           }
          ],
          "scatter3d": [
           {
            "line": {
             "colorbar": {
              "outlinewidth": 0,
              "ticks": ""
             }
            },
            "marker": {
             "colorbar": {
              "outlinewidth": 0,
              "ticks": ""
             }
            },
            "type": "scatter3d"
           }
          ],
          "scattercarpet": [
           {
            "marker": {
             "colorbar": {
              "outlinewidth": 0,
              "ticks": ""
             }
            },
            "type": "scattercarpet"
           }
          ],
          "scattergeo": [
           {
            "marker": {
             "colorbar": {
              "outlinewidth": 0,
              "ticks": ""
             }
            },
            "type": "scattergeo"
           }
          ],
          "scattergl": [
           {
            "marker": {
             "colorbar": {
              "outlinewidth": 0,
              "ticks": ""
             }
            },
            "type": "scattergl"
           }
          ],
          "scattermapbox": [
           {
            "marker": {
             "colorbar": {
              "outlinewidth": 0,
              "ticks": ""
             }
            },
            "type": "scattermapbox"
           }
          ],
          "scatterpolar": [
           {
            "marker": {
             "colorbar": {
              "outlinewidth": 0,
              "ticks": ""
             }
            },
            "type": "scatterpolar"
           }
          ],
          "scatterpolargl": [
           {
            "marker": {
             "colorbar": {
              "outlinewidth": 0,
              "ticks": ""
             }
            },
            "type": "scatterpolargl"
           }
          ],
          "scatterternary": [
           {
            "marker": {
             "colorbar": {
              "outlinewidth": 0,
              "ticks": ""
             }
            },
            "type": "scatterternary"
           }
          ],
          "surface": [
           {
            "colorbar": {
             "outlinewidth": 0,
             "ticks": ""
            },
            "colorscale": [
             [
              0,
              "#0d0887"
             ],
             [
              0.1111111111111111,
              "#46039f"
             ],
             [
              0.2222222222222222,
              "#7201a8"
             ],
             [
              0.3333333333333333,
              "#9c179e"
             ],
             [
              0.4444444444444444,
              "#bd3786"
             ],
             [
              0.5555555555555556,
              "#d8576b"
             ],
             [
              0.6666666666666666,
              "#ed7953"
             ],
             [
              0.7777777777777778,
              "#fb9f3a"
             ],
             [
              0.8888888888888888,
              "#fdca26"
             ],
             [
              1,
              "#f0f921"
             ]
            ],
            "type": "surface"
           }
          ],
          "table": [
           {
            "cells": {
             "fill": {
              "color": "#EBF0F8"
             },
             "line": {
              "color": "white"
             }
            },
            "header": {
             "fill": {
              "color": "#C8D4E3"
             },
             "line": {
              "color": "white"
             }
            },
            "type": "table"
           }
          ]
         },
         "layout": {
          "annotationdefaults": {
           "arrowcolor": "#2a3f5f",
           "arrowhead": 0,
           "arrowwidth": 1
          },
          "autotypenumbers": "strict",
          "coloraxis": {
           "colorbar": {
            "outlinewidth": 0,
            "ticks": ""
           }
          },
          "colorscale": {
           "diverging": [
            [
             0,
             "#8e0152"
            ],
            [
             0.1,
             "#c51b7d"
            ],
            [
             0.2,
             "#de77ae"
            ],
            [
             0.3,
             "#f1b6da"
            ],
            [
             0.4,
             "#fde0ef"
            ],
            [
             0.5,
             "#f7f7f7"
            ],
            [
             0.6,
             "#e6f5d0"
            ],
            [
             0.7,
             "#b8e186"
            ],
            [
             0.8,
             "#7fbc41"
            ],
            [
             0.9,
             "#4d9221"
            ],
            [
             1,
             "#276419"
            ]
           ],
           "sequential": [
            [
             0,
             "#0d0887"
            ],
            [
             0.1111111111111111,
             "#46039f"
            ],
            [
             0.2222222222222222,
             "#7201a8"
            ],
            [
             0.3333333333333333,
             "#9c179e"
            ],
            [
             0.4444444444444444,
             "#bd3786"
            ],
            [
             0.5555555555555556,
             "#d8576b"
            ],
            [
             0.6666666666666666,
             "#ed7953"
            ],
            [
             0.7777777777777778,
             "#fb9f3a"
            ],
            [
             0.8888888888888888,
             "#fdca26"
            ],
            [
             1,
             "#f0f921"
            ]
           ],
           "sequentialminus": [
            [
             0,
             "#0d0887"
            ],
            [
             0.1111111111111111,
             "#46039f"
            ],
            [
             0.2222222222222222,
             "#7201a8"
            ],
            [
             0.3333333333333333,
             "#9c179e"
            ],
            [
             0.4444444444444444,
             "#bd3786"
            ],
            [
             0.5555555555555556,
             "#d8576b"
            ],
            [
             0.6666666666666666,
             "#ed7953"
            ],
            [
             0.7777777777777778,
             "#fb9f3a"
            ],
            [
             0.8888888888888888,
             "#fdca26"
            ],
            [
             1,
             "#f0f921"
            ]
           ]
          },
          "colorway": [
           "#636efa",
           "#EF553B",
           "#00cc96",
           "#ab63fa",
           "#FFA15A",
           "#19d3f3",
           "#FF6692",
           "#B6E880",
           "#FF97FF",
           "#FECB52"
          ],
          "font": {
           "color": "#2a3f5f"
          },
          "geo": {
           "bgcolor": "white",
           "lakecolor": "white",
           "landcolor": "#E5ECF6",
           "showlakes": true,
           "showland": true,
           "subunitcolor": "white"
          },
          "hoverlabel": {
           "align": "left"
          },
          "hovermode": "closest",
          "mapbox": {
           "style": "light"
          },
          "paper_bgcolor": "white",
          "plot_bgcolor": "#E5ECF6",
          "polar": {
           "angularaxis": {
            "gridcolor": "white",
            "linecolor": "white",
            "ticks": ""
           },
           "bgcolor": "#E5ECF6",
           "radialaxis": {
            "gridcolor": "white",
            "linecolor": "white",
            "ticks": ""
           }
          },
          "scene": {
           "xaxis": {
            "backgroundcolor": "#E5ECF6",
            "gridcolor": "white",
            "gridwidth": 2,
            "linecolor": "white",
            "showbackground": true,
            "ticks": "",
            "zerolinecolor": "white"
           },
           "yaxis": {
            "backgroundcolor": "#E5ECF6",
            "gridcolor": "white",
            "gridwidth": 2,
            "linecolor": "white",
            "showbackground": true,
            "ticks": "",
            "zerolinecolor": "white"
           },
           "zaxis": {
            "backgroundcolor": "#E5ECF6",
            "gridcolor": "white",
            "gridwidth": 2,
            "linecolor": "white",
            "showbackground": true,
            "ticks": "",
            "zerolinecolor": "white"
           }
          },
          "shapedefaults": {
           "line": {
            "color": "#2a3f5f"
           }
          },
          "ternary": {
           "aaxis": {
            "gridcolor": "white",
            "linecolor": "white",
            "ticks": ""
           },
           "baxis": {
            "gridcolor": "white",
            "linecolor": "white",
            "ticks": ""
           },
           "bgcolor": "#E5ECF6",
           "caxis": {
            "gridcolor": "white",
            "linecolor": "white",
            "ticks": ""
           }
          },
          "title": {
           "x": 0.05
          },
          "xaxis": {
           "automargin": true,
           "gridcolor": "white",
           "linecolor": "white",
           "ticks": "",
           "title": {
            "standoff": 15
           },
           "zerolinecolor": "white",
           "zerolinewidth": 2
          },
          "yaxis": {
           "automargin": true,
           "gridcolor": "white",
           "linecolor": "white",
           "ticks": "",
           "title": {
            "standoff": 15
           },
           "zerolinecolor": "white",
           "zerolinewidth": 2
          }
         }
        },
        "xaxis": {
         "anchor": "y",
         "domain": [
          0,
          1
         ],
         "title": {
          "text": "tsne_1"
         }
        },
        "yaxis": {
         "anchor": "x",
         "domain": [
          0,
          1
         ],
         "title": {
          "text": "tsne_2"
         }
        }
       }
      },
      "text/html": [
       "<div>                            <div id=\"9a7ee263-7cc8-42eb-87b5-d4280760caf9\" class=\"plotly-graph-div\" style=\"height:525px; width:100%;\"></div>            <script type=\"text/javascript\">                require([\"plotly\"], function(Plotly) {                    window.PLOTLYENV=window.PLOTLYENV || {};                                    if (document.getElementById(\"9a7ee263-7cc8-42eb-87b5-d4280760caf9\")) {                    Plotly.newPlot(                        \"9a7ee263-7cc8-42eb-87b5-d4280760caf9\",                        [{\"customdata\":[[1,\"Toy Story (1995)\",1995,452],[2,\"GoldenEye (1995)\",1995,131],[3,\"Four Rooms (1995)\",1995,90],[4,\"Get Shorty (1995)\",1995,209],[5,\"Copycat (1995)\",1995,86],[6,\"Shanghai Triad (Yao a yao yao dao waipo qiao) (1995)\",1995,26],[7,\"Twelve Monkeys (1995)\",1995,392],[8,\"Babe (1995)\",1995,219],[9,\"Dead Man Walking (1995)\",1995,299],[10,\"Richard III (1995)\",1996,89],[11,\"Seven (Se7en) (1995)\",1995,236],[12,\"Usual Suspects, The (1995)\",1995,267],[13,\"Mighty Aphrodite (1995)\",1995,184],[14,\"Postino, Il (1994)\",1994,183],[15,\"Mr. Holland's Opus (1995)\",1996,293],[16,\"French Twist (Gazon maudit) (1995)\",1995,39],[17,\"From Dusk Till Dawn (1996)\",1996,92],[18,\"White Balloon, The (1995)\",1995,10],[19,\"Antonia's Line (1995)\",1995,69],[20,\"Angels and Insects (1995)\",1995,72],[21,\"Muppet Treasure Island (1996)\",1996,84],[22,\"Braveheart (1995)\",1996,297],[23,\"Taxi Driver (1976)\",1996,182],[24,\"Rumble in the Bronx (1995)\",1996,174],[25,\"Birdcage, The (1996)\",1996,293],[26,\"Brothers McMullen, The (1995)\",1995,73],[27,\"Bad Boys (1995)\",1995,57],[28,\"Apollo 13 (1995)\",1995,276],[29,\"Batman Forever (1995)\",1995,114],[30,\"Belle de jour (1967)\",1967,37],[31,\"Crimson Tide (1995)\",1995,154],[32,\"Crumb (1994)\",1994,81],[33,\"Desperado (1995)\",1995,97],[34,\"Doom Generation, The (1995)\",1995,7],[35,\"Free Willy 2: The Adventure Home (1995)\",1995,11],[36,\"Mad Love (1995)\",1995,13],[37,\"Nadja (1994)\",1994,8],[38,\"Net, The (1995)\",1995,120],[39,\"Strange Days (1995)\",1995,87],[40,\"To Wong Foo, Thanks for Everything! Julie Newmar (1995)\",1995,57],[41,\"Billy Madison (1995)\",1995,37],[42,\"Clerks (1994)\",1994,148],[43,\"Disclosure (1994)\",1994,40],[44,\"Dolores Claiborne (1994)\",1994,79],[45,\"Eat Drink Man Woman (1994)\",1994,80],[46,\"Exotica (1994)\",1994,27],[47,\"Ed Wood (1994)\",1994,133],[48,\"Hoop Dreams (1994)\",1994,117],[49,\"I.Q. (1994)\",1994,81],[50,\"Star Wars (1977)\",1977,583],[51,\"Legends of the Fall (1994)\",1994,81],[52,\"Madness of King George, The (1994)\",1994,91],[53,\"Natural Born Killers (1994)\",1994,128],[54,\"Outbreak (1995)\",1995,104],[55,\"Professional, The (1994)\",1994,149],[56,\"Pulp Fiction (1994)\",1994,394],[57,\"Priest (1994)\",1994,40],[58,\"Quiz Show (1994)\",1994,175],[59,\"Three Colors: Red (1994)\",1994,83],[60,\"Three Colors: Blue (1993)\",1993,64],[61,\"Three Colors: White (1994)\",1994,59],[62,\"Stargate (1994)\",1994,127],[63,\"Santa Clause, The (1994)\",1994,82],[64,\"Shawshank Redemption, The (1994)\",1994,283],[65,\"What's Eating Gilbert Grape (1993)\",1993,115],[66,\"While You Were Sleeping (1995)\",1995,162],[67,\"Ace Ventura: Pet Detective (1994)\",1994,103],[68,\"Crow, The (1994)\",1994,134],[69,\"Forrest Gump (1994)\",1994,321],[70,\"Four Weddings and a Funeral (1994)\",1994,251],[71,\"Lion King, The (1994)\",1994,220],[72,\"Mask, The (1994)\",1994,129],[73,\"Maverick (1994)\",1994,128],[74,\"Faster Pussycat! Kill! Kill! (1965)\",1965,7],[75,\"Brother Minister: The Assassination of Malcolm X (1994)\",1994,5],[76,\"Carlito's Way (1993)\",1993,54],[77,\"Firm, The (1993)\",1993,151],[78,\"Free Willy (1993)\",1993,33],[79,\"Fugitive, The (1993)\",1993,336],[80,\"Hot Shots! Part Deux (1993)\",1993,68],[81,\"Hudsucker Proxy, The (1994)\",1994,110],[82,\"Jurassic Park (1993)\",1993,261],[83,\"Much Ado About Nothing (1993)\",1993,176],[84,\"Robert A. Heinlein's The Puppet Masters (1994)\",1994,18],[85,\"Ref, The (1994)\",1994,58],[86,\"Remains of the Day, The (1993)\",1993,150],[87,\"Searching for Bobby Fischer (1993)\",1993,138],[88,\"Sleepless in Seattle (1993)\",1993,213],[89,\"Blade Runner (1982)\",1982,275],[90,\"So I Married an Axe Murderer (1993)\",1993,95],[91,\"Nightmare Before Christmas, The (1993)\",1993,143],[92,\"True Romance (1993)\",1993,104],[93,\"Welcome to the Dollhouse (1995)\",1996,112],[94,\"Home Alone (1990)\",1990,137],[95,\"Aladdin (1992)\",1992,219],[96,\"Terminator 2: Judgment Day (1991)\",1991,295],[97,\"Dances with Wolves (1990)\",1990,256],[98,\"Silence of the Lambs, The (1991)\",1991,390],[99,\"Snow White and the Seven Dwarfs (1937)\",1937,172],[100,\"Fargo (1996)\",1997,508],[101,\"Heavy Metal (1981)\",1981,73],[102,\"Aristocats, The (1970)\",1970,54],[103,\"All Dogs Go to Heaven 2 (1996)\",1996,15],[104,\"Theodore Rex (1995)\",1996,5],[105,\"Sgt. Bilko (1996)\",1996,74],[106,\"Diabolique (1996)\",1996,71],[107,\"Moll Flanders (1996)\",1996,42],[108,\"Kids in the Hall: Brain Candy (1996)\",1996,65],[109,\"Mystery Science Theater 3000: The Movie (1996)\",1996,130],[110,\"Operation Dumbo Drop (1995)\",1995,31],[111,\"Truth About Cats & Dogs, The (1996)\",1996,272],[112,\"Flipper (1996)\",1996,20],[113,\"Horseman on the Roof, The (Hussard sur le toit, Le) (1995)\",1996,9],[114,\"Wallace & Gromit: The Best of Aardman Animation (1996)\",1996,67],[115,\"Haunted World of Edward D. Wood Jr., The (1995)\",1996,15],[116,\"Cold Comfort Farm (1995)\",1996,125],[117,\"Rock, The (1996)\",1996,378],[118,\"Twister (1996)\",1996,293],[119,\"Maya Lin: A Strong Clear Vision (1994)\",1994,4],[120,\"Striptease (1996)\",1996,67],[121,\"Independence Day (ID4) (1996)\",1996,429],[122,\"Cable Guy, The (1996)\",1996,106],[123,\"Frighteners, The (1996)\",1996,115],[124,\"Lone Star (1996)\",1996,187],[125,\"Phenomenon (1996)\",1996,244],[126,\"Spitfire Grill, The (1996)\",1996,97],[127,\"Godfather, The (1972)\",1972,413],[128,\"Supercop (1992)\",1996,65],[129,\"Bound (1996)\",1996,129],[130,\"Kansas City (1996)\",1996,23],[131,\"Breakfast at Tiffany's (1961)\",1961,95],[132,\"Wizard of Oz, The (1939)\",1939,246],[133,\"Gone with the Wind (1939)\",1939,171],[134,\"Citizen Kane (1941)\",1941,198],[135,\"2001: A Space Odyssey (1968)\",1968,259],[136,\"Mr. Smith Goes to Washington (1939)\",1939,105],[137,\"Big Night (1996)\",1996,171],[138,\"D3: The Mighty Ducks (1996)\",1996,19],[139,\"Love Bug, The (1969)\",1969,50],[140,\"Homeward Bound: The Incredible Journey (1993)\",1993,61],[141,\"20,000 Leagues Under the Sea (1954)\",1954,72],[142,\"Bedknobs and Broomsticks (1971)\",1971,57],[143,\"Sound of Music, The (1965)\",1965,222],[144,\"Die Hard (1988)\",1988,243],[145,\"Lawnmower Man, The (1992)\",1992,65],[146,\"Unhook the Stars (1996)\",1996,10],[147,\"Long Kiss Goodnight, The (1996)\",1996,185],[148,\"Ghost and the Darkness, The (1996)\",1996,128],[149,\"Jude (1996)\",1996,23],[150,\"Swingers (1996)\",1996,157],[151,\"Willy Wonka and the Chocolate Factory (1971)\",1971,326],[152,\"Sleeper (1973)\",1973,82],[153,\"Fish Called Wanda, A (1988)\",1988,247],[154,\"Monty Python's Life of Brian (1979)\",1979,174],[155,\"Dirty Dancing (1987)\",1987,98],[156,\"Reservoir Dogs (1992)\",1992,148],[157,\"Platoon (1986)\",1986,127],[158,\"Weekend at Bernie's (1989)\",1989,60],[159,\"Basic Instinct (1992)\",1992,101],[160,\"Glengarry Glen Ross (1992)\",1992,69],[161,\"Top Gun (1986)\",1986,220],[162,\"On Golden Pond (1981)\",1981,106],[163,\"Return of the Pink Panther, The (1974)\",1974,92],[164,\"Abyss, The (1989)\",1989,151],[165,\"Jean de Florette (1986)\",1986,64],[166,\"Manon of the Spring (Manon des sources) (1986)\",1986,58],[167,\"Private Benjamin (1980)\",1980,67],[168,\"Monty Python and the Holy Grail (1974)\",1974,316],[169,\"Wrong Trousers, The (1993)\",1993,118],[170,\"Cinema Paradiso (1988)\",1988,121],[171,\"Delicatessen (1991)\",1991,65],[172,\"Empire Strikes Back, The (1980)\",1980,367],[173,\"Princess Bride, The (1987)\",1987,324],[174,\"Raiders of the Lost Ark (1981)\",1981,420],[175,\"Brazil (1985)\",1985,208],[176,\"Aliens (1986)\",1986,284],[177,\"Good, The Bad and The Ugly, The (1966)\",1966,137],[178,\"12 Angry Men (1957)\",1957,125],[179,\"Clockwork Orange, A (1971)\",1971,221],[180,\"Apocalypse Now (1979)\",1979,221],[181,\"Return of the Jedi (1983)\",1997,507],[182,\"GoodFellas (1990)\",1990,226],[183,\"Alien (1979)\",1979,291],[184,\"Army of Darkness (1993)\",1993,116],[185,\"Psycho (1960)\",1960,239],[186,\"Blues Brothers, The (1980)\",1980,251],[187,\"Godfather: Part II, The (1974)\",1974,209],[188,\"Full Metal Jacket (1987)\",1987,170],[189,\"Grand Day Out, A (1992)\",1992,66],[190,\"Henry V (1989)\",1989,124],[191,\"Amadeus (1984)\",1984,276],[192,\"Raging Bull (1980)\",1980,116],[193,\"Right Stuff, The (1983)\",1983,157],[194,\"Sting, The (1973)\",1973,241],[195,\"Terminator, The (1984)\",1984,301],[196,\"Dead Poets Society (1989)\",1989,251],[197,\"Graduate, The (1967)\",1967,239],[198,\"Nikita (La Femme Nikita) (1990)\",1990,127],[199,\"Bridge on the River Kwai, The (1957)\",1957,165],[200,\"Shining, The (1980)\",1980,206],[201,\"Evil Dead II (1987)\",1987,89],[202,\"Groundhog Day (1993)\",1993,280],[203,\"Unforgiven (1992)\",1992,182],[204,\"Back to the Future (1985)\",1985,350],[205,\"Patton (1970)\",1970,136],[206,\"Akira (1988)\",1988,50],[207,\"Cyrano de Bergerac (1990)\",1990,66],[208,\"Young Frankenstein (1974)\",1974,200],[209,\"This Is Spinal Tap (1984)\",1984,191],[210,\"Indiana Jones and the Last Crusade (1989)\",1989,331],[211,\"M*A*S*H (1970)\",1970,206],[212,\"Unbearable Lightness of Being, The (1988)\",1988,92],[213,\"Room with a View, A (1986)\",1986,134],[214,\"Pink Floyd - The Wall (1982)\",1982,114],[215,\"Field of Dreams (1989)\",1989,212],[216,\"When Harry Met Sally... (1989)\",1989,290],[217,\"Bram Stoker's Dracula (1992)\",1992,120],[218,\"Cape Fear (1991)\",1991,171],[219,\"Nightmare on Elm Street, A (1984)\",1984,111],[220,\"Mirror Has Two Faces, The (1996)\",1996,66],[221,\"Breaking the Waves (1996)\",1996,74],[222,\"Star Trek: First Contact (1996)\",1996,365],[223,\"Sling Blade (1996)\",1996,136],[224,\"Ridicule (1996)\",1996,44],[225,\"101 Dalmatians (1996)\",1996,109],[226,\"Die Hard 2 (1990)\",1990,166],[227,\"Star Trek VI: The Undiscovered Country (1991)\",1991,161],[228,\"Star Trek: The Wrath of Khan (1982)\",1982,244],[229,\"Star Trek III: The Search for Spock (1984)\",1984,171],[230,\"Star Trek IV: The Voyage Home (1986)\",1986,199],[231,\"Batman Returns (1992)\",1992,142],[232,\"Young Guns (1988)\",1988,101],[233,\"Under Siege (1992)\",1992,124],[234,\"Jaws (1975)\",1975,280],[235,\"Mars Attacks! (1996)\",1996,217],[236,\"Citizen Ruth (1996)\",1996,45],[237,\"Jerry Maguire (1996)\",1996,384],[238,\"Raising Arizona (1987)\",1987,256],[239,\"Sneakers (1992)\",1992,150],[240,\"Beavis and Butt-head Do America (1996)\",1996,156],[241,\"Last of the Mohicans, The (1992)\",1992,128],[242,\"Kolya (1996)\",1997,117],[243,\"Jungle2Jungle (1997)\",1997,132],[244,\"Smilla's Sense of Snow (1997)\",1997,48],[245,\"Devil's Own, The (1997)\",1997,240],[246,\"Chasing Amy (1997)\",1997,124],[247,\"Turbo: A Power Rangers Movie (1997)\",1997,5],[248,\"Grosse Pointe Blank (1997)\",1997,160],[249,\"Austin Powers: International Man of Mystery (1997)\",1997,130],[250,\"Fifth Element, The (1997)\",1997,197],[251,\"Shall We Dance? (1996)\",1997,46],[252,\"Lost World: Jurassic Park, The (1997)\",1997,158],[253,\"Pillow Book, The (1995)\",1997,26],[254,\"Batman & Robin (1997)\",1997,62],[255,\"My Best Friend's Wedding (1997)\",1997,172],[256,\"When the Cats Away (Chacun cherche son chat) (1996)\",1997,16],[257,\"Men in Black (1997)\",1997,303],[258,\"Contact (1997)\",1997,509],[259,\"George of the Jungle (1997)\",1997,162],[260,\"Event Horizon (1997)\",1997,127],[261,\"Air Bud (1997)\",1997,43],[262,\"In the Company of Men (1997)\",1997,66],[263,\"Steel (1997)\",1997,19],[264,\"Mimic (1997)\",1997,101],[265,\"Hunt for Red October, The (1990)\",1990,227],[266,\"Kull the Conqueror (1997)\",1997,35],[267,\"unknown\",1920,9],[268,\"Chasing Amy (1997)\",1997,255],[269,\"Full Monty, The (1997)\",1997,315],[270,\"Gattaca (1997)\",1997,136],[271,\"Starship Troopers (1997)\",1997,211],[272,\"Good Will Hunting (1997)\",1997,198],[273,\"Heat (1995)\",1995,223],[274,\"Sabrina (1995)\",1995,190],[275,\"Sense and Sensibility (1995)\",1995,268],[276,\"Leaving Las Vegas (1995)\",1995,298],[277,\"Restoration (1995)\",1995,71],[278,\"Bed of Roses (1996)\",1996,60],[279,\"Once Upon a Time... When We Were Colored (1995)\",1995,28],[280,\"Up Close and Personal (1996)\",1996,85],[281,\"River Wild, The (1994)\",1994,146],[282,\"Time to Kill, A (1996)\",1996,232],[283,\"Emma (1996)\",1996,177],[284,\"Tin Cup (1996)\",1996,193],[285,\"Secrets & Lies (1996)\",1996,162],[286,\"English Patient, The (1996)\",1996,481],[287,\"Marvin's Room (1996)\",1996,78],[288,\"Scream (1996)\",1996,478],[289,\"Evita (1996)\",1996,259],[290,\"Fierce Creatures (1997)\",1997,96],[291,\"Absolute Power (1997)\",1997,127],[292,\"Rosewood (1997)\",1997,114],[293,\"Donnie Brasco (1997)\",1997,147],[294,\"Liar Liar (1997)\",1997,485],[295,\"Breakdown (1997)\",1997,77],[296,\"Promesse, La (1996)\",1997,6],[297,\"Ulee's Gold (1997)\",1997,50],[298,\"Face/Off (1997)\",1997,194],[299,\"Hoodlum (1997)\",1997,73],[300,\"Air Force One (1997)\",1997,431],[301,\"In & Out (1997)\",1997,230],[302,\"L.A. Confidential (1997)\",1997,297],[303,\"Ulee's Gold (1997)\",1997,134],[304,\"Fly Away Home (1996)\",1996,149],[305,\"Ice Storm, The (1997)\",1997,87],[306,\"Mrs. Brown (Her Majesty, Mrs. Brown) (1997)\",1997,96],[307,\"Devil's Advocate, The (1997)\",1997,188],[308,\"FairyTale: A True Story (1997)\",1997,30],[309,\"Deceiver (1997)\",1997,28],[310,\"Rainmaker, The (1997)\",1997,145],[311,\"Wings of the Dove, The (1997)\",1997,75],[312,\"Midnight in the Garden of Good and Evil (1997)\",1997,80],[313,\"Titanic (1997)\",1997,350],[314,\"3 Ninjas: High Noon At Mega Mountain (1998)\",1997,5],[315,\"Apt Pupil (1998)\",1998,160],[316,\"As Good As It Gets (1997)\",1997,112],[317,\"In the Name of the Father (1993)\",1993,102],[318,\"Schindler's List (1993)\",1993,298],[319,\"Everyone Says I Love You (1996)\",1996,168],[320,\"Paradise Lost: The Child Murders at Robin Hood Hills (1996)\",1996,20],[321,\"Mother (1996)\",1996,169],[322,\"Murder at 1600 (1997)\",1997,218],[323,\"Dante's Peak (1997)\",1997,240],[324,\"Lost Highway (1997)\",1997,125],[325,\"Crash (1996)\",1997,128],[326,\"G.I. Jane (1997)\",1997,175],[327,\"Cop Land (1997)\",1997,175],[328,\"Conspiracy Theory (1997)\",1997,295],[329,\"Desperate Measures (1998)\",1998,45],[330,\"187 (1997)\",1997,41],[331,\"Edge, The (1997)\",1997,113],[332,\"Kiss the Girls (1997)\",1997,143],[333,\"Game, The (1997)\",1997,251],[334,\"U Turn (1997)\",1997,64],[335,\"How to Be a Player (1997)\",1997,21],[336,\"Playing God (1997)\",1997,43],[337,\"House of Yes, The (1997)\",1997,18],[338,\"Bean (1997)\",1997,91],[339,\"Mad City (1997)\",1997,47],[340,\"Boogie Nights (1997)\",1997,189],[341,\"Critical Care (1997)\",1997,11],[342,\"Man Who Knew Too Little, The (1997)\",1997,52],[343,\"Alien: Resurrection (1997)\",1997,124],[344,\"Apostle, The (1997)\",1997,55],[345,\"Deconstructing Harry (1997)\",1997,65],[346,\"Jackie Brown (1997)\",1997,126],[347,\"Wag the Dog (1997)\",1998,137],[348,\"Desperate Measures (1998)\",1998,27],[349,\"Hard Rain (1998)\",1998,31],[350,\"Fallen (1998)\",1998,41],[351,\"Prophecy II, The (1998)\",1998,20],[352,\"Spice World (1997)\",1997,26],[353,\"Deep Rising (1998)\",1998,14],[354,\"Wedding Singer, The (1998)\",1998,72],[355,\"Sphere (1998)\",1998,41],[356,\"Client, The (1994)\",1994,97],[357,\"One Flew Over the Cuckoo's Nest (1975)\",1975,264],[358,\"Spawn (1997)\",1997,143],[359,\"Assignment, The (1997)\",1997,18],[360,\"Wonderland (1997)\",1997,10],[361,\"Incognito (1997)\",1997,10],[362,\"Blues Brothers 2000 (1998)\",1998,28],[363,\"Sudden Death (1995)\",1995,47],[364,\"Ace Ventura: When Nature Calls (1995)\",1995,37],[365,\"Powder (1995)\",1995,48],[366,\"Dangerous Minds (1995)\",1995,47],[367,\"Clueless (1995)\",1995,170],[368,\"Bio-Dome (1996)\",1996,31],[369,\"Black Sheep (1996)\",1996,55],[370,\"Mary Reilly (1996)\",1996,39],[371,\"Bridges of Madison County, The (1995)\",1996,67],[372,\"Jeffrey (1995)\",1995,34],[373,\"Judge Dredd (1995)\",1995,39],[374,\"Mighty Morphin Power Rangers: The Movie (1995)\",1995,11],[375,\"Showgirls (1995)\",1995,23],[376,\"Houseguest (1994)\",1994,24],[377,\"Heavyweights (1994)\",1994,13],[378,\"Miracle on 34th Street (1994)\",1994,101],[379,\"Tales From the Crypt Presents: Demon Knight (1995)\",1995,43],[380,\"Star Trek: Generations (1994)\",1994,116],[381,\"Muriel's Wedding (1994)\",1994,100],[382,\"Adventures of Priscilla, Queen of the Desert, The (1994)\",1994,111],[383,\"Flintstones, The (1994)\",1994,31],[384,\"Naked Gun 33 1/3: The Final Insult (1994)\",1994,69],[385,\"True Lies (1994)\",1994,208],[386,\"Addams Family Values (1993)\",1993,87],[387,\"Age of Innocence, The (1993)\",1993,65],[388,\"Beverly Hills Cop III (1994)\",1994,28],[389,\"Black Beauty (1994)\",1994,27],[390,\"Fear of a Black Hat (1993)\",1993,10],[391,\"Last Action Hero (1993)\",1993,59],[392,\"Man Without a Face, The (1993)\",1993,68],[393,\"Mrs. Doubtfire (1993)\",1993,192],[394,\"Radioland Murders (1994)\",1994,12],[395,\"Robin Hood: Men in Tights (1993)\",1993,56],[396,\"Serial Mom (1994)\",1994,54],[397,\"Striking Distance (1993)\",1993,12],[398,\"Super Mario Bros. (1993)\",1993,26],[399,\"Three Musketeers, The (1993)\",1993,89],[400,\"Little Rascals, The (1994)\",1994,18],[401,\"Brady Bunch Movie, The (1995)\",1995,76],[402,\"Ghost (1990)\",1990,170],[403,\"Batman (1989)\",1989,201],[404,\"Pinocchio (1940)\",1940,101],[405,\"Mission: Impossible (1996)\",1996,344],[406,\"Thinner (1996)\",1996,49],[407,\"Spy Hard (1996)\",1996,43],[408,\"Close Shave, A (1995)\",1996,112],[409,\"Jack (1996)\",1996,70],[410,\"Kingpin (1996)\",1996,162],[411,\"Nutty Professor, The (1996)\",1996,163],[412,\"Very Brady Sequel, A (1996)\",1996,93],[413,\"Tales from the Crypt Presents: Bordello of Blood (1996)\",1996,55],[414,\"My Favorite Year (1982)\",1982,62],[415,\"Apple Dumpling Gang, The (1975)\",1975,25],[416,\"Old Yeller (1957)\",1957,64],[417,\"Parent Trap, The (1961)\",1961,73],[418,\"Cinderella (1950)\",1950,129],[419,\"Mary Poppins (1964)\",1964,178],[420,\"Alice in Wonderland (1951)\",1951,81],[421,\"William Shakespeare's Romeo and Juliet (1996)\",1996,106],[422,\"Aladdin and the King of Thieves (1996)\",1996,26],[423,\"E.T. the Extra-Terrestrial (1982)\",1982,300],[424,\"Children of the Corn: The Gathering (1996)\",1996,19],[425,\"Bob Roberts (1992)\",1992,85],[426,\"Transformers: The Movie, The (1986)\",1986,32],[427,\"To Kill a Mockingbird (1962)\",1962,219],[428,\"Harold and Maude (1971)\",1971,121],[429,\"Day the Earth Stood Still, The (1951)\",1951,97],[430,\"Duck Soup (1933)\",1933,93],[431,\"Highlander (1986)\",1986,153],[432,\"Fantasia (1940)\",1940,174],[433,\"Heathers (1989)\",1989,171],[434,\"Forbidden Planet (1956)\",1956,67],[435,\"Butch Cassidy and the Sundance Kid (1969)\",1969,216],[436,\"American Werewolf in London, An (1981)\",1981,99],[437,\"Amityville 1992: It's About Time (1992)\",1992,5],[438,\"Amityville 3-D (1983)\",1983,6],[439,\"Amityville: A New Generation (1993)\",1993,5],[440,\"Amityville II: The Possession (1982)\",1982,14],[441,\"Amityville Horror, The (1979)\",1979,53],[442,\"Amityville Curse, The (1990)\",1990,4],[443,\"Birds, The (1963)\",1963,162],[444,\"Blob, The (1958)\",1958,46],[445,\"Body Snatcher, The (1945)\",1945,22],[446,\"Burnt Offerings (1976)\",1976,9],[447,\"Carrie (1976)\",1976,121],[448,\"Omen, The (1976)\",1976,85],[449,\"Star Trek: The Motion Picture (1979)\",1979,117],[450,\"Star Trek V: The Final Frontier (1989)\",1989,63],[451,\"Grease (1978)\",1978,170],[452,\"Jaws 2 (1978)\",1978,66],[453,\"Jaws 3-D (1983)\",1983,16],[454,\"Bastard Out of Carolina (1996)\",1996,16],[455,\"Jackie Chan's First Strike (1996)\",1997,145],[456,\"Beverly Hills Ninja (1997)\",1997,48],[457,\"Free Willy 3: The Rescue (1997)\",1997,27],[458,\"Nixon (1995)\",1995,90],[459,\"Cry, the Beloved Country (1995)\",1995,24],[460,\"Crossing Guard, The (1995)\",1995,28],[461,\"Smoke (1995)\",1995,74],[462,\"Like Water For Chocolate (Como agua para chocolate) (1992)\",1992,148],[463,\"Secret of Roan Inish, The (1994)\",1994,71],[464,\"Vanya on 42nd Street (1994)\",1994,27],[465,\"Jungle Book, The (1994)\",1994,85],[466,\"Red Rock West (1992)\",1992,52],[467,\"Bronx Tale, A (1993)\",1993,48],[468,\"Rudy (1993)\",1993,64],[469,\"Short Cuts (1993)\",1993,67],[470,\"Tombstone (1993)\",1993,108],[471,\"Courage Under Fire (1996)\",1996,221],[472,\"Dragonheart (1996)\",1996,158],[473,\"James and the Giant Peach (1996)\",1996,126],[474,\"Dr. Strangelove or: How I Learned to Stop Worrying and Love the Bomb (1963)\",1963,194],[475,\"Trainspotting (1996)\",1996,250],[476,\"First Wives Club, The (1996)\",1996,160],[477,\"Matilda (1996)\",1996,95],[478,\"Philadelphia Story, The (1940)\",1940,104],[479,\"Vertigo (1958)\",1958,179],[480,\"North by Northwest (1959)\",1959,179],[481,\"Apartment, The (1960)\",1960,63],[482,\"Some Like It Hot (1959)\",1959,128],[483,\"Casablanca (1942)\",1942,243],[484,\"Maltese Falcon, The (1941)\",1941,138],[485,\"My Fair Lady (1964)\",1964,125],[486,\"Sabrina (1954)\",1954,64],[487,\"Roman Holiday (1953)\",1953,68],[488,\"Sunset Blvd. (1950)\",1950,65],[489,\"Notorious (1946)\",1946,52],[490,\"To Catch a Thief (1955)\",1955,50],[491,\"Adventures of Robin Hood, The (1938)\",1938,67],[492,\"East of Eden (1955)\",1955,59],[493,\"Thin Man, The (1934)\",1934,60],[494,\"His Girl Friday (1940)\",1940,56],[495,\"Around the World in 80 Days (1956)\",1956,59],[496,\"It's a Wonderful Life (1946)\",1946,231],[497,\"Bringing Up Baby (1938)\",1938,68],[498,\"African Queen, The (1951)\",1951,152],[499,\"Cat on a Hot Tin Roof (1958)\",1958,62],[500,\"Fly Away Home (1996)\",1996,31],[501,\"Dumbo (1941)\",1941,123],[502,\"Bananas (1971)\",1971,57],[503,\"Candidate, The (1972)\",1972,39],[504,\"Bonnie and Clyde (1967)\",1967,122],[505,\"Dial M for Murder (1954)\",1954,68],[506,\"Rebel Without a Cause (1955)\",1955,90],[507,\"Streetcar Named Desire, A (1951)\",1951,98],[508,\"People vs. Larry Flynt, The (1996)\",1996,215],[509,\"My Left Foot (1989)\",1989,121],[510,\"Magnificent Seven, The (1954)\",1954,121],[511,\"Lawrence of Arabia (1962)\",1962,173],[512,\"Wings of Desire (1987)\",1987,57],[513,\"Third Man, The (1949)\",1949,72],[514,\"Annie Hall (1977)\",1977,180],[515,\"Boot, Das (1981)\",1997,201],[516,\"Local Hero (1983)\",1983,63],[517,\"Manhattan (1979)\",1979,91],[518,\"Miller's Crossing (1990)\",1990,89],[519,\"Treasure of the Sierra Madre, The (1948)\",1948,80],[520,\"Great Escape, The (1963)\",1963,124],[521,\"Deer Hunter, The (1978)\",1978,120],[522,\"Down by Law (1986)\",1986,35],[523,\"Cool Hand Luke (1967)\",1967,164],[524,\"Great Dictator, The (1940)\",1940,46],[525,\"Big Sleep, The (1946)\",1946,73],[526,\"Ben-Hur (1959)\",1959,124],[527,\"Gandhi (1982)\",1982,195],[528,\"Killing Fields, The (1984)\",1984,121],[529,\"My Life as a Dog (Mitt liv som hund) (1985)\",1985,93],[530,\"Man Who Would Be King, The (1975)\",1975,80],[531,\"Shine (1996)\",1996,129],[532,\"Kama Sutra: A Tale of Love (1996)\",1997,22],[533,\"Daytrippers, The (1996)\",1997,15],[534,\"Traveller (1997)\",1997,13],[535,\"Addicted to Love (1997)\",1997,54],[536,\"Ponette (1996)\",1997,10],[537,\"My Own Private Idaho (1991)\",1991,30],[538,\"Anastasia (1997)\",1997,66],[539,\"Mouse Hunt (1997)\",1997,44],[540,\"Money Train (1995)\",1995,43],[541,\"Mortal Kombat (1995)\",1995,49],[542,\"Pocahontas (1995)\",1995,51],[543,\"Mis\\u00e9rables, Les (1995)\",1995,21],[544,\"Things to Do in Denver when You're Dead (1995)\",1996,71],[545,\"Vampire in Brooklyn (1995)\",1995,12],[546,\"Broken Arrow (1996)\",1996,254],[547,\"Young Poisoner's Handbook, The (1995)\",1996,41],[548,\"NeverEnding Story III, The (1994)\",1996,12],[549,\"Rob Roy (1995)\",1995,92],[550,\"Die Hard: With a Vengeance (1995)\",1995,151],[551,\"Lord of Illusions (1995)\",1995,24],[552,\"Species (1995)\",1995,45],[553,\"Walk in the Clouds, A (1995)\",1995,63],[554,\"Waterworld (1995)\",1995,102],[555,\"White Man's Burden (1995)\",1995,10],[556,\"Wild Bill (1995)\",1995,12],[557,\"Farinelli: il castrato (1994)\",1994,17],[558,\"Heavenly Creatures (1994)\",1994,70],[559,\"Interview with the Vampire (1994)\",1994,137],[560,\"Kid in King Arthur's Court, A (1995)\",1995,22],[561,\"Mary Shelley's Frankenstein (1994)\",1994,59],[562,\"Quick and the Dead, The (1995)\",1995,48],[563,\"Stephen King's The Langoliers (1995)\",1995,29],[564,\"Tales from the Hood (1995)\",1995,27],[565,\"Village of the Damned (1995)\",1995,22],[566,\"Clear and Present Danger (1994)\",1994,179],[567,\"Wes Craven's New Nightmare (1994)\",1994,35],[568,\"Speed (1994)\",1994,230],[569,\"Wolf (1994)\",1994,67],[570,\"Wyatt Earp (1994)\",1994,50],[571,\"Another Stakeout (1993)\",1993,28],[572,\"Blown Away (1994)\",1994,29],[573,\"Body Snatchers (1993)\",1993,33],[574,\"Boxing Helena (1993)\",1993,15],[575,\"City Slickers II: The Legend of Curly's Gold (1994)\",1994,44],[576,\"Cliffhanger (1993)\",1993,93],[577,\"Coneheads (1993)\",1993,41],[578,\"Demolition Man (1993)\",1993,92],[579,\"Fatal Instinct (1993)\",1993,19],[580,\"Englishman Who Went Up a Hill, But Came Down a Mountain, The (1995)\",1995,32],[581,\"Kalifornia (1993)\",1993,59],[582,\"Piano, The (1993)\",1993,168],[583,\"Romeo Is Bleeding (1993)\",1993,37],[584,\"Secret Garden, The (1993)\",1993,79],[585,\"Son in Law (1993)\",1993,39],[586,\"Terminal Velocity (1994)\",1994,34],[587,\"Hour of the Pig, The (1993)\",1993,14],[588,\"Beauty and the Beast (1991)\",1991,202],[589,\"Wild Bunch, The (1969)\",1969,43],[590,\"Hellraiser: Bloodline (1996)\",1996,18],[591,\"Primal Fear (1996)\",1996,178],[592,\"True Crime (1995)\",1995,9],[593,\"Stalingrad (1993)\",1993,12],[594,\"Heavy (1995)\",1996,5],[595,\"Fan, The (1996)\",1996,64],[596,\"Hunchback of Notre Dame, The (1996)\",1996,127],[597,\"Eraser (1996)\",1996,206],[598,\"Big Squeeze, The (1996)\",1996,4],[599,\"Police Story 4: Project S (Chao ji ji hua) (1993)\",1996,1],[600,\"Daniel Defoe's Robinson Crusoe (1996)\",1996,2],[601,\"For Whom the Bell Tolls (1943)\",1943,20],[602,\"American in Paris, An (1951)\",1951,50],[603,\"Rear Window (1954)\",1954,209],[604,\"It Happened One Night (1934)\",1934,81],[605,\"Meet Me in St. Louis (1944)\",1944,31],[606,\"All About Eve (1950)\",1950,66],[607,\"Rebecca (1940)\",1940,66],[608,\"Spellbound (1945)\",1945,30],[609,\"Father of the Bride (1950)\",1950,60],[610,\"Gigi (1958)\",1958,41],[611,\"Laura (1944)\",1944,40],[612,\"Lost Horizon (1937)\",1937,34],[613,\"My Man Godfrey (1936)\",1936,27],[614,\"Giant (1956)\",1956,51],[615,\"39 Steps, The (1935)\",1935,59],[616,\"Night of the Living Dead (1968)\",1968,64],[617,\"Blue Angel, The (Blaue Engel, Der) (1930)\",1930,18],[618,\"Picnic (1955)\",1955,18],[619,\"Extreme Measures (1996)\",1996,64],[620,\"Chamber, The (1996)\",1996,43],[621,\"Davy Crockett, King of the Wild Frontier (1955)\",1955,11],[622,\"Swiss Family Robinson (1960)\",1960,39],[623,\"Angels in the Outfield (1994)\",1994,39],[624,\"Three Caballeros, The (1945)\",1945,22],[625,\"Sword in the Stone, The (1963)\",1963,82],[626,\"So Dear to My Heart (1949)\",1949,4],[627,\"Robin Hood: Prince of Thieves (1991)\",1991,75],[628,\"Sleepers (1996)\",1996,169],[629,\"Victor/Victoria (1982)\",1982,77],[630,\"Great Race, The (1965)\",1965,31],[631,\"Crying Game, The (1992)\",1992,119],[632,\"Sophie's Choice (1982)\",1982,58],[633,\"Christmas Carol, A (1938)\",1938,69],[634,\"Microcosmos: Le peuple de l'herbe (1996)\",1996,24],[635,\"Fog, The (1980)\",1980,23],[636,\"Escape from New York (1981)\",1981,91],[637,\"Howling, The (1981)\",1981,38],[638,\"Return of Martin Guerre, The (Retour de Martin Guerre, Le) (1982)\",1982,44],[639,\"Tin Drum, The (Blechtrommel, Die) (1979)\",1979,40],[640,\"Cook the Thief His Wife & Her Lover, The (1989)\",1989,82],[641,\"Paths of Glory (1957)\",1957,33],[642,\"Grifters, The (1990)\",1990,89],[643,\"The Innocent (1994)\",1994,4],[644,\"Thin Blue Line, The (1988)\",1988,35],[645,\"Paris Is Burning (1990)\",1990,27],[646,\"Once Upon a Time in the West (1969)\",1969,38],[647,\"Ran (1985)\",1985,70],[648,\"Quiet Man, The (1952)\",1952,67],[649,\"Once Upon a Time in America (1984)\",1984,50],[650,\"Seventh Seal, The (Sjunde inseglet, Det) (1957)\",1957,72],[651,\"Glory (1989)\",1989,171],[652,\"Rosencrantz and Guildenstern Are Dead (1990)\",1990,90],[653,\"Touch of Evil (1958)\",1958,34],[654,\"Chinatown (1974)\",1974,147],[655,\"Stand by Me (1986)\",1986,227],[656,\"M (1931)\",1931,44],[657,\"Manchurian Candidate, The (1962)\",1962,131],[658,\"Pump Up the Volume (1990)\",1990,79],[659,\"Arsenic and Old Lace (1944)\",1944,115],[660,\"Fried Green Tomatoes (1991)\",1991,153],[661,\"High Noon (1952)\",1952,88],[662,\"Somewhere in Time (1980)\",1980,82],[663,\"Being There (1979)\",1979,116],[664,\"Paris, Texas (1984)\",1984,46],[665,\"Alien 3 (1992)\",1992,100],[666,\"Blood For Dracula (Andy Warhol's Dracula) (1974)\",1974,5],[667,\"Audrey Rose (1977)\",1977,12],[668,\"Blood Beach (1981)\",1981,6],[669,\"Body Parts (1991)\",1991,13],[670,\"Body Snatchers (1993)\",1993,36],[671,\"Bride of Frankenstein (1935)\",1935,46],[672,\"Candyman (1992)\",1992,65],[673,\"Cape Fear (1962)\",1962,86],[674,\"Cat People (1982)\",1982,48],[675,\"Nosferatu (Nosferatu, eine Symphonie des Grauens) (1922)\",1922,54],[676,\"Crucible, The (1996)\",1996,77],[677,\"Fire on the Mountain (1996)\",1997,1],[678,\"Volcano (1997)\",1997,219],[679,\"Conan the Barbarian (1981)\",1981,107],[680,\"Kull the Conqueror (1997)\",1997,34],[681,\"Wishmaster (1997)\",1997,27],[682,\"I Know What You Did Last Summer (1997)\",1997,100],[683,\"Rocket Man (1997)\",1997,49],[684,\"In the Line of Fire (1993)\",1993,169],[685,\"Executive Decision (1996)\",1996,157],[686,\"Perfect World, A (1993)\",1993,50],[687,\"McHale's Navy (1997)\",1997,69],[688,\"Leave It to Beaver (1997)\",1997,44],[689,\"Jackal, The (1997)\",1997,87],[690,\"Seven Years in Tibet (1997)\",1997,155],[691,\"Dark City (1998)\",1998,16],[692,\"American President, The (1995)\",1995,164],[693,\"Casino (1995)\",1995,91],[694,\"Persuasion (1995)\",1995,44],[695,\"Kicking and Screaming (1995)\",1995,13],[696,\"City Hall (1996)\",1996,79],[697,\"Basketball Diaries, The (1995)\",1995,40],[698,\"Browning Version, The (1994)\",1994,10],[699,\"Little Women (1994)\",1994,102],[700,\"Miami Rhapsody (1995)\",1995,15],[701,\"Wonderful, Horrible Life of Leni Riefenstahl, The (1993)\",1993,10],[702,\"Barcelona (1994)\",1994,53],[703,\"Widows' Peak (1994)\",1994,19],[704,\"House of the Spirits, The (1993)\",1993,24],[705,\"Singin' in the Rain (1952)\",1952,137],[706,\"Bad Moon (1996)\",1996,6],[707,\"Enchanted April (1991)\",1991,70],[708,\"Sex, Lies, and Videotape (1989)\",1989,101],[709,\"Strictly Ballroom (1992)\",1992,104],[710,\"Better Off Dead... (1985)\",1985,79],[711,\"Substance of Fire, The (1996)\",1996,1],[712,\"Tin Men (1987)\",1987,51],[713,\"Othello (1995)\",1995,72],[714,\"Carrington (1995)\",1995,13],[715,\"To Die For (1995)\",1995,87],[716,\"Home for the Holidays (1995)\",1995,58],[717,\"Juror, The (1996)\",1996,82],[718,\"In the Bleak Midwinter (1995)\",1996,16],[719,\"Canadian Bacon (1994)\",1994,29],[720,\"First Knight (1995)\",1995,86],[721,\"Mallrats (1995)\",1995,54],[722,\"Nine Months (1995)\",1995,58],[723,\"Boys on the Side (1995)\",1995,34],[724,\"Circle of Friends (1995)\",1995,76],[725,\"Exit to Eden (1994)\",1994,16],[726,\"Fluke (1995)\",1995,14],[727,\"Immortal Beloved (1994)\",1994,63],[728,\"Junior (1994)\",1994,45],[729,\"Nell (1994)\",1994,81],[730,\"Queen Margot (Reine Margot, La) (1994)\",1996,24],[731,\"Corrina, Corrina (1994)\",1994,39],[732,\"Dave (1993)\",1993,180],[733,\"Go Fish (1994)\",1994,15],[734,\"Made in America (1993)\",1993,27],[735,\"Philadelphia (1993)\",1993,137],[736,\"Shadowlands (1993)\",1993,78],[737,\"Sirens (1994)\",1994,59],[738,\"Threesome (1994)\",1994,31],[739,\"Pretty Woman (1990)\",1990,164],[740,\"Jane Eyre (1996)\",1996,63],[741,\"Last Supper, The (1995)\",1996,58],[742,\"Ransom (1996)\",1996,267],[743,\"Crow: City of Angels, The (1996)\",1996,39],[744,\"Michael Collins (1996)\",1996,92],[745,\"Ruling Class, The (1972)\",1972,16],[746,\"Real Genius (1985)\",1985,119],[747,\"Benny & Joon (1993)\",1993,102],[748,\"Saint, The (1997)\",1997,316],[749,\"MatchMaker, The (1997)\",1997,51],[750,\"Amistad (1997)\",1997,124],[751,\"Tomorrow Never Dies (1997)\",1997,180],[752,\"Replacement Killers, The (1998)\",1998,39],[753,\"Burnt By the Sun (1994)\",1994,24],[754,\"Red Corner (1997)\",1997,57],[755,\"Jumanji (1995)\",1995,96],[756,\"Father of the Bride Part II (1995)\",1995,128],[757,\"Across the Sea of Time (1995)\",1995,4],[758,\"Lawnmower Man 2: Beyond Cyberspace (1996)\",1996,21],[759,\"Fair Game (1995)\",1995,11],[760,\"Screamers (1995)\",1995,46],[761,\"Nick of Time (1995)\",1995,44],[762,\"Beautiful Girls (1996)\",1996,115],[763,\"Happy Gilmore (1996)\",1996,149],[764,\"If Lucy Fell (1996)\",1996,29],[765,\"Boomerang (1992)\",1992,32],[766,\"Man of the Year (1995)\",1996,9],[767,\"Addiction, The (1995)\",1995,11],[768,\"Casper (1995)\",1995,52],[769,\"Congo (1995)\",1995,42],[770,\"Devil in a Blue Dress (1995)\",1995,57],[771,\"Johnny Mnemonic (1995)\",1995,41],[772,\"Kids (1995)\",1995,49],[773,\"Mute Witness (1994)\",1994,17],[774,\"Prophecy, The (1995)\",1995,32],[775,\"Something to Talk About (1995)\",1995,26],[776,\"Three Wishes (1995)\",1995,9],[777,\"Castle Freak (1995)\",1995,4],[778,\"Don Juan DeMarco (1995)\",1995,76],[779,\"Drop Zone (1994)\",1994,31],[780,\"Dumb & Dumber (1994)\",1994,69],[781,\"French Kiss (1995)\",1995,84],[782,\"Little Odessa (1994)\",1994,10],[783,\"Milk Money (1994)\",1994,37],[784,\"Beyond Bedlam (1993)\",1993,2],[785,\"Only You (1994)\",1994,39],[786,\"Perez Family, The (1995)\",1995,14],[787,\"Roommates (1995)\",1995,13],[788,\"Relative Fear (1994)\",1994,3],[789,\"Swimming with Sharks (1995)\",1995,47],[790,\"Tommy Boy (1995)\",1995,66],[791,\"Baby-Sitters Club, The (1995)\",1995,10],[792,\"Bullets Over Broadway (1994)\",1994,86],[793,\"Crooklyn (1994)\",1994,10],[794,\"It Could Happen to You (1994)\",1994,46],[795,\"Richie Rich (1994)\",1994,21],[796,\"Speechless (1994)\",1994,36],[797,\"Timecop (1994)\",1994,31],[798,\"Bad Company (1995)\",1995,9],[799,\"Boys Life (1995)\",1995,5],[800,\"In the Mouth of Madness (1995)\",1995,26],[801,\"Air Up There, The (1994)\",1994,16],[802,\"Hard Target (1993)\",1993,40],[803,\"Heaven & Earth (1993)\",1993,9],[804,\"Jimmy Hollywood (1994)\",1994,8],[805,\"Manhattan Murder Mystery (1993)\",1993,27],[806,\"Menace II Society (1993)\",1993,50],[807,\"Poetic Justice (1993)\",1993,9],[808,\"Program, The (1993)\",1993,31],[809,\"Rising Sun (1993)\",1993,43],[810,\"Shadow, The (1994)\",1994,45],[811,\"Thirty-Two Short Films About Glenn Gould (1993)\",1993,18],[812,\"Andre (1994)\",1994,18],[813,\"Celluloid Closet, The (1995)\",1996,56],[814,\"Great Day in Harlem, A (1994)\",1994,1],[815,\"One Fine Day (1996)\",1996,112],[816,\"Candyman: Farewell to the Flesh (1995)\",1995,21],[817,\"Frisk (1995)\",1996,3],[818,\"Girl 6 (1996)\",1996,25],[819,\"Eddie (1996)\",1996,40],[820,\"Space Jam (1996)\",1996,93],[821,\"Mrs. Winterbourne (1996)\",1996,22],[822,\"Faces (1968)\",1968,4],[823,\"Mulholland Falls (1996)\",1996,82],[824,\"Great White Hype, The (1996)\",1996,49],[825,\"Arrival, The (1996)\",1996,83],[826,\"Phantom, The (1996)\",1996,80],[827,\"Daylight (1996)\",1996,57],[828,\"Alaska (1996)\",1996,13],[829,\"Fled (1996)\",1996,34],[830,\"Power 98 (1995)\",1996,1],[831,\"Escape from L.A. (1996)\",1996,91],[832,\"Bogus (1996)\",1996,22],[833,\"Bulletproof (1996)\",1996,49],[834,\"Halloween: The Curse of Michael Myers (1995)\",1995,25],[835,\"Gay Divorcee, The (1934)\",1934,15],[836,\"Ninotchka (1939)\",1939,26],[837,\"Meet John Doe (1941)\",1941,25],[838,\"In the Line of Duty 2 (1987)\",1996,4],[839,\"Loch Ness (1995)\",1995,4],[840,\"Last Man Standing (1996)\",1996,53],[841,\"Glimmer Man, The (1996)\",1996,48],[842,\"Pollyanna (1960)\",1960,27],[843,\"Shaggy Dog, The (1959)\",1959,30],[844,\"Freeway (1996)\",1996,42],[845,\"That Thing You Do! (1996)\",1996,176],[846,\"To Gillian on Her 37th Birthday (1996)\",1996,44],[847,\"Looking for Richard (1996)\",1996,55],[848,\"Murder, My Sweet (1944)\",1944,9],[849,\"Days of Thunder (1990)\",1990,53],[850,\"Perfect Candidate, A (1996)\",1996,4],[851,\"Two or Three Things I Know About Her (1966)\",1966,4],[852,\"Bloody Child, The (1996)\",1996,1],[853,\"Braindead (1992)\",1992,14],[854,\"Bad Taste (1987)\",1987,16],[855,\"Diva (1981)\",1981,66],[856,\"Night on Earth (1991)\",1991,36],[857,\"Paris Was a Woman (1995)\",1996,1],[858,\"Amityville: Dollhouse (1996)\",1996,3],[859,\"April Fool's Day (1986)\",1986,15],[860,\"Believers, The (1987)\",1987,16],[861,\"Nosferatu a Venezia (1986)\",1986,3],[862,\"Jingle All the Way (1996)\",1996,18],[863,\"Garden of Finzi-Contini, The (Giardino dei Finzi-Contini, Il) (1970)\",1996,24],[864,\"My Fellow Americans (1996)\",1996,86],[865,\"Ice Storm, The (1997)\",1997,21],[866,\"Michael (1996)\",1996,119],[867,\"Whole Wide World, The (1996)\",1996,6],[868,\"Hearts and Minds (1996)\",1997,5],[869,\"Fools Rush In (1997)\",1997,24],[870,\"Touch (1997)\",1997,9],[871,\"Vegas Vacation (1997)\",1997,75],[872,\"Love Jones (1997)\",1997,42],[873,\"Picture Perfect (1997)\",1997,81],[874,\"Career Girls (1997)\",1997,39],[875,\"She's So Lovely (1997)\",1997,53],[876,\"Money Talks (1997)\",1997,47],[877,\"Excess Baggage (1997)\",1997,52],[878,\"That Darn Cat! (1997)\",1997,33],[879,\"Peacemaker, The (1997)\",1997,136],[880,\"Soul Food (1997)\",1997,59],[881,\"Money Talks (1997)\",1997,45],[882,\"Washington Square (1997)\",1997,34],[883,\"Telling Lies in America (1997)\",1997,13],[884,\"Year of the Horse (1997)\",1997,7],[885,\"Phantoms (1998)\",1998,13],[886,\"Life Less Ordinary, A (1997)\",1997,53],[887,\"Eve's Bayou (1997)\",1997,64],[888,\"One Night Stand (1997)\",1997,15],[889,\"Tango Lesson, The (1997)\",1997,13],[890,\"Mortal Kombat: Annihilation (1997)\",1997,43],[891,\"Bent (1997)\",1997,6],[892,\"Flubber (1997)\",1997,53],[893,\"For Richer or Poorer (1997)\",1997,14],[894,\"Home Alone 3 (1997)\",1997,19],[895,\"Scream 2 (1997)\",1997,106],[896,\"Sweet Hereafter, The (1997)\",1997,44],[897,\"Time Tracers (1995)\",1995,2],[898,\"Postman, The (1997)\",1997,58],[899,\"Winter Guest, The (1997)\",1997,9],[900,\"Kundun (1997)\",1997,42],[901,\"Mr. Magoo (1997)\",1997,12],[902,\"Big Lebowski, The (1998)\",1997,42],[903,\"Afterglow (1997)\",1997,18],[904,\"Ma vie en rose (My Life in Pink) (1997)\",1997,20],[905,\"Great Expectations (1998)\",1998,27],[906,\"Oscar & Lucinda (1997)\",1997,21],[907,\"Vermin (1998)\",1997,2],[908,\"Half Baked (1998)\",1998,20],[909,\"Dangerous Beauty (1998)\",1998,13],[910,\"Nil By Mouth (1997)\",1998,4],[911,\"Twilight (1998)\",1998,4],[912,\"U.S. Marshalls (1998)\",1998,9],[913,\"Love and Death on Long Island (1997)\",1998,2],[914,\"Wild Things (1998)\",1998,11],[915,\"Primary Colors (1998)\",1998,13],[916,\"Lost in Space (1998)\",1998,18],[917,\"Mercury Rising (1998)\",1998,7],[918,\"City of Angels (1998)\",1998,8],[919,\"City of Lost Children, The (1995)\",1995,96],[920,\"Two Bits (1995)\",1995,5],[921,\"Farewell My Concubine (1993)\",1993,46],[922,\"Dead Man (1995)\",1996,34],[923,\"Raise the Red Lantern (1991)\",1991,58],[924,\"White Squall (1996)\",1996,85],[925,\"Unforgettable (1996)\",1996,34],[926,\"Down Periscope (1996)\",1996,101],[927,\"Flower of My Secret, The (Flor de mi secreto, La) (1995)\",1996,6],[928,\"Craft, The (1996)\",1996,104],[929,\"Harriet the Spy (1996)\",1996,40],[930,\"Chain Reaction (1996)\",1996,80],[931,\"Island of Dr. Moreau, The (1996)\",1996,57],[932,\"First Kid (1996)\",1996,40],[933,\"Funeral, The (1996)\",1996,21],[934,\"Preacher's Wife, The (1996)\",1996,68],[935,\"Paradise Road (1997)\",1997,7],[936,\"Brassed Off (1996)\",1997,32],[937,\"Thousand Acres, A (1997)\",1997,37],[938,\"Smile Like Yours, A (1997)\",1997,25],[939,\"Murder in the First (1995)\",1995,60],[940,\"Airheads (1994)\",1994,32],[941,\"With Honors (1994)\",1994,46],[942,\"What's Love Got to Do with It (1993)\",1993,45],[943,\"Killing Zoe (1994)\",1994,40],[944,\"Renaissance Man (1994)\",1994,43],[945,\"Charade (1963)\",1963,40],[946,\"Fox and the Hound, The (1981)\",1981,61],[947,\"Big Blue, The (Grand bleu, Le) (1988)\",1988,17],[948,\"Booty Call (1997)\",1997,48],[949,\"How to Make an American Quilt (1995)\",1995,71],[950,\"Georgia (1995)\",1995,30],[951,\"Indian in the Cupboard, The (1995)\",1995,39],[952,\"Blue in the Face (1995)\",1995,45],[953,\"Unstrung Heroes (1995)\",1995,22],[954,\"Unzipped (1995)\",1995,11],[955,\"Before Sunrise (1995)\",1995,49],[956,\"Nobody's Fool (1994)\",1994,46],[957,\"Pushing Hands (1992)\",1992,2],[958,\"To Live (Huozhe) (1994)\",1994,14],[959,\"Dazed and Confused (1993)\",1993,64],[960,\"Naked (1993)\",1993,25],[961,\"Orlando (1993)\",1993,34],[962,\"Ruby in Paradise (1993)\",1993,23],[963,\"Some Folks Call It a Sling Blade (1993)\",1993,41],[964,\"Month by the Lake, A (1995)\",1995,9],[965,\"Funny Face (1957)\",1957,21],[966,\"Affair to Remember, An (1957)\",1957,26],[967,\"Little Lord Fauntleroy (1936)\",1936,12],[968,\"Inspector General, The (1949)\",1949,18],[969,\"Winnie the Pooh and the Blustery Day (1968)\",1968,75],[970,\"Hear My Song (1991)\",1991,8],[971,\"Mediterraneo (1991)\",1991,34],[972,\"Passion Fish (1992)\",1992,28],[973,\"Grateful Dead (1995)\",1996,4],[974,\"Eye for an Eye (1996)\",1996,32],[975,\"Fear (1996)\",1996,44],[976,\"Solo (1996)\",1996,12],[977,\"Substitute, The (1996)\",1996,49],[978,\"Heaven's Prisoners (1996)\",1996,27],[979,\"Trigger Effect, The (1996)\",1996,35],[980,\"Mother Night (1996)\",1996,22],[981,\"Dangerous Ground (1997)\",1996,8],[982,\"Maximum Risk (1996)\",1996,20],[983,\"Rich Man's Wife, The (1996)\",1996,15],[984,\"Shadow Conspiracy (1997)\",1997,44],[985,\"Blood & Wine (1997)\",1996,22],[986,\"Turbulence (1997)\",1997,23],[987,\"Underworld (1997)\",1997,4],[988,\"Beautician and the Beast, The (1997)\",1997,86],[989,\"Cats Don't Dance (1997)\",1997,32],[990,\"Anna Karenina (1997)\",1997,33],[991,\"Keys to Tulsa (1997)\",1997,25],[992,\"Head Above Water (1996)\",1997,4],[993,\"Hercules (1997)\",1997,66],[994,\"Last Time I Committed Suicide, The (1997)\",1997,7],[995,\"Kiss Me, Guido (1997)\",1997,31],[996,\"Big Green, The (1995)\",1995,14],[997,\"Stuart Saves His Family (1995)\",1995,16],[998,\"Cabin Boy (1994)\",1994,16],[999,\"Clean Slate (1994)\",1994,10],[1000,\"Lightning Jack (1994)\",1994,10],[1001,\"Stupids, The (1996)\",1996,17],[1002,\"Pest, The (1997)\",1997,8],[1003,\"That Darn Cat! (1997)\",1997,8],[1004,\"Geronimo: An American Legend (1993)\",1993,9],[1005,\"Double vie de V\\u00e9ronique, La (Double Life of Veronique, The) (1991)\",1991,22],[1006,\"Until the End of the World (Bis ans Ende der Welt) (1991)\",1991,23],[1007,\"Waiting for Guffman (1996)\",1997,47],[1008,\"I Shot Andy Warhol (1996)\",1996,37],[1009,\"Stealing Beauty (1996)\",1996,64],[1010,\"Basquiat (1996)\",1996,44],[1011,\"2 Days in the Valley (1996)\",1996,93],[1012,\"Private Parts (1997)\",1997,100],[1013,\"Anaconda (1997)\",1997,38],[1014,\"Romy and Michele's High School Reunion (1997)\",1997,98],[1015,\"Shiloh (1997)\",1997,12],[1016,\"Con Air (1997)\",1997,137],[1017,\"Trees Lounge (1996)\",1996,50],[1018,\"Tie Me Up! Tie Me Down! (1990)\",1990,32],[1019,\"Die xue shuang xiong (Killer, The) (1989)\",1989,31],[1020,\"Gaslight (1944)\",1944,35],[1021,\"8 1/2 (1963)\",1963,38],[1022,\"Fast, Cheap & Out of Control (1997)\",1997,32],[1023,\"Fathers' Day (1997)\",1997,31],[1024,\"Mrs. Dalloway (1997)\",1997,15],[1025,\"Fire Down Below (1997)\",1997,44],[1026,\"Lay of the Land, The (1997)\",1997,4],[1027,\"Shooter, The (1995)\",1995,3],[1028,\"Grumpier Old Men (1995)\",1995,148],[1029,\"Jury Duty (1995)\",1995,14],[1030,\"Beverly Hillbillies, The (1993)\",1993,20],[1031,\"Lassie (1994)\",1994,7],[1032,\"Little Big League (1994)\",1994,16],[1033,\"Homeward Bound II: Lost in San Francisco (1996)\",1996,32],[1034,\"Quest, The (1996)\",1996,27],[1035,\"Cool Runnings (1993)\",1993,68],[1036,\"Drop Dead Fred (1991)\",1991,24],[1037,\"Grease 2 (1982)\",1982,24],[1038,\"Switchback (1997)\",1997,17],[1039,\"Hamlet (1996)\",1997,90],[1040,\"Two if by Sea (1996)\",1996,25],[1041,\"Forget Paris (1995)\",1995,62],[1042,\"Just Cause (1995)\",1995,28],[1043,\"Rent-a-Kid (1995)\",1995,8],[1044,\"Paper, The (1994)\",1994,40],[1045,\"Fearless (1993)\",1993,25],[1046,\"Malice (1993)\",1993,46],[1047,\"Multiplicity (1996)\",1996,134],[1048,\"She's the One (1996)\",1996,73],[1049,\"House Arrest (1996)\",1996,25],[1050,\"Ghost and Mrs. Muir, The (1947)\",1947,43],[1051,\"Associate, The (1996)\",1996,41],[1052,\"Dracula: Dead and Loving It (1995)\",1995,25],[1053,\"Now and Then (1995)\",1995,24],[1054,\"Mr. Wrong (1996)\",1996,23],[1055,\"Simple Twist of Fate, A (1994)\",1994,10],[1056,\"Cronos (1992)\",1992,10],[1057,\"Pallbearer, The (1996)\",1996,22],[1058,\"War, The (1994)\",1994,15],[1059,\"Don't Be a Menace to South Central While Drinking Your Juice in the Hood (1996)\",1996,35],[1060,\"Adventures of Pinocchio, The (1996)\",1996,39],[1061,\"Evening Star, The (1996)\",1996,29],[1062,\"Four Days in September (1997)\",1998,12],[1063,\"Little Princess, A (1995)\",1995,41],[1064,\"Crossfire (1947)\",1947,4],[1065,\"Koyaanisqatsi (1983)\",1983,53],[1066,\"Balto (1995)\",1995,16],[1067,\"Bottle Rocket (1996)\",1996,44],[1068,\"Star Maker, The (Uomo delle stelle, L') (1995)\",1996,12],[1069,\"Amateur (1994)\",1994,18],[1070,\"Living in Oblivion (1995)\",1995,27],[1071,\"Party Girl (1995)\",1995,16],[1072,\"Pyromaniac's Love Story, A (1995)\",1995,7],[1073,\"Shallow Grave (1994)\",1994,66],[1074,\"Reality Bites (1994)\",1994,77],[1075,\"Man of No Importance, A (1994)\",1994,7],[1076,\"Pagemaster, The (1994)\",1994,12],[1077,\"Love and a .45 (1994)\",1994,8],[1078,\"Oliver & Company (1988)\",1988,22],[1079,\"Joe's Apartment (1996)\",1996,45],[1080,\"Celestial Clockwork (1994)\",1996,2],[1081,\"Curdled (1996)\",1996,8],[1082,\"Female Perversions (1996)\",1997,8],[1083,\"Albino Alligator (1996)\",1997,6],[1084,\"Anne Frank Remembered (1995)\",1996,21],[1085,\"Carried Away (1996)\",1996,11],[1086,\"It's My Party (1995)\",1996,21],[1087,\"Bloodsport 2 (1995)\",1996,10],[1088,\"Double Team (1997)\",1997,13],[1089,\"Speed 2: Cruise Control (1997)\",1997,38],[1090,\"Sliver (1993)\",1993,37],[1091,\"Pete's Dragon (1977)\",1977,43],[1092,\"Dear God (1996)\",1996,12],[1093,\"Live Nude Girls (1995)\",1996,23],[1094,\"Thin Line Between Love and Hate, A (1996)\",1996,12],[1095,\"High School High (1996)\",1996,29],[1096,\"Commandments (1997)\",1997,3],[1097,\"Hate (Haine, La) (1995)\",1996,18],[1098,\"Flirting With Disaster (1996)\",1996,42],[1099,\"Red Firecracker, Green Firecracker (1994)\",1994,13],[1100,\"What Happened Was... (1994)\",1994,8],[1101,\"Six Degrees of Separation (1993)\",1993,74],[1102,\"Two Much (1996)\",1996,7],[1103,\"Trust (1990)\",1990,19],[1104,\"C'est arriv\\u00e9 pr\\u00e8s de chez vous (1992)\",1992,4],[1105,\"Firestorm (1998)\",1998,18],[1106,\"Newton Boys, The (1998)\",1998,4],[1107,\"Beyond Rangoon (1995)\",1995,18],[1108,\"Feast of July (1995)\",1995,5],[1109,\"Death and the Maiden (1994)\",1994,28],[1110,\"Tank Girl (1995)\",1995,41],[1111,\"Double Happiness (1994)\",1996,7],[1112,\"Cobb (1994)\",1994,15],[1113,\"Mrs. Parker and the Vicious Circle (1994)\",1994,22],[1114,\"Faithful (1996)\",1996,10],[1115,\"Twelfth Night (1996)\",1996,29],[1116,\"Mark of Zorro, The (1940)\",1940,13],[1117,\"Surviving Picasso (1996)\",1996,19],[1118,\"Up in Smoke (1978)\",1978,47],[1119,\"Some Kind of Wonderful (1987)\",1987,59],[1120,\"I'm Not Rappaport (1996)\",1996,17],[1121,\"Umbrellas of Cherbourg, The (Parapluies de Cherbourg, Les) (1964)\",1996,21],[1122,\"They Made Me a Criminal (1939)\",1939,1],[1123,\"Last Time I Saw Paris, The (1954)\",1954,3],[1124,\"Farewell to Arms, A (1932)\",1932,12],[1125,\"Innocents, The (1961)\",1961,4],[1126,\"Old Man and the Sea, The (1958)\",1958,32],[1127,\"Truman Show, The (1998)\",1998,11],[1128,\"Heidi Fleiss: Hollywood Madam (1995) \",1996,13],[1129,\"Chungking Express (1994)\",1996,28],[1130,\"Jupiter's Wife (1994)\",1996,1],[1131,\"Safe (1995)\",1995,13],[1132,\"Feeling Minnesota (1996)\",1996,32],[1133,\"Escape to Witch Mountain (1975)\",1975,30],[1134,\"Get on the Bus (1996)\",1996,38],[1135,\"Doors, The (1991)\",1991,46],[1136,\"Ghosts of Mississippi (1996)\",1996,29],[1137,\"Beautiful Thing (1996)\",1996,29],[1138,\"Best Men (1997)\",1997,5],[1139,\"Hackers (1995)\",1995,33],[1140,\"Road to Wellville, The (1994)\",1994,17],[1141,\"War Room, The (1993)\",1993,9],[1142,\"When We Were Kings (1996)\",1997,44],[1143,\"Hard Eight (1996)\",1997,15],[1144,\"Quiet Room, The (1996)\",1997,3],[1145,\"Blue Chips (1994)\",1994,9],[1146,\"Calendar Girl (1993)\",1993,3],[1147,\"My Family (1995)\",1995,21],[1148,\"Tom & Viv (1994)\",1994,9],[1149,\"Walkabout (1971)\",1971,26],[1150,\"Last Dance (1996)\",1996,9],[1151,\"Original Gangstas (1996)\",1996,7],[1152,\"In Love and War (1996)\",1997,28],[1153,\"Backbeat (1993)\",1993,19],[1154,\"Alphaville (1965)\",1965,12],[1155,\"Rendezvous in Paris (Rendez-vous de Paris, Les) (1995)\",1996,3],[1156,\"Cyclo (1995)\",1996,1],[1157,\"Relic, The (1997)\",1997,25],[1158,\"Fille seule, La (A Single Girl) (1995)\",1996,4],[1159,\"Stalker (1979)\",1979,11],[1160,\"Love! Valour! Compassion! (1997)\",1997,26],[1161,\"Palookaville (1996)\",1996,13],[1162,\"Phat Beach (1996)\",1996,5],[1163,\"Portrait of a Lady, The (1996)\",1996,25],[1164,\"Zeus and Roxanne (1997)\",1997,6],[1165,\"Big Bully (1996)\",1996,14],[1166,\"Love & Human Remains (1993)\",1993,12],[1167,\"Sum of Us, The (1994)\",1994,11],[1168,\"Little Buddha (1993)\",1993,22],[1169,\"Fresh (1994)\",1994,10],[1170,\"Spanking the Monkey (1994)\",1994,27],[1171,\"Wild Reeds (1994)\",1994,14],[1172,\"Women, The (1939)\",1939,15],[1173,\"Bliss (1997)\",1997,7],[1174,\"Caught (1996)\",1996,8],[1175,\"Hugo Pool (1997)\",1997,5],[1176,\"Welcome To Sarajevo (1997)\",1997,22],[1177,\"Dunston Checks In (1996)\",1996,7],[1178,\"Major Payne (1994)\",1994,19],[1179,\"Man of the House (1995)\",1995,9],[1180,\"I Love Trouble (1994)\",1994,10],[1181,\"Low Down Dirty Shame, A (1994)\",1994,10],[1182,\"Cops and Robbersons (1994)\",1994,13],[1183,\"Cowboy Way, The (1994)\",1994,19],[1184,\"Endless Summer 2, The (1994)\",1994,10],[1185,\"In the Army Now (1994)\",1994,18],[1186,\"Inkwell, The (1994)\",1994,3],[1187,\"Switchblade Sisters (1975)\",1975,13],[1188,\"Young Guns II (1990)\",1990,44],[1189,\"Prefontaine (1997)\",1997,3],[1190,\"That Old Feeling (1997)\",1997,11],[1191,\"Letter From Death Row, A (1998)\",1998,3],[1192,\"Boys of St. Vincent, The (1993)\",1993,13],[1193,\"Before the Rain (Pred dozhdot) (1994)\",1994,10],[1194,\"Once Were Warriors (1994)\",1994,31],[1195,\"Strawberry and Chocolate (Fresa y chocolate) (1993)\",1993,11],[1196,\"Savage Nights (Nuits fauves, Les) (1992)\",1992,3],[1197,\"Family Thing, A (1996)\",1996,45],[1198,\"Purple Noon (1960)\",1960,7],[1199,\"Cemetery Man (Dellamorte Dellamore) (1994)\",1996,23],[1200,\"Kim (1950)\",1950,7],[1201,\"Marlene Dietrich: Shadow and Light (1996) \",1996,1],[1202,\"Maybe, Maybe Not (Bewegte Mann, Der) (1994)\",1996,8],[1203,\"Top Hat (1935)\",1935,21],[1204,\"To Be or Not to Be (1942)\",1942,18],[1205,\"Secret Agent, The (1996)\",1996,6],[1206,\"Amos & Andrew (1993)\",1993,19],[1207,\"Jade (1995)\",1995,17],[1208,\"Kiss of Death (1995)\",1995,20],[1209,\"Mixed Nuts (1994)\",1994,15],[1210,\"Virtuosity (1995)\",1995,38],[1211,\"Blue Sky (1994)\",1994,12],[1212,\"Flesh and Bone (1993)\",1993,6],[1213,\"Guilty as Sin (1993)\",1993,6],[1214,\"In the Realm of the Senses (Ai no corrida) (1976)\",1976,9],[1215,\"Barb Wire (1996)\",1996,30],[1216,\"Kissed (1996)\",1997,6],[1217,\"Assassins (1995)\",1995,39],[1218,\"Friday (1995)\",1995,26],[1219,\"Goofy Movie, A (1995)\",1995,20],[1220,\"Higher Learning (1995)\",1995,30],[1221,\"When a Man Loves a Woman (1994)\",1994,39],[1222,\"Judgment Night (1993)\",1993,25],[1223,\"King of the Hill (1993)\",1993,4],[1224,\"Scout, The (1994)\",1994,12],[1225,\"Angus (1995)\",1995,14],[1226,\"Night Falls on Manhattan (1997)\",1997,32],[1227,\"Awfully Big Adventure, An (1995)\",1995,8],[1228,\"Under Siege 2: Dark Territory (1995)\",1995,48],[1229,\"Poison Ivy II (1995)\",1995,13],[1230,\"Ready to Wear (Pret-A-Porter) (1994)\",1994,18],[1231,\"Marked for Death (1990)\",1990,22],[1232,\"Madonna: Truth or Dare (1991)\",1991,17],[1233,\"N\\u00e9nette et Boni (1996)\",1996,6],[1234,\"Chairman of the Board (1998)\",1998,8],[1235,\"Big Bang Theory, The (1994)\",1994,1],[1236,\"Other Voices, Other Rooms (1997)\",1997,1],[1237,\"Twisted (1996)\",1996,6],[1238,\"Full Speed (1996)\",1996,8],[1239,\"Cutthroat Island (1995)\",1995,18],[1240,\"Ghost in the Shell (Kokaku kidotai) (1995)\",1996,26],[1241,\"Van, The (1996)\",1997,6],[1242,\"Old Lady Who Walked in the Sea, The (Vieille qui marchait dans la mer, La) (1991)\",1991,5],[1243,\"Night Flier (1997)\",1998,7],[1244,\"Metro (1997)\",1997,36],[1245,\"Gridlock'd (1997)\",1997,19],[1246,\"Bushwhacked (1995)\",1995,7],[1247,\"Bad Girls (1994)\",1994,6],[1248,\"Blink (1994)\",1994,19],[1249,\"For Love or Money (1993)\",1993,12],[1250,\"Best of the Best 3: No Turning Back (1995)\",1995,6],[1251,\"A Chef in Love (1996)\",1997,8],[1252,\"Contempt (M\\u00e9pris, Le) (1963)\",1997,9],[1253,\"Tie That Binds, The (1995)\",1995,7],[1254,\"Gone Fishin' (1997)\",1997,11],[1255,\"Broken English (1996)\",1997,8],[1256,\"Designated Mourner, The (1997)\",1997,3],[1257,\"Designated Mourner, The (1997)\",1997,4],[1258,\"Trial and Error (1997)\",1997,23],[1259,\"Pie in the Sky (1995)\",1996,4],[1260,\"Total Eclipse (1995)\",1995,4],[1261,\"Run of the Country, The (1995)\",1995,4],[1262,\"Walking and Talking (1996)\",1996,8],[1263,\"Foxfire (1996)\",1996,15],[1264,\"Nothing to Lose (1994)\",1996,7],[1265,\"Star Maps (1997)\",1997,19],[1266,\"Bread and Chocolate (Pane e cioccolata) (1973)\",1973,12],[1267,\"Clockers (1995)\",1995,33],[1268,\"Bitter Moon (1992)\",1992,10],[1269,\"Love in the Afternoon (1957)\",1957,10],[1270,\"Life with Mikey (1993)\",1993,7],[1271,\"North (1994)\",1994,7],[1272,\"Talking About Sex (1994)\",1994,5],[1273,\"Color of Night (1994)\",1994,15],[1274,\"Robocop 3 (1993)\",1993,11],[1275,\"Killer (Bulletproof Heart) (1994)\",1994,4],[1276,\"Sunset Park (1996)\",1996,8],[1277,\"Set It Off (1996)\",1996,19],[1278,\"Selena (1997)\",1997,16],[1279,\"Wild America (1997)\",1997,9],[1280,\"Gang Related (1997)\",1997,16],[1281,\"Manny & Lo (1996)\",1996,13],[1282,\"Grass Harp, The (1995)\",1996,9],[1283,\"Out to Sea (1997)\",1997,19],[1284,\"Before and After (1996)\",1996,26],[1285,\"Princess Caraboo (1994)\",1994,15],[1286,\"Shall We Dance? (1937)\",1937,17],[1287,\"Ed (1996)\",1996,6],[1288,\"Denise Calls Up (1995)\",1996,7],[1289,\"Jack and Sarah (1995)\",1996,7],[1290,\"Country Life (1994)\",1994,2],[1291,\"Celtic Pride (1996)\",1996,15],[1292,\"Simple Wish, A (1997)\",1997,3],[1293,\"Star Kid (1997)\",1998,3],[1294,\"Ayn Rand: A Sense of Life (1997)\",1998,7],[1295,\"Kicked in the Head (1997)\",1997,7],[1296,\"Indian Summer (1996)\",1996,20],[1297,\"Love Affair (1994)\",1994,12],[1298,\"Band Wagon, The (1953)\",1953,9],[1299,\"Penny Serenade (1941)\",1941,8],[1300,\"'Til There Was You (1997)\",1997,9],[1301,\"Stripes (1981)\",1981,5],[1302,\"Late Bloomers (1996)\",1997,5],[1303,\"Getaway, The (1994)\",1994,18],[1304,\"New York Cop (1996)\",1996,2],[1305,\"National Lampoon's Senior Trip (1995)\",1995,7],[1306,\"Delta of Venus (1994)\",1994,2],[1307,\"Carmen Miranda: Bananas Is My Business (1994)\",1994,2],[1308,\"Babyfever (1994)\",1994,2],[1309,\"Very Natural Thing, A (1974)\",1974,1],[1310,\"Walk in the Sun, A (1945)\",1945,1],[1311,\"Waiting to Exhale (1995)\",1996,16],[1312,\"Pompatus of Love, The (1996)\",1996,7],[1313,\"Palmetto (1998)\",1998,14],[1314,\"Surviving the Game (1994)\",1994,11],[1315,\"Inventing the Abbotts (1997)\",1997,23],[1316,\"Horse Whisperer, The (1998)\",1997,7],[1317,\"Journey of August King, The (1995)\",1996,4],[1318,\"Catwalk (1995)\",1996,3],[1319,\"Neon Bible, The (1995)\",1996,4],[1320,\"Homage (1995)\",1996,1],[1321,\"Open Season (1996)\",1996,2],[1322,\"Metisse (Caf\\u00e9 au Lait) (1993)\",1993,6],[1323,\"Wooden Man's Bride, The (Wu Kui) (1994)\",1994,3],[1324,\"Loaded (1994)\",1996,5],[1325,\"August (1996)\",1996,1],[1326,\"Boys (1996)\",1996,6],[1327,\"Captives (1994)\",1994,3],[1328,\"Of Love and Shadows (1994)\",1996,6],[1329,\"Low Life, The (1994)\",1996,1],[1330,\"An Unforgettable Summer (1994)\",1994,4],[1331,\"Last Klezmer: Leopold Kozlowski, His Life and Music, The (1995)\",1995,4],[1332,\"My Life and Times With Antonin Artaud (En compagnie d'Antonin Artaud) (1993)\",1993,2],[1333,\"Midnight Dancers (Sibak) (1994)\",1994,5],[1334,\"Somebody to Love (1994)\",1996,2],[1335,\"American Buffalo (1996)\",1996,11],[1336,\"Kazaam (1996)\",1996,10],[1337,\"Larger Than Life (1996)\",1996,9],[1338,\"Two Deaths (1995)\",1996,4],[1339,\"Stefano Quantestorie (1993)\",1993,1],[1340,\"Crude Oasis, The (1995)\",1995,1],[1341,\"Hedd Wyn (1992)\",1992,1],[1342,\"Convent, The (Convento, O) (1995)\",1996,2],[1343,\"Lotto Land (1995)\",1995,1],[1344,\"Story of Xinghua, The (1993)\",1993,5],[1345,\"Day the Sun Turned Cold, The (Tianguo niezi) (1994)\",1994,2],[1346,\"Dingo (1992)\",1992,5],[1347,\"Ballad of Narayama, The (Narayama Bushiko) (1958)\",1958,4],[1348,\"Every Other Weekend (1990)\",1990,1],[1349,\"Mille bolle blu (1993)\",1993,1],[1350,\"Crows and Sparrows (1949)\",1949,2],[1351,\"Lover's Knot (1996)\",1996,3],[1352,\"Shadow of Angels (Schatten der Engel) (1976)\",1976,1],[1353,\"1-900 (1994)\",1994,5],[1354,\"Venice/Venice (1992)\",1992,2],[1355,\"Infinity (1996)\",1996,6],[1356,\"Ed's Next Move (1996)\",1996,3],[1357,\"For the Moment (1994)\",1994,3],[1358,\"The Deadly Cure (1996)\",1996,2],[1359,\"Boys in Venice (1996)\",1996,2],[1360,\"Sexual Life of the Belgians, The (1994)\",1994,2],[1361,\"Search for One-eye Jimmy, The (1996)\",1996,3],[1362,\"American Strays (1996)\",1996,2],[1363,\"Leopard Son, The (1996)\",1996,1],[1364,\"Bird of Prey (1996)\",1996,1],[1365,\"Johnny 100 Pesos (1993)\",1993,2],[1366,\"JLG/JLG - autoportrait de d\\u00e9cembre (1994)\",1994,1],[1367,\"Faust (1994)\",1994,5],[1368,\"Mina Tannenbaum (1994)\",1994,6],[1369,\"Forbidden Christ, The (Cristo proibito, Il) (1950)\",1950,4],[1370,\"I Can't Sleep (J'ai pas sommeil) (1994)\",1994,3],[1371,\"Machine, The (1994)\",1994,2],[1372,\"Stranger, The (1994)\",1994,3],[1373,\"Good Morning (1971)\",1971,1],[1374,\"Falling in Love Again (1980)\",1980,2],[1375,\"Cement Garden, The (1993)\",1993,10],[1376,\"Meet Wally Sparks (1997)\",1997,7],[1377,\"Hotel de Love (1996)\",1997,4],[1378,\"Rhyme & Reason (1997)\",1997,5],[1379,\"Love and Other Catastrophes (1996)\",1997,7],[1380,\"Hollow Reed (1996)\",1997,6],[1381,\"Losing Chase (1996)\",1996,8],[1382,\"Bonheur, Le (1965)\",1997,4],[1383,\"Second Jungle Book: Mowgli & Baloo, The (1997)\",1997,6],[1384,\"Squeeze (1996)\",1997,3],[1385,\"Roseanna's Grave (For Roseanna) (1997)\",1997,5],[1386,\"Tetsuo II: Body Hammer (1992)\",1997,6],[1387,\"Fall (1997)\",1997,3],[1388,\"Gabbeh (1996)\",1997,6],[1389,\"Mondo (1996)\",1997,3],[1390,\"Innocent Sleep, The (1995)\",1997,2],[1391,\"For Ever Mozart (1996)\",1997,3],[1392,\"Locusts, The (1997)\",1997,5],[1393,\"Stag (1997)\",1997,9],[1394,\"Swept from the Sea (1997)\",1997,7],[1395,\"Hurricane Streets (1998)\",1998,6],[1396,\"Stonewall (1995)\",1996,5],[1397,\"Of Human Bondage (1934)\",1934,5],[1398,\"Anna (1996)\",1996,2],[1399,\"Stranger in the House (1997)\",1997,7],[1400,\"Picture Bride (1995)\",1995,10],[1401,\"M. Butterfly (1993)\",1993,18],[1402,\"Ciao, Professore! (1993)\",1993,4],[1403,\"Caro Diario (Dear Diary) (1994)\",1994,4],[1404,\"Withnail and I (1987)\",1987,13],[1405,\"Boy's Life 2 (1997)\",1997,6],[1406,\"When Night Is Falling (1995)\",1995,5],[1407,\"Specialist, The (1994)\",1994,20],[1408,\"Gordy (1995)\",1995,3],[1409,\"Swan Princess, The (1994)\",1994,7],[1410,\"Harlem (1993)\",1993,4],[1411,\"Barbarella (1968)\",1968,28],[1412,\"Land Before Time III: The Time of the Great Giving (1995) (V)\",1995,6],[1413,\"Street Fighter (1994)\",1994,8],[1414,\"Coldblooded (1995)\",1995,1],[1415,\"Next Karate Kid, The (1994)\",1994,9],[1416,\"No Escape (1994)\",1994,5],[1417,\"Turning, The (1992)\",1997,2],[1418,\"Joy Luck Club, The (1993)\",1993,3],[1419,\"Highlander III: The Sorcerer (1994)\",1994,16],[1420,\"Gilligan's Island: The Movie (1998)\",1997,3],[1421,\"My Crazy Life (Mi vida loca) (1993)\",1993,11],[1422,\"Suture (1993)\",1993,4],[1423,\"Walking Dead, The (1995)\",1995,4],[1424,\"I Like It Like That (1994)\",1994,3],[1425,\"I'll Do Anything (1994)\",1994,10],[1426,\"Grace of My Heart (1996)\",1996,8],[1427,\"Drunks (1995)\",1996,5],[1428,\"SubUrbia (1997)\",1997,12],[1429,\"Sliding Doors (1998)\",1998,4],[1430,\"Ill Gotten Gains (1997)\",1997,3],[1431,\"Legal Deceit (1997)\",1997,5],[1432,\"Mighty, The (1998)\",1998,3],[1433,\"Men of Means (1998)\",1997,2],[1434,\"Shooting Fish (1997)\",1998,10],[1435,\"Steal Big, Steal Little (1995)\",1995,7],[1436,\"Mr. Jones (1993)\",1993,2],[1437,\"House Party 3 (1994)\",1994,9],[1438,\"Panther (1995)\",1995,5],[1439,\"Jason's Lyric (1994)\",1994,8],[1440,\"Above the Rim (1994)\",1994,5],[1441,\"Moonlight and Valentino (1995)\",1995,7],[1442,\"Scarlet Letter, The (1995)\",1995,5],[1443,\"8 Seconds (1994)\",1994,4],[1444,\"That Darn Cat! (1965)\",1965,19],[1445,\"Ladybird Ladybird (1994)\",1994,4],[1446,\"Bye Bye, Love (1995)\",1995,15],[1447,\"Century (1993)\",1993,1],[1448,\"My Favorite Season (1993)\",1996,3],[1449,\"Pather Panchali (1955)\",1996,8],[1450,\"Golden Earrings (1947)\",1947,2],[1451,\"Foreign Correspondent (1940)\",1940,15],[1452,\"Lady of Burlesque (1943)\",1943,1],[1453,\"Angel on My Shoulder (1946)\",1946,1],[1454,\"Angel and the Badman (1947)\",1947,6],[1455,\"Outlaw, The (1943)\",1943,2],[1456,\"Beat the Devil (1954)\",1954,7],[1457,\"Love Is All There Is (1996)\",1996,1],[1458,\"Damsel in Distress, A (1937)\",1937,1],[1459,\"Madame Butterfly (1995)\",1996,7],[1460,\"Sleepover (1995)\",1996,1],[1461,\"Here Comes Cookie (1935)\",1935,1],[1462,\"Thieves (Voleurs, Les) (1996)\",1996,7],[1463,\"Boys, Les (1997)\",1997,3],[1464,\"Stars Fell on Henrietta, The (1995)\",1995,3],[1465,\"Last Summer in the Hamptons (1995)\",1995,3],[1466,\"Margaret's Museum (1995)\",1995,6],[1467,\"Saint of Fort Washington, The (1993)\",1993,2],[1468,\"Cure, The (1995)\",1995,6],[1469,\"Tom and Huck (1995)\",1995,12],[1470,\"Gumby: The Movie (1995)\",1995,5],[1471,\"Hideaway (1995)\",1995,9],[1472,\"Visitors, The (Visiteurs, Les) (1993)\",1996,2],[1473,\"Little Princess, The (1939)\",1939,9],[1474,\"Nina Takes a Lover (1994)\",1994,6],[1475,\"Bhaji on the Beach (1993)\",1993,8],[1476,\"Raw Deal (1948)\",1948,1],[1477,\"Nightwatch (1997)\",1997,2],[1478,\"Dead Presidents (1995)\",1995,18],[1479,\"Reckless (1995)\",1995,8],[1480,\"Herbie Rides Again (1974)\",1974,11],[1481,\"S.F.W. (1994)\",1994,2],[1482,\"Gate of Heavenly Peace, The (1995)\",1996,1],[1483,\"Man in the Iron Mask, The (1998)\",1998,12],[1484,\"Jerky Boys, The (1994)\",1994,3],[1485,\"Colonel Chabert, Le (1994)\",1994,4],[1486,\"Girl in the Cadillac (1995)\",1995,1],[1487,\"Even Cowgirls Get the Blues (1993)\",1993,5],[1488,\"Germinal (1993)\",1993,4],[1489,\"Chasers (1994)\",1994,5],[1490,\"Fausto (1993)\",1993,3],[1491,\"Tough and Deadly (1995)\",1995,2],[1492,\"Window to Paris (1994)\",1994,1],[1493,\"Modern Affair, A (1995)\",1996,1],[1494,\"Mostro, Il (1994)\",1996,1],[1495,\"Flirt (1995)\",1996,5],[1496,\"Carpool (1996)\",1996,5],[1497,\"Line King: Al Hirschfeld, The (1996)\",1996,2],[1498,\"Farmer & Chase (1995)\",1997,1],[1499,\"Grosse Fatigue (1994)\",1994,4],[1500,\"Santa with Muscles (1996)\",1996,2],[1501,\"Prisoner of the Mountains (Kavkazsky Plennik) (1996)\",1997,5],[1502,\"Naked in New York (1994)\",1994,2],[1503,\"Gold Diggers: The Secret of Bear Mountain (1995)\",1995,10],[1504,\"Bewegte Mann, Der (1994)\",1996,3],[1505,\"Killer: A Journal of Murder (1995)\",1996,1],[1506,\"Nelly & Monsieur Arnaud (1995)\",1996,3],[1507,\"Three Lives and Only One Death (1996)\",1996,1],[1508,\"Babysitter, The (1995)\",1995,3],[1509,\"Getting Even with Dad (1994)\",1994,5],[1510,\"Mad Dog Time (1996)\",1996,1],[1511,\"Children of the Revolution (1996)\",1997,5],[1512,\"World of Apu, The (Apur Sansar) (1959)\",1996,6],[1513,\"Sprung (1997)\",1997,3],[1514,\"Dream With the Fishes (1997)\",1997,7],[1515,\"Wings of Courage (1995)\",1995,1],[1516,\"Wedding Gift, The (1994)\",1994,3],[1517,\"Race the Sun (1996)\",1996,5],[1518,\"Losing Isaiah (1995)\",1995,12],[1519,\"New Jersey Drive (1995)\",1995,2],[1520,\"Fear, The (1995)\",1995,1],[1521,\"Mr. Wonderful (1993)\",1993,4],[1522,\"Trial by Jury (1994)\",1994,7],[1523,\"Good Man in Africa, A (1994)\",1994,2],[1524,\"Kaspar Hauser (1993)\",1996,8],[1525,\"Object of My Affection, The (1998)\",1998,1],[1526,\"Witness (1985)\",1985,1],[1527,\"Senseless (1998)\",1998,7],[1528,\"Nowhere (1997)\",1997,3],[1529,\"Underground (1995)\",1996,5],[1530,\"Jefferson in Paris (1995)\",1995,5],[1531,\"Far From Home: The Adventures of Yellow Dog (1995)\",1995,7],[1532,\"Foreign Student (1994)\",1994,2],[1533,\"I Don't Want to Talk About It (De eso no se habla) (1993)\",1993,1],[1534,\"Twin Town (1997)\",1997,6],[1535,\"Enfer, L' (1994)\",1994,4],[1536,\"Aiqing wansui (1994)\",1996,1],[1537,\"Cosi (1996)\",1997,4],[1538,\"All Over Me (1997)\",1997,3],[1539,\"Being Human (1993)\",1993,4],[1540,\"Amazing Panda Adventure, The (1995)\",1995,10],[1541,\"Beans of Egypt, Maine, The (1994)\",1994,2],[1542,\"Scarlet Letter, The (1926)\",1926,2],[1543,\"Johns (1996)\",1996,1],[1544,\"It Takes Two (1995)\",1995,3],[1545,\"Frankie Starlight (1995)\",1995,4],[1546,\"Shadows (Cienie) (1988)\",1988,1],[1547,\"Show, The (1995)\",1995,2],[1548,\"The Courtyard (1995)\",1995,1],[1549,\"Dream Man (1995)\",1995,2],[1550,\"Destiny Turns on the Radio (1995)\",1995,2],[1551,\"Glass Shield, The (1994)\",1994,2],[1552,\"Hunted, The (1995)\",1995,3],[1553,\"Underneath, The (1995)\",1995,4],[1554,\"Safe Passage (1994)\",1994,2],[1555,\"Secret Adventures of Tom Thumb, The (1993)\",1993,5],[1556,\"Condition Red (1995)\",1995,2],[1557,\"Yankee Zulu (1994)\",1996,1],[1558,\"Aparajito (1956)\",1996,7],[1559,\"Hostile Intentions (1994)\",1994,1],[1560,\"Clean Slate (Coup de Torchon) (1981)\",1981,4],[1561,\"Tigrero: A Film That Was Never Made (1994)\",1994,1],[1562,\"Eye of Vichy, The (Oeil de Vichy, L') (1993)\",1993,1],[1563,\"Promise, The (Versprechen, Das) (1994)\",1994,1],[1564,\"To Cross the Rubicon (1991)\",1991,1],[1565,\"Daens (1992)\",1992,1],[1566,\"Man from Down Under, The (1943)\",1943,1],[1567,\"Careful (1992)\",1992,1],[1568,\"Vermont Is For Lovers (1992)\",1992,1],[1569,\"Vie est belle, La (Life is Rosey) (1987)\",1987,1],[1570,\"Quartier Mozart (1992)\",1992,1],[1571,\"Touki Bouki (Journey of the Hyena) (1973)\",1973,1],[1572,\"Wend Kuuni (God's Gift) (1982)\",1982,1],[1573,\"Spirits of the Dead (Tre passi nel delirio) (1968)\",1968,2],[1574,\"Pharaoh's Army (1995)\",1995,1],[1575,\"I, Worst of All (Yo, la peor de todas) (1990)\",1990,1],[1576,\"Hungarian Fairy Tale, A (1987)\",1987,1],[1577,\"Death in the Garden (Mort en ce jardin, La) (1956)\",1956,1],[1578,\"Collectionneuse, La (1967)\",1967,2],[1579,\"Baton Rouge (1988)\",1988,1],[1580,\"Liebelei (1933)\",1933,1],[1581,\"Woman in Question, The (1950)\",1950,1],[1582,\"T-Men (1947)\",1947,1],[1583,\"Invitation, The (Zaproszenie) (1986)\",1986,1],[1584,\"Symphonie pastorale, La (1946)\",1946,1],[1585,\"American Dream (1990)\",1990,2],[1586,\"Lashou shentan (1992)\",1992,1],[1587,\"Terror in a Texas Town (1958)\",1958,1],[1588,\"Salut cousin! (1996)\",1997,2],[1589,\"Schizopolis (1996)\",1997,4],[1590,\"To Have, or Not (1995)\",1997,2],[1591,\"Duoluo tianshi (1995)\",1998,6],[1592,\"Magic Hour, The (1998)\",1998,5],[1593,\"Death in Brunswick (1991)\",1996,1],[1594,\"Everest (1998)\",1998,2],[1595,\"Shopping (1994)\",1996,1],[1596,\"Nemesis 2: Nebula (1995)\",1995,1],[1597,\"Romper Stomper (1992)\",1992,5],[1598,\"City of Industry (1997)\",1997,6],[1599,\"Someone Else's America (1995)\",1996,1],[1600,\"Guantanamera (1994)\",1997,4],[1601,\"Office Killer (1997)\",1997,1],[1602,\"Price Above Rubies, A (1998)\",1998,3],[1603,\"Angela (1995)\",1996,1],[1604,\"He Walked by Night (1948)\",1948,1],[1605,\"Love Serenade (1996)\",1997,4],[1606,\"Deceiver (1997)\",1997,1],[1607,\"Hurricane Streets (1998)\",1998,3],[1608,\"Buddy (1997)\",1997,4],[1609,\"B*A*P*S (1997)\",1997,3],[1610,\"Truth or Consequences, N.M. (1997)\",1997,3],[1611,\"Intimate Relations (1996)\",1997,2],[1612,\"Leading Man, The (1996)\",1998,4],[1613,\"Tokyo Fist (1995)\",1998,1],[1614,\"Reluctant Debutante, The (1958)\",1958,1],[1615,\"Warriors of Virtue (1997)\",1997,10],[1616,\"Desert Winds (1995)\",1995,1],[1617,\"Hugo Pool (1997)\",1997,2],[1618,\"King of New York (1990)\",1990,1],[1619,\"All Things Fair (1996)\",1996,1],[1620,\"Sixth Man, The (1997)\",1997,9],[1621,\"Butterfly Kiss (1995)\",1996,1],[1622,\"Paris, France (1993)\",1993,3],[1623,\"C\\u00e9r\\u00e9monie, La (1995)\",1996,3],[1624,\"Hush (1998)\",1998,1],[1625,\"Nightwatch (1997)\",1997,1],[1626,\"Nobody Loves Me (Keiner liebt mich) (1994)\",1996,1],[1627,\"Wife, The (1995)\",1996,1],[1628,\"Lamerica (1994)\",1994,4],[1629,\"Nico Icon (1995)\",1995,2],[1630,\"Silence of the Palace, The (Saimt el Qusur) (1994)\",1996,1],[1631,\"Slingshot, The (1993)\",1993,2],[1632,\"Land and Freedom (Tierra y libertad) (1995)\",1996,1],[1633,\"\\u00c1 k\\u00f6ldum klaka (Cold Fever) (1994)\",1996,1],[1634,\"Etz Hadomim Tafus (Under the Domin Tree) (1994)\",1996,1],[1635,\"Two Friends (1986) \",1986,1],[1636,\"Brothers in Trouble (1995)\",1996,1],[1637,\"Girls Town (1996)\",1996,1],[1638,\"Normal Life (1996)\",1996,1],[1639,\"Bitter Sugar (Azucar Amargo) (1996)\",1996,3],[1640,\"Eighth Day, The (1996)\",1996,1],[1641,\"Dadetown (1995)\",1996,1],[1642,\"Some Mother's Son (1996)\",1996,2],[1643,\"Angel Baby (1995)\",1997,4],[1644,\"Sudden Manhattan (1996)\",1997,2],[1645,\"Butcher Boy, The (1998)\",1998,1],[1646,\"Men With Guns (1997)\",1998,2],[1647,\"Hana-bi (1997)\",1998,1],[1648,\"Niagara, Niagara (1997)\",1998,1],[1649,\"Big One, The (1997)\",1998,1],[1650,\"Butcher Boy, The (1998)\",1998,1],[1651,\"Spanish Prisoner, The (1997)\",1998,1],[1652,\"Temptress Moon (Feng Yue) (1996)\",1997,3],[1653,\"Entertaining Angels: The Dorothy Day Story (1996)\",1996,1],[1654,\"Chairman of the Board (1998)\",1998,1],[1655,\"Favor, The (1994)\",1994,1],[1656,\"Little City (1998)\",1998,2],[1657,\"Target (1995)\",1996,1],[1658,\"Substance of Fire, The (1996)\",1996,3],[1659,\"Getting Away With Murder (1996)\",1996,1],[1660,\"Small Faces (1995)\",1996,1],[1661,\"New Age, The (1994)\",1994,1],[1662,\"Rough Magic (1995)\",1997,2],[1663,\"Nothing Personal (1995)\",1997,1],[1664,\"8 Heads in a Duffel Bag (1997)\",1997,4],[1665,\"Brother's Kiss, A (1997)\",1997,1],[1666,\"Ripe (1996)\",1997,1],[1667,\"Next Step, The (1995)\",1997,1],[1668,\"Wedding Bell Blues (1996)\",1997,1],[1669,\"MURDER and murder (1996)\",1997,1],[1670,\"Tainted (1998)\",1998,1],[1671,\"Further Gesture, A (1996)\",1998,1],[1672,\"Kika (1993)\",1993,2],[1673,\"Mirage (1995)\",1995,1],[1674,\"Mamma Roma (1962)\",1962,1],[1675,\"Sunchaser, The (1996)\",1996,1],[1676,\"War at Home, The (1996)\",1996,1],[1677,\"Sweet Nothing (1995)\",1996,1],[1678,\"Mat' i syn (1997)\",1998,1],[1679,\"B. Monkey (1998)\",1998,1],[1680,\"Sliding Doors (1998)\",1998,1],[1681,\"You So Crazy (1994)\",1994,1],[1682,\"Scream of Stone (Schrei aus Stein) (1991)\",1996,1]],\"hovertemplate\":\"tsne_1=%{x}<br>tsne_2=%{y}<br>item_id=%{customdata[0]}<br>title=%{customdata[1]}<br>release_year=%{customdata[2]}<br>popularity=%{marker.color}<extra></extra>\",\"legendgroup\":\"\",\"marker\":{\"color\":[452,131,90,209,86,26,392,219,299,89,236,267,184,183,293,39,92,10,69,72,84,297,182,174,293,73,57,276,114,37,154,81,97,7,11,13,8,120,87,57,37,148,40,79,80,27,133,117,81,583,81,91,128,104,149,394,40,175,83,64,59,127,82,283,115,162,103,134,321,251,220,129,128,7,5,54,151,33,336,68,110,261,176,18,58,150,138,213,275,95,143,104,112,137,219,295,256,390,172,508,73,54,15,5,74,71,42,65,130,31,272,20,9,67,15,125,378,293,4,67,429,106,115,187,244,97,413,65,129,23,95,246,171,198,259,105,171,19,50,61,72,57,222,243,65,10,185,128,23,157,326,82,247,174,98,148,127,60,101,69,220,106,92,151,64,58,67,316,118,121,65,367,324,420,208,284,137,125,221,221,507,226,291,116,239,251,209,170,66,124,276,116,157,241,301,251,239,127,165,206,89,280,182,350,136,50,66,200,191,331,206,92,134,114,212,290,120,171,111,66,74,365,136,44,109,166,161,244,171,199,142,101,124,280,217,45,384,256,150,156,128,117,132,48,240,124,5,160,130,197,46,158,26,62,172,16,303,509,162,127,43,66,19,101,227,35,9,255,315,136,211,198,223,190,268,298,71,60,28,85,146,232,177,193,162,481,78,478,259,96,127,114,147,485,77,6,50,194,73,431,230,297,134,149,87,96,188,30,28,145,75,80,350,5,160,112,102,298,168,20,169,218,240,125,128,175,175,295,45,41,113,143,251,64,21,43,18,91,47,189,11,52,124,55,65,126,137,27,31,41,20,26,14,72,41,97,264,143,18,10,10,28,47,37,48,47,170,31,55,39,67,34,39,11,23,24,13,101,43,116,100,111,31,69,208,87,65,28,27,10,59,68,192,12,56,54,12,26,89,18,76,170,201,101,344,49,43,112,70,162,163,93,55,62,25,64,73,129,178,81,106,26,300,19,85,32,219,121,97,93,153,174,171,67,216,99,5,6,5,14,53,4,162,46,22,9,121,85,117,63,170,66,16,16,145,48,27,90,24,28,74,148,71,27,85,52,48,64,67,108,221,158,126,194,250,160,95,104,179,179,63,128,243,138,125,64,68,65,52,50,67,59,60,56,59,231,68,152,62,31,123,57,39,122,68,90,98,215,121,121,173,57,72,180,201,63,91,89,80,124,120,35,164,46,73,124,195,121,93,80,129,22,15,13,54,10,30,66,44,43,49,51,21,71,12,254,41,12,92,151,24,45,63,102,10,12,17,70,137,22,59,48,29,27,22,179,35,230,67,50,28,29,33,15,44,93,41,92,19,32,59,168,37,79,39,34,14,202,43,18,178,9,12,5,64,127,206,4,1,2,20,50,209,81,31,66,66,30,60,41,40,34,27,51,59,64,18,18,64,43,11,39,39,22,82,4,75,169,77,31,119,58,69,24,23,91,38,44,40,82,33,89,4,35,27,38,70,67,50,72,171,90,34,147,227,44,131,79,115,153,88,82,116,46,100,5,12,6,13,36,46,65,86,48,54,77,1,219,107,34,27,100,49,169,157,50,69,44,87,155,16,164,91,44,13,79,40,10,102,15,10,53,19,24,137,6,70,101,104,79,1,51,72,13,87,58,82,16,29,86,54,58,34,76,16,14,63,45,81,24,39,180,15,27,137,78,59,31,164,63,58,267,39,92,16,119,102,316,51,124,180,39,24,57,96,128,4,21,11,46,44,115,149,29,32,9,11,52,42,57,41,49,17,32,26,9,4,76,31,69,84,10,37,2,39,14,13,3,47,66,10,86,10,46,21,36,31,9,5,26,16,40,9,8,27,50,9,31,43,45,18,18,56,1,112,21,3,25,40,93,22,4,82,49,83,80,57,13,34,1,91,22,49,25,15,26,25,4,4,53,48,27,30,42,176,44,55,9,53,4,4,1,14,16,66,36,1,3,15,16,3,18,24,86,21,119,6,5,24,9,75,42,81,39,53,47,52,33,136,59,45,34,13,7,13,53,64,15,13,43,6,53,14,19,106,44,2,58,9,42,12,42,18,20,27,21,2,20,13,4,4,9,2,11,13,18,7,8,96,5,46,34,58,85,34,101,6,104,40,80,57,40,21,68,7,32,37,25,60,32,46,45,40,43,40,61,17,48,71,30,39,45,22,11,49,46,2,14,64,25,34,23,41,9,21,26,12,18,75,8,34,28,4,32,44,12,49,27,35,22,8,20,15,44,22,23,4,86,32,33,25,4,66,7,31,14,16,16,10,10,17,8,8,9,22,23,47,37,64,44,93,100,38,98,12,137,50,32,31,35,38,32,31,15,44,4,3,148,14,20,7,16,32,27,68,24,24,17,90,25,62,28,8,40,25,46,134,73,25,43,41,25,24,23,10,10,22,15,35,39,29,12,41,4,53,16,44,12,18,27,16,7,66,77,7,12,8,22,45,2,8,8,6,21,11,21,10,13,38,37,43,12,23,12,29,3,18,42,13,8,74,7,19,4,18,4,18,5,28,41,7,15,22,10,29,13,19,47,59,17,21,1,3,12,4,32,11,13,28,1,13,32,30,38,46,29,29,5,33,17,9,44,15,3,9,3,21,9,26,9,7,28,19,12,3,1,25,4,11,26,13,5,25,6,14,12,11,22,10,27,14,15,7,8,5,22,7,19,9,10,10,13,19,10,18,3,13,44,3,11,3,13,10,31,11,3,45,7,23,7,1,8,21,18,6,19,17,20,15,38,12,6,6,9,30,6,39,26,20,30,39,25,4,12,14,32,8,48,13,18,22,17,6,8,1,1,6,8,18,26,6,5,7,36,19,7,6,19,12,6,8,9,7,11,8,3,4,23,4,4,4,8,15,7,19,12,33,10,10,7,7,5,15,11,4,8,19,16,9,16,13,9,19,26,15,17,6,7,7,2,15,3,3,7,7,20,12,9,8,9,5,5,18,2,7,2,2,2,1,1,16,7,14,11,23,7,4,3,4,1,2,6,3,5,1,6,3,6,1,4,4,2,5,2,11,10,9,4,1,1,1,2,1,5,2,5,4,1,1,2,3,1,5,2,6,3,3,2,2,2,3,2,1,1,2,1,5,6,4,3,2,3,1,2,10,7,4,5,7,6,8,4,6,3,5,6,3,6,3,2,3,5,9,7,6,5,5,2,7,10,18,4,4,13,6,5,20,3,7,4,28,6,8,1,9,5,2,3,16,3,11,4,4,3,10,8,5,12,4,3,5,3,2,10,7,2,9,5,8,5,7,5,4,19,4,15,1,3,8,2,15,1,1,6,2,7,1,1,7,1,1,7,3,3,3,6,2,6,12,5,9,2,9,6,8,1,2,18,8,11,2,1,12,3,4,1,5,4,5,3,2,1,1,1,5,5,2,1,4,2,5,2,10,3,1,3,1,3,5,1,5,6,3,7,1,3,5,12,2,1,4,7,2,8,1,1,7,3,5,5,7,2,1,6,4,1,4,3,4,10,2,2,1,3,4,1,2,1,2,2,2,3,4,2,5,2,1,7,1,4,1,1,1,1,1,1,1,1,1,1,1,1,2,1,1,1,1,2,1,1,1,1,1,1,2,1,1,2,4,2,6,5,1,2,1,1,5,6,1,4,1,3,1,1,4,1,3,4,3,3,2,4,1,1,10,1,2,1,1,9,1,3,3,1,1,1,1,4,2,1,2,1,1,1,1,1,1,1,3,1,1,2,4,2,1,2,1,1,1,1,1,3,1,1,1,2,1,3,1,1,1,2,1,4,1,1,1,1,1,1,1,2,1,1,1,1,1,1,1,1,1,1],\"coloraxis\":\"coloraxis\",\"symbol\":\"circle\"},\"mode\":\"markers\",\"name\":\"\",\"showlegend\":false,\"x\":[1.7100105285644531,-15.36418342590332,-28.954227447509766,12.767066955566406,-18.93157958984375,-0.7370128631591797,13.430497169494629,19.046180725097656,26.26774787902832,10.778072357177734,12.079178810119629,13.224853515625,23.482666015625,16.519392013549805,-18.93101692199707,0.6300040483474731,-13.609196662902832,-4.334747314453125,5.5954270362854,20.20433235168457,-7.164218425750732,-25.60805892944336,22.196996688842773,9.887224197387695,-2.016057014465332,7.39736270904541,-16.25937271118164,-17.539953231811523,-23.134565353393555,13.508898735046387,-20.551822662353516,13.788134574890137,-13.187296867370605,-11.359724044799805,4.536893367767334,1.2662640810012817,-3.6258718967437744,-13.288634300231934,-1.0407922267913818,-11.521605491638184,-15.529088973999023,11.884727478027344,-12.657463073730469,-3.010523557662964,9.911324501037598,-1.6270949840545654,15.836657524108887,16.263153076171875,-12.064970016479492,5.989584445953369,-17.866453170776367,17.291034698486328,-0.11203701049089432,-19.8179931640625,12.011141777038574,22.538427352905273,4.976398944854736,7.64188814163208,11.739579200744629,11.719281196594238,11.182019233703613,-20.69872283935547,-17.63130760192871,19.854394912719727,3.582118272781372,-24.33069610595703,-23.99924087524414,-22.434885025024414,21.456491470336914,1.1177932024002075,-16.879592895507812,-26.138181686401367,-20.80293083190918,8.871491432189941,-12.718564987182617,6.858747482299805,-24.49016571044922,-12.397246360778809,-24.671009063720703,-13.80174732208252,17.204166412353516,-24.517349243164062,9.656128883361816,-9.752849578857422,-2.720210552215576,11.309337615966797,-18.892024993896484,-24.111419677734375,15.699789047241211,-12.822968482971191,15.10309886932373,8.878239631652832,15.317834854125977,-18.976594924926758,-23.67452049255371,-23.933727264404297,19.249834060668945,20.501039505004883,29.85487174987793,26.142492294311523,-18.782299041748047,-14.232808113098145,4.5818257331848145,0.34978851675987244,-6.536862373352051,-9.033538818359375,3.1539454460144043,7.687767028808594,14.406877517700195,-8.680415153503418,-15.6331787109375,-6.723996639251709,6.029622554779053,11.507516860961914,-17.087352752685547,10.778085708618164,-24.25096321105957,-21.1546688079834,12.36130142211914,-1.0440202951431274,-22.779766082763672,-10.357634544372559,-1.476290225982666,23.595252990722656,-19.127199172973633,-2.6663177013397217,30.007198333740234,-13.26439094543457,10.883233070373535,5.186435699462891,26.768508911132812,28.57071876525879,21.054798126220703,23.91851043701172,27.689010620117188,18.88517189025879,23.541851043701172,-15.381280899047852,-17.755373001098633,-10.892258644104004,-21.05944061279297,-16.793161392211914,-27.796724319458008,-24.67436408996582,-13.426709175109863,-6.4196648597717285,-23.045578002929688,-7.30570650100708,29.19666862487793,13.8853178024292,16.232807159423828,13.005565643310547,13.297470092773438,18.547990798950195,-11.874960899353027,13.378678321838379,6.771764755249023,-24.85196876525879,-11.937177658081055,16.999080657958984,-17.39724349975586,9.518593788146973,-14.164838790893555,-26.88288116455078,6.099114894866943,9.501350402832031,-14.447158813476562,15.512898445129395,14.370061874389648,10.150729179382324,10.993703842163086,-24.95024299621582,-22.637571334838867,-25.24466896057129,16.144269943237305,-24.717546463012695,15.90861988067627,29.66273307800293,21.124216079711914,20.13566780090332,6.026190757751465,13.203875541687012,-24.80019187927246,-13.261249542236328,28.23305892944336,-23.159250259399414,30.12040901184082,5.660972595214844,5.279770851135254,16.673837661743164,30.378110885620117,8.025699615478516,31.49869728088379,20.502086639404297,-23.709306716918945,6.300955295562744,27.76993751525879,12.143336296081543,13.024532318115234,17.174678802490234,11.004283905029297,-23.82670021057129,16.367435455322266,-24.907169342041016,18.77105712890625,8.746636390686035,12.876046180725098,18.222976684570312,19.449811935424805,-23.06875991821289,30.27549171447754,-1.4922820329666138,18.58893585205078,13.908726692199707,-26.064786911010742,9.679838180541992,-27.370634078979492,-13.826753616333008,-24.700944900512695,-9.784849166870117,16.294160842895508,-21.49685287475586,15.089085578918457,8.181878089904785,-27.533098220825195,-25.00091552734375,-28.237852096557617,-28.341764450073242,-15.0496187210083,-28.16745948791504,-19.48577117919922,-23.644481658935547,-22.793697357177734,31.050506591796875,6.9497809410095215,33.413204193115234,-11.738550186157227,21.959882736206055,-22.521297454833984,9.81098747253418,-0.7549009323120117,13.426384925842285,-5.154004096984863,1.591135859489441,1.9956086874008179,11.851194381713867,-4.941352367401123,4.571527481079102,-0.873884916305542,6.311668872833252,10.619596481323242,-22.732290267944336,8.01679801940918,-22.060802459716797,-21.701480865478516,7.174572467803955,-21.88018226623535,8.55206298828125,-3.1093966960906982,0.5096150636672974,-8.071004867553711,28.35515022277832,1.2705440521240234,1.3698798418045044,-25.064197540283203,-4.362542629241943,-5.816765308380127,12.216758728027344,10.624197006225586,-14.72349739074707,-25.80046844482422,10.34613037109375,10.988228797912598,-18.955917358398438,20.014772415161133,22.805686950683594,5.592442989349365,-8.434881210327148,21.114994049072266,-21.45705223083496,-7.199110984802246,-19.788644790649414,0.6237002015113831,-1.4857925176620483,14.732276916503906,17.11931037902832,-7.7843403816223145,4.001359462738037,-2.737929105758667,12.797306060791016,-25.02912712097168,5.282502174377441,11.69760513305664,-3.293595790863037,-15.142518997192383,-3.1896166801452637,3.694143056869507,7.229001998901367,2.1509506702423096,-21.07794189453125,1.5910853147506714,20.23202133178711,18.62215232849121,-10.953133583068848,19.57612419128418,8.962878227233887,-14.449901580810547,13.481331825256348,-2.6867082118988037,-0.8856520056724548,13.41860580444336,0.4049922525882721,9.339693069458008,-5.424172878265381,10.79659366607666,10.887228965759277,13.877790451049805,19.330141067504883,21.374069213867188,24.982206344604492,-7.45281982421875,-3.4048941135406494,-5.250557899475098,-4.6122355461120605,-3.840573310852051,-2.2706799507141113,2.8256747722625732,-0.8099461197853088,0.705896258354187,-3.5478575229644775,2.6476149559020996,-0.9186914563179016,-0.6682662963867188,4.131697654724121,4.760136127471924,-1.1429269313812256,3.507157325744629,-8.50139045715332,-4.067066669464111,18.96596908569336,-3.8557934761047363,-11.491023063659668,0.35368600487709045,18.215152740478516,20.3874454498291,11.904193878173828,12.138911247253418,1.2324610948562622,-4.560723304748535,5.041110992431641,2.671186923980713,4.9246931076049805,-6.194569110870361,-24.31785774230957,9.152750015258789,-21.358142852783203,30.062379837036133,-12.303455352783203,9.203929901123047,8.974305152893066,-18.649137496948242,23.743022918701172,-14.220183372497559,5.7366790771484375,-16.03108024597168,-21.736713409423828,3.3837459087371826,-2.5141584873199463,-4.619853973388672,-7.571589946746826,7.210979461669922,7.437497615814209,-22.62631607055664,-16.841928482055664,7.340305328369141,-20.626453399658203,-15.98829174041748,-18.204755783081055,-3.8013813495635986,-17.648632049560547,6.219888210296631,7.181301116943359,-5.972551345825195,-11.8312406539917,-25.087127685546875,13.339945793151855,5.765148639678955,-17.48929214477539,-20.483776092529297,15.234810829162598,-2.0125858783721924,-15.406028747558594,-15.191444396972656,-14.744732856750488,-21.480968475341797,16.147502899169922,-20.34933853149414,-15.814996719360352,-27.847976684570312,-17.90692901611328,-9.666244506835938,-28.13897132873535,-25.02308464050293,30.57899284362793,-21.00481414794922,-14.544073104858398,-12.387049674987793,4.099427223205566,-11.197416305541992,-0.08682650327682495,-9.574795722961426,7.6293511390686035,-5.2105560302734375,27.671504974365234,-16.065832138061523,-28.006235122680664,-13.09639835357666,-21.043685913085938,16.663074493408203,19.377914428710938,-0.8433154821395874,-7.049821853637695,21.46497344970703,0.21808312833309174,11.918831825256348,-4.125494480133057,29.296001434326172,24.587478637695312,16.394275665283203,14.177897453308105,-22.45213508605957,16.972227096557617,15.44206714630127,1.159394383430481,6.834771633148193,2.9007368087768555,0.5098538398742676,1.0872995853424072,0.2809164822101593,0.11881700903177261,-6.005072116851807,-0.9428166151046753,24.538402557373047,-2.4794061183929443,12.880691528320312,-5.047070026397705,8.310969352722168,11.793742179870605,-9.209490776062012,12.957971572875977,-22.664247512817383,-7.705279350280762,-13.180509567260742,-13.405051231384277,11.052130699157715,-15.876559257507324,-3.3840811252593994,-5.034304141998291,-3.0769810676574707,-7.413881778717041,9.199844360351562,5.652650356292725,14.145479202270508,11.797809600830078,3.78572678565979,6.415958404541016,4.858676910400391,-14.06747055053711,16.712203979492188,-16.530576705932617,-8.142840385437012,-25.787981033325195,-10.322978019714355,21.891435623168945,22.196775436401367,-8.970868110656738,3.7988741397857666,10.386303901672363,22.39453125,29.27081871032715,11.734079360961914,22.180526733398438,19.30112648010254,20.6060848236084,7.166623115539551,17.237077713012695,10.05445384979248,19.406145095825195,11.293400764465332,5.131918430328369,18.550891876220703,22.524578094482422,20.886558532714844,11.399953842163086,15.23870849609375,20.99597930908203,12.886539459228516,28.5035400390625,21.227861404418945,-17.862520217895508,30.30811309814453,-17.657482147216797,5.517482280731201,25.765605926513672,11.458419799804688,26.386743545532227,25.816362380981445,23.407339096069336,21.37627601623535,4.717400074005127,27.8420352935791,12.972320556640625,7.95665979385376,23.38556480407715,7.711790084838867,3.0775110721588135,23.105257034301758,15.756896018981934,20.630447387695312,19.032106399536133,14.193365097045898,16.563690185546875,18.35085678100586,4.23401403427124,20.60428810119629,20.984588623046875,16.9367733001709,20.241849899291992,14.7689847946167,13.734352111816406,2.32292103767395,4.65739107131958,27.401655197143555,18.281211853027344,-5.158042907714844,23.687990188598633,10.382588386535645,-6.821732044219971,-14.863707542419434,-11.283451080322266,-16.568479537963867,-13.905998229980469,5.471926212310791,0.5553358793258667,-0.9466249942779541,-12.680997848510742,-0.22071631252765656,31.17991828918457,7.752720355987549,-24.84938621520996,-10.320293426513672,-13.285377502441406,-9.280757904052734,-11.403399467468262,-4.929169654846191,-5.669384479522705,19.788415908813477,1.9936052560806274,-22.220783233642578,-11.159461975097656,-14.031561851501465,-6.502649784088135,-10.371160507202148,-10.1143217086792,-13.497849464416504,-21.052963256835938,-5.57497501373291,-17.72803497314453,-4.039807319641113,9.392379760742188,-20.285348892211914,-9.125096321105957,-11.725815773010254,-4.9199419021606445,-18.077983856201172,-21.291088104248047,4.87816858291626,-16.39274024963379,-20.073617935180664,3.7541472911834717,-0.2883144021034241,19.520299911499023,-1.450079083442688,9.663744926452637,-14.026949882507324,-20.271089553833008,4.428736686706543,-25.531543731689453,15.892257690429688,-5.539085865020752,-11.548174858093262,3.0507280826568604,10.36041259765625,28.59239387512207,-5.670894145965576,-16.576519012451172,-22.7172794342041,6.4317169189453125,-3.9779748916625977,25.094797134399414,5.567278861999512,27.94271469116211,28.855892181396484,10.241530418395996,3.8460652828216553,23.687707901000977,6.760244846343994,9.335373878479004,7.131719589233398,26.829204559326172,13.760757446289062,13.463495254516602,12.270522117614746,6.485335350036621,7.802950382232666,-2.259817123413086,3.8881564140319824,23.51563835144043,-6.334066390991211,-17.946544647216797,15.338903427124023,-8.157244682312012,-13.092634201049805,14.235455513000488,-10.605040550231934,24.774320602416992,-21.911884307861328,-27.98110580444336,-9.971965789794922,-15.200445175170898,16.18333625793457,25.743444442749023,18.77764892578125,14.32895278930664,-5.018031120300293,14.361516952514648,2.536165475845337,23.795713424682617,11.427271842956543,16.13202667236328,20.122142791748047,6.237178325653076,9.109871864318848,25.277118682861328,12.772377014160156,12.111220359802246,19.53826332092285,5.460011959075928,18.66839027404785,-1.1877398490905762,21.455942153930664,15.14069652557373,12.189614295959473,22.23723793029785,29.71637535095215,16.318574905395508,-0.8254184126853943,-8.74962043762207,3.4586949348449707,-0.9392927885055542,26.021886825561523,-27.82513427734375,21.622249603271484,23.27912139892578,-30.5046329498291,4.175389289855957,-11.569284439086914,4.104352951049805,0.34690940380096436,7.223336219787598,18.373626708984375,-5.331568241119385,-13.256674766540527,-9.799928665161133,18.208759307861328,-8.10683822631836,-16.16176986694336,-5.482604503631592,13.563143730163574,-4.435128688812256,-5.989279747009277,-2.1097960472106934,-1.917799472808838,-20.018678665161133,-20.8252010345459,5.999670028686523,-5.591104507446289,1.7218071222305298,-2.9679694175720215,17.13368034362793,11.216099739074707,-23.593608856201172,4.982571125030518,11.353204727172852,-1.436946153640747,-2.5953450202941895,-1.5794739723205566,3.9563677310943604,0.4654473066329956,-3.4824419021606445,1.6712064743041992,-15.646190643310547,-1.0126899480819702,13.965962409973145,19.05585479736328,-8.341246604919434,6.410655975341797,15.521577835083008,10.537248611450195,-22.49129867553711,-16.982059478759766,3.4456264972686768,-2.6514270305633545,0.6339111328125,23.776803970336914,2.408141851425171,-11.160168647766113,8.312155723571777,-4.129771709442139,-14.5980806350708,-25.28455352783203,-8.168139457702637,-3.983397960662842,8.312918663024902,-7.359955787658691,-3.5958595275878906,1.655402421951294,-20.39676856994629,-20.176687240600586,10.169248580932617,-21.17444610595703,-25.011032104492188,0.8559991717338562,-1.2950959205627441,-17.371477127075195,9.24697494506836,10.112588882446289,-17.658077239990234,-28.18632698059082,-2.9968347549438477,13.646500587463379,-20.939973831176758,-8.515679359436035,2.1110682487487793,5.358483791351318,9.867661476135254,11.756329536437988,-18.355812072753906,3.1077544689178467,9.302083015441895,-15.216483116149902,1.347419023513794,3.647674083709717,1.2473071813583374,-16.88408088684082,-10.209513664245605,1.6719716787338257,-4.349314212799072,-8.111200332641602,-3.829007148742676,-9.98149299621582,0.5127421617507935,-28.871376037597656,-6.482407093048096,-10.674554824829102,22.51511001586914,6.741816997528076,-20.039642333984375,-14.819143295288086,15.469244003295898,-19.39542007446289,-0.7192099690437317,24.120424270629883,-17.31787109375,-15.85204792022705,-9.572016716003418,-1.0898207426071167,17.094013214111328,-6.258791923522949,-16.639751434326172,-21.30653953552246,31.74324607849121,-20.58639907836914,-18.66107749938965,0.9723238945007324,-9.51936149597168,-22.90993881225586,-16.08974266052246,8.065531730651855,-14.410252571105957,8.541924476623535,21.861886978149414,25.452491760253906,-16.77276611328125,-17.438854217529297,-14.941489219665527,-12.55744457244873,7.488277912139893,15.560380935668945,-10.158197402954102,-5.102221965789795,-18.178831100463867,30.500965118408203,-20.5100154876709,8.455851554870605,12.050470352172852,-10.522777557373047,-8.136655807495117,-18.608278274536133,-11.989009857177734,8.396188735961914,-13.812217712402344,13.055445671081543,-15.386813163757324,-21.7825870513916,-0.18609081208705902,-6.7993388175964355,-5.292490005493164,-7.913912296295166,-9.765941619873047,-21.08523941040039,15.150516510009766,-2.576956033706665,-6.758777618408203,-16.382625579833984,-14.220412254333496,-18.774377822875977,-13.782675743103027,-9.859068870544434,-3.2036404609680176,-6.765512943267822,9.692060470581055,-12.600377082824707,-7.303301811218262,9.45920181274414,6.52025032043457,6.60688591003418,-2.0250656604766846,-3.8407557010650635,-15.198811531066895,-15.78431510925293,7.0666913986206055,14.945738792419434,4.709683895111084,-0.32432061433792114,-8.112775802612305,14.789741516113281,8.91903305053711,-17.1216983795166,13.257527351379395,16.34881591796875,-3.591547966003418,1.4943691492080688,1.6057389974594116,10.364770889282227,16.130416870117188,7.555846214294434,0.493342787027359,-6.11251163482666,-8.256050109863281,14.667426109313965,-9.07117748260498,14.340057373046875,-20.714704513549805,24.76528549194336,-19.221729278564453,23.011064529418945,19.880891799926758,-17.468856811523438,-23.650278091430664,-6.7303385734558105,30.23269271850586,-0.9174628257751465,8.472496032714844,5.843970775604248,-5.706610679626465,4.981287956237793,-0.3109099864959717,-2.9570605754852295,-1.4359426498413086,-5.976937294006348,6.620572566986084,7.735764026641846,1.960899829864502,0.49645113945007324,2.205305814743042,10.504676818847656,2.277116537094116,13.779061317443848,-6.75563907623291,-3.4917120933532715,-4.867146968841553,-1.4750914573669434,3.419853925704956,-0.6122448444366455,14.794000625610352,0.9949506521224976,12.973599433898926,-0.06585124135017395,10.89914608001709,-1.4691766500473022,6.935027122497559,18.81000518798828,13.689214706420898,-10.998737335205078,4.227637767791748,-1.9885648488998413,2.599311351776123,10.790172576904297,29.485313415527344,29.87911605834961,26.517662048339844,-3.5595948696136475,2.576899290084839,19.335241317749023,5.9767746925354,6.061639785766602,-22.973127365112305,9.388948440551758,21.42442512512207,9.857719421386719,13.110907554626465,18.626733779907227,-11.961918830871582,-7.259263038635254,-17.36005401611328,1.7212287187576294,-17.32245635986328,-5.2398576736450195,-10.288945198059082,-7.253458499908447,-18.333660125732422,4.627421855926514,-12.95851993560791,4.267834663391113,4.238186836242676,-11.850175857543945,2.7558505535125732,-11.218578338623047,-0.09044426679611206,-16.48052215576172,21.790225982666016,-2.5285696983337402,-19.443836212158203,5.372896194458008,-12.815467834472656,11.722737312316895,1.267701506614685,12.125248908996582,-6.268767356872559,1.4460580348968506,-9.655566215515137,6.141829013824463,1.9207918643951416,13.458507537841797,7.510697841644287,4.9324445724487305,3.872096538543701,10.596607208251953,19.33626365661621,-1.0224609375,22.942092895507812,2.5144033432006836,24.038480758666992,12.180582046508789,-18.151887893676758,2.347127676010132,1.7877627611160278,-0.5557929873466492,25.00241470336914,6.194831848144531,3.902867317199707,1.1155205965042114,-9.861919403076172,6.79581880569458,-3.024754762649536,-10.490411758422852,7.292669296264648,-14.53697681427002,-6.8105974197387695,-9.265517234802246,-11.924287796020508,-9.229394912719727,-3.9751181602478027,1.970024824142456,-6.875391960144043,-0.8732675313949585,-6.568620204925537,-6.504517078399658,-5.4589715003967285,6.215710639953613,4.549069404602051,-28.060644149780273,-5.130312442779541,13.900151252746582,-7.720555782318115,8.712301254272461,-4.445965766906738,-16.547786712646484,-13.595147132873535,-6.628660678863525,-11.458751678466797,6.452241897583008,-11.575157165527344,8.932843208312988,0.8511679172515869,6.024613380432129,4.108182907104492,0.9937098026275635,5.973546981811523,5.0486297607421875,4.256950855255127,0.519108772277832,1.8779202699661255,-9.527053833007812,-18.194730758666992,14.653359413146973,-6.4190192222595215,5.124627113342285,20.07599449157715,14.923060417175293,1.8597458600997925,-12.102103233337402,-0.7900270223617554,-1.9533647298812866,6.8873820304870605,1.8408379554748535,-9.241183280944824,-5.188107013702393,-10.836221694946289,-13.399127960205078,-12.06037712097168,-7.6889238357543945,-8.743074417114258,-2.419128894805908,-6.745330333709717,4.541456699371338,4.9988813400268555,18.52194595336914,-14.71412181854248,-16.444580078125,-5.545787811279297,-4.7982354164123535,-9.7594575881958,14.860952377319336,-22.57581329345703,-22.186887741088867,0.08665727823972702,-13.373458862304688,-1.9493935108184814,-8.191624641418457,-10.041966438293457,-19.548084259033203,-3.3854544162750244,-15.73835277557373,2.1891028881073,5.823863506317139,0.5780225992202759,3.483137845993042,20.648494720458984,-15.51083755493164,9.487773895263672,-19.063854217529297,18.911542892456055,10.374831199645996,-5.639142036437988,-2.4682698249816895,13.307969093322754,2.214297294616699,26.205455780029297,-8.72632884979248,-11.96772289276123,6.619195461273193,-7.690821170806885,-1.9325114488601685,-23.443950653076172,1.2393471002578735,-15.576208114624023,-12.953975677490234,21.272624969482422,2.065345525741577,-0.6712900996208191,1.921103835105896,11.078248023986816,-3.3006362915039062,0.3913072943687439,2.8250739574432373,5.903979778289795,-2.6882288455963135,-13.941274642944336,-5.2891364097595215,-19.532384872436523,0.5695174932479858,1.835512399673462,1.8575531244277954,6.340761184692383,-2.673171281814575,8.81029224395752,17.18328094482422,29.552722930908203,-7.751821041107178,-1.7758722305297852,13.286457061767578,5.157773494720459,0.290623277425766,5.938250541687012,26.100393295288086,22.91121482849121,-3.902885913848877,-9.079479217529297,6.7403178215026855,-7.410786151885986,-2.9642443656921387,-4.104525566101074,8.796438217163086,8.506220817565918,8.78793716430664,15.898393630981445,-24.144927978515625,-5.239673614501953,7.340331554412842,4.052357196807861,9.317317008972168,-18.710769653320312,7.269021511077881,26.076248168945312,6.655011177062988,-4.542212009429932,7.256361484527588,15.05675983428955,26.629287719726562,-5.6530232429504395,-4.609725475311279,4.979071140289307,4.985981464385986,-10.752237319946289,6.931802272796631,-16.990554809570312,-24.7645206451416,30.009004592895508,25.438758850097656,13.654802322387695,18.792144775390625,9.200122833251953,-16.341360092163086,2.5668203830718994,8.131047248840332,24.07248878479004,13.886139869689941,6.286425590515137,-12.416324615478516,-13.904407501220703,3.9526779651641846,-4.217617988586426,-14.742743492126465,-2.6133787631988525,-10.35403823852539,9.984628677368164,11.505221366882324,0.0882907509803772,-3.646036148071289,-5.783971309661865,-3.966721296310425,-1.3115367889404297,-3.1575896739959717,-0.9685476422309875,-0.11110785603523254,-9.654884338378906,18.546663284301758,15.939506530761719,2.7731716632843018,9.877488136291504,-9.019744873046875,3.375023603439331,2.231597423553467,13.205096244812012,5.455733776092529,-15.82993221282959,-15.006523132324219,-12.89838695526123,-6.199333190917969,-12.772214889526367,-17.149702072143555,-8.488874435424805,-14.791419982910156,25.268505096435547,-4.510376453399658,-30.95218849182129,-18.65678596496582,-20.683837890625,10.04198932647705,21.535926818847656,9.84560489654541,6.000302314758301,-3.540252923965454,26.337135314941406,4.419162750244141,23.556894302368164,9.242820739746094,7.668985843658447,-16.797544479370117,23.21111297607422,21.703372955322266,22.494464874267578,-9.678848266601562,-9.682907104492188,-6.210707664489746,7.082574367523193,-18.026020050048828,-11.591362953186035,24.571983337402344,3.525991678237915,-11.085848808288574,8.43576717376709,6.809226989746094,-4.406116962432861,-15.69834041595459,-24.858306884765625,-20.84371566772461,-11.968750953674316,-8.717504501342773,-5.941199779510498,23.608469009399414,-13.464444160461426,-6.3110737800598145,8.435806274414062,2.5977320671081543,-18.187541961669922,-8.113285064697266,-3.5019845962524414,-10.557561874389648,30.591716766357422,28.868253707885742,-2.113039493560791,2.182596445083618,-17.62203025817871,-3.4368882179260254,-1.8982197046279907,-15.176336288452148,0.9077112078666687,-0.06247102469205856,7.395534038543701,1.3703044652938843,-8.432104110717773,16.021835327148438,-5.1800007820129395,-8.050736427307129,5.14500617980957,-11.829062461853027,4.020411491394043,10.415148735046387,7.767593860626221,-10.944287300109863,4.159786224365234,29.824848175048828,28.16356086730957,10.890067100524902,0.01192123256623745,-4.4824700355529785,-5.77098274230957,2.98722505569458,26.652942657470703,2.3668761253356934,-0.3006609380245209,-4.190622329711914,8.828561782836914,-2.6315784454345703,0.42970946431159973,-21.99209976196289,-15.03142261505127,-7.830011367797852,-8.076278686523438,6.3501458168029785,-3.817178249359131,-9.463944435119629,-8.04436206817627,-7.9960432052612305,-12.414482116699219,-11.059503555297852,-4.167561054229736,-2.9322280883789062,3.293262243270874,-17.27371597290039,-10.840676307678223,-21.786659240722656,6.575997829437256,0.3425672650337219,10.353604316711426,0.8504596948623657,-15.866755485534668,4.400928974151611,1.2948788404464722,8.56926441192627,-0.19523654878139496,-12.039963722229004,0.7267708778381348,-12.734585762023926,11.659131050109863,-3.4904112815856934,-16.307531356811523,-13.365751266479492,8.340322494506836,1.2032699584960938,-15.22689437866211,-13.14893913269043,3.743964195251465,6.831814765930176,0.43350768089294434,-16.41193389892578,4.687675952911377,-19.262392044067383,-6.362375259399414,7.7789716720581055,-6.742071151733398,-9.336527824401855,-5.761063575744629,3.3785765171051025,3.936138868331909,28.86614990234375,2.4995601177215576,-14.162834167480469,-6.272547245025635,5.090301990509033,7.163667678833008,2.2261300086975098,-4.274056911468506,2.35263991355896,2.136366844177246,-17.370868682861328,9.715194702148438,7.974464416503906,4.224618911743164,22.589223861694336,2.230902671813965,6.223710536956787,1.1387741565704346,-14.525871276855469,4.605958938598633,2.532874822616577,1.8856457471847534,2.5308711528778076,-2.8033454418182373,1.5696905851364136,3.8587772846221924,-1.8249293565750122,-2.7165024280548096,-5.717529773712158,2.0943222045898438,-15.505095481872559,2.5912015438079834,28.314180374145508,1.9305765628814697,4.947462558746338,1.1821259260177612,-11.562140464782715,28.732864379882812,1.2274643182754517,-1.4617557525634766,0.43064185976982117,4.444695472717285,23.390031814575195,1.8120676279067993,1.5090888738632202,-16.649776458740234,-1.0885295867919922,2.3097450733184814,16.95931053161621,22.459169387817383,21.979923248291016,-0.2086513489484787,-2.2970759868621826,14.32587718963623,1.3759549856185913,1.5057154893875122,3.1765799522399902,2.907794952392578,4.452441215515137,23.71755027770996,19.14006233215332,28.735309600830078,3.627094268798828,7.803105354309082,1.6594207286834717,2.5753440856933594,7.855207443237305,2.512239694595337,3.8244500160217285,7.826338768005371,3.7047722339630127,4.050843715667725,3.901060104370117,-0.10280752182006836,-10.62227725982666,11.287636756896973,24.379878997802734,9.665655136108398,25.119190216064453,-5.944549560546875,-5.097872734069824,-0.26560068130493164,9.85884952545166,1.2980725765228271,28.2362117767334,16.1572208404541,17.1473445892334,4.717947483062744,-4.903653144836426,-2.9493017196655273,-14.403552055358887,-17.4746150970459,-8.406657218933105,-0.06115185469388962,-6.079410076141357,2.6112945079803467,-15.103707313537598,4.781167507171631,2.9234344959259033,26.78880500793457,-6.434589862823486,-4.720635414123535,7.200748920440674,1.9612523317337036,7.269412994384766,-5.95505428314209,-7.603667259216309,-5.346584796905518,4.584447860717773,23.77117347717285,-5.063643932342529,-6.760971546173096,-19.277307510375977,4.1723103523254395,-4.11515998840332,2.4136340618133545,-9.919151306152344,29.823835372924805,-10.896262168884277,2.8715744018554688,0.1931600719690323,-16.285045623779297,-13.146998405456543,-9.341490745544434,-17.801647186279297,-22.966463088989258,25.058574676513672,-20.447057723999023,27.459596633911133,-18.665451049804688,17.077131271362305,27.32210922241211,6.905971050262451,27.11404800415039,-17.65764808654785,-2.993795156478882,-6.727923393249512,-5.281947612762451,27.496726989746094,26.931779861450195,8.94638442993164,-16.33858299255371,30.094202041625977,15.210145950317383,2.6206085681915283,11.589483261108398,2.9490339756011963,11.62251091003418,3.5327696800231934,1.0186892747879028,-13.410429000854492,-6.038306713104248,-5.288445949554443,-17.135765075683594,15.997157096862793,5.141815662384033,-2.0721821784973145,-18.4675235748291,2.993420362472534,1.3793374300003052,-7.781374454498291,-19.259693145751953,-13.652741432189941,15.471638679504395,-19.57622718811035,-7.481552600860596,11.021334648132324,-3.5236196517944336,-6.890279769897461,19.936676025390625,-13.359170913696289,-13.156865119934082,-15.2193603515625,-14.287578582763672,-14.071306228637695,-3.4135780334472656,11.483673095703125,-5.896755695343018,-3.450822114944458,-13.95436954498291,12.27438735961914,7.898470878601074,28.17974853515625,-3.8592329025268555,-14.144652366638184,-2.5386264324188232,-17.419790267944336,15.84935474395752,-3.571606159210205,-15.95056438446045,-3.7828328609466553,7.504847049713135,0.622089147567749,17.41349220275879,3.5407798290252686,-1.769574522972107,13.130899429321289,7.024541854858398,-7.185088157653809,-13.5316162109375,-22.953418731689453,-8.257645606994629,4.736178398132324,-7.291106700897217,-6.579441070556641,12.70658016204834,15.838894844055176,-15.629883766174316,-0.18539263308048248,-2.1046597957611084,-3.589085102081299,6.222032070159912,2.8253610134124756,29.69833755493164,14.977724075317383,-0.26398879289627075,20.56083869934082,15.267053604125977,10.069339752197266,19.362768173217773,5.673760414123535,-20.724084854125977,10.672223091125488,-22.444307327270508,-13.844640731811523,-5.3624444007873535,-5.419082164764404,2.892180919647217,-15.801066398620605,2.464170455932617,2.2759735584259033,-4.019907474517822,-16.85706901550293,15.126420021057129,5.059789657592773,-3.981496810913086,-1.2814171314239502,-7.886988639831543,0.5324357151985168,21.151470184326172,2.110616445541382,9.426162719726562,0.8960965275764465,3.077909469604492,2.602527141571045,-14.652416229248047,1.6224627494812012,-15.852304458618164,-15.82703685760498,2.2605741024017334,2.169718027114868,-14.531889915466309,-1.1223407983779907,-0.5207160711288452,2.6335840225219727,1.3397412300109863,1.5355268716812134,1.7536336183547974,2.973921298980713,28.990875244140625,-0.6439104676246643,1.8069604635238647,-18.52850341796875,2.153529167175293,-15.411812782287598,-15.172662734985352,27.448373794555664,1.9211333990097046,1.3184993267059326,4.095008373260498,1.3963816165924072,4.521758556365967,8.9888916015625,13.173354148864746,-17.54733657836914,-20.325653076171875,-15.248644828796387,5.960859775543213,14.689538955688477,-0.28911396861076355,7.368914604187012,2.6458346843719482,-2.117568254470825,4.037510871887207,-16.672962188720703,10.965426445007324,-13.77687931060791,3.519625663757324,7.528179168701172,0.47026777267456055,-4.594527244567871,2.1089658737182617,-3.5596840381622314,8.878545761108398,0.45659369230270386,-16.4589786529541,-21.380651473999023,-17.530115127563477,8.229138374328613,-17.16115951538086,-12.714665412902832,-9.818970680236816,-4.452249050140381,-6.311341285705566,20.882314682006836,1.0498956441879272,-2.470974922180176,-3.3459970951080322,14.325085639953613,13.256574630737305,16.442930221557617,28.326622009277344,5.970881938934326,27.907079696655273,27.8693904876709,29.770240783691406,27.9840030670166,-15.960498809814453,28.03093147277832,-15.200034141540527,27.32033348083496,28.295198440551758,-15.287468910217285,13.37096118927002,-2.762439250946045,-14.623992919921875,-18.037302017211914,12.9338960647583,28.36127281188965,-16.589502334594727,28.3884220123291,-15.454207420349121,-17.3841552734375,1.8840558528900146,-18.516216278076172,-16.584211349487305,-16.38361167907715,1.0738327503204346,-8.5191650390625,-2.7769899368286133,-2.6052887439727783,-2.3136582374572754,-4.207575798034668,1.0858854055404663,3.2363831996917725,-12.683432579040527,-17.303936004638672,2.980238676071167,4.121992588043213,3.9661316871643066,3.5980451107025146,3.7791213989257812,-4.781461238861084,5.844228744506836,1.087839961051941,6.794816493988037,-14.636836051940918,-0.9264048337936401,-2.929945230484009,-4.452549934387207,0.770908534526825,1.290574312210083,8.057124137878418,23.63210105895996],\"xaxis\":\"x\",\"y\":[-30.707624435424805,-14.769505500793457,6.844758987426758,8.090404510498047,-4.0183515548706055,27.86683464050293,12.162219047546387,5.369564533233643,25.156925201416016,36.71730422973633,12.136417388916016,14.4766206741333,26.835905075073242,29.519142150878906,3.456641674041748,16.695194244384766,12.56748104095459,13.266114234924316,30.553638458251953,26.272024154663086,-10.547903060913086,1.07961905002594,22.556705474853516,-0.6957899332046509,1.3173818588256836,11.158953666687012,-2.9231810569763184,5.405649185180664,-14.751949310302734,4.328845977783203,-1.2859277725219727,24.301372528076172,13.619613647460938,0.12032265961170197,-38.98087692260742,-17.863754272460938,15.356968879699707,-6.791227340698242,27.681550979614258,-15.308631896972656,-3.6930694580078125,14.304726600646973,-2.0449745655059814,29.36261558532715,32.01875686645508,24.38749122619629,10.944304466247559,5.952479362487793,-1.5071429014205933,-32.45633316040039,10.173158645629883,23.3940372467041,15.343387603759766,-2.2583634853363037,14.74819278717041,25.4854736328125,27.05126190185547,12.313136100769043,30.907882690429688,30.954547882080078,30.463178634643555,-16.111907958984375,-3.9690959453582764,2.9324629306793213,29.303199768066406,-0.7801361083984375,-16.02099609375,-15.983089447021484,-1.9388540983200073,9.40684700012207,1.2045738697052002,-8.79662036895752,-2.7985787391662598,-17.750913619995117,10.472489356994629,10.697600364685059,-0.008428260684013367,-26.59973907470703,4.123137950897217,-17.990280151367188,18.18282699584961,-0.038269516080617905,18.261184692382812,-4.709395885467529,-15.678505897521973,26.306398391723633,2.9532482624053955,1.8225945234298706,15.454480171203613,14.080233573913574,12.875062942504883,9.285898208618164,30.434253692626953,-10.821996688842773,0.7444279789924622,6.403126239776611,-1.6988755464553833,2.7124955654144287,16.547019958496094,27.7100887298584,-7.663718223571777,-4.924774169921875,-39.15720748901367,-34.07052993774414,-13.140810012817383,-10.272629737854004,7.348181247711182,18.28378677368164,8.669191360473633,-18.19170570373535,1.8247153759002686,-6.032047748565674,30.130048751831055,19.595569610595703,-0.196759432554245,32.93655776977539,-3.469514846801758,-5.353499889373779,26.36376190185547,-24.958110809326172,-5.071836948394775,19.886232376098633,-6.936649799346924,29.511123657226562,-0.19851377606391907,1.34772789478302,23.34137535095215,15.703048706054688,13.932870864868164,-22.41279411315918,18.138580322265625,18.894710540771484,-0.5776796936988831,14.872313499450684,21.669435501098633,0.8900581002235413,29.432292938232422,-10.82664680480957,-18.818933486938477,0.8155828714370728,8.116462707519531,-18.353540420532227,2.7833938598632812,5.727621555328369,-20.07659339904785,5.850408554077148,-1.9253840446472168,-4.571658134460449,6.851484775543213,23.3110294342041,7.994659900665283,6.810997486114502,-1.331931710243225,19.34398651123047,-11.19741153717041,15.068981170654297,9.191934585571289,-19.00684928894043,1.9359464645385742,20.036006927490234,-8.706158638000488,4.197826862335205,-14.574421882629395,-6.860828399658203,29.668964385986328,32.1772346496582,-1.6659044027328491,14.415730476379395,26.9213809967041,22.589038848876953,32.718841552734375,8.057962417602539,4.150751113891602,7.573263168334961,12.728981018066406,8.362764358520508,5.010562896728516,20.564889907836914,19.544666290283203,22.751853942871094,-32.410675048828125,0.13587145507335663,8.493212699890137,15.766875267028809,19.509363174438477,8.292333602905273,21.945331573486328,11.06765365600586,27.64700698852539,16.59432029724121,21.114532470703125,15.685722351074219,16.95848846435547,0.7417846322059631,6.489523887634277,7.477132797241211,19.47347068786621,17.216079711914062,1.3156415224075317,11.474443435668945,8.419829368591309,3.718515634536743,6.2808356285095215,4.653328895568848,2.723757266998291,34.63652420043945,19.763437271118164,4.984480857849121,20.771249771118164,0.9585467576980591,19.414344787597656,24.185224533081055,7.198017120361328,-4.177910804748535,2.5281527042388916,16.180030822753906,-13.433764457702637,10.259916305541992,-9.765535354614258,-5.315901279449463,20.366981506347656,6.185808181762695,15.210864067077637,21.15329933166504,-1.3582745790481567,-4.521071910858154,-7.575873374938965,-7.522271633148193,-2.654147148132324,-7.380209445953369,-21.935184478759766,-10.628217697143555,-0.7786024212837219,19.58516502380371,-7.822168827056885,13.227965354919434,6.227086544036865,24.236614227294922,3.3667423725128174,-7.501854419708252,-0.6780993342399597,34.99590301513672,-11.52236557006836,32.5166015625,-10.42116928100586,12.480314254760742,-25.460037231445312,8.840492248535156,7.299838542938232,-4.196836948394775,29.627437591552734,-3.546159505844116,31.777896881103516,-17.77320098876953,-13.957651138305664,23.974191665649414,8.437355995178223,-2.9346060752868652,-9.02379035949707,-7.825882911682129,-7.034714698791504,12.087514877319336,-28.6176815032959,-6.958739757537842,2.2236809730529785,-5.320644378662109,4.725303649902344,12.82475757598877,33.66079330444336,6.983248710632324,-10.497065544128418,11.07336711883545,12.3944673538208,-1.9549055099487305,28.617517471313477,28.178606033325195,2.7924351692199707,-0.13869494199752808,6.984607696533203,-2.0072579383850098,-0.04665093496441841,-4.798440933227539,27.076168060302734,7.604763031005859,33.00141906738281,34.16642379760742,21.724660873413086,-33.952964782714844,-0.3760093152523041,7.698095798492432,-2.635836124420166,18.855783462524414,5.463418483734131,-11.881619453430176,4.282658100128174,11.851936340332031,28.310354232788086,10.327692985534668,12.716015815734863,-5.313268184661865,-7.574024677276611,29.97120475769043,12.64474868774414,9.77921199798584,30.0944766998291,29.6506404876709,7.985291004180908,30.517641067504883,-11.039372444152832,-8.726980209350586,32.808563232421875,-3.1281955242156982,10.94533920288086,-37.90232467651367,10.808248519897461,10.75909423828125,17.361787796020508,2.742896318435669,28.33559799194336,6.6149516105651855,22.35199546813965,-9.995849609375,-10.597607612609863,20.478256225585938,-7.300963878631592,-11.22623062133789,-9.579519271850586,-10.743829727172852,-5.046812057495117,-0.3264605700969696,-8.144209861755371,-9.115342140197754,-10.511651992797852,31.340843200683594,-8.25102424621582,-23.656742095947266,18.657957077026367,-8.797040939331055,2.351619243621826,30.626981735229492,3.8022849559783936,-19.09552001953125,-7.218170166015625,27.28817367553711,28.460662841796875,10.444015502929688,0.704775869846344,-5.327563762664795,-9.917179107666016,-5.061356544494629,-4.829386234283447,-23.702486038208008,-25.288738250732422,-3.57857346534729,-4.900739669799805,-21.055025100708008,21.164167404174805,-20.608427047729492,25.2529296875,23.95212745666504,7.799260139465332,4.591094970703125,-16.801712036132812,-6.1365647315979,0.7617537379264832,-8.74787712097168,8.753793716430664,-22.39126968383789,25.28289794921875,-5.043405532836914,1.2291988134384155,34.63346862792969,-10.347249984741211,-10.561650276184082,-22.712377548217773,-11.117918968200684,-12.207515716552734,7.972192287445068,-0.9794006943702698,-1.8432276248931885,15.974579811096191,35.01264190673828,-28.054136276245117,-17.84659194946289,-4.754642486572266,-6.177087306976318,19.983131408691406,-25.9617977142334,0.9986262917518616,-3.0684900283813477,-1.8001909255981445,-1.1183390617370605,-0.4062860906124115,-8.05299186706543,-17.994413375854492,10.254855155944824,-11.797840118408203,-22.435049057006836,-10.166418075561523,-19.514434814453125,17.514482498168945,2.2183220386505127,-12.588688850402832,16.774919509887695,-4.524095058441162,-18.57110023498535,-4.474076747894287,25.893634796142578,-4.946681976318359,-13.034310340881348,7.546912670135498,-17.120635986328125,-13.395837783813477,9.824060440063477,-18.518951416015625,-12.100876808166504,-0.3979017436504364,2.233269453048706,3.012392282485962,22.99634552001953,5.955522060394287,4.840611934661865,-1.962709903717041,-32.07528305053711,32.96574783325195,1.1054953336715698,21.206439971923828,21.224044799804688,2.5670957565307617,14.715075492858887,-10.298819541931152,14.586902618408203,12.978177070617676,21.02570152282715,11.048401832580566,9.561454772949219,-37.42280960083008,-38.284061431884766,-36.429046630859375,-30.569543838500977,-15.196428298950195,-27.733461380004883,18.16986846923828,21.097681045532227,-2.456040143966675,-9.622247695922852,12.548965454101562,-3.617068290710449,5.299740314483643,-15.993560791015625,-7.801712989807129,-15.334300994873047,-12.857590675354004,0.7834753394126892,8.596405029296875,-12.48198413848877,-23.44493293762207,22.869646072387695,3.4626471996307373,8.549710273742676,13.418213844299316,22.92404556274414,26.659950256347656,21.095489501953125,3.9142701625823975,25.089622497558594,24.751440048217773,0.5688924789428711,21.19054412841797,-0.7605220079421997,6.681045055389404,-1.2108960151672363,19.89242935180664,22.87611198425293,25.312271118164062,-4.629325866699219,14.446285247802734,15.26648235321045,14.751461029052734,20.360336303710938,3.0532338619232178,2.6883456707000732,17.432819366455078,18.497373580932617,4.695956230163574,3.670621871948242,16.620378494262695,24.397747039794922,16.526735305786133,20.934900283813477,5.210095405578613,17.798625946044922,21.339786529541016,1.5598702430725098,2.7547245025634766,-0.7032639384269714,0.993698000907898,18.15291404724121,13.67984390258789,10.05256462097168,16.71255111694336,2.231661796569824,10.427536010742188,17.181962966918945,2.847288131713867,11.825929641723633,18.83795928955078,26.83882713317871,16.528038024902344,21.459564208984375,21.317760467529297,16.0506534576416,27.797821044921875,19.444293975830078,16.908855438232422,21.944337844848633,19.426372528076172,21.497283935546875,18.952228546142578,0.9449324607849121,15.96784496307373,16.65587043762207,1.2160885334014893,12.462244987487793,18.136972427368164,-0.6400502324104309,5.968504905700684,14.349383354187012,21.863021850585938,4.002085208892822,24.74601936340332,28.9141845703125,17.553993225097656,14.45418643951416,-0.689200222492218,9.95779800415039,19.908206939697266,-3.221132755279541,-11.950284957885742,-11.94807243347168,-12.326095581054688,-24.45149040222168,16.406009674072266,28.967050552368164,-29.23249626159668,-7.964795112609863,30.779592514038086,2.388460636138916,34.571537017822266,-4.25016975402832,-27.732694625854492,-6.567944049835205,-2.408254623413086,-9.05053424835205,-25.90504264831543,18.43810272216797,11.820517539978027,26.722789764404297,-15.749112129211426,-21.96781349182129,-5.712174892425537,1.0227378606796265,-27.71169662475586,-22.471065521240234,-27.063121795654297,-0.4763258993625641,-14.841377258300781,5.179764747619629,-1.4227943420410156,-10.133456230163574,-23.12162208557129,3.843308448791504,1.9025537967681885,-24.040130615234375,-23.9063663482666,-21.076370239257812,-36.201358795166016,-7.278720855712891,-8.299262046813965,6.380876064300537,19.721027374267578,25.887453079223633,17.560928344726562,1.0814863443374634,-21.658103942871094,-22.955286026000977,4.343904972076416,3.942399740219116,31.888778686523438,-28.501625061035156,5.939293384552002,4.961123943328857,4.522930145263672,2.8128468990325928,-9.109723091125488,-2.5379369258880615,-5.303090572357178,-18.21303939819336,-37.50489044189453,5.078944683074951,9.51776123046875,17.52874755859375,21.496835708618164,25.422243118286133,11.855637550354004,14.117396354675293,15.08265209197998,26.89501953125,8.752569198608398,13.903276443481445,22.111783981323242,19.010547637939453,15.09552001953125,11.133687973022461,28.16861915588379,21.39483642578125,11.911608695983887,16.47994041442871,6.836048603057861,-18.69321060180664,-3.679349184036255,4.159158706665039,-5.4874444007873535,-8.585858345031738,3.4203758239746094,12.730631828308105,-7.924261093139648,-2.787327289581299,1.9124664068222046,-17.240259170532227,27.347230911254883,17.522472381591797,23.028837203979492,3.6725854873657227,12.958626747131348,7.59202241897583,15.871308326721191,12.520490646362305,27.614721298217773,9.365262985229492,19.611169815063477,17.292661666870117,4.5631561279296875,20.199520111083984,23.12663459777832,18.294389724731445,24.15370750427246,21.006561279296875,10.006163597106934,14.30700397491455,2.5591442584991455,20.323850631713867,24.540836334228516,20.73779296875,18.573644638061523,22.33852767944336,21.350072860717773,-12.54607105255127,24.599472045898438,9.041733741760254,20.85602569580078,-12.123469352722168,11.373100280761719,22.047693252563477,-4.861409664154053,-18.64193344116211,-23.808700561523438,-16.15605926513672,-26.641584396362305,-0.9303299188613892,21.602962493896484,-15.082376480102539,3.8484723567962646,-14.350379943847656,22.438800811767578,22.790699005126953,-55.37705993652344,-11.2027006149292,6.23716402053833,-5.337072372436523,-5.778261661529541,-9.305887222290039,-13.558365821838379,3.5052027702331543,5.818538665771484,5.869804859161377,-22.428037643432617,-26.41302490234375,-9.914155960083008,34.22971725463867,7.204378604888916,-8.903172492980957,24.51910400390625,24.60966682434082,11.613921165466309,1.4359581470489502,2.7765703201293945,2.783155679702759,8.91769790649414,4.711379528045654,20.888046264648438,13.469908714294434,8.774288177490234,-3.96347713470459,8.45759105682373,-5.558250427246094,28.33722686767578,23.124187469482422,28.41516876220703,2.9707720279693604,-54.159305572509766,-0.3476107716560364,29.607666015625,13.974020004272461,23.6585636138916,1.14961576461792,-7.697175979614258,23.207801818847656,-17.703887939453125,-9.005032539367676,-15.607166290283203,1.5175065994262695,8.284595489501953,4.2775959968566895,3.3489954471588135,-2.950646162033081,3.1776742935180664,-11.945374488830566,-1.733267903327942,18.816749572753906,-11.040080070495605,4.112656593322754,7.618927955627441,-18.868972778320312,6.019399642944336,28.349132537841797,-19.052143096923828,-20.889205932617188,2.0721240043640137,25.866098403930664,9.86441707611084,-3.688190460205078,-22.168729782104492,30.328433990478516,33.89019012451172,6.481228828430176,-1.0916974544525146,-14.026028633117676,-8.311273574829102,23.777732849121094,7.115752696990967,7.08272647857666,30.553972244262695,-1.0654772520065308,-1.4787688255310059,-7.087957382202148,1.2938566207885742,-29.166912078857422,-19.976884841918945,11.47249984741211,-2.592634916305542,18.462629318237305,7.379676342010498,-1.2972767353057861,0.006366133224219084,16.540239334106445,-12.471784591674805,-13.582144737243652,-10.835490226745605,0.43686652183532715,-21.313087463378906,22.87885284423828,7.081897258758545,-7.4072136878967285,-20.721420288085938,-2.7321937084198,-27.13143539428711,4.313063621520996,-7.462367534637451,3.071676254272461,-2.95019793510437,3.19423770904541,-18.451932907104492,-53.930904388427734,5.880914211273193,-25.170066833496094,-9.890560150146484,-54.16592788696289,19.063419342041016,-3.3918135166168213,-19.445180892944336,24.00390625,2.5919008255004883,-17.524585723876953,-25.992900848388672,-18.33209991455078,-15.026216506958008,-21.684865951538086,19.400802612304688,-3.7438724040985107,-3.3472375869750977,-15.577247619628906,5.262390613555908,-17.311508178710938,15.466485977172852,9.601848602294922,-11.012497901916504,-8.311614990234375,-5.8073530197143555,-6.528602123260498,18.843931198120117,-4.568831443786621,32.96487045288086,-51.928184509277344,-12.015288352966309,-18.900815963745117,-0.21396958827972412,16.794633865356445,-8.305688858032227,-16.52770233154297,0.013212572783231735,0.028678979724645615,-6.80340051651001,11.616317749023438,-16.120080947875977,-20.539775848388672,-10.916394233703613,-9.895319938659668,-8.236126899719238,-37.97713088989258,-17.0482234954834,-14.229423522949219,-8.318281173706055,-14.068076133728027,30.482337951660156,14.258275985717773,6.020405292510986,-21.231861114501953,-38.285186767578125,-16.233198165893555,-9.54616641998291,1.3611247539520264,-6.062707424163818,16.162290573120117,6.193538665771484,-0.413650244474411,18.516122817993164,13.68617057800293,-8.88076400756836,19.52677345275879,24.633644104003906,-37.741207122802734,26.974641799926758,28.94649314880371,27.171409606933594,24.503313064575195,-18.450361251831055,-36.59953308105469,-2.3176422119140625,-5.848743438720703,10.148551940917969,-31.7280216217041,29.066022872924805,11.589457511901855,23.310935974121094,-3.238401412963867,13.099991798400879,19.78278350830078,-6.112788677215576,-12.422012329101562,-12.803018569946289,10.690284729003906,-3.681591510772705,30.339521408081055,-14.645215034484863,-5.040646553039551,-9.225433349609375,-22.27381706237793,-9.847624778747559,13.342645645141602,-5.473715782165527,28.599084854125977,29.34062385559082,22.77727699279785,-23.389833450317383,-9.486101150512695,30.648155212402344,28.310354232788086,31.219064712524414,-30.65489387512207,4.340150356292725,-3.5180506706237793,-6.969819068908691,-34.78659439086914,-5.646287441253662,25.205078125,-26.607513427734375,34.790977478027344,30.535972595214844,17.874799728393555,-30.783010482788086,30.1507625579834,13.222044944763184,31.899791717529297,-5.843784332275391,-3.4410834312438965,-21.366931915283203,-6.48193883895874,23.898174285888672,1.2609483003616333,2.509147882461548,2.8279201984405518,-37.466407775878906,-1.3322075605392456,9.655170440673828,-7.690863132476807,12.446455001831055,-2.049971103668213,20.43509864807129,7.995774745941162,28.807432174682617,27.436796188354492,17.547893524169922,10.73210620880127,-3.4679646492004395,-13.087224960327148,-33.5769157409668,-10.561589241027832,0.7060232758522034,-9.312703132629395,-24.398204803466797,-25.474136352539062,-14.680493354797363,-12.104310989379883,19.510013580322266,22.90415382385254,10.570024490356445,-8.15334415435791,4.98504638671875,-19.719568252563477,-19.449567794799805,0.9455210566520691,9.755516052246094,-16.531558990478516,7.9108147621154785,3.4203178882598877,22.342708587646484,-20.855009078979492,-11.636577606201172,18.953800201416016,-19.983200073242188,15.178168296813965,2.130902051925659,4.172021865844727,21.41379165649414,16.66928482055664,-17.025249481201172,26.66434097290039,3.607356071472168,15.223134994506836,25.139123916625977,7.54345178604126,24.51874542236328,12.168128967285156,27.669641494750977,0.5081835985183716,7.151573657989502,6.075497627258301,9.726217269897461,12.015974044799805,26.833162307739258,14.982983589172363,6.915312767028809,-23.37337875366211,3.311990976333618,-27.0756778717041,-7.481174945831299,-12.729308128356934,6.918041706085205,13.77263069152832,-21.317813873291016,-19.30901527404785,-10.25832462310791,-11.45734691619873,32.24880599975586,-7.066648006439209,-36.046974182128906,-12.001204490661621,-1.387172818183899,26.768537521362305,-10.10914134979248,-20.159748077392578,-2.980090379714966,14.608414649963379,20.772966384887695,-21.478517532348633,-20.74565315246582,-17.796573638916016,-3.967796802520752,-16.513574600219727,-31.70157814025879,-13.262110710144043,-32.001792907714844,-3.999769687652588,14.149580955505371,10.772025108337402,7.058115482330322,35.196468353271484,32.953460693359375,17.590635299682617,3.77177095413208,10.371034622192383,-21.626678466796875,-12.455405235290527,-1.6084882020950317,-7.236081123352051,-1.999814748764038,10.214668273925781,34.02926254272461,21.595462799072266,23.40732765197754,10.758211135864258,-9.51047420501709,25.274438858032227,-13.4695463180542,28.21736717224121,-39.02165985107422,-6.789845943450928,-28.334726333618164,-20.235843658447266,-20.693113327026367,-8.746711730957031,-5.811519622802734,-20.172821044921875,-4.584345817565918,-22.07670783996582,-37.43998336791992,-6.813558101654053,6.935413837432861,-10.043085098266602,-5.646213531494141,1.667831301689148,1.0056260824203491,0.26586484909057617,0.15839846432209015,-9.136423110961914,-5.171574115753174,18.000497817993164,-12.444589614868164,8.554655075073242,-3.4321205615997314,-15.830852508544922,-6.401169300079346,-24.426546096801758,-18.215301513671875,18.054967880249023,-16.399898529052734,0.7205376625061035,-17.340696334838867,9.41147518157959,-4.776053428649902,29.652311325073242,1.6293082237243652,17.3437557220459,20.138017654418945,8.521963119506836,29.85488510131836,29.517925262451172,19.816545486450195,15.079593658447266,10.682172775268555,-16.53282356262207,21.37468910217285,-1.7421718835830688,4.511510848999023,-13.196455001831055,15.06891918182373,-23.386022567749023,-21.47149658203125,12.963861465454102,14.339353561401367,11.810063362121582,-14.0707426071167,25.47574806213379,18.24822425842285,4.972047328948975,-31.493263244628906,-26.43018913269043,-25.255281448364258,-8.470989227294922,3.675931453704834,-19.696821212768555,12.7246732711792,-22.557449340820312,-19.172504425048828,-18.67559051513672,25.29152488708496,5.3577680587768555,22.870807647705078,4.38420295715332,23.365121841430664,-26.640892028808594,16.071107864379883,-19.510974884033203,-3.867999792098999,32.090087890625,1.7084243297576904,8.139240264892578,10.37442684173584,10.302273750305176,22.091102600097656,2.6481757164001465,16.85002326965332,5.509693145751953,8.344834327697754,28.734756469726562,12.860088348388672,-0.47371336817741394,-7.5622148513793945,6.772464752197266,19.34747314453125,3.601405620574951,4.729613780975342,0.8539471626281738,22.097230911254883,7.995967388153076,-23.873960494995117,18.76561164855957,32.427764892578125,9.676775932312012,14.210187911987305,2.6714653968811035,1.847080945968628,1.434365153312683,-0.7904320359230042,-1.3480592966079712,23.88772964477539,-3.091149091720581,-14.60125732421875,0.8162307143211365,9.9647216796875,16.421335220336914,19.485692977905273,20.021621704101562,-6.163368225097656,-40.74230194091797,20.352418899536133,22.128128051757812,17.444210052490234,19.201875686645508,-12.12366008758545,6.109768390655518,17.207813262939453,25.404985427856445,-53.87592697143555,15.170513153076172,-12.232298851013184,21.57034683227539,19.19450569152832,2.937971591949463,23.86280632019043,-31.8221378326416,-14.451889038085938,-17.730079650878906,-24.54251480102539,3.005495548248291,2.121913194656372,-0.8175312876701355,16.42020606994629,11.531338691711426,5.440168380737305,2.6281046867370605,-20.681884765625,0.07289348542690277,22.660741806030273,25.916128158569336,-21.605175018310547,-19.964365005493164,-23.694581985473633,-11.08530044555664,-30.55206871032715,-19.550756454467773,-23.149084091186523,2.587991237640381,-23.20661735534668,11.068571090698242,20.17609977722168,-0.11250410228967667,0.7144548892974854,-4.022115707397461,26.445791244506836,0.9065676927566528,22.081697463989258,25.621566772460938,17.418922424316406,4.734958648681641,20.59408950805664,11.033122062683105,-16.425487518310547,22.504844665527344,-52.905635833740234,11.541913032531738,12.802328109741211,17.03339385986328,-18.05437660217285,-19.083751678466797,-18.806888580322266,-19.4571590423584,-23.811330795288086,-11.685791015625,8.605323791503906,-15.878377914428711,-11.995019912719727,-24.970643997192383,-31.659334182739258,17.22642707824707,-7.929707050323486,-12.47990608215332,-14.288542747497559,0.27963629364967346,-12.445747375488281,7.7532124519348145,8.674108505249023,-2.6149706840515137,-20.22273063659668,3.1587166786193848,-18.43470001220703,-15.753866195678711,-23.518537521362305,-30.755891799926758,-17.07819175720215,4.378342628479004,4.222205638885498,18.49747085571289,8.22821044921875,-52.01543045043945,7.033660888671875,-5.231980800628662,-10.417924880981445,29.279327392578125,23.181398391723633,-12.79310131072998,-9.363579750061035,-16.3873233795166,19.34170150756836,-24.11587905883789,-18.843748092651367,-0.23801328241825104,-4.675943374633789,-37.84699630737305,26.536462783813477,30.854421615600586,-4.149524688720703,-22.548954010009766,6.108938694000244,2.712548017501831,-23.24512481689453,-15.660619735717773,14.518335342407227,-20.883237838745117,14.688711166381836,0.07764450460672379,16.469709396362305,4.986507415771484,3.657280206680298,26.214641571044922,13.266369819641113,4.181633949279785,0.5745816826820374,-10.435094833374023,-22.601816177368164,16.22085952758789,-20.462352752685547,-30.294527053833008,2.030970573425293,-7.453151226043701,6.5624847412109375,7.941819190979004,-22.096149444580078,16.160762786865234,14.876327514648438,8.921581268310547,-13.072190284729004,-2.739729642868042,0.4106341600418091,22.33919334411621,-34.1922607421875,6.486754894256592,-17.636056900024414,-53.4493293762207,-12.488078117370605,-25.933549880981445,28.343297958374023,-10.094111442565918,-2.696329355239868,7.319418430328369,-2.909367799758911,20.819255828857422,25.275590896606445,-21.27785301208496,-1.8690437078475952,26.49326515197754,-16.470703125,-54.31920623779297,-17.14144515991211,3.1913392543792725,-21.043821334838867,-38.114112854003906,-51.71354293823242,2.2757341861724854,-19.621692657470703,3.5985589027404785,14.09546184539795,-19.41004753112793,7.528627872467041,6.287281036376953,-32.81095886230469,-19.73200225830078,1.9829308986663818,-32.784725189208984,-15.663556098937988,11.524211883544922,18.113481521606445,-15.763273239135742,-32.26707077026367,9.632928848266602,-20.76739501953125,14.695302963256836,-53.899845123291016,4.761607646942139,19.001150131225586,-16.993560791015625,9.851898193359375,-33.14805603027344,-17.730209350585938,-30.069747924804688,-23.77179718017578,-16.493457794189453,-33.6599235534668,-33.674015045166016,-33.193058013916016,7.8121538162231445,-33.53929901123047,25.81151580810547,-6.726969242095947,7.6062703132629395,4.477662563323975,-33.844268798828125,-53.469303131103516,-33.459129333496094,5.7721452713012695,-32.56479263305664,17.994579315185547,-32.82562255859375,-8.828713417053223,5.409305572509766,-31.145112991333008,8.063899040222168,-36.105003356933594,-20.18842887878418,21.7506160736084,-32.99620819091797,-32.26025390625,-53.365440368652344,-26.1546573638916,-32.94694137573242,25.658985137939453,14.572525024414062,8.941385269165039,8.460460662841797,-28.399442672729492,21.24407196044922,-32.045841217041016,-33.57795333862305,22.16082763671875,-29.448511123657227,18.394207000732422,8.884750366210938,13.813480377197266,6.161052227020264,25.39946746826172,26.628009796142578,-24.436824798583984,-38.942508697509766,26.286029815673828,-36.519535064697266,-6.225315093994141,24.901426315307617,-6.4521355628967285,-5.9177632331848145,-5.710071086883545,-17.846660614013672,-18.40000343322754,22.976551055908203,10.442840576171875,19.32530403137207,20.61180877685547,18.29351234436035,12.35051441192627,4.778976917266846,7.792631149291992,-18.679506301879883,3.5253183841705322,21.063270568847656,28.96702766418457,3.4673218727111816,-20.898757934570312,-35.68878936767578,-3.343454360961914,-6.823002815246582,13.145614624023438,-28.23736000061035,-7.57781982421875,-17.84922981262207,-24.173419952392578,-21.977052688598633,-16.61566162109375,6.545656204223633,-19.53229522705078,-36.10036087036133,-0.6030712127685547,-14.016765594482422,-19.669326782226562,18.041793823242188,18.106510162353516,26.592697143554688,-18.124908447265625,22.821800231933594,6.279241561889648,1.9091877937316895,7.545471668243408,-21.57843780517578,6.835810661315918,13.143309593200684,-17.490461349487305,2.584083080291748,-17.570859909057617,15.797048568725586,1.7570996284484863,-3.1798298358917236,-3.231525182723999,-21.970096588134766,-0.504558265209198,-11.668429374694824,11.962882041931152,-16.534950256347656,8.450623512268066,-54.164573669433594,25.384244918823242,8.406927108764648,27.482189178466797,9.769327163696289,-52.71224594116211,11.957330703735352,3.3935546875,15.796607971191406,8.429948806762695,10.09386157989502,8.428443908691406,-54.48740005493164,2.664189577102661,22.54792022705078,-23.234893798828125,18.682483673095703,-20.073123931884766,29.259552001953125,22.796916961669922,1.5271247625350952,-5.25419807434082,-23.593536376953125,-7.099180698394775,-55.864540100097656,5.11464262008667,13.898324966430664,16.832931518554688,-55.46514129638672,-5.276610851287842,2.7031378746032715,-18.470653533935547,-21.82619285583496,-16.71870231628418,8.790336608886719,-3.1550095081329346,3.300640106201172,7.511363506317139,-37.96292495727539,16.215105056762695,10.621495246887207,-20.70952033996582,-17.15004539489746,-51.95187759399414,-15.696168899536133,-53.184486389160156,-37.211952209472656,7.137714862823486,-31.713098526000977,-28.942827224731445,-16.34393310546875,22.18600082397461,6.511425495147705,7.026858806610107,-36.81507110595703,2.28987455368042,5.649202346801758,-54.55986785888672,18.211490631103516,16.040149688720703,-6.5089521408081055,-28.354156494140625,-18.369083404541016,24.360612869262695,25.41451072692871,-19.008747100830078,15.785282135009766,-1.1736929416656494,6.170458793640137,-10.550354957580566,-6.254902362823486,-11.537789344787598,-22.016769409179688,1.7417962551116943,-20.649890899658203,16.11146354675293,26.968233108520508,20.052165985107422,-52.94180679321289,-40.146148681640625,15.261489868164062,13.932074546813965,-22.551799774169922,2.4404146671295166,2.226346969604492,21.208126068115234,-20.91327476501465,12.770540237426758,21.578384399414062,26.47951316833496,13.850818634033203,-20.606849670410156,-17.449010848999023,17.24685287475586,-8.596685409545898,-54.45313262939453,1.5468263626098633,4.258393287658691,-39.07883834838867,-54.62495422363281,-38.31706619262695,-38.9217643737793,-33.37633514404297,-54.9987678527832,9.05546760559082,-15.314497947692871,-33.4092903137207,19.789749145507812,1.7602709531784058,-38.395965576171875,13.046370506286621,-39.43787384033203,21.862728118896484,-38.1377067565918,-38.76530838012695,-39.732200622558594,-53.95951843261719,-37.849491119384766,-53.57653045654297,-55.26800537109375,-39.82516860961914,-37.7298469543457,-54.806243896484375,-38.59769058227539,-38.62514114379883,-38.038089752197266,-37.67180633544922,-39.79701614379883,-38.89950180053711,-38.616455078125,5.129334449768066,-38.50004577636719,-38.01327133178711,-52.76871871948242,-37.974369049072266,-55.78492736816406,-53.29945755004883,6.012791633605957,-39.47001266479492,-38.9769401550293,-6.977450847625732,10.858430862426758,-6.211260795593262,27.79439353942871,24.402708053588867,-55.58549118041992,-0.03463657200336456,-55.85335159301758,-20.08086395263672,11.341670989990234,-23.000606536865234,15.330205917358398,7.533777236938477,-28.868804931640625,17.21146011352539,-54.50578689575195,2.2702643871307373,-1.1855573654174805,-21.25074005126953,20.594215393066406,-24.577550888061523,-37.18770217895508,-16.5153751373291,16.04938316345215,23.894065856933594,-6.6614885330200195,-51.65278244018555,-14.187044143676758,-52.9750862121582,29.091794967651367,-51.374168395996094,-2.1148505210876465,-6.248054504394531,-37.78083419799805,10.281957626342773,12.64704418182373,-19.64517593383789,6.578791618347168,-36.876121520996094,8.05870246887207,29.72011947631836,18.563312530517578,5.1255974769592285,-19.350460052490234,4.744054317474365,5.296773433685303,2.5400846004486084,5.022480010986328,-56.306846618652344,5.230803966522217,-55.1055793762207,5.846959590911865,4.856276512145996,-55.78105163574219,29.772123336791992,8.973689079284668,-52.71411895751953,-54.411964416503906,24.731294631958008,4.787015438079834,-56.400672912597656,4.7049126625061035,-52.65114212036133,-53.424774169921875,-17.61518669128418,-52.94308090209961,-55.45585250854492,-52.72992706298828,-18.635408401489258,-17.730403900146484,16.3067684173584,-36.56383514404297,-28.940494537353516,-37.14665985107422,-24.943344116210938,-21.04559326171875,10.396105766296387,-53.305885314941406,-22.321680068969727,-6.870443344116211,-6.483340263366699,-21.822343826293945,-6.703004360198975,-37.609649658203125,-18.803783416748047,-18.240266799926758,26.069602966308594,-54.87410354614258,-26.85680389404297,15.434885025024414,-37.072120666503906,-9.852507591247559,-21.615102767944336,-18.663869857788086,8.841737747192383],\"yaxis\":\"y\",\"type\":\"scattergl\"}],                        {\"template\":{\"data\":{\"bar\":[{\"error_x\":{\"color\":\"#2a3f5f\"},\"error_y\":{\"color\":\"#2a3f5f\"},\"marker\":{\"line\":{\"color\":\"#E5ECF6\",\"width\":0.5},\"pattern\":{\"fillmode\":\"overlay\",\"size\":10,\"solidity\":0.2}},\"type\":\"bar\"}],\"barpolar\":[{\"marker\":{\"line\":{\"color\":\"#E5ECF6\",\"width\":0.5},\"pattern\":{\"fillmode\":\"overlay\",\"size\":10,\"solidity\":0.2}},\"type\":\"barpolar\"}],\"carpet\":[{\"aaxis\":{\"endlinecolor\":\"#2a3f5f\",\"gridcolor\":\"white\",\"linecolor\":\"white\",\"minorgridcolor\":\"white\",\"startlinecolor\":\"#2a3f5f\"},\"baxis\":{\"endlinecolor\":\"#2a3f5f\",\"gridcolor\":\"white\",\"linecolor\":\"white\",\"minorgridcolor\":\"white\",\"startlinecolor\":\"#2a3f5f\"},\"type\":\"carpet\"}],\"choropleth\":[{\"colorbar\":{\"outlinewidth\":0,\"ticks\":\"\"},\"type\":\"choropleth\"}],\"contour\":[{\"colorbar\":{\"outlinewidth\":0,\"ticks\":\"\"},\"colorscale\":[[0.0,\"#0d0887\"],[0.1111111111111111,\"#46039f\"],[0.2222222222222222,\"#7201a8\"],[0.3333333333333333,\"#9c179e\"],[0.4444444444444444,\"#bd3786\"],[0.5555555555555556,\"#d8576b\"],[0.6666666666666666,\"#ed7953\"],[0.7777777777777778,\"#fb9f3a\"],[0.8888888888888888,\"#fdca26\"],[1.0,\"#f0f921\"]],\"type\":\"contour\"}],\"contourcarpet\":[{\"colorbar\":{\"outlinewidth\":0,\"ticks\":\"\"},\"type\":\"contourcarpet\"}],\"heatmap\":[{\"colorbar\":{\"outlinewidth\":0,\"ticks\":\"\"},\"colorscale\":[[0.0,\"#0d0887\"],[0.1111111111111111,\"#46039f\"],[0.2222222222222222,\"#7201a8\"],[0.3333333333333333,\"#9c179e\"],[0.4444444444444444,\"#bd3786\"],[0.5555555555555556,\"#d8576b\"],[0.6666666666666666,\"#ed7953\"],[0.7777777777777778,\"#fb9f3a\"],[0.8888888888888888,\"#fdca26\"],[1.0,\"#f0f921\"]],\"type\":\"heatmap\"}],\"heatmapgl\":[{\"colorbar\":{\"outlinewidth\":0,\"ticks\":\"\"},\"colorscale\":[[0.0,\"#0d0887\"],[0.1111111111111111,\"#46039f\"],[0.2222222222222222,\"#7201a8\"],[0.3333333333333333,\"#9c179e\"],[0.4444444444444444,\"#bd3786\"],[0.5555555555555556,\"#d8576b\"],[0.6666666666666666,\"#ed7953\"],[0.7777777777777778,\"#fb9f3a\"],[0.8888888888888888,\"#fdca26\"],[1.0,\"#f0f921\"]],\"type\":\"heatmapgl\"}],\"histogram\":[{\"marker\":{\"pattern\":{\"fillmode\":\"overlay\",\"size\":10,\"solidity\":0.2}},\"type\":\"histogram\"}],\"histogram2d\":[{\"colorbar\":{\"outlinewidth\":0,\"ticks\":\"\"},\"colorscale\":[[0.0,\"#0d0887\"],[0.1111111111111111,\"#46039f\"],[0.2222222222222222,\"#7201a8\"],[0.3333333333333333,\"#9c179e\"],[0.4444444444444444,\"#bd3786\"],[0.5555555555555556,\"#d8576b\"],[0.6666666666666666,\"#ed7953\"],[0.7777777777777778,\"#fb9f3a\"],[0.8888888888888888,\"#fdca26\"],[1.0,\"#f0f921\"]],\"type\":\"histogram2d\"}],\"histogram2dcontour\":[{\"colorbar\":{\"outlinewidth\":0,\"ticks\":\"\"},\"colorscale\":[[0.0,\"#0d0887\"],[0.1111111111111111,\"#46039f\"],[0.2222222222222222,\"#7201a8\"],[0.3333333333333333,\"#9c179e\"],[0.4444444444444444,\"#bd3786\"],[0.5555555555555556,\"#d8576b\"],[0.6666666666666666,\"#ed7953\"],[0.7777777777777778,\"#fb9f3a\"],[0.8888888888888888,\"#fdca26\"],[1.0,\"#f0f921\"]],\"type\":\"histogram2dcontour\"}],\"mesh3d\":[{\"colorbar\":{\"outlinewidth\":0,\"ticks\":\"\"},\"type\":\"mesh3d\"}],\"parcoords\":[{\"line\":{\"colorbar\":{\"outlinewidth\":0,\"ticks\":\"\"}},\"type\":\"parcoords\"}],\"pie\":[{\"automargin\":true,\"type\":\"pie\"}],\"scatter\":[{\"marker\":{\"colorbar\":{\"outlinewidth\":0,\"ticks\":\"\"}},\"type\":\"scatter\"}],\"scatter3d\":[{\"line\":{\"colorbar\":{\"outlinewidth\":0,\"ticks\":\"\"}},\"marker\":{\"colorbar\":{\"outlinewidth\":0,\"ticks\":\"\"}},\"type\":\"scatter3d\"}],\"scattercarpet\":[{\"marker\":{\"colorbar\":{\"outlinewidth\":0,\"ticks\":\"\"}},\"type\":\"scattercarpet\"}],\"scattergeo\":[{\"marker\":{\"colorbar\":{\"outlinewidth\":0,\"ticks\":\"\"}},\"type\":\"scattergeo\"}],\"scattergl\":[{\"marker\":{\"colorbar\":{\"outlinewidth\":0,\"ticks\":\"\"}},\"type\":\"scattergl\"}],\"scattermapbox\":[{\"marker\":{\"colorbar\":{\"outlinewidth\":0,\"ticks\":\"\"}},\"type\":\"scattermapbox\"}],\"scatterpolar\":[{\"marker\":{\"colorbar\":{\"outlinewidth\":0,\"ticks\":\"\"}},\"type\":\"scatterpolar\"}],\"scatterpolargl\":[{\"marker\":{\"colorbar\":{\"outlinewidth\":0,\"ticks\":\"\"}},\"type\":\"scatterpolargl\"}],\"scatterternary\":[{\"marker\":{\"colorbar\":{\"outlinewidth\":0,\"ticks\":\"\"}},\"type\":\"scatterternary\"}],\"surface\":[{\"colorbar\":{\"outlinewidth\":0,\"ticks\":\"\"},\"colorscale\":[[0.0,\"#0d0887\"],[0.1111111111111111,\"#46039f\"],[0.2222222222222222,\"#7201a8\"],[0.3333333333333333,\"#9c179e\"],[0.4444444444444444,\"#bd3786\"],[0.5555555555555556,\"#d8576b\"],[0.6666666666666666,\"#ed7953\"],[0.7777777777777778,\"#fb9f3a\"],[0.8888888888888888,\"#fdca26\"],[1.0,\"#f0f921\"]],\"type\":\"surface\"}],\"table\":[{\"cells\":{\"fill\":{\"color\":\"#EBF0F8\"},\"line\":{\"color\":\"white\"}},\"header\":{\"fill\":{\"color\":\"#C8D4E3\"},\"line\":{\"color\":\"white\"}},\"type\":\"table\"}]},\"layout\":{\"annotationdefaults\":{\"arrowcolor\":\"#2a3f5f\",\"arrowhead\":0,\"arrowwidth\":1},\"autotypenumbers\":\"strict\",\"coloraxis\":{\"colorbar\":{\"outlinewidth\":0,\"ticks\":\"\"}},\"colorscale\":{\"diverging\":[[0,\"#8e0152\"],[0.1,\"#c51b7d\"],[0.2,\"#de77ae\"],[0.3,\"#f1b6da\"],[0.4,\"#fde0ef\"],[0.5,\"#f7f7f7\"],[0.6,\"#e6f5d0\"],[0.7,\"#b8e186\"],[0.8,\"#7fbc41\"],[0.9,\"#4d9221\"],[1,\"#276419\"]],\"sequential\":[[0.0,\"#0d0887\"],[0.1111111111111111,\"#46039f\"],[0.2222222222222222,\"#7201a8\"],[0.3333333333333333,\"#9c179e\"],[0.4444444444444444,\"#bd3786\"],[0.5555555555555556,\"#d8576b\"],[0.6666666666666666,\"#ed7953\"],[0.7777777777777778,\"#fb9f3a\"],[0.8888888888888888,\"#fdca26\"],[1.0,\"#f0f921\"]],\"sequentialminus\":[[0.0,\"#0d0887\"],[0.1111111111111111,\"#46039f\"],[0.2222222222222222,\"#7201a8\"],[0.3333333333333333,\"#9c179e\"],[0.4444444444444444,\"#bd3786\"],[0.5555555555555556,\"#d8576b\"],[0.6666666666666666,\"#ed7953\"],[0.7777777777777778,\"#fb9f3a\"],[0.8888888888888888,\"#fdca26\"],[1.0,\"#f0f921\"]]},\"colorway\":[\"#636efa\",\"#EF553B\",\"#00cc96\",\"#ab63fa\",\"#FFA15A\",\"#19d3f3\",\"#FF6692\",\"#B6E880\",\"#FF97FF\",\"#FECB52\"],\"font\":{\"color\":\"#2a3f5f\"},\"geo\":{\"bgcolor\":\"white\",\"lakecolor\":\"white\",\"landcolor\":\"#E5ECF6\",\"showlakes\":true,\"showland\":true,\"subunitcolor\":\"white\"},\"hoverlabel\":{\"align\":\"left\"},\"hovermode\":\"closest\",\"mapbox\":{\"style\":\"light\"},\"paper_bgcolor\":\"white\",\"plot_bgcolor\":\"#E5ECF6\",\"polar\":{\"angularaxis\":{\"gridcolor\":\"white\",\"linecolor\":\"white\",\"ticks\":\"\"},\"bgcolor\":\"#E5ECF6\",\"radialaxis\":{\"gridcolor\":\"white\",\"linecolor\":\"white\",\"ticks\":\"\"}},\"scene\":{\"xaxis\":{\"backgroundcolor\":\"#E5ECF6\",\"gridcolor\":\"white\",\"gridwidth\":2,\"linecolor\":\"white\",\"showbackground\":true,\"ticks\":\"\",\"zerolinecolor\":\"white\"},\"yaxis\":{\"backgroundcolor\":\"#E5ECF6\",\"gridcolor\":\"white\",\"gridwidth\":2,\"linecolor\":\"white\",\"showbackground\":true,\"ticks\":\"\",\"zerolinecolor\":\"white\"},\"zaxis\":{\"backgroundcolor\":\"#E5ECF6\",\"gridcolor\":\"white\",\"gridwidth\":2,\"linecolor\":\"white\",\"showbackground\":true,\"ticks\":\"\",\"zerolinecolor\":\"white\"}},\"shapedefaults\":{\"line\":{\"color\":\"#2a3f5f\"}},\"ternary\":{\"aaxis\":{\"gridcolor\":\"white\",\"linecolor\":\"white\",\"ticks\":\"\"},\"baxis\":{\"gridcolor\":\"white\",\"linecolor\":\"white\",\"ticks\":\"\"},\"bgcolor\":\"#E5ECF6\",\"caxis\":{\"gridcolor\":\"white\",\"linecolor\":\"white\",\"ticks\":\"\"}},\"title\":{\"x\":0.05},\"xaxis\":{\"automargin\":true,\"gridcolor\":\"white\",\"linecolor\":\"white\",\"ticks\":\"\",\"title\":{\"standoff\":15},\"zerolinecolor\":\"white\",\"zerolinewidth\":2},\"yaxis\":{\"automargin\":true,\"gridcolor\":\"white\",\"linecolor\":\"white\",\"ticks\":\"\",\"title\":{\"standoff\":15},\"zerolinecolor\":\"white\",\"zerolinewidth\":2}}},\"xaxis\":{\"anchor\":\"y\",\"domain\":[0.0,1.0],\"title\":{\"text\":\"tsne_1\"}},\"yaxis\":{\"anchor\":\"x\",\"domain\":[0.0,1.0],\"title\":{\"text\":\"tsne_2\"}},\"coloraxis\":{\"colorbar\":{\"title\":{\"text\":\"popularity\"}},\"colorscale\":[[0.0,\"#0d0887\"],[0.1111111111111111,\"#46039f\"],[0.2222222222222222,\"#7201a8\"],[0.3333333333333333,\"#9c179e\"],[0.4444444444444444,\"#bd3786\"],[0.5555555555555556,\"#d8576b\"],[0.6666666666666666,\"#ed7953\"],[0.7777777777777778,\"#fb9f3a\"],[0.8888888888888888,\"#fdca26\"],[1.0,\"#f0f921\"]]},\"legend\":{\"tracegroupgap\":0},\"margin\":{\"t\":60}},                        {\"responsive\": true}                    ).then(function(){\n",
       "                            \n",
       "var gd = document.getElementById('9a7ee263-7cc8-42eb-87b5-d4280760caf9');\n",
       "var x = new MutationObserver(function (mutations, observer) {{\n",
       "        var display = window.getComputedStyle(gd).display;\n",
       "        if (!display || display === 'none') {{\n",
       "            console.log([gd, 'removed!']);\n",
       "            Plotly.purge(gd);\n",
       "            observer.disconnect();\n",
       "        }}\n",
       "}});\n",
       "\n",
       "// Listen for the removal of the full notebook cells\n",
       "var notebookContainer = gd.closest('#notebook-container');\n",
       "if (notebookContainer) {{\n",
       "    x.observe(notebookContainer, {childList: true});\n",
       "}}\n",
       "\n",
       "// Listen for the clearing of the current output cell\n",
       "var outputEl = gd.closest('.output');\n",
       "if (outputEl) {{\n",
       "    x.observe(outputEl, {childList: true});\n",
       "}}\n",
       "\n",
       "                        })                };                });            </script>        </div>"
      ]
     },
     "metadata": {},
     "output_type": "display_data"
    }
   ],
   "source": [
    "import plotly.express as px\n",
    "\n",
    "tsne_df = pd.DataFrame(item_tsne, columns=[\"tsne_1\", \"tsne_2\"])\n",
    "tsne_df[\"item_id\"] = np.arange(item_tsne.shape[0])\n",
    "tsne_df = tsne_df.merge(items.reset_index())\n",
    "\n",
    "px.scatter(tsne_df, x=\"tsne_1\", y=\"tsne_2\",\n",
    "           color=\"popularity\",\n",
    "           hover_data=[\"item_id\", \"title\",\n",
    "                       \"release_year\", \"popularity\"])"
   ]
  },
  {
   "cell_type": "markdown",
   "metadata": {},
   "source": [
    "Alternatively with [Uniform Manifold Approximation and Projection](https://github.com/lmcinnes/umap):"
   ]
  },
  {
   "cell_type": "code",
   "execution_count": null,
   "metadata": {},
   "outputs": [],
   "source": [
    "# %pip install umap-learn"
   ]
  },
  {
   "cell_type": "code",
   "execution_count": 75,
   "metadata": {},
   "outputs": [
    {
     "data": {
      "image/png": "[encoded data removed]",
      "text/plain": [
       "<Figure size 720x720 with 1 Axes>"
      ]
     },
     "metadata": {},
     "output_type": "display_data"
    }
   ],
   "source": [
    "import umap\n",
    "\n",
    "item_umap = umap.UMAP().fit_transform(item_embeddings)\n",
    "plt.figure(figsize=(10, 10))\n",
    "plt.scatter(item_umap[:, 0], item_umap[:, 1]);\n",
    "plt.xticks(()); plt.yticks(());\n",
    "plt.show()"
   ]
  },
  {
   "cell_type": "markdown",
   "metadata": {},
   "source": [
    "## A Deep recommender model\n",
    "\n",
    "Using a similar framework as previously, the following deep model described in the course was built (with only two fully connected)\n",
    "\n",
    "<img src=\"images/rec_archi_2.svg\" style=\"width: 600px;\" />\n",
    "\n",
    "To build this model we will need a new kind of layer:"
   ]
  },
  {
   "cell_type": "code",
   "execution_count": 76,
   "metadata": {},
   "outputs": [],
   "source": [
    "from tensorflow.keras.layers import Concatenate"
   ]
  },
  {
   "cell_type": "markdown",
   "metadata": {},
   "source": [
    "\n",
    "### Exercise\n",
    "\n",
    "- The following code has **4 errors** that prevent it from working correctly. **Correct them and explain** why they are critical."
   ]
  },
  {
   "cell_type": "code",
   "execution_count": 80,
   "metadata": {},
   "outputs": [],
   "source": [
    "class DeepRegressionModel(Model):\n",
    "\n",
    "    def __init__(self, embedding_size, max_user_id, max_item_id):\n",
    "        super().__init__()\n",
    "        \n",
    "        self.user_embedding = Embedding(output_dim=embedding_size,\n",
    "                                        input_dim=max_user_id + 1,\n",
    "                                        input_length=1,\n",
    "                                        name='user_embedding')\n",
    "        self.item_embedding = Embedding(output_dim=embedding_size,\n",
    "                                        input_dim=max_item_id + 1,\n",
    "                                        input_length=1,\n",
    "                                        name='item_embedding')\n",
    "        \n",
    "        # The following two layers don't have parameters.\n",
    "        self.flatten = Flatten()\n",
    "        self.concat = Concatenate()\n",
    "        \n",
    "        # self.dropout = Dropout(0.99)               # One error! too much dropped\n",
    "        self.dropout = Dropout(0.3)               # One error! too much dropped\n",
    "        self.dense1 = Dense(64, activation=\"relu\")\n",
    "        self.dense2 = Dense(1)\n",
    "        # self.dense2 = Dense(2, activation=\"tanh\")  # Error three! the output layer should be of size 1\n",
    "                                                   # Error four! regression--> no activation\n",
    "    def call(self, inputs, training=False):\n",
    "        user_inputs = inputs[0]\n",
    "        item_inputs = inputs[1]\n",
    "        \n",
    "        user_vecs = self.flatten(self.user_embedding(user_inputs))\n",
    "        item_vecs = self.flatten(self.item_embedding(item_inputs))\n",
    "        \n",
    "        input_vecs = self.concat([user_vecs, item_vecs])\n",
    "        \n",
    "        y = self.dropout(input_vecs, training=training)\n",
    "        y = self.dense1(y)\n",
    "        y = self.dense2(y)\n",
    "        \n",
    "        return y\n",
    "        \n",
    "model = DeepRegressionModel(64, max_user_id, max_item_id)\n",
    "model.compile(optimizer='adam', loss='mse')\n",
    "# model.compile(optimizer='adam', loss='binary_crossentropy') # Error two! we are doing a regression-->MSE or MAE as loss\n",
    "\n",
    "initial_train_preds = model.predict([user_id_train, item_id_train])"
   ]
  },
  {
   "cell_type": "code",
   "execution_count": 82,
   "metadata": {},
   "outputs": [],
   "source": [
    "# %load solutions/deep_explicit_feedback_recsys.py"
   ]
  },
  {
   "cell_type": "code",
   "execution_count": 81,
   "metadata": {},
   "outputs": [
    {
     "name": "stdout",
     "output_type": "stream",
     "text": [
      "Epoch 1/10\n",
      "1125/1125 [==============================] - 7s 5ms/step - loss: 1.7143 - val_loss: 0.9393\n",
      "Epoch 2/10\n",
      "1125/1125 [==============================] - 6s 5ms/step - loss: 0.9157 - val_loss: 0.9081\n",
      "Epoch 3/10\n",
      "1125/1125 [==============================] - 6s 5ms/step - loss: 0.8925 - val_loss: 0.8987\n",
      "Epoch 4/10\n",
      "1125/1125 [==============================] - 5s 5ms/step - loss: 0.8722 - val_loss: 0.8805\n",
      "Epoch 5/10\n",
      "1125/1125 [==============================] - 6s 5ms/step - loss: 0.8522 - val_loss: 0.8804\n",
      "Epoch 6/10\n",
      "1125/1125 [==============================] - 6s 5ms/step - loss: 0.8351 - val_loss: 0.8722\n",
      "Epoch 7/10\n",
      "1125/1125 [==============================] - 6s 5ms/step - loss: 0.8204 - val_loss: 0.8658\n",
      "Epoch 8/10\n",
      "1125/1125 [==============================] - 5s 5ms/step - loss: 0.8041 - val_loss: 0.8706\n",
      "Epoch 9/10\n",
      "1125/1125 [==============================] - 6s 5ms/step - loss: 0.7895 - val_loss: 0.8714\n",
      "Epoch 10/10\n",
      "1125/1125 [==============================] - 6s 5ms/step - loss: 0.7736 - val_loss: 0.8694\n",
      "Wall time: 57 s\n"
     ]
    }
   ],
   "source": [
    "%%time\n",
    "history = model.fit([user_id_train, item_id_train], rating_train,\n",
    "                    batch_size=64, epochs=10, validation_split=0.1,\n",
    "                    shuffle=True)"
   ]
  },
  {
   "cell_type": "code",
   "execution_count": 83,
   "metadata": {},
   "outputs": [
    {
     "data": {
      "image/png": "[encoded data removed]",
      "text/plain": [
       "<Figure size 432x288 with 1 Axes>"
      ]
     },
     "metadata": {
      "needs_background": "light"
     },
     "output_type": "display_data"
    }
   ],
   "source": [
    "plt.plot(history.history['loss'], label='train')\n",
    "plt.plot(history.history['val_loss'], label='validation')\n",
    "plt.ylim(0, 2)\n",
    "plt.legend(loc='best')\n",
    "plt.title('Loss');"
   ]
  },
  {
   "cell_type": "code",
   "execution_count": 84,
   "metadata": {},
   "outputs": [
    {
     "name": "stdout",
     "output_type": "stream",
     "text": [
      "Final train MSE: 0.723\n",
      "Final train MAE: 0.670\n"
     ]
    }
   ],
   "source": [
    "train_preds = model.predict([user_id_train, item_id_train])\n",
    "print(\"Final train MSE: %0.3f\" % mean_squared_error(train_preds, rating_train))\n",
    "print(\"Final train MAE: %0.3f\" % mean_absolute_error(train_preds, rating_train))"
   ]
  },
  {
   "cell_type": "code",
   "execution_count": 85,
   "metadata": {},
   "outputs": [
    {
     "name": "stdout",
     "output_type": "stream",
     "text": [
      "Final test MSE: 0.865\n",
      "Final test MAE: 0.734\n"
     ]
    }
   ],
   "source": [
    "test_preds = model.predict([user_id_test, item_id_test])\n",
    "print(\"Final test MSE: %0.3f\" % mean_squared_error(test_preds, rating_test))\n",
    "print(\"Final test MAE: %0.3f\" % mean_absolute_error(test_preds, rating_test))"
   ]
  },
  {
   "cell_type": "markdown",
   "metadata": {},
   "source": [
    "The performance of this model is not necessarily significantly better than the previous model but you can notice that the gap between train and test is lower, probably thanks to the use of dropout.\n",
    "\n",
    "Furthermore this model is more flexible in the sense that we can extend it to include metadata for hybrid recsys as we will see in the following."
   ]
  },
  {
   "cell_type": "markdown",
   "metadata": {},
   "source": [
    "### Home assignment: \n",
    " - Add another layer, compare train/test error.\n",
    " - Can you improve the test MAE? \n",
    " - Try adding more dropout and change layer sizes.\n",
    " \n",
    " \n",
    "Manual tuning of so many hyperparameters is tedious. In practice it's better to automate the design of the model using an hyperparameter search tool such as:\n",
    "\n",
    "- https://keras-team.github.io/keras-tuner/ (Keras specific)\n",
    "- https://optuna.org/ (any machine learning framework, Keras included)"
   ]
  },
  {
   "cell_type": "code",
   "execution_count": 94,
   "metadata": {},
   "outputs": [],
   "source": [
    "from tensorflow.keras.optimizers import Adam"
   ]
  },
  {
   "cell_type": "code",
   "execution_count": 111,
   "metadata": {},
   "outputs": [],
   "source": [
    "class VeryDeepRegressionModel(Model):\n",
    "\n",
    "    def __init__(self, embedding_size_user, embedding_size_item, max_user_id, max_item_id):\n",
    "        super().__init__()\n",
    "        \n",
    "        self.user_embedding = Embedding(output_dim=embedding_size_user,\n",
    "                                        input_dim=max_user_id + 1,\n",
    "                                        input_length=1,\n",
    "                                        name='user_embedding')\n",
    "        self.item_embedding = Embedding(output_dim=embedding_size_item,\n",
    "                                        input_dim=max_item_id + 1,\n",
    "                                        input_length=1,\n",
    "                                        name='item_embedding')\n",
    "        \n",
    "        # The following two layers don't have parameters.\n",
    "        self.flatten = Flatten()\n",
    "        self.concat = Concatenate()\n",
    "        \n",
    "        # self.dropout = Dropout(0.99)               # One error! too much dropped\n",
    "        self.dropout = Dropout(0.5)\n",
    "        self.dense1 = Dense(64, activation=\"relu\")\n",
    "        self.dense2 = Dense(16, activation=\"relu\")\n",
    "        self.dense3 = Dense(1)\n",
    "\n",
    "    def call(self, inputs, training=False):\n",
    "        user_inputs = inputs[0]\n",
    "        item_inputs = inputs[1]\n",
    "        \n",
    "        user_vecs = self.flatten(self.user_embedding(user_inputs))\n",
    "        item_vecs = self.flatten(self.item_embedding(item_inputs))\n",
    "        \n",
    "        input_vecs = self.concat([user_vecs, item_vecs])\n",
    "        \n",
    "        y = self.dropout(input_vecs, training=training)\n",
    "        y = self.dense1(y)\n",
    "        y = self.dense2(y)\n",
    "        y = self.dense3(y)\n",
    "        \n",
    "        return y\n",
    "       \n",
    "model = VeryDeepRegressionModel(64, 64, max_user_id, max_item_id)\n",
    "opt = Adam(learning_rate=3e-3)\n",
    "model.compile(optimizer=opt, loss='mae', )\n",
    "# model.compile(optimizer='adam', loss='binary_crossentropy') # Error two! we are doing a regression-->MSE or MAE as loss\n",
    "\n",
    "initial_train_preds = model.predict([user_id_train, item_id_train])"
   ]
  },
  {
   "cell_type": "code",
   "execution_count": 112,
   "metadata": {},
   "outputs": [
    {
     "name": "stdout",
     "output_type": "stream",
     "text": [
      "Wall time: 2min 32s\n"
     ]
    }
   ],
   "source": [
    "%%time\n",
    "history = model.fit([user_id_train, item_id_train], rating_train,\n",
    "                    batch_size=64, epochs=30, validation_split=0.1,\n",
    "                    shuffle=True, verbose=0,)"
   ]
  },
  {
   "cell_type": "code",
   "execution_count": 113,
   "metadata": {},
   "outputs": [
    {
     "name": "stdout",
     "output_type": "stream",
     "text": [
      "Final train MSE: 0.807\n",
      "Final train MAE: 0.628\n",
      "Final test MSE: 0.956\n",
      "Final test MAE: 0.713\n"
     ]
    },
    {
     "data": {
      "image/png": "[encoded data removed]",
      "text/plain": [
       "<Figure size 432x288 with 1 Axes>"
      ]
     },
     "metadata": {
      "needs_background": "light"
     },
     "output_type": "display_data"
    }
   ],
   "source": [
    "plt.plot(history.history['loss'], label='train')\n",
    "plt.plot(history.history['val_loss'], label='validation')\n",
    "plt.ylim(0, 2)\n",
    "plt.legend(loc='best')\n",
    "plt.title('Loss');\n",
    "train_preds = model.predict([user_id_train, item_id_train])\n",
    "print(\"Final train MSE: %0.3f\" % mean_squared_error(train_preds, rating_train))\n",
    "print(\"Final train MAE: %0.3f\" % mean_absolute_error(train_preds, rating_train))\n",
    "test_preds = model.predict([user_id_test, item_id_test])\n",
    "print(\"Final test MSE: %0.3f\" % mean_squared_error(test_preds, rating_test))\n",
    "print(\"Final test MAE: %0.3f\" % mean_absolute_error(test_preds, rating_test))"
   ]
  },
  {
   "cell_type": "markdown",
   "metadata": {},
   "source": [
    "## Using item metadata in the model\n",
    "\n",
    "Using a similar framework as previously, we will build another deep model that can also leverage additional metadata. The resulting system is therefore an **Hybrid Recommender System** that does both **Collaborative Filtering** and **Content-based recommendations**.\n",
    "\n",
    "<img src=\"images/rec_archi_3.svg\" style=\"width: 600px;\" />\n"
   ]
  },
  {
   "cell_type": "code",
   "execution_count": 114,
   "metadata": {},
   "outputs": [],
   "source": [
    "from sklearn.preprocessing import QuantileTransformer\n",
    "\n",
    "meta_columns = ['popularity', 'release_year']\n",
    "\n",
    "scaler = QuantileTransformer()\n",
    "item_meta_train = scaler.fit_transform(ratings_train[meta_columns])\n",
    "item_meta_test = scaler.transform(ratings_test[meta_columns])"
   ]
  },
  {
   "cell_type": "code",
   "execution_count": 115,
   "metadata": {},
   "outputs": [],
   "source": [
    "class HybridModel(Model):\n",
    "\n",
    "    def __init__(self, embedding_size, max_user_id, max_item_id):\n",
    "        super().__init__()\n",
    "        \n",
    "        self.user_embedding = Embedding(output_dim=embedding_size,\n",
    "                                        input_dim=max_user_id + 1,\n",
    "                                        input_length=1,\n",
    "                                        name='user_embedding')\n",
    "        self.item_embedding = Embedding(output_dim=embedding_size,\n",
    "                                        input_dim=max_item_id + 1,\n",
    "                                        input_length=1,\n",
    "                                        name='item_embedding')\n",
    "        \n",
    "        # The following two layers don't have parameters.\n",
    "        self.flatten = Flatten()\n",
    "        self.concat = Concatenate()\n",
    "        \n",
    "        self.dense1 = Dense(64, activation=\"relu\")\n",
    "        self.dropout = Dropout(0.3)\n",
    "        self.dense2 = Dense(64, activation='relu')\n",
    "        self.dense3 = Dense(1)\n",
    "        \n",
    "    def call(self, inputs, training=False):\n",
    "        user_inputs = inputs[0]\n",
    "        item_inputs = inputs[1]\n",
    "        meta_inputs = inputs[2]\n",
    "\n",
    "        user_vecs = self.flatten(self.user_embedding(user_inputs))\n",
    "        user_vecs = self.dropout(user_vecs, training=training)\n",
    "\n",
    "        item_vecs = self.flatten(self.item_embedding(item_inputs))\n",
    "        item_vecs = self.dropout(item_vecs, training=training)\n",
    "\n",
    "        input_vecs = self.concat([user_vecs, item_vecs, meta_inputs])\n",
    "\n",
    "        y = self.dense1(input_vecs)\n",
    "        y = self.dropout(y, training=training)\n",
    "        y = self.dense2(y)\n",
    "        y = self.dropout(y, training=training)\n",
    "        y = self.dense3(y)\n",
    "        return y\n",
    "        \n",
    "model = HybridModel(64, max_user_id, max_item_id)\n",
    "model.compile(optimizer='adam', loss='mae')\n",
    "\n",
    "initial_train_preds = model.predict([user_id_train,\n",
    "                                     item_id_train,\n",
    "                                     item_meta_train])"
   ]
  },
  {
   "cell_type": "code",
   "execution_count": 116,
   "metadata": {},
   "outputs": [
    {
     "name": "stdout",
     "output_type": "stream",
     "text": [
      "Epoch 1/10\n",
      "1125/1125 [==============================] - 9s 7ms/step - loss: 0.9833 - val_loss: 0.7563\n",
      "Epoch 2/10\n",
      "1125/1125 [==============================] - 8s 7ms/step - loss: 0.8367 - val_loss: 0.7569\n",
      "Epoch 3/10\n",
      "1125/1125 [==============================] - 7s 7ms/step - loss: 0.8070 - val_loss: 0.7519\n",
      "Epoch 4/10\n",
      "1125/1125 [==============================] - 7s 7ms/step - loss: 0.7869 - val_loss: 0.7443\n",
      "Epoch 5/10\n",
      "1125/1125 [==============================] - 8s 7ms/step - loss: 0.7685 - val_loss: 0.7435\n",
      "Epoch 6/10\n",
      "1125/1125 [==============================] - 8s 7ms/step - loss: 0.7582 - val_loss: 0.7375\n",
      "Epoch 7/10\n",
      "1125/1125 [==============================] - 7s 7ms/step - loss: 0.7459 - val_loss: 0.7285\n",
      "Epoch 8/10\n",
      "1125/1125 [==============================] - 7s 7ms/step - loss: 0.7331 - val_loss: 0.7247\n",
      "Epoch 9/10\n",
      "1125/1125 [==============================] - 8s 7ms/step - loss: 0.7212 - val_loss: 0.7245\n",
      "Epoch 10/10\n",
      "1125/1125 [==============================] - 8s 7ms/step - loss: 0.7134 - val_loss: 0.7241\n",
      "Wall time: 1min 16s\n"
     ]
    }
   ],
   "source": [
    "%%time\n",
    "history = model.fit([user_id_train, item_id_train, item_meta_train],\n",
    "                    rating_train,\n",
    "                    batch_size=64, epochs=10, validation_split=0.1,\n",
    "                    shuffle=True)"
   ]
  },
  {
   "cell_type": "code",
   "execution_count": 117,
   "metadata": {},
   "outputs": [
    {
     "name": "stdout",
     "output_type": "stream",
     "text": [
      "Final test MSE: 0.861\n",
      "Final test MAE: 0.723\n"
     ]
    }
   ],
   "source": [
    "test_preds = model.predict([user_id_test, item_id_test, item_meta_test])\n",
    "print(\"Final test MSE: %0.3f\" % mean_squared_error(test_preds, rating_test))\n",
    "print(\"Final test MAE: %0.3f\" % mean_absolute_error(test_preds, rating_test))"
   ]
  },
  {
   "cell_type": "markdown",
   "metadata": {},
   "source": [
    "The additional metadata seems to improve the predictive power of the model a bit but this should be re-run several times to see the impact of the random initialization of the model.\n",
    "\n",
    "\n",
    "### A recommendation function for a given user\n",
    "\n",
    "Once the model is trained, the system can be used to recommend a few items for a user, that he/she hasn't already seen:\n",
    "- we use the `model.predict` to compute the ratings a user would have given to all items\n",
    "- we build a reco function that sorts these items and exclude those the user has already seen"
   ]
  },
  {
   "cell_type": "code",
   "execution_count": 156,
   "metadata": {
    "scrolled": true
   },
   "outputs": [],
   "source": [
    "def recommend(user_id, top_n=10):\n",
    "    item_ids = range(1, max_item_id)\n",
    "    seen_mask = all_ratings[\"user_id\"] == user_id\n",
    "    seen_movies = set(all_ratings[seen_mask][\"item_id\"])\n",
    "    item_ids = list(filter(lambda x: x not in seen_movies, item_ids))\n",
    "\n",
    "    print(\"User %d has seen %d movies, including:\" % (user_id, len(seen_movies)))\n",
    "    for title in all_ratings[seen_mask].nlargest(20, 'popularity')['title']:\n",
    "        print(\"   \", title)\n",
    "    print(\"Computing ratings for %d other movies:\" % len(item_ids))\n",
    "    \n",
    "    item_ids = np.array(item_ids)\n",
    "    user_ids = user_id * np.ones_like(item_ids)\n",
    "    items_meta = scaler.transform(indexed_items[meta_columns].loc[item_ids])\n",
    "    \n",
    "    rating_preds = model.predict([user_ids, item_ids, items_meta])\n",
    "    \n",
    "    item_ids = np.argsort(rating_preds[:, 0])[::-1].tolist()\n",
    "    rec_items = item_ids[:top_n]\n",
    "    return [(items[\"title\"][movie], rating_preds[movie][0])\n",
    "            for movie in rec_items]"
   ]
  },
  {
   "cell_type": "code",
   "execution_count": 157,
   "metadata": {},
   "outputs": [
    {
     "name": "stdout",
     "output_type": "stream",
     "text": [
      "User 5 has seen 175 movies, including:\n",
      "    Star Wars (1977)\n",
      "    Fargo (1996)\n",
      "    Return of the Jedi (1983)\n",
      "    Toy Story (1995)\n",
      "    Independence Day (ID4) (1996)\n",
      "    Raiders of the Lost Ark (1981)\n",
      "    Silence of the Lambs, The (1991)\n",
      "    Empire Strikes Back, The (1980)\n",
      "    Star Trek: First Contact (1996)\n",
      "    Back to the Future (1985)\n",
      "    Mission: Impossible (1996)\n",
      "    Fugitive, The (1993)\n",
      "    Indiana Jones and the Last Crusade (1989)\n",
      "    Willy Wonka and the Chocolate Factory (1971)\n",
      "    Princess Bride, The (1987)\n",
      "    Forrest Gump (1994)\n",
      "    Monty Python and the Holy Grail (1974)\n",
      "    Men in Black (1997)\n",
      "    E.T. the Extra-Terrestrial (1982)\n",
      "    Birdcage, The (1996)\n",
      "Computing ratings for 1506 other movies:\n",
      "    1.0: Jaws (1975)\n",
      "    1.0: Free Willy (1993)\n",
      "    1.0: Cobb (1994)\n",
      "    1.0: Nénette et Boni (1996)\n",
      "    1.0: Endless Summer 2, The (1994)\n",
      "    1.0: Rocket Man (1997)\n",
      "    1.0: When We Were Kings (1996)\n",
      "    1.0: Designated Mourner, The (1997)\n",
      "    1.0: Girl in the Cadillac (1995)\n",
      "    1.0: Grace of My Heart (1996)\n"
     ]
    }
   ],
   "source": [
    "for title, pred_rating in recommend(5):\n",
    "    print(\"    %0.1f: %s\" % (pred_rating, title))"
   ]
  },
  {
   "cell_type": "markdown",
   "metadata": {},
   "source": [
    "### Home assignment: Predicting ratings as a classification problem\n",
    "\n",
    "In this dataset, the ratings all belong to a finite set of possible values:"
   ]
  },
  {
   "cell_type": "code",
   "execution_count": 122,
   "metadata": {},
   "outputs": [
    {
     "data": {
      "text/plain": [
       "array([1, 2, 3, 4, 5], dtype=int64)"
      ]
     },
     "execution_count": 122,
     "metadata": {},
     "output_type": "execute_result"
    }
   ],
   "source": [
    "np.unique(rating_train)"
   ]
  },
  {
   "cell_type": "code",
   "execution_count": 145,
   "metadata": {},
   "outputs": [],
   "source": [
    "from tensorflow.keras.layers import Softmax\n",
    "from tensorflow.keras.utils import to_categorical\n",
    "\n",
    "class ClassificationModel(Model):\n",
    "\n",
    "    def __init__(self, embedding_size, max_user_id, max_item_id):\n",
    "        super().__init__()\n",
    "        \n",
    "        self.user_embedding = Embedding(output_dim=embedding_size,\n",
    "                                        input_dim=max_user_id + 1,\n",
    "                                        input_length=1,\n",
    "                                        name='user_embedding')\n",
    "        self.item_embedding = Embedding(output_dim=embedding_size,\n",
    "                                        input_dim=max_item_id + 1,\n",
    "                                        input_length=1,\n",
    "                                        name='item_embedding')\n",
    "        \n",
    "        # The following two layers don't have parameters.\n",
    "        self.flatten = Flatten()\n",
    "        self.concat = Concatenate()\n",
    "        \n",
    "        self.dense1 = Dense(64, activation=\"relu\")\n",
    "        self.dropout = Dropout(0.3)\n",
    "        self.dense2 = Dense(64, activation='relu')\n",
    "        self.dense3 = Dense(5)\n",
    "        self.softmax = Softmax()\n",
    "        \n",
    "    def call(self, inputs, training=False):\n",
    "        user_inputs = inputs[0]\n",
    "        item_inputs = inputs[1]\n",
    "        meta_inputs = inputs[2]\n",
    "\n",
    "        user_vecs = self.flatten(self.user_embedding(user_inputs))\n",
    "        user_vecs = self.dropout(user_vecs, training=training)\n",
    "\n",
    "        item_vecs = self.flatten(self.item_embedding(item_inputs))\n",
    "        item_vecs = self.dropout(item_vecs, training=training)\n",
    "\n",
    "        input_vecs = self.concat([user_vecs, item_vecs, meta_inputs])\n",
    "\n",
    "        y = self.dense1(input_vecs)\n",
    "        y = self.dropout(y, training=training)\n",
    "        y = self.dense2(y)\n",
    "        y = self.dropout(y, training=training)\n",
    "        y = self.dense3(y)\n",
    "        y = self.softmax(y)\n",
    "        \n",
    "        return y\n",
    "        \n",
    "model = ClassificationModel(64, max_user_id, max_item_id)\n",
    "model.compile(optimizer='adam', loss='categorical_crossentropy')\n",
    "\n",
    "categorical_rating_train = to_categorical(rating_train)[:, 1:]\n",
    "categorical_rating_test = to_categorical(rating_test)[:, 1:]\n",
    "\n",
    "initial_train_preds = model.predict([user_id_train,\n",
    "                                     item_id_train,\n",
    "                                     item_meta_train])"
   ]
  },
  {
   "cell_type": "code",
   "execution_count": 146,
   "metadata": {},
   "outputs": [
    {
     "name": "stdout",
     "output_type": "stream",
     "text": [
      "Epoch 1/10\n",
      "1125/1125 [==============================] - 9s 7ms/step - loss: 1.3402 - val_loss: 1.2632\n",
      "Epoch 2/10\n",
      "1125/1125 [==============================] - 7s 6ms/step - loss: 1.2528 - val_loss: 1.2426\n",
      "Epoch 3/10\n",
      "1125/1125 [==============================] - 7s 6ms/step - loss: 1.2297 - val_loss: 1.2372\n",
      "Epoch 4/10\n",
      "1125/1125 [==============================] - 7s 6ms/step - loss: 1.2133 - val_loss: 1.2373\n",
      "Epoch 5/10\n",
      "1125/1125 [==============================] - 7s 6ms/step - loss: 1.2011 - val_loss: 1.2375\n",
      "Epoch 6/10\n",
      "1125/1125 [==============================] - 7s 6ms/step - loss: 1.1934 - val_loss: 1.2403\n",
      "Epoch 7/10\n",
      "1125/1125 [==============================] - 7s 6ms/step - loss: 1.1773 - val_loss: 1.2392\n",
      "Epoch 8/10\n",
      "1125/1125 [==============================] - 7s 6ms/step - loss: 1.1690 - val_loss: 1.2405\n",
      "Epoch 9/10\n",
      "1125/1125 [==============================] - 7s 6ms/step - loss: 1.1614 - val_loss: 1.2427\n",
      "Epoch 10/10\n",
      "1125/1125 [==============================] - 7s 6ms/step - loss: 1.1547 - val_loss: 1.2406\n",
      "Wall time: 1min 10s\n"
     ]
    }
   ],
   "source": [
    "%%time\n",
    "history = model.fit([user_id_train, item_id_train, item_meta_train],\n",
    "                    categorical_rating_train,\n",
    "                    batch_size=64, epochs=10, validation_split=0.1,\n",
    "                    shuffle=True)"
   ]
  },
  {
   "cell_type": "code",
   "execution_count": 159,
   "metadata": {},
   "outputs": [
    {
     "name": "stdout",
     "output_type": "stream",
     "text": [
      "Final train MSE: 0.955\n",
      "Final train MAE: 0.610\n",
      "Final test MSE: 1.156\n",
      "Final test MAE: 0.723\n"
     ]
    },
    {
     "data": {
      "image/png": "[encoded data removed]",
      "text/plain": [
       "<Figure size 432x288 with 1 Axes>"
      ]
     },
     "metadata": {
      "needs_background": "light"
     },
     "output_type": "display_data"
    }
   ],
   "source": [
    "plt.plot(history.history['loss'], label='train')\n",
    "plt.plot(history.history['val_loss'], label='validation')\n",
    "plt.ylim(0, 2)\n",
    "plt.legend(loc='best')\n",
    "plt.title('Loss');\n",
    "cat_train_preds = model.predict([user_id_train, item_id_train, item_meta_train])\n",
    "train_preds = np.argmax(cat_train_preds, axis=1)+1\n",
    "print(\"Final train MSE: %0.3f\" % mean_squared_error(train_preds, rating_train))\n",
    "print(\"Final train MAE: %0.3f\" % mean_absolute_error(train_preds, rating_train))\n",
    "cat_test_preds = model.predict([user_id_test, item_id_test, item_meta_test])\n",
    "test_preds = np.argmax(cat_test_preds, axis=1)+1\n",
    "print(\"Final test MSE: %0.3f\" % mean_squared_error(test_preds, rating_test))\n",
    "print(\"Final test MAE: %0.3f\" % mean_absolute_error(test_preds, rating_test))"
   ]
  },
  {
   "cell_type": "code",
   "execution_count": 168,
   "metadata": {},
   "outputs": [],
   "source": [
    "def recommend_class(user_id, top_n=10):\n",
    "    item_ids = range(1, max_item_id)\n",
    "    seen_mask = all_ratings[\"user_id\"] == user_id\n",
    "    seen_movies = set(all_ratings[seen_mask][\"item_id\"])\n",
    "    item_ids = list(filter(lambda x: x not in seen_movies, item_ids))\n",
    "\n",
    "    print(\"User %d has seen %d movies, including:\" % (user_id, len(seen_movies)))\n",
    "    for title in all_ratings[seen_mask].nlargest(20, 'popularity')['title']:\n",
    "        print(\"   \", title)\n",
    "    print(\"Computing ratings for %d other movies:\" % len(item_ids))\n",
    "    \n",
    "    item_ids = np.array(item_ids)\n",
    "    user_ids = user_id * np.ones_like(item_ids)\n",
    "    items_meta = scaler.transform(indexed_items[meta_columns].loc[item_ids])\n",
    "    \n",
    "    rating_preds = np.argmax(model.predict([user_ids, item_ids, items_meta]), axis=1)+1\n",
    "    \n",
    "    item_ids = np.argsort(rating_preds)[::-1].tolist()\n",
    "    rec_items = item_ids[:top_n]\n",
    "    return [(items[\"title\"][movie], rating_preds[movie])\n",
    "            for movie in rec_items]"
   ]
  },
  {
   "cell_type": "code",
   "execution_count": 169,
   "metadata": {},
   "outputs": [
    {
     "name": "stdout",
     "output_type": "stream",
     "text": [
      "User 5 has seen 175 movies, including:\n",
      "    Star Wars (1977)\n",
      "    Fargo (1996)\n",
      "    Return of the Jedi (1983)\n",
      "    Toy Story (1995)\n",
      "    Independence Day (ID4) (1996)\n",
      "    Raiders of the Lost Ark (1981)\n",
      "    Silence of the Lambs, The (1991)\n",
      "    Empire Strikes Back, The (1980)\n",
      "    Star Trek: First Contact (1996)\n",
      "    Back to the Future (1985)\n",
      "    Mission: Impossible (1996)\n",
      "    Fugitive, The (1993)\n",
      "    Indiana Jones and the Last Crusade (1989)\n",
      "    Willy Wonka and the Chocolate Factory (1971)\n",
      "    Princess Bride, The (1987)\n",
      "    Forrest Gump (1994)\n",
      "    Monty Python and the Holy Grail (1974)\n",
      "    Men in Black (1997)\n",
      "    E.T. the Extra-Terrestrial (1982)\n",
      "    Birdcage, The (1996)\n",
      "Computing ratings for 1506 other movies:\n",
      "    5.0: Stupids, The (1996)\n",
      "    5.0: Last Time I Committed Suicide, The (1997)\n",
      "    5.0: Grand Day Out, A (1992)\n",
      "    5.0: Raging Bull (1980)\n",
      "    5.0: August (1996)\n",
      "    5.0: Loaded (1994)\n",
      "    5.0: Dead Poets Society (1989)\n",
      "    5.0: Romy and Michele's High School Reunion (1997)\n",
      "    5.0: Mary Shelley's Frankenstein (1994)\n",
      "    5.0: Tie Me Up! Tie Me Down! (1990)\n"
     ]
    }
   ],
   "source": [
    "for title, pred_rating in recommend_class(5):\n",
    "    print(\"    %0.1f: %s\" % (pred_rating, title))"
   ]
  },
  {
   "cell_type": "markdown",
   "metadata": {},
   "source": [
    "Maybe we can help the model by forcing it to predict those values by treating the problem as a multiclassification problem. The only required changes are:\n",
    "\n",
    "- setting the final layer to output class membership probabities using a softmax activation with 5 outputs;\n",
    "- optimize the categorical cross-entropy classification loss instead of a regression loss such as MSE or MAE."
   ]
  },
  {
   "cell_type": "code",
   "execution_count": null,
   "metadata": {},
   "outputs": [],
   "source": [
    "# %load solutions/classification.py"
   ]
  },
  {
   "cell_type": "code",
   "execution_count": null,
   "metadata": {},
   "outputs": [],
   "source": []
  }
 ],
 "metadata": {
  "kernelspec": {
   "display_name": "Python 3 (ipykernel)",
   "language": "python",
   "name": "python3"
  },
  "language_info": {
   "codemirror_mode": {
    "name": "ipython",
    "version": 3
   },
   "file_extension": ".py",
   "mimetype": "text/x-python",
   "name": "python",
   "nbconvert_exporter": "python",
   "pygments_lexer": "ipython3",
   "version": "3.8.12"
  }
 },
 "nbformat": 4,
 "nbformat_minor": 4
}
