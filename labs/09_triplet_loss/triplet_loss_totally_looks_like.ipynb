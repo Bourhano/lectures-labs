{
 "cells": [
  {
   "cell_type": "markdown",
   "metadata": {},
   "source": [
    "## Triplet Loss on Totally Looks Like dataset\n",
    "\n",
    "This notebook is inspired from [this Keras tutorial](https://keras.io/examples/vision/siamese_network/) by Hazem Essam and Santiago L. Valdarrama.\n",
    "\n",
    "The goal is to showcase the use of siamese networks and triplet loss to do representation learning using a CNN. It will also showcase data generators and data augmentation techniques.\n",
    "\n",
    "### Dataset\n",
    "\n",
    "The dataset considered is the [Totally Looks Like](https://sites.google.com/view/totally-looks-like-dataset) dataset, consisting of pairs of web curated similar looking images:\n",
    "\n",
    "Image pair 1               |  Image pair 2\n",
    ":-------------------------:|:-------------------------:\n",
    "![](https://lh3.googleusercontent.com/fzSVA9pEAjAtRicUNFywUoO4qSR6r7P7YVrO6zIVVQFmAG1ZqYF2ORNnUJlng56qwsPts6gcv5GKdMl0Lm8cYP04PGvrqJMCxaehwWM2TDWU7iRb=w1280)  |  ![](https://lh3.googleusercontent.com/1jGi3A6JP6OJKNzHm_gfPnb79WQV2HYQ7Xe2FnZMj3kjKM4VThsZfGS_IRohzOYRZ1tswWHvQKjuCnF90tP4jdATGRfZ6eN6RgPs8v4Lvf_BspEE=w1280)\n",
    "\n",
    "The goal is to extract generic human perceptual representation through a CNN. The next cell downloads the dataset and unzips it (run it asap, it will download a few hundead megabytes)."
   ]
  },
  {
   "cell_type": "code",
   "execution_count": null,
   "metadata": {},
   "outputs": [],
   "source": [
    "import os\n",
    "import os.path as op\n",
    "from urllib.request import urlretrieve\n",
    "\n",
    "# TODO add correct URL\n",
    "URL = \"https://github.com/m2dsupsdlclass/lectures-labs/releases/download/totallylookslike/dataset_totally.zip\"\n",
    "FILENAME = \"dataset_totally.zip\"\n",
    "\n",
    "if not op.exists(FILENAME):\n",
    "    print('Downloading %s to %s...' % (URL, FILENAME))\n",
    "    urlretrieve(URL, FILENAME)\n",
    "\n",
    "import zipfile\n",
    "if not op.exists(\"anchors\"):\n",
    "    print('Extracting image files...')\n",
    "    with zipfile.ZipFile(FILENAME, 'r') as zip_ref:\n",
    "        zip_ref.extractall('.')\n",
    "\n",
    "home_dir = Path(Path.home())\n",
    "anchor_images_path = home_dir / \"anchor\"\n",
    "positive_images_path = home_dir / \"positive\""
   ]
  },
  {
   "cell_type": "code",
   "execution_count": null,
   "metadata": {},
   "outputs": [],
   "source": [
    "from pathlib import Path\n",
    "\n",
    "anchor_images_path = Path(\"./anchors\")\n",
    "positive_images_path = Path(\"./positives\")"
   ]
  },
  {
   "cell_type": "code",
   "execution_count": null,
   "metadata": {},
   "outputs": [],
   "source": [
    "def open_image(filename, target_shape = (256, 256)):\n",
    "    \"\"\" Load the specified file as a JPEG image, preprocess it and\n",
    "    resize it to the target shape.\n",
    "    \"\"\"\n",
    "    image_string = tf.io.read_file(filename)\n",
    "    image = tf.image.decode_jpeg(image_string, channels=3)\n",
    "    image = tf.image.convert_image_dtype(image, tf.float32)\n",
    "    image = tf.image.resize(image, target_shape)\n",
    "    return image"
   ]
  },
  {
   "cell_type": "code",
   "execution_count": null,
   "metadata": {},
   "outputs": [],
   "source": [
    "import tensorflow as tf\n",
    "\n",
    "anchor_images = sorted([str(anchor_images_path / f) for f in os.listdir(anchor_images_path)])\n",
    "positive_images = sorted([str(positive_images_path / f) for f in os.listdir(positive_images_path)])\n",
    "\n",
    "anchor_count = len(anchor_images)\n",
    "positive_count = len(positive_images)\n",
    "\n",
    "print(anchor_count, positive_count)\n",
    "\n",
    "anchor_dataset_files = tf.data.Dataset.from_tensor_slices(anchor_images)\n",
    "anchor_dataset = anchor_dataset_files.map(open_image)\n",
    "positive_dataset_files = tf.data.Dataset.from_tensor_slices(positive_images)\n",
    "positive_dataset = positive_dataset_files.map(open_image)"
   ]
  },
  {
   "cell_type": "code",
   "execution_count": null,
   "metadata": {},
   "outputs": [],
   "source": [
    "import matplotlib.pyplot as plt \n",
    "\n",
    "def visualize(anchor, positive, negative=None):\n",
    "    \"\"\"Visualize a triplet or pair\"\"\"\n",
    "\n",
    "    def show(ax, image):\n",
    "        ax.imshow(image)\n",
    "        ax.get_xaxis().set_visible(False)\n",
    "        ax.get_yaxis().set_visible(False)\n",
    "\n",
    "    fig = plt.figure(figsize=(9, 9))\n",
    "    \n",
    "    num_slots = 3 if negative is not None else 2\n",
    "    \n",
    "    axs = fig.subplots(1, num_slots)\n",
    "    show(axs[0], anchor)\n",
    "    show(axs[1], positive)\n",
    "    if negative is not None:\n",
    "        show(axs[2], negative)\n",
    "\n",
    "# display the first element of our dataset\n",
    "anc = next(iter(anchor_dataset))\n",
    "pos = next(iter(positive_dataset))\n",
    "visualize(anc, pos)"
   ]
  },
  {
   "cell_type": "code",
   "execution_count": null,
   "metadata": {},
   "outputs": [],
   "source": [
    "# data augmentations\n",
    "data_augmentation = tf.keras.Sequential([\n",
    "    layers.RandomFlip(\"horizontal\"),\n",
    "    layers.RandomRotation(0.15),\n",
    "    layers.RandomCrop(224, 224)\n",
    "])"
   ]
  },
  {
   "cell_type": "code",
   "execution_count": null,
   "metadata": {},
   "outputs": [],
   "source": [
    "import numpy as np \n",
    "\n",
    "# To generate the list of negative images, let's randomize the list of\n",
    "# available images and concatenate them together.\n",
    "rng = np.random.RandomState(seed=42)\n",
    "rng.shuffle(anchor_images)\n",
    "rng.shuffle(positive_images)\n",
    "\n",
    "negative_images = anchor_images + positive_images\n",
    "np.random.RandomState(seed=32).shuffle(negative_images)\n",
    "\n",
    "negative_dataset_files = tf.data.Dataset.from_tensor_slices(negative_images)\n",
    "negative_dataset_files = negative_dataset_files.shuffle(buffer_size=4096)\n",
    "\n",
    "# Build final triplet dataset\n",
    "dataset = tf.data.Dataset.zip((anchor_dataset_files, positive_dataset_files, negative_dataset_files))\n",
    "dataset = dataset.shuffle(buffer_size=1024)\n",
    "\n",
    "# preprocess function\n",
    "def preprocess_triplets(anchor, positive, negative):\n",
    "    return (\n",
    "        data_augmentation(open_image(anchor)),\n",
    "        data_augmentation(open_image(positive)),\n",
    "        data_augmentation(open_image(negative)),\n",
    "    )\n",
    "\n",
    "dataset = dataset.map(preprocess_triplets)\n",
    "\n",
    "# Let's now split our dataset in train and validation.\n",
    "train_dataset = dataset.take(round(anchor_count * 0.8))\n",
    "val_dataset = dataset.skip(round(anchor_count * 0.8))\n",
    "\n",
    "train_dataset = train_dataset.batch(32, drop_remainder=False)\n",
    "train_dataset = train_dataset.prefetch(8)\n",
    "\n",
    "val_dataset = val_dataset.batch(32, drop_remainder=False)\n",
    "val_dataset = val_dataset.prefetch(8)"
   ]
  },
  {
   "cell_type": "code",
   "execution_count": null,
   "metadata": {},
   "outputs": [],
   "source": [
    "anc_batch, pos_batch, neg_batch = next(train_dataset.take(1).as_numpy_iterator())\n",
    "print(anc_batch.shape, pos_batch.shape, neg_batch.shape)"
   ]
  },
  {
   "cell_type": "code",
   "execution_count": null,
   "metadata": {},
   "outputs": [],
   "source": [
    "idx = np.random.randint(0, 32)\n",
    "visualize(anc_batch[idx], pos_batch[idx], neg_batch[idx])"
   ]
  },
  {
   "cell_type": "code",
   "execution_count": null,
   "metadata": {},
   "outputs": [],
   "source": [
    "from tensorflow.keras.applications import resnet\n",
    "from tensorflow.keras import applications\n",
    "from tensorflow.keras import layers\n",
    "from tensorflow.keras import losses\n",
    "from tensorflow.keras import optimizers\n",
    "from tensorflow.keras import metrics\n",
    "from tensorflow.keras import Model\n",
    "from tensorflow.keras.applications.resnet50 import preprocess_input\n",
    "\n",
    "\n",
    "base_cnn = resnet.ResNet50(weights=\"imagenet\", input_shape=(224,224,3), include_top=False)\n",
    "input_img = layers.Input((224,224,3))\n",
    "resnet_output = base_cnn(input_preprocessed)\n",
    "\n",
    "flatten = layers.Flatten()(resnet_output)\n",
    "dense1 = layers.Dense(512, activation=\"relu\")(flatten)\n",
    "dense1 = layers.BatchNormalization()(dense1)\n",
    "dense2 = layers.Dense(256, activation=\"relu\")(dense1)\n",
    "dense2 = layers.BatchNormalization()(dense2)\n",
    "output = layers.Dense(256)(dense2)\n",
    "\n",
    "embedding = Model(input_img, output, name=\"Embedding\")\n",
    "\n",
    "trainable = False\n",
    "for layer in base_cnn.layers:\n",
    "    if layer.name == \"conv5_block1_out\":\n",
    "        trainable = True\n",
    "    layer.trainable = trainable"
   ]
  },
  {
   "cell_type": "code",
   "execution_count": null,
   "metadata": {},
   "outputs": [],
   "source": [
    "class DistanceLayer(layers.Layer):\n",
    "\n",
    "    def __init__(self, **kwargs):\n",
    "        super().__init__(**kwargs)\n",
    "\n",
    "    def call(self, anchor, positive, negative):\n",
    "        ap_distance = tf.reduce_sum(tf.square(anchor - positive), -1)\n",
    "        an_distance = tf.reduce_sum(tf.square(anchor - negative), -1)\n",
    "        return (ap_distance, an_distance)\n",
    "\n",
    "\n",
    "anchor_input = layers.Input(name=\"anchor\", shape=(224, 224, 3))\n",
    "positive_input = layers.Input(name=\"positive\", shape=(224, 224, 3))\n",
    "negative_input = layers.Input(name=\"negative\", shape=(224, 224, 3))\n",
    "\n",
    "distances = DistanceLayer()(\n",
    "    embedding(resnet.preprocess_input(anchor_input)),\n",
    "    embedding(resnet.preprocess_input(positive_input)),\n",
    "    embedding(resnet.preprocess_input(negative_input)),\n",
    ")\n",
    "\n",
    "siamese_network = Model(\n",
    "    inputs=[anchor_input, positive_input, negative_input], outputs=distances\n",
    ")"
   ]
  },
  {
   "cell_type": "code",
   "execution_count": null,
   "metadata": {},
   "outputs": [],
   "source": [
    "class SiameseModel(Model):\n",
    "    \"\"\"The Siamese Network model with a custom training and testing loops.\n",
    "\n",
    "    Computes the triplet loss using the three embeddings produced by the\n",
    "    Siamese Network.\n",
    "\n",
    "    The triplet loss is defined as:\n",
    "       L(A, P, N) = max(‖f(A) - f(P)‖² - ‖f(A) - f(N)‖² + margin, 0)\n",
    "    \"\"\"\n",
    "\n",
    "    def __init__(self, siamese_network, margin=0.5):\n",
    "        super(SiameseModel, self).__init__()\n",
    "        self.siamese_network = siamese_network\n",
    "        self.margin = margin\n",
    "        self.loss_tracker = metrics.Mean(name=\"loss\")\n",
    "\n",
    "    def call(self, inputs):\n",
    "        return self.siamese_network(inputs)\n",
    "\n",
    "    def train_step(self, data):\n",
    "        # GradientTape is a context manager that records every operation that\n",
    "        # you do inside. We are using it here to compute the loss so we can get\n",
    "        # the gradients and apply them using the optimizer specified in\n",
    "        # `compile()`.\n",
    "        with tf.GradientTape() as tape:\n",
    "            loss = self._compute_loss(data)\n",
    "\n",
    "        # Storing the gradients of the loss function with respect to the\n",
    "        # weights/parameters.\n",
    "        gradients = tape.gradient(loss, self.siamese_network.trainable_weights)\n",
    "\n",
    "        # Applying the gradients on the model using the specified optimizer\n",
    "        self.optimizer.apply_gradients(\n",
    "            zip(gradients, self.siamese_network.trainable_weights)\n",
    "        )\n",
    "\n",
    "        # Let's update and return the training loss metric.\n",
    "        self.loss_tracker.update_state(loss)\n",
    "        return {\"loss\": self.loss_tracker.result()}\n",
    "\n",
    "    def test_step(self, data):\n",
    "        loss = self._compute_loss(data)\n",
    "\n",
    "        # Let's update and return the loss metric.\n",
    "        self.loss_tracker.update_state(loss)\n",
    "        return {\"loss\": self.loss_tracker.result()}\n",
    "\n",
    "    def _compute_loss(self, data):\n",
    "        # The output of the network is a tuple containing the distances\n",
    "        # between the anchor and the positive example, and the anchor and\n",
    "        # the negative example.\n",
    "        ap_distance, an_distance = self.siamese_network(data)\n",
    "\n",
    "        # Computing the Triplet Loss by subtracting both distances and\n",
    "        # making sure we don't get a negative value.\n",
    "        loss = ap_distance - an_distance\n",
    "        loss = tf.maximum(loss + self.margin, 0.0)\n",
    "        return loss\n",
    "\n",
    "    @property\n",
    "    def metrics(self):\n",
    "        # We need to list our metrics here so the `reset_states()` can be\n",
    "        # called automatically.\n",
    "        return [self.loss_tracker]\n"
   ]
  },
  {
   "cell_type": "code",
   "execution_count": null,
   "metadata": {},
   "outputs": [],
   "source": [
    "siamese_model = SiameseModel(siamese_network)\n",
    "siamese_model.compile(optimizer=optimizers.Adam(0.0001))\n",
    "siamese_model.fit(train_dataset, epochs=2, validation_data=val_dataset)"
   ]
  },
  {
   "cell_type": "markdown",
   "metadata": {},
   "source": [
    "## Find most similar images in test dataset"
   ]
  },
  {
   "cell_type": "code",
   "execution_count": null,
   "metadata": {},
   "outputs": [],
   "source": [
    "emb = shared_conv.predict(all_imgs)\n",
    "emb = emb / np.linalg.norm(emb, axis=-1, keepdims=True)\n",
    "pixelwise = np.reshape(all_imgs, (all_imgs.shape[0], 60*60*3))"
   ]
  },
  {
   "cell_type": "code",
   "execution_count": null,
   "metadata": {},
   "outputs": [],
   "source": [
    "embedding.compile()"
   ]
  },
  {
   "cell_type": "code",
   "execution_count": null,
   "metadata": {},
   "outputs": [],
   "source": [
    "from functools import partial\n",
    "\n",
    "open_img = partial(open_image, target_shape=(224,224))\n",
    "d = negative_dataset_files.map(open_img).map(resnet.preprocess_input).batch(32, drop_remainder=False).prefetch(8)\n",
    "out = embedding.predict(d)\n"
   ]
  },
  {
   "cell_type": "code",
   "execution_count": null,
   "metadata": {},
   "outputs": [],
   "source": [
    "out.shape"
   ]
  },
  {
   "cell_type": "code",
   "execution_count": null,
   "metadata": {},
   "outputs": [],
   "source": []
  }
 ],
 "metadata": {
  "kernelspec": {
   "display_name": "Python 3",
   "language": "python",
   "name": "python3"
  },
  "language_info": {
   "codemirror_mode": {
    "name": "ipython",
    "version": 3
   },
   "file_extension": ".py",
   "mimetype": "text/x-python",
   "name": "python",
   "nbconvert_exporter": "python",
   "pygments_lexer": "ipython3",
   "version": "3.7.6"
  },
  "toc": {
   "base_numbering": 1,
   "nav_menu": {},
   "number_sections": true,
   "sideBar": true,
   "skip_h1_title": false,
   "title_cell": "Table of Contents",
   "title_sidebar": "Contents",
   "toc_cell": false,
   "toc_position": {},
   "toc_section_display": true,
   "toc_window_display": false
  }
 },
 "nbformat": 4,
 "nbformat_minor": 4
}
