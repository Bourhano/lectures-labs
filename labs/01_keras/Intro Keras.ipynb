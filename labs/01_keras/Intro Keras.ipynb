{
 "cells": [
  {
   "cell_type": "markdown",
   "metadata": {},
   "source": [
    "# Training Neural Networks with Keras\n",
    "\n",
    "### Goals: \n",
    "- Intro: train a neural network with `tensorflow` and the Keras layers\n",
    "\n",
    "### Dataset:\n",
    "- Digits: 10 class handwritten digits\n",
    "- http://scikit-learn.org/stable/modules/generated/sklearn.datasets.load_digits.html#sklearn.datasets.load_digits"
   ]
  },
  {
   "cell_type": "code",
   "execution_count": 1,
   "metadata": {},
   "outputs": [],
   "source": [
    "import matplotlib.pyplot as plt\n",
    "import numpy as np\n",
    "from sklearn.datasets import load_digits\n",
    "\n",
    "digits = load_digits()"
   ]
  },
  {
   "cell_type": "code",
   "execution_count": 4,
   "metadata": {},
   "outputs": [
    {
     "data": {
      "text/plain": [
       "(1797, 8, 8)"
      ]
     },
     "execution_count": 4,
     "metadata": {},
     "output_type": "execute_result"
    }
   ],
   "source": [
    "digits.images.shape"
   ]
  },
  {
   "cell_type": "code",
   "execution_count": 5,
   "metadata": {},
   "outputs": [
    {
     "data": {
      "text/plain": [
       "(1797, 64)"
      ]
     },
     "execution_count": 5,
     "metadata": {},
     "output_type": "execute_result"
    }
   ],
   "source": [
    "digits.data.shape"
   ]
  },
  {
   "cell_type": "code",
   "execution_count": 6,
   "metadata": {},
   "outputs": [
    {
     "data": {
      "text/plain": [
       "(1797,)"
      ]
     },
     "execution_count": 6,
     "metadata": {},
     "output_type": "execute_result"
    }
   ],
   "source": [
    "digits.target.shape"
   ]
  },
  {
   "cell_type": "code",
   "execution_count": 7,
   "metadata": {},
   "outputs": [
    {
     "data": {
      "image/png": "[encoded data removed]",
      "text/plain": [
       "<Figure size 216x216 with 1 Axes>"
      ]
     },
     "metadata": {
      "needs_background": "light"
     },
     "output_type": "display_data"
    }
   ],
   "source": [
    "sample_index = 45\n",
    "plt.figure(figsize=(3, 3))\n",
    "plt.imshow(digits.images[sample_index], cmap=plt.cm.gray_r,\n",
    "           interpolation='nearest')\n",
    "plt.title(\"image label: %d\" % digits.target[sample_index]);"
   ]
  },
  {
   "cell_type": "markdown",
   "metadata": {},
   "source": [
    "## Train / Test Split\n",
    "\n",
    "Let's keep some held-out data to be able to measure the generalization performance of our model."
   ]
  },
  {
   "cell_type": "code",
   "execution_count": 8,
   "metadata": {},
   "outputs": [],
   "source": [
    "from sklearn.model_selection import train_test_split\n",
    "\n",
    "\n",
    "data = np.asarray(digits.data, dtype='float32')\n",
    "target = np.asarray(digits.target, dtype='int32')\n",
    "\n",
    "X_train, X_test, y_train, y_test = train_test_split(\n",
    "    data, target, test_size=0.15, random_state=37)"
   ]
  },
  {
   "cell_type": "code",
   "execution_count": 9,
   "metadata": {},
   "outputs": [
    {
     "data": {
      "text/plain": [
       "(1527, 64)"
      ]
     },
     "execution_count": 9,
     "metadata": {},
     "output_type": "execute_result"
    }
   ],
   "source": [
    "X_train.shape"
   ]
  },
  {
   "cell_type": "code",
   "execution_count": 10,
   "metadata": {},
   "outputs": [
    {
     "data": {
      "text/plain": [
       "(270, 64)"
      ]
     },
     "execution_count": 10,
     "metadata": {},
     "output_type": "execute_result"
    }
   ],
   "source": [
    "X_test.shape"
   ]
  },
  {
   "cell_type": "code",
   "execution_count": 11,
   "metadata": {},
   "outputs": [
    {
     "data": {
      "text/plain": [
       "(1527,)"
      ]
     },
     "execution_count": 11,
     "metadata": {},
     "output_type": "execute_result"
    }
   ],
   "source": [
    "y_train.shape"
   ]
  },
  {
   "cell_type": "code",
   "execution_count": 12,
   "metadata": {},
   "outputs": [
    {
     "data": {
      "text/plain": [
       "(270,)"
      ]
     },
     "execution_count": 12,
     "metadata": {},
     "output_type": "execute_result"
    }
   ],
   "source": [
    "y_test.shape"
   ]
  },
  {
   "cell_type": "markdown",
   "metadata": {},
   "source": [
    "## Preprocessing of the Input Data\n",
    "\n",
    "\n",
    "Make sure that all input variables are approximately on the same scale via input normalization:"
   ]
  },
  {
   "cell_type": "code",
   "execution_count": 13,
   "metadata": {},
   "outputs": [],
   "source": [
    "from sklearn import preprocessing\n",
    "\n",
    "\n",
    "# mean = 0 ; standard deviation = 1.0\n",
    "scaler = preprocessing.StandardScaler()\n",
    "X_train = scaler.fit_transform(X_train)\n",
    "X_test = scaler.transform(X_test)\n",
    "\n",
    "# print(scaler.mean_)\n",
    "# print(scaler.scale_)"
   ]
  },
  {
   "cell_type": "code",
   "execution_count": 14,
   "metadata": {},
   "outputs": [
    {
     "data": {
      "text/plain": [
       "(1527, 64)"
      ]
     },
     "execution_count": 14,
     "metadata": {},
     "output_type": "execute_result"
    }
   ],
   "source": [
    "X_train.shape"
   ]
  },
  {
   "cell_type": "code",
   "execution_count": 15,
   "metadata": {},
   "outputs": [
    {
     "data": {
      "text/plain": [
       "array([ 0.00000000e+00,  1.82717315e-07,  1.44815475e-08, -3.13441575e-08,\n",
       "       -7.49449391e-09, -9.50473567e-09, -7.10805850e-08,  6.18783673e-08,\n",
       "       -3.06025143e-08,  1.31056055e-07,  3.27103429e-08, -3.59111163e-09,\n",
       "       -4.29372049e-09, -1.07733342e-08, -1.92827070e-08, -7.90239696e-08,\n",
       "        1.56408518e-07, -2.18589391e-09,  2.89630950e-08, -1.74090840e-08,\n",
       "        6.71381741e-08,  5.87068669e-08, -9.85213617e-08, -4.79598782e-07,\n",
       "       -2.98413561e-08, -4.19223234e-08, -1.82522143e-07,  1.79555570e-08,\n",
       "       -3.11294706e-08,  2.08440607e-08, -6.83091841e-08,  9.33420665e-07,\n",
       "        0.00000000e+00,  1.78774897e-08,  1.50670544e-07, -3.45839659e-08,\n",
       "       -1.02463780e-08, -3.66137236e-08, -5.67551766e-08,  0.00000000e+00,\n",
       "       -2.17120757e-07, -6.30981702e-08, -1.81116935e-08, -2.62307278e-08,\n",
       "       -7.95509294e-08, -1.95169103e-09, -8.23613622e-09,  4.77871538e-08,\n",
       "       -1.66303593e-07, -1.25688899e-07, -2.30299548e-08, -1.13198082e-08,\n",
       "        2.51387576e-07, -9.99265826e-09,  3.74724678e-08, -1.85410653e-09,\n",
       "        2.62295089e-07, -8.66550849e-08,  1.06952669e-08,  1.99462828e-08,\n",
       "        4.32494751e-08,  1.00551127e-07, -1.32480793e-07, -7.56280301e-08],\n",
       "      dtype=float32)"
      ]
     },
     "execution_count": 15,
     "metadata": {},
     "output_type": "execute_result"
    }
   ],
   "source": [
    "X_train.mean(axis=0)"
   ]
  },
  {
   "cell_type": "code",
   "execution_count": 16,
   "metadata": {},
   "outputs": [
    {
     "data": {
      "text/plain": [
       "array([0.        , 0.99999774, 0.9999994 , 1.0000005 , 0.9999989 ,\n",
       "       0.9999988 , 1.0000077 , 0.9999965 , 1.0000098 , 0.9999947 ,\n",
       "       1.0000007 , 0.9999992 , 0.9999999 , 0.99999684, 0.9999984 ,\n",
       "       0.99999887, 0.9999969 , 1.000001  , 1.0000002 , 1.0000025 ,\n",
       "       0.99999905, 1.000004  , 1.0000008 , 0.9999972 , 0.9999967 ,\n",
       "       0.99999726, 1.        , 1.0000007 , 1.0000029 , 0.9999996 ,\n",
       "       0.99999696, 1.0000001 , 0.        , 1.0000007 , 1.0000023 ,\n",
       "       0.9999993 , 0.9999994 , 0.9999997 , 0.9999955 , 0.        ,\n",
       "       0.9999891 , 0.99999785, 1.0000032 , 0.9999999 , 0.99999756,\n",
       "       1.000001  , 0.999996  , 0.9999987 , 1.0000006 , 0.9999936 ,\n",
       "       1.0000038 , 1.0000004 , 1.0000012 , 0.999997  , 0.99999785,\n",
       "       0.9999988 , 0.9999857 , 1.0000073 , 0.9999967 , 1.0000031 ,\n",
       "       0.9999993 , 1.        , 0.999996  , 0.9999977 ], dtype=float32)"
      ]
     },
     "execution_count": 16,
     "metadata": {},
     "output_type": "execute_result"
    }
   ],
   "source": [
    "X_train.std(axis=0)"
   ]
  },
  {
   "cell_type": "markdown",
   "metadata": {},
   "source": [
    "Let's display the one of the transformed sample (after feature standardization):"
   ]
  },
  {
   "cell_type": "code",
   "execution_count": 17,
   "metadata": {},
   "outputs": [
    {
     "data": {
      "image/png": "[encoded data removed]",
      "text/plain": [
       "<Figure size 216x216 with 1 Axes>"
      ]
     },
     "metadata": {
      "needs_background": "light"
     },
     "output_type": "display_data"
    }
   ],
   "source": [
    "sample_index = 45\n",
    "plt.figure(figsize=(3, 3))\n",
    "plt.imshow(X_train[sample_index].reshape(8, 8),\n",
    "           cmap=plt.cm.gray_r, interpolation='nearest')\n",
    "plt.title(\"transformed sample\\n(standardization)\");"
   ]
  },
  {
   "cell_type": "markdown",
   "metadata": {},
   "source": [
    "The scaler objects makes it possible to recover the original sample:"
   ]
  },
  {
   "cell_type": "code",
   "execution_count": 18,
   "metadata": {},
   "outputs": [
    {
     "data": {
      "image/png": "[encoded data removed]",
      "text/plain": [
       "<Figure size 216x216 with 1 Axes>"
      ]
     },
     "metadata": {
      "needs_background": "light"
     },
     "output_type": "display_data"
    }
   ],
   "source": [
    "plt.figure(figsize=(3, 3))\n",
    "plt.imshow(scaler.inverse_transform(X_train[sample_index:sample_index+1]).reshape(8, 8),\n",
    "           cmap=plt.cm.gray_r, interpolation='nearest')\n",
    "plt.title(\"original sample\");"
   ]
  },
  {
   "cell_type": "code",
   "execution_count": 19,
   "metadata": {},
   "outputs": [
    {
     "name": "stdout",
     "output_type": "stream",
     "text": [
      "(1527, 64) (1527,)\n"
     ]
    }
   ],
   "source": [
    "print(X_train.shape, y_train.shape)"
   ]
  },
  {
   "cell_type": "code",
   "execution_count": 20,
   "metadata": {},
   "outputs": [
    {
     "name": "stdout",
     "output_type": "stream",
     "text": [
      "(270, 64) (270,)\n"
     ]
    }
   ],
   "source": [
    "print(X_test.shape, y_test.shape)"
   ]
  },
  {
   "cell_type": "markdown",
   "metadata": {},
   "source": [
    "## Preprocessing of the Target Data\n",
    "\n",
    "\n",
    "To train a first neural network we also need to turn the target variable into a vector \"one-hot-encoding\" representation. Here are the labels of the first samples in the training set encoded as integers:"
   ]
  },
  {
   "cell_type": "code",
   "execution_count": 21,
   "metadata": {},
   "outputs": [
    {
     "data": {
      "text/plain": [
       "array([2, 9, 5])"
      ]
     },
     "execution_count": 21,
     "metadata": {},
     "output_type": "execute_result"
    }
   ],
   "source": [
    "y_train[:3]"
   ]
  },
  {
   "cell_type": "markdown",
   "metadata": {},
   "source": [
    "Keras provides a utility function to convert integer-encoded categorical variables as one-hot encoded values:"
   ]
  },
  {
   "cell_type": "code",
   "execution_count": 25,
   "metadata": {},
   "outputs": [
    {
     "data": {
      "text/plain": [
       "(array([2, 9, 5]),\n",
       " array([[0, 0, 1, 0, 0, 0, 0, 0, 0, 0],\n",
       "        [0, 0, 0, 0, 0, 0, 0, 0, 0, 1],\n",
       "        [0, 0, 0, 0, 0, 1, 0, 0, 0, 0]]))"
      ]
     },
     "execution_count": 25,
     "metadata": {},
     "output_type": "execute_result"
    }
   ],
   "source": [
    "from tensorflow.keras.utils import to_categorical\n",
    "\n",
    "Y_train = to_categorical(y_train, dtype=int)\n",
    "y_train[:3], Y_train[:3]"
   ]
  },
  {
   "cell_type": "code",
   "execution_count": 23,
   "metadata": {},
   "outputs": [
    {
     "data": {
      "text/plain": [
       "(1527, 10)"
      ]
     },
     "execution_count": 23,
     "metadata": {},
     "output_type": "execute_result"
    }
   ],
   "source": [
    "Y_train.shape"
   ]
  },
  {
   "cell_type": "markdown",
   "metadata": {},
   "source": [
    "## Feed Forward Neural Networks with Keras\n",
    "\n",
    "Objectives of this section:\n",
    "\n",
    "- Build and train a first feedforward network using `Keras`\n",
    "    - https://www.tensorflow.org/guide/keras/overview\n",
    "- Experiment with different optimizers, activations, size of layers, initializations\n",
    "\n",
    "### A First Keras Model"
   ]
  },
  {
   "cell_type": "markdown",
   "metadata": {},
   "source": [
    "We can now build an train a our first feed forward neural network using the high level API from keras:\n",
    "\n",
    "- first we define the model by stacking layers with the right dimensions\n",
    "- then we define a loss function and plug the SGD optimizer\n",
    "- then we feed the model the training data for fixed number of epochs"
   ]
  },
  {
   "cell_type": "code",
   "execution_count": 26,
   "metadata": {},
   "outputs": [
    {
     "name": "stdout",
     "output_type": "stream",
     "text": [
      "Epoch 1/15\n",
      "39/39 [==============================] - 3s 14ms/step - loss: 0.9672 - accuracy: 0.7289 - val_loss: 0.4413 - val_accuracy: 0.8922\n",
      "Epoch 2/15\n",
      "39/39 [==============================] - 0s 5ms/step - loss: 0.3389 - accuracy: 0.9304 - val_loss: 0.2906 - val_accuracy: 0.9248\n",
      "Epoch 3/15\n",
      "39/39 [==============================] - 0s 5ms/step - loss: 0.2288 - accuracy: 0.9607 - val_loss: 0.2306 - val_accuracy: 0.9412\n",
      "Epoch 4/15\n",
      "39/39 [==============================] - 0s 5ms/step - loss: 0.1767 - accuracy: 0.9648 - val_loss: 0.2003 - val_accuracy: 0.9542\n",
      "Epoch 5/15\n",
      "39/39 [==============================] - 0s 5ms/step - loss: 0.1463 - accuracy: 0.9705 - val_loss: 0.1795 - val_accuracy: 0.9608\n",
      "Epoch 6/15\n",
      "39/39 [==============================] - 0s 5ms/step - loss: 0.1251 - accuracy: 0.9787 - val_loss: 0.1647 - val_accuracy: 0.9641\n",
      "Epoch 7/15\n",
      "39/39 [==============================] - 0s 5ms/step - loss: 0.1087 - accuracy: 0.9795 - val_loss: 0.1560 - val_accuracy: 0.9575\n",
      "Epoch 8/15\n",
      "39/39 [==============================] - 0s 5ms/step - loss: 0.0971 - accuracy: 0.9844 - val_loss: 0.1475 - val_accuracy: 0.9641\n",
      "Epoch 9/15\n",
      "39/39 [==============================] - 0s 5ms/step - loss: 0.0865 - accuracy: 0.9869 - val_loss: 0.1414 - val_accuracy: 0.9641\n",
      "Epoch 10/15\n",
      "39/39 [==============================] - 0s 5ms/step - loss: 0.0786 - accuracy: 0.9877 - val_loss: 0.1358 - val_accuracy: 0.9641\n",
      "Epoch 11/15\n",
      "39/39 [==============================] - 0s 5ms/step - loss: 0.0711 - accuracy: 0.9934 - val_loss: 0.1315 - val_accuracy: 0.9706\n",
      "Epoch 12/15\n",
      "39/39 [==============================] - 0s 5ms/step - loss: 0.0661 - accuracy: 0.9894 - val_loss: 0.1278 - val_accuracy: 0.9739\n",
      "Epoch 13/15\n",
      "39/39 [==============================] - 0s 5ms/step - loss: 0.0603 - accuracy: 0.9926 - val_loss: 0.1233 - val_accuracy: 0.9771\n",
      "Epoch 14/15\n",
      "39/39 [==============================] - 0s 5ms/step - loss: 0.0562 - accuracy: 0.9926 - val_loss: 0.1212 - val_accuracy: 0.9706\n",
      "Epoch 15/15\n",
      "39/39 [==============================] - 0s 5ms/step - loss: 0.0526 - accuracy: 0.9934 - val_loss: 0.1288 - val_accuracy: 0.9739\n"
     ]
    }
   ],
   "source": [
    "from tensorflow.keras.models import Sequential\n",
    "from tensorflow.keras.layers import Dense\n",
    "from tensorflow.keras import optimizers\n",
    "\n",
    "input_dim = X_train.shape[1]\n",
    "hidden_dim = 100\n",
    "output_dim = Y_train.shape[1]\n",
    "\n",
    "model = Sequential()\n",
    "model.add(Dense(hidden_dim, input_dim=input_dim, activation=\"tanh\"))\n",
    "model.add(Dense(output_dim, activation=\"softmax\"))\n",
    "\n",
    "model.compile(optimizer=optimizers.SGD(learning_rate=0.1),\n",
    "              loss='categorical_crossentropy', metrics=['accuracy'])\n",
    "\n",
    "history = model.fit(X_train, Y_train, validation_split=0.2, epochs=15, batch_size=32)"
   ]
  },
  {
   "cell_type": "markdown",
   "metadata": {},
   "source": [
    "### Visualizing the Convergence\n",
    "\n",
    "Let's wrap the keras history info into a pandas dataframe for easier plotting:"
   ]
  },
  {
   "cell_type": "code",
   "execution_count": 29,
   "metadata": {},
   "outputs": [
    {
     "data": {
      "text/html": [
       "<div>\n",
       "<style scoped>\n",
       "    .dataframe tbody tr th:only-of-type {\n",
       "        vertical-align: middle;\n",
       "    }\n",
       "\n",
       "    .dataframe tbody tr th {\n",
       "        vertical-align: top;\n",
       "    }\n",
       "\n",
       "    .dataframe thead th {\n",
       "        text-align: right;\n",
       "    }\n",
       "</style>\n",
       "<table border=\"1\" class=\"dataframe\">\n",
       "  <thead>\n",
       "    <tr style=\"text-align: right;\">\n",
       "      <th></th>\n",
       "      <th>loss</th>\n",
       "      <th>accuracy</th>\n",
       "      <th>val_loss</th>\n",
       "      <th>val_accuracy</th>\n",
       "      <th>epoch</th>\n",
       "    </tr>\n",
       "  </thead>\n",
       "  <tbody>\n",
       "    <tr>\n",
       "      <th>0</th>\n",
       "      <td>0.967163</td>\n",
       "      <td>0.728911</td>\n",
       "      <td>0.441318</td>\n",
       "      <td>0.892157</td>\n",
       "      <td>0</td>\n",
       "    </tr>\n",
       "    <tr>\n",
       "      <th>1</th>\n",
       "      <td>0.338851</td>\n",
       "      <td>0.930385</td>\n",
       "      <td>0.290563</td>\n",
       "      <td>0.924837</td>\n",
       "      <td>1</td>\n",
       "    </tr>\n",
       "    <tr>\n",
       "      <th>2</th>\n",
       "      <td>0.228772</td>\n",
       "      <td>0.960688</td>\n",
       "      <td>0.230609</td>\n",
       "      <td>0.941176</td>\n",
       "      <td>2</td>\n",
       "    </tr>\n",
       "    <tr>\n",
       "      <th>3</th>\n",
       "      <td>0.176700</td>\n",
       "      <td>0.964783</td>\n",
       "      <td>0.200307</td>\n",
       "      <td>0.954248</td>\n",
       "      <td>3</td>\n",
       "    </tr>\n",
       "    <tr>\n",
       "      <th>4</th>\n",
       "      <td>0.146325</td>\n",
       "      <td>0.970516</td>\n",
       "      <td>0.179517</td>\n",
       "      <td>0.960784</td>\n",
       "      <td>4</td>\n",
       "    </tr>\n",
       "    <tr>\n",
       "      <th>5</th>\n",
       "      <td>0.125061</td>\n",
       "      <td>0.978706</td>\n",
       "      <td>0.164727</td>\n",
       "      <td>0.964052</td>\n",
       "      <td>5</td>\n",
       "    </tr>\n",
       "    <tr>\n",
       "      <th>6</th>\n",
       "      <td>0.108690</td>\n",
       "      <td>0.979525</td>\n",
       "      <td>0.155958</td>\n",
       "      <td>0.957516</td>\n",
       "      <td>6</td>\n",
       "    </tr>\n",
       "    <tr>\n",
       "      <th>7</th>\n",
       "      <td>0.097068</td>\n",
       "      <td>0.984439</td>\n",
       "      <td>0.147482</td>\n",
       "      <td>0.964052</td>\n",
       "      <td>7</td>\n",
       "    </tr>\n",
       "    <tr>\n",
       "      <th>8</th>\n",
       "      <td>0.086548</td>\n",
       "      <td>0.986896</td>\n",
       "      <td>0.141357</td>\n",
       "      <td>0.964052</td>\n",
       "      <td>8</td>\n",
       "    </tr>\n",
       "    <tr>\n",
       "      <th>9</th>\n",
       "      <td>0.078594</td>\n",
       "      <td>0.987715</td>\n",
       "      <td>0.135780</td>\n",
       "      <td>0.964052</td>\n",
       "      <td>9</td>\n",
       "    </tr>\n",
       "    <tr>\n",
       "      <th>10</th>\n",
       "      <td>0.071133</td>\n",
       "      <td>0.993448</td>\n",
       "      <td>0.131517</td>\n",
       "      <td>0.970588</td>\n",
       "      <td>10</td>\n",
       "    </tr>\n",
       "    <tr>\n",
       "      <th>11</th>\n",
       "      <td>0.066116</td>\n",
       "      <td>0.989353</td>\n",
       "      <td>0.127801</td>\n",
       "      <td>0.973856</td>\n",
       "      <td>11</td>\n",
       "    </tr>\n",
       "    <tr>\n",
       "      <th>12</th>\n",
       "      <td>0.060326</td>\n",
       "      <td>0.992629</td>\n",
       "      <td>0.123253</td>\n",
       "      <td>0.977124</td>\n",
       "      <td>12</td>\n",
       "    </tr>\n",
       "    <tr>\n",
       "      <th>13</th>\n",
       "      <td>0.056161</td>\n",
       "      <td>0.992629</td>\n",
       "      <td>0.121161</td>\n",
       "      <td>0.970588</td>\n",
       "      <td>13</td>\n",
       "    </tr>\n",
       "    <tr>\n",
       "      <th>14</th>\n",
       "      <td>0.052585</td>\n",
       "      <td>0.993448</td>\n",
       "      <td>0.128831</td>\n",
       "      <td>0.973856</td>\n",
       "      <td>14</td>\n",
       "    </tr>\n",
       "  </tbody>\n",
       "</table>\n",
       "</div>"
      ],
      "text/plain": [
       "        loss  accuracy  val_loss  val_accuracy  epoch\n",
       "0   0.967163  0.728911  0.441318      0.892157      0\n",
       "1   0.338851  0.930385  0.290563      0.924837      1\n",
       "2   0.228772  0.960688  0.230609      0.941176      2\n",
       "3   0.176700  0.964783  0.200307      0.954248      3\n",
       "4   0.146325  0.970516  0.179517      0.960784      4\n",
       "5   0.125061  0.978706  0.164727      0.964052      5\n",
       "6   0.108690  0.979525  0.155958      0.957516      6\n",
       "7   0.097068  0.984439  0.147482      0.964052      7\n",
       "8   0.086548  0.986896  0.141357      0.964052      8\n",
       "9   0.078594  0.987715  0.135780      0.964052      9\n",
       "10  0.071133  0.993448  0.131517      0.970588     10\n",
       "11  0.066116  0.989353  0.127801      0.973856     11\n",
       "12  0.060326  0.992629  0.123253      0.977124     12\n",
       "13  0.056161  0.992629  0.121161      0.970588     13\n",
       "14  0.052585  0.993448  0.128831      0.973856     14"
      ]
     },
     "execution_count": 29,
     "metadata": {},
     "output_type": "execute_result"
    }
   ],
   "source": [
    "import pandas as pd\n",
    "\n",
    "history_df = pd.DataFrame(history.history)\n",
    "history_df[\"epoch\"] = history.epoch\n",
    "\n",
    "history_df"
   ]
  },
  {
   "cell_type": "code",
   "execution_count": 49,
   "metadata": {},
   "outputs": [
    {
     "data": {
      "image/png": "[encoded data removed]",
      "text/plain": [
       "<Figure size 864x432 with 2 Axes>"
      ]
     },
     "metadata": {
      "needs_background": "light"
     },
     "output_type": "display_data"
    }
   ],
   "source": [
    "fig, (ax0, ax1) = plt.subplots(nrows=2, sharex=True, figsize=(12, 6))\n",
    "history_df.plot(x=\"epoch\", y=[\"loss\", \"val_loss\"], ax=ax0)  # , kind='barh')\n",
    "history_df.plot(x=\"epoch\", y=[\"accuracy\", \"val_accuracy\"], ax=ax1);"
   ]
  },
  {
   "cell_type": "markdown",
   "metadata": {},
   "source": [
    "The loss of the validation set is less than that of the train set at the beginning...\n",
    "\n",
    "HOW COME IS HIS COUTER-INTUITIVENESS?\n",
    "- because keras does a moving average instead of averaging at the end, unlike in validation which is done once every end-of-epoch\n",
    "- this is called average SMOOTHING"
   ]
  },
  {
   "cell_type": "markdown",
   "metadata": {},
   "source": [
    "### Monitoring Convergence with Tensorboard\n",
    "\n",
    "Tensorboard is a built-in neural network monitoring tool. "
   ]
  },
  {
   "cell_type": "code",
   "execution_count": 50,
   "metadata": {},
   "outputs": [],
   "source": [
    "%load_ext tensorboard"
   ]
  },
  {
   "cell_type": "code",
   "execution_count": null,
   "metadata": {},
   "outputs": [],
   "source": [
    "!rm -rf tensorboard_logs"
   ]
  },
  {
   "cell_type": "code",
   "execution_count": 51,
   "metadata": {},
   "outputs": [
    {
     "name": "stdout",
     "output_type": "stream",
     "text": [
      "Epoch 1/15\n",
      "39/39 [==============================] - 1s 25ms/step - loss: 0.9484 - accuracy: 0.7453 - val_loss: 0.4430 - val_accuracy: 0.8987\n",
      "Epoch 2/15\n",
      "39/39 [==============================] - 0s 7ms/step - loss: 0.3376 - accuracy: 0.9328 - val_loss: 0.2941 - val_accuracy: 0.9150\n",
      "Epoch 3/15\n",
      "39/39 [==============================] - 0s 7ms/step - loss: 0.2341 - accuracy: 0.9517 - val_loss: 0.2442 - val_accuracy: 0.9314\n",
      "Epoch 4/15\n",
      "39/39 [==============================] - 0s 7ms/step - loss: 0.1835 - accuracy: 0.9607 - val_loss: 0.2007 - val_accuracy: 0.9412\n",
      "Epoch 5/15\n",
      "39/39 [==============================] - 0s 7ms/step - loss: 0.1516 - accuracy: 0.9689 - val_loss: 0.1861 - val_accuracy: 0.9510\n",
      "Epoch 6/15\n",
      "39/39 [==============================] - 0s 7ms/step - loss: 0.1300 - accuracy: 0.9746 - val_loss: 0.1615 - val_accuracy: 0.9575\n",
      "Epoch 7/15\n",
      "39/39 [==============================] - 0s 7ms/step - loss: 0.1139 - accuracy: 0.9762 - val_loss: 0.1514 - val_accuracy: 0.9641\n",
      "Epoch 8/15\n",
      "39/39 [==============================] - 0s 8ms/step - loss: 0.1017 - accuracy: 0.9803 - val_loss: 0.1407 - val_accuracy: 0.9641\n",
      "Epoch 9/15\n",
      "39/39 [==============================] - 0s 6ms/step - loss: 0.0917 - accuracy: 0.9844 - val_loss: 0.1363 - val_accuracy: 0.9673\n",
      "Epoch 10/15\n",
      "39/39 [==============================] - 0s 7ms/step - loss: 0.0834 - accuracy: 0.9869 - val_loss: 0.1281 - val_accuracy: 0.9641\n",
      "Epoch 11/15\n",
      "39/39 [==============================] - 0s 6ms/step - loss: 0.0758 - accuracy: 0.9902 - val_loss: 0.1240 - val_accuracy: 0.9739\n",
      "Epoch 12/15\n",
      "39/39 [==============================] - 0s 7ms/step - loss: 0.0702 - accuracy: 0.9894 - val_loss: 0.1207 - val_accuracy: 0.9739\n",
      "Epoch 13/15\n",
      "39/39 [==============================] - 0s 8ms/step - loss: 0.0648 - accuracy: 0.9910 - val_loss: 0.1147 - val_accuracy: 0.9706\n",
      "Epoch 14/15\n",
      "39/39 [==============================] - 0s 7ms/step - loss: 0.0599 - accuracy: 0.9918 - val_loss: 0.1115 - val_accuracy: 0.9739\n",
      "Epoch 15/15\n",
      "39/39 [==============================] - 0s 7ms/step - loss: 0.0557 - accuracy: 0.9943 - val_loss: 0.1073 - val_accuracy: 0.9771\n"
     ]
    }
   ],
   "source": [
    "import datetime\n",
    "from tensorflow.keras.callbacks import TensorBoard\n",
    "\n",
    "model = Sequential()\n",
    "model.add(Dense(hidden_dim, input_dim=input_dim, activation=\"tanh\"))\n",
    "model.add(Dense(output_dim, activation=\"softmax\"))\n",
    "\n",
    "model.compile(optimizer=optimizers.SGD(learning_rate=0.1),\n",
    "              loss='categorical_crossentropy', metrics=['accuracy'])\n",
    "\n",
    "timestamp =  datetime.datetime.now().strftime(\"%Y%m%d-%H%M%S\")\n",
    "log_dir = \"tensorboard_logs/\" + timestamp\n",
    "tensorboard_callback = TensorBoard(log_dir=log_dir, histogram_freq=1)\n",
    "\n",
    "model.fit(x=X_train, y=Y_train, validation_split=0.2, epochs=15,\n",
    "          callbacks=[tensorboard_callback]);"
   ]
  },
  {
   "cell_type": "code",
   "execution_count": 52,
   "metadata": {},
   "outputs": [
    {
     "data": {
      "text/html": [
       "\n",
       "      <iframe id=\"tensorboard-frame-4d2082e5c197441e\" width=\"100%\" height=\"800\" frameborder=\"0\">\n",
       "      </iframe>\n",
       "      <script>\n",
       "        (function() {\n",
       "          const frame = document.getElementById(\"tensorboard-frame-4d2082e5c197441e\");\n",
       "          const url = new URL(\"/\", window.location);\n",
       "          const port = 6006;\n",
       "          if (port) {\n",
       "            url.port = port;\n",
       "          }\n",
       "          frame.src = url;\n",
       "        })();\n",
       "      </script>\n",
       "    "
      ],
      "text/plain": [
       "<IPython.core.display.HTML object>"
      ]
     },
     "metadata": {},
     "output_type": "display_data"
    }
   ],
   "source": [
    "%tensorboard --logdir tensorboard_logs"
   ]
  },
  {
   "cell_type": "markdown",
   "metadata": {},
   "source": [
    "### b) Exercises: Impact of the Optimizer\n",
    "\n",
    "- Try to decrease the learning rate value by 10 or 100. What do you observe?\n",
    "\n",
    "- Try to increase the learning rate value to make the optimization diverge.\n",
    "\n",
    "- Configure the SGD optimizer to enable a Nesterov momentum of 0.9\n",
    "  \n",
    "**Notes**: \n",
    "\n",
    "The keras API documentation is available at:\n",
    "\n",
    "https://www.tensorflow.org/api_docs/python/tf/keras\n",
    "\n",
    "It is also possible to learn more about the parameters of a class by using the question mark: type and evaluate:\n",
    "\n",
    "```python\n",
    "optimizers.SGD?\n",
    "```\n",
    "\n",
    "in a jupyter notebook cell.\n",
    "\n",
    "It is also possible to type the beginning of a function call / constructor and type \"shift-tab\" after the opening paren:\n",
    "\n",
    "```python\n",
    "optimizers.SGD(<shiff-tab>\n",
    "```"
   ]
  },
  {
   "cell_type": "code",
   "execution_count": null,
   "metadata": {},
   "outputs": [],
   "source": [
    "optimizers.SGD?"
   ]
  },
  {
   "cell_type": "code",
   "execution_count": 62,
   "metadata": {},
   "outputs": [
    {
     "name": "stdout",
     "output_type": "stream",
     "text": [
      "Epoch 1/15\n",
      "39/39 [==============================] - 1s 11ms/step - loss: 1.1998 - accuracy: 0.6413 - val_loss: 0.4500 - val_accuracy: 0.8954\n",
      "Epoch 2/15\n",
      "39/39 [==============================] - 0s 6ms/step - loss: 0.3246 - accuracy: 0.9230 - val_loss: 0.2856 - val_accuracy: 0.9248\n",
      "Epoch 3/15\n",
      "39/39 [==============================] - 0s 6ms/step - loss: 0.2152 - accuracy: 0.9607 - val_loss: 0.2287 - val_accuracy: 0.9314\n",
      "Epoch 4/15\n",
      "39/39 [==============================] - 0s 6ms/step - loss: 0.1688 - accuracy: 0.9697 - val_loss: 0.1949 - val_accuracy: 0.9542\n",
      "Epoch 5/15\n",
      "39/39 [==============================] - 0s 6ms/step - loss: 0.1407 - accuracy: 0.9746 - val_loss: 0.1700 - val_accuracy: 0.9641\n",
      "Epoch 6/15\n",
      "39/39 [==============================] - 0s 5ms/step - loss: 0.1210 - accuracy: 0.9828 - val_loss: 0.1582 - val_accuracy: 0.9641\n",
      "Epoch 7/15\n",
      "39/39 [==============================] - 0s 6ms/step - loss: 0.1065 - accuracy: 0.9836 - val_loss: 0.1453 - val_accuracy: 0.9706\n",
      "Epoch 8/15\n",
      "39/39 [==============================] - 0s 6ms/step - loss: 0.0953 - accuracy: 0.9844 - val_loss: 0.1374 - val_accuracy: 0.9706\n",
      "Epoch 9/15\n",
      "39/39 [==============================] - 0s 6ms/step - loss: 0.0863 - accuracy: 0.9885 - val_loss: 0.1304 - val_accuracy: 0.9706\n",
      "Epoch 10/15\n",
      "39/39 [==============================] - 0s 6ms/step - loss: 0.0783 - accuracy: 0.9902 - val_loss: 0.1242 - val_accuracy: 0.9706\n",
      "Epoch 11/15\n",
      "39/39 [==============================] - 0s 7ms/step - loss: 0.0723 - accuracy: 0.9910 - val_loss: 0.1183 - val_accuracy: 0.9739\n",
      "Epoch 12/15\n",
      "39/39 [==============================] - 0s 6ms/step - loss: 0.0661 - accuracy: 0.9918 - val_loss: 0.1141 - val_accuracy: 0.9739\n",
      "Epoch 13/15\n",
      "39/39 [==============================] - 0s 6ms/step - loss: 0.0613 - accuracy: 0.9926 - val_loss: 0.1105 - val_accuracy: 0.9739\n",
      "Epoch 14/15\n",
      "39/39 [==============================] - 0s 6ms/step - loss: 0.0570 - accuracy: 0.9943 - val_loss: 0.1073 - val_accuracy: 0.9739\n",
      "Epoch 15/15\n",
      "39/39 [==============================] - 0s 6ms/step - loss: 0.0533 - accuracy: 0.9926 - val_loss: 0.1055 - val_accuracy: 0.9739\n"
     ]
    },
    {
     "data": {
      "image/png": "[encoded data removed]",
      "text/plain": [
       "<Figure size 864x432 with 2 Axes>"
      ]
     },
     "metadata": {
      "needs_background": "light"
     },
     "output_type": "display_data"
    }
   ],
   "source": [
    "### decreasing the learning_rate\n",
    "\n",
    "model_lowLR = Sequential()\n",
    "model_lowLR.add(Dense(hidden_dim, input_dim=input_dim, activation=\"tanh\"))\n",
    "model_lowLR.add(Dense(output_dim, activation=\"softmax\"))\n",
    "\n",
    "model_lowLR.compile(optimizer=optimizers.SGD(learning_rate=0.01, momentum=0.9, nesterov=True),\n",
    "              loss='categorical_crossentropy', metrics=['accuracy'])\n",
    "\n",
    "history_lowLR = model_lowLR.fit(X_train, Y_train, validation_split=0.2, epochs=15, batch_size=32)\n",
    "\n",
    "history_lowLR_df = pd.DataFrame(history_lowLR.history)\n",
    "history_lowLR_df[\"epoch\"] = history_lowLR.epoch\n",
    "\n",
    "fig, (ax0, ax1) = plt.subplots(nrows=2, sharex=True, figsize=(12, 6))\n",
    "history_lowLR_df.plot(x=\"epoch\", y=[\"loss\", \"val_loss\"], ax=ax0)  # , kind='barh')\n",
    "history_lowLR_df.plot(x=\"epoch\", y=[\"accuracy\", \"val_accuracy\"], ax=ax1, ylim=(0,1));"
   ]
  },
  {
   "cell_type": "code",
   "execution_count": 77,
   "metadata": {},
   "outputs": [
    {
     "data": {
      "image/png": "[encoded data removed]",
      "text/plain": [
       "<Figure size 864x432 with 2 Axes>"
      ]
     },
     "metadata": {
      "needs_background": "light"
     },
     "output_type": "display_data"
    }
   ],
   "source": [
    "### increasing the learning rate (DIVERGING)\n",
    "\n",
    "model_highLR = Sequential()\n",
    "model_highLR.add(Dense(hidden_dim, input_dim=input_dim, activation=\"tanh\"))\n",
    "model_highLR.add(Dense(output_dim, activation=\"softmax\"))\n",
    "\n",
    "model_highLR.compile(optimizer=optimizers.SGD(learning_rate=1e35),\n",
    "              loss='categorical_crossentropy', metrics=['accuracy'])\n",
    "\n",
    "history_highLR = model_highLR.fit(X_train, Y_train, validation_split=0.2, epochs=15, batch_size=32//32, verbose=0)\n",
    "\n",
    "history_highLR_df = pd.DataFrame(history_highLR.history)\n",
    "history_highLR_df[\"epoch\"] = history_highLR.epoch\n",
    "\n",
    "fig, (ax0, ax1) = plt.subplots(nrows=2, sharex=True, figsize=(12, 6))\n",
    "history_highLR_df.plot(x=\"epoch\", y=[\"loss\", \"val_loss\"], ax=ax0)  # , kind='barh')\n",
    "history_highLR_df.plot(x=\"epoch\", y=[\"accuracy\", \"val_accuracy\"], ax=ax1, ylim=(0,1));"
   ]
  },
  {
   "cell_type": "code",
   "execution_count": null,
   "metadata": {},
   "outputs": [],
   "source": [
    "# %load solutions/keras_sgd_and_momentum.py"
   ]
  },
  {
   "cell_type": "markdown",
   "metadata": {},
   "source": [
    "- Replace the SGD optimizer by the Adam optimizer from keras and run it\n",
    "  with the default parameters.\n",
    "\n",
    "  Hint: use `optimizers.<TAB>` to tab-complete the list of implemented optimizers in Keras.\n",
    "\n",
    "- Add another hidden layer and use the \"Rectified Linear Unit\" for each\n",
    "  hidden layer. Can you still train the model with Adam with its default global\n",
    "  learning rate?"
   ]
  },
  {
   "cell_type": "code",
   "execution_count": 90,
   "metadata": {},
   "outputs": [
    {
     "name": "stdout",
     "output_type": "stream",
     "text": [
      "Epoch 1/15\n",
      "39/39 [==============================] - 1s 18ms/step - loss: 0.5119 - accuracy: 0.8583 - val_loss: 0.2041 - val_accuracy: 0.9542\n",
      "Epoch 2/15\n",
      "39/39 [==============================] - 0s 12ms/step - loss: 0.1386 - accuracy: 0.9623 - val_loss: 0.1519 - val_accuracy: 0.9739\n",
      "Epoch 3/15\n",
      "39/39 [==============================] - 0s 12ms/step - loss: 0.0382 - accuracy: 0.9853 - val_loss: 0.1807 - val_accuracy: 0.9673\n",
      "Epoch 4/15\n",
      "39/39 [==============================] - 0s 12ms/step - loss: 0.0359 - accuracy: 0.9926 - val_loss: 0.1897 - val_accuracy: 0.9641\n",
      "Epoch 5/15\n",
      "39/39 [==============================] - 0s 13ms/step - loss: 0.0115 - accuracy: 0.9967 - val_loss: 0.1225 - val_accuracy: 0.9804\n",
      "Epoch 6/15\n",
      "39/39 [==============================] - 0s 12ms/step - loss: 0.0070 - accuracy: 0.9975 - val_loss: 0.1199 - val_accuracy: 0.9804\n",
      "Epoch 7/15\n",
      "39/39 [==============================] - 0s 12ms/step - loss: 0.0026 - accuracy: 0.9992 - val_loss: 0.1611 - val_accuracy: 0.9771\n",
      "Epoch 8/15\n",
      "39/39 [==============================] - 0s 12ms/step - loss: 0.0105 - accuracy: 0.9967 - val_loss: 0.1455 - val_accuracy: 0.9837\n",
      "Epoch 9/15\n",
      "39/39 [==============================] - 0s 12ms/step - loss: 0.0101 - accuracy: 0.9975 - val_loss: 0.1360 - val_accuracy: 0.9771\n",
      "Epoch 10/15\n",
      "39/39 [==============================] - 0s 12ms/step - loss: 0.0014 - accuracy: 1.0000 - val_loss: 0.1393 - val_accuracy: 0.9706\n",
      "Epoch 11/15\n",
      "39/39 [==============================] - 0s 12ms/step - loss: 6.0180e-04 - accuracy: 1.0000 - val_loss: 0.1906 - val_accuracy: 0.9706\n",
      "Epoch 12/15\n",
      "39/39 [==============================] - 0s 13ms/step - loss: 2.6612e-04 - accuracy: 1.0000 - val_loss: 0.1736 - val_accuracy: 0.9739\n",
      "Epoch 13/15\n",
      "39/39 [==============================] - 0s 13ms/step - loss: 9.3756e-05 - accuracy: 1.0000 - val_loss: 0.1726 - val_accuracy: 0.9771\n",
      "Epoch 14/15\n",
      "39/39 [==============================] - 0s 12ms/step - loss: 8.0662e-05 - accuracy: 1.0000 - val_loss: 0.1740 - val_accuracy: 0.9771\n",
      "Epoch 15/15\n",
      "39/39 [==============================] - 0s 12ms/step - loss: 7.0089e-05 - accuracy: 1.0000 - val_loss: 0.1739 - val_accuracy: 0.9739\n"
     ]
    },
    {
     "data": {
      "image/png": "[encoded data removed]",
      "text/plain": [
       "<Figure size 864x432 with 2 Axes>"
      ]
     },
     "metadata": {
      "needs_background": "light"
     },
     "output_type": "display_data"
    }
   ],
   "source": [
    "### change optimizer\n",
    "\n",
    "hidden_dim = 1000\n",
    "model_adam = Sequential()\n",
    "model_adam.add(Dense(hidden_dim, input_dim=input_dim, activation=\"relu\"))\n",
    "model_adam.add(Dense(hidden_dim, activation=\"relu\"))\n",
    "model_adam.add(Dense(hidden_dim, activation=\"relu\"))\n",
    "model_adam.add(Dense(output_dim, activation=\"softmax\"))\n",
    "\n",
    "model_adam.compile(optimizer=optimizers.Adam(learning_rate=0.001),\n",
    "              loss='categorical_crossentropy', metrics=['accuracy'])\n",
    "\n",
    "history_adam = model_adam.fit(X_train, Y_train, validation_split=0.2, epochs=15, batch_size=32, verbose=1)\n",
    "\n",
    "history_adam_df = pd.DataFrame(history_adam.history)\n",
    "history_adam_df[\"epoch\"] = history_adam.epoch\n",
    "\n",
    "fig, (ax0, ax1) = plt.subplots(nrows=2, sharex=True, figsize=(12, 6))\n",
    "history_adam_df.plot(x=\"epoch\", y=[\"loss\", \"val_loss\"], ax=ax0)  # , kind='barh')\n",
    "history_adam_df.plot(x=\"epoch\", y=[\"accuracy\", \"val_accuracy\"], ax=ax1, ylim=(0,1));"
   ]
  },
  {
   "cell_type": "code",
   "execution_count": 91,
   "metadata": {},
   "outputs": [
    {
     "data": {
      "text/html": [
       "<div>\n",
       "<style scoped>\n",
       "    .dataframe tbody tr th:only-of-type {\n",
       "        vertical-align: middle;\n",
       "    }\n",
       "\n",
       "    .dataframe tbody tr th {\n",
       "        vertical-align: top;\n",
       "    }\n",
       "\n",
       "    .dataframe thead th {\n",
       "        text-align: right;\n",
       "    }\n",
       "</style>\n",
       "<table border=\"1\" class=\"dataframe\">\n",
       "  <thead>\n",
       "    <tr style=\"text-align: right;\">\n",
       "      <th></th>\n",
       "      <th>loss</th>\n",
       "      <th>accuracy</th>\n",
       "      <th>val_loss</th>\n",
       "      <th>val_accuracy</th>\n",
       "      <th>epoch</th>\n",
       "    </tr>\n",
       "  </thead>\n",
       "  <tbody>\n",
       "    <tr>\n",
       "      <th>0</th>\n",
       "      <td>0.511935</td>\n",
       "      <td>0.858313</td>\n",
       "      <td>0.204128</td>\n",
       "      <td>0.954248</td>\n",
       "      <td>0</td>\n",
       "    </tr>\n",
       "    <tr>\n",
       "      <th>1</th>\n",
       "      <td>0.138643</td>\n",
       "      <td>0.962326</td>\n",
       "      <td>0.151900</td>\n",
       "      <td>0.973856</td>\n",
       "      <td>1</td>\n",
       "    </tr>\n",
       "    <tr>\n",
       "      <th>2</th>\n",
       "      <td>0.038155</td>\n",
       "      <td>0.985258</td>\n",
       "      <td>0.180660</td>\n",
       "      <td>0.967320</td>\n",
       "      <td>2</td>\n",
       "    </tr>\n",
       "    <tr>\n",
       "      <th>3</th>\n",
       "      <td>0.035852</td>\n",
       "      <td>0.992629</td>\n",
       "      <td>0.189703</td>\n",
       "      <td>0.964052</td>\n",
       "      <td>3</td>\n",
       "    </tr>\n",
       "    <tr>\n",
       "      <th>4</th>\n",
       "      <td>0.011535</td>\n",
       "      <td>0.996724</td>\n",
       "      <td>0.122462</td>\n",
       "      <td>0.980392</td>\n",
       "      <td>4</td>\n",
       "    </tr>\n",
       "    <tr>\n",
       "      <th>5</th>\n",
       "      <td>0.006981</td>\n",
       "      <td>0.997543</td>\n",
       "      <td>0.119925</td>\n",
       "      <td>0.980392</td>\n",
       "      <td>5</td>\n",
       "    </tr>\n",
       "    <tr>\n",
       "      <th>6</th>\n",
       "      <td>0.002553</td>\n",
       "      <td>0.999181</td>\n",
       "      <td>0.161120</td>\n",
       "      <td>0.977124</td>\n",
       "      <td>6</td>\n",
       "    </tr>\n",
       "    <tr>\n",
       "      <th>7</th>\n",
       "      <td>0.010484</td>\n",
       "      <td>0.996724</td>\n",
       "      <td>0.145474</td>\n",
       "      <td>0.983660</td>\n",
       "      <td>7</td>\n",
       "    </tr>\n",
       "    <tr>\n",
       "      <th>8</th>\n",
       "      <td>0.010140</td>\n",
       "      <td>0.997543</td>\n",
       "      <td>0.135951</td>\n",
       "      <td>0.977124</td>\n",
       "      <td>8</td>\n",
       "    </tr>\n",
       "    <tr>\n",
       "      <th>9</th>\n",
       "      <td>0.001445</td>\n",
       "      <td>1.000000</td>\n",
       "      <td>0.139319</td>\n",
       "      <td>0.970588</td>\n",
       "      <td>9</td>\n",
       "    </tr>\n",
       "    <tr>\n",
       "      <th>10</th>\n",
       "      <td>0.000602</td>\n",
       "      <td>1.000000</td>\n",
       "      <td>0.190596</td>\n",
       "      <td>0.970588</td>\n",
       "      <td>10</td>\n",
       "    </tr>\n",
       "    <tr>\n",
       "      <th>11</th>\n",
       "      <td>0.000266</td>\n",
       "      <td>1.000000</td>\n",
       "      <td>0.173600</td>\n",
       "      <td>0.973856</td>\n",
       "      <td>11</td>\n",
       "    </tr>\n",
       "    <tr>\n",
       "      <th>12</th>\n",
       "      <td>0.000094</td>\n",
       "      <td>1.000000</td>\n",
       "      <td>0.172627</td>\n",
       "      <td>0.977124</td>\n",
       "      <td>12</td>\n",
       "    </tr>\n",
       "    <tr>\n",
       "      <th>13</th>\n",
       "      <td>0.000081</td>\n",
       "      <td>1.000000</td>\n",
       "      <td>0.173962</td>\n",
       "      <td>0.977124</td>\n",
       "      <td>13</td>\n",
       "    </tr>\n",
       "    <tr>\n",
       "      <th>14</th>\n",
       "      <td>0.000070</td>\n",
       "      <td>1.000000</td>\n",
       "      <td>0.173934</td>\n",
       "      <td>0.973856</td>\n",
       "      <td>14</td>\n",
       "    </tr>\n",
       "  </tbody>\n",
       "</table>\n",
       "</div>"
      ],
      "text/plain": [
       "        loss  accuracy  val_loss  val_accuracy  epoch\n",
       "0   0.511935  0.858313  0.204128      0.954248      0\n",
       "1   0.138643  0.962326  0.151900      0.973856      1\n",
       "2   0.038155  0.985258  0.180660      0.967320      2\n",
       "3   0.035852  0.992629  0.189703      0.964052      3\n",
       "4   0.011535  0.996724  0.122462      0.980392      4\n",
       "5   0.006981  0.997543  0.119925      0.980392      5\n",
       "6   0.002553  0.999181  0.161120      0.977124      6\n",
       "7   0.010484  0.996724  0.145474      0.983660      7\n",
       "8   0.010140  0.997543  0.135951      0.977124      8\n",
       "9   0.001445  1.000000  0.139319      0.970588      9\n",
       "10  0.000602  1.000000  0.190596      0.970588     10\n",
       "11  0.000266  1.000000  0.173600      0.973856     11\n",
       "12  0.000094  1.000000  0.172627      0.977124     12\n",
       "13  0.000081  1.000000  0.173962      0.977124     13\n",
       "14  0.000070  1.000000  0.173934      0.973856     14"
      ]
     },
     "execution_count": 91,
     "metadata": {},
     "output_type": "execute_result"
    }
   ],
   "source": [
    "history_adam_df"
   ]
  },
  {
   "cell_type": "code",
   "execution_count": null,
   "metadata": {},
   "outputs": [],
   "source": [
    "# %load solutions/keras_adam.py"
   ]
  },
  {
   "cell_type": "markdown",
   "metadata": {},
   "source": [
    "### Exercises: Forward Pass and Generalization\n",
    "\n",
    "- Compute predictions on test set using `model.predict(...)`\n",
    "- Compute average accuracy of the model on the test set: the fraction of test samples for which the model makes a prediction that matches the true label."
   ]
  },
  {
   "cell_type": "code",
   "execution_count": 108,
   "metadata": {},
   "outputs": [
    {
     "data": {
      "text/plain": [
       "0.9955555555555555"
      ]
     },
     "execution_count": 108,
     "metadata": {},
     "output_type": "execute_result"
    }
   ],
   "source": [
    "preds = model_adam.predict(X_test)\n",
    "Y_predict = to_categorical(np.argmax(preds, axis=1))\n",
    "Y_test = to_categorical(y_test)\n",
    "\n",
    "np.mean(Y_predict==Y_test)"
   ]
  },
  {
   "cell_type": "code",
   "execution_count": null,
   "metadata": {},
   "outputs": [],
   "source": [
    "# %load solutions/keras_accuracy_on_test_set.py"
   ]
  },
  {
   "cell_type": "markdown",
   "metadata": {},
   "source": [
    "Let us decompose how we got the predictions. First, we call the model on the data to get the laster layer (softmax) outputs directly as a tensorflow Tensor:"
   ]
  },
  {
   "cell_type": "code",
   "execution_count": 111,
   "metadata": {},
   "outputs": [
    {
     "data": {
      "text/plain": [
       "<tf.Tensor: shape=(5, 10), dtype=float32, numpy=\n",
       "array([[7.8318601e-07, 2.5931071e-04, 9.9917525e-01, 4.5439691e-04,\n",
       "        2.4885338e-07, 4.8493337e-07, 2.2353379e-06, 5.1516534e-05,\n",
       "        4.1031533e-05, 1.4679523e-05],\n",
       "       [5.9145233e-03, 1.9893272e-05, 1.5648782e-05, 2.2055433e-08,\n",
       "        9.9261594e-01, 3.1341533e-06, 1.2078555e-03, 2.2029181e-04,\n",
       "        2.0942173e-06, 7.0905429e-07],\n",
       "       [1.3657034e-05, 9.3046110e-05, 1.2635373e-04, 3.6086803e-04,\n",
       "        1.5167118e-04, 2.0426207e-05, 8.5903196e-07, 9.9884570e-01,\n",
       "        6.2454051e-06, 3.8120057e-04],\n",
       "       [5.6270778e-04, 3.1228992e-03, 2.6060236e-04, 8.3508110e-03,\n",
       "        4.9652142e-05, 2.8563925e-04, 9.5087489e-06, 8.4520841e-05,\n",
       "        1.8783089e-03, 9.8539531e-01],\n",
       "       [4.1619860e-06, 9.6735919e-01, 2.4387942e-04, 9.6764369e-04,\n",
       "        6.8446255e-04, 1.0213563e-05, 2.6028965e-05, 9.5018483e-04,\n",
       "        2.8085895e-02, 1.6683666e-03]], dtype=float32)>"
      ]
     },
     "execution_count": 111,
     "metadata": {},
     "output_type": "execute_result"
    }
   ],
   "source": [
    "predictions_tf = model(X_test)\n",
    "predictions_tf[:5]"
   ]
  },
  {
   "cell_type": "code",
   "execution_count": 112,
   "metadata": {},
   "outputs": [
    {
     "data": {
      "text/plain": [
       "(tensorflow.python.framework.ops.EagerTensor, TensorShape([270, 10]))"
      ]
     },
     "execution_count": 112,
     "metadata": {},
     "output_type": "execute_result"
    }
   ],
   "source": [
    "type(predictions_tf), predictions_tf.shape"
   ]
  },
  {
   "cell_type": "markdown",
   "metadata": {},
   "source": [
    "We can use the tensorflow API to check that for each row, the probabilities sum to 1:"
   ]
  },
  {
   "cell_type": "code",
   "execution_count": 113,
   "metadata": {},
   "outputs": [
    {
     "data": {
      "text/plain": [
       "<tf.Tensor: shape=(5,), dtype=float32, numpy=\n",
       "array([1.        , 1.0000001 , 0.99999994, 1.        , 1.        ],\n",
       "      dtype=float32)>"
      ]
     },
     "execution_count": 113,
     "metadata": {},
     "output_type": "execute_result"
    }
   ],
   "source": [
    "import tensorflow as tf\n",
    "\n",
    "tf.reduce_sum(predictions_tf, axis=1)[:5]"
   ]
  },
  {
   "cell_type": "code",
   "execution_count": 157,
   "metadata": {},
   "outputs": [
    {
     "data": {
      "text/plain": [
       "[PhysicalDevice(name='/physical_device:GPU:0', device_type='GPU')]"
      ]
     },
     "execution_count": 157,
     "metadata": {},
     "output_type": "execute_result"
    }
   ],
   "source": [
    "tf.config.list_physical_devices('GPU')"
   ]
  },
  {
   "cell_type": "markdown",
   "metadata": {},
   "source": [
    "We can also extract the label with the highest probability using the tensorflow API:"
   ]
  },
  {
   "cell_type": "code",
   "execution_count": 114,
   "metadata": {},
   "outputs": [
    {
     "data": {
      "text/plain": [
       "<tf.Tensor: shape=(5,), dtype=int64, numpy=array([2, 4, 7, 9, 1], dtype=int64)>"
      ]
     },
     "execution_count": 114,
     "metadata": {},
     "output_type": "execute_result"
    }
   ],
   "source": [
    "predicted_labels_tf = tf.argmax(predictions_tf, axis=1)\n",
    "predicted_labels_tf[:5]"
   ]
  },
  {
   "cell_type": "markdown",
   "metadata": {},
   "source": [
    "We can compare those labels to the expected labels to compute the accuracy with the Tensorflow API. Note however that we need an explicit cast from boolean to floating point values to be able to compute the mean accuracy when using the tensorflow tensors:"
   ]
  },
  {
   "cell_type": "code",
   "execution_count": 115,
   "metadata": {},
   "outputs": [
    {
     "data": {
      "text/plain": [
       "<tf.Tensor: shape=(), dtype=float64, numpy=0.9740740740740741>"
      ]
     },
     "execution_count": 115,
     "metadata": {},
     "output_type": "execute_result"
    }
   ],
   "source": [
    "accuracy_tf = tf.reduce_mean(tf.cast(predicted_labels_tf == y_test, tf.float64))\n",
    "accuracy_tf"
   ]
  },
  {
   "cell_type": "markdown",
   "metadata": {},
   "source": [
    "Also note that it is possible to convert tensors to numpy array if one prefer to use numpy:"
   ]
  },
  {
   "cell_type": "code",
   "execution_count": 116,
   "metadata": {},
   "outputs": [
    {
     "data": {
      "text/plain": [
       "0.9740740740740741"
      ]
     },
     "execution_count": 116,
     "metadata": {},
     "output_type": "execute_result"
    }
   ],
   "source": [
    "accuracy_tf.numpy()"
   ]
  },
  {
   "cell_type": "code",
   "execution_count": 117,
   "metadata": {},
   "outputs": [
    {
     "data": {
      "text/plain": [
       "<tf.Tensor: shape=(5,), dtype=int64, numpy=array([2, 4, 7, 9, 1], dtype=int64)>"
      ]
     },
     "execution_count": 117,
     "metadata": {},
     "output_type": "execute_result"
    }
   ],
   "source": [
    "predicted_labels_tf[:5]"
   ]
  },
  {
   "cell_type": "code",
   "execution_count": 118,
   "metadata": {},
   "outputs": [
    {
     "data": {
      "text/plain": [
       "array([2, 4, 7, 9, 1], dtype=int64)"
      ]
     },
     "execution_count": 118,
     "metadata": {},
     "output_type": "execute_result"
    }
   ],
   "source": [
    "predicted_labels_tf.numpy()[:5]"
   ]
  },
  {
   "cell_type": "code",
   "execution_count": 119,
   "metadata": {},
   "outputs": [
    {
     "data": {
      "text/plain": [
       "0.9740740740740741"
      ]
     },
     "execution_count": 119,
     "metadata": {},
     "output_type": "execute_result"
    }
   ],
   "source": [
    "(predicted_labels_tf.numpy() == y_test).mean()"
   ]
  },
  {
   "cell_type": "markdown",
   "metadata": {},
   "source": [
    "## Home Assignment: Impact of Initialization\n",
    "\n",
    "Let us now study the impact of a bad initialization when training\n",
    "a deep feed forward network.\n",
    "\n",
    "By default, Keras dense layers use the \"Glorot Uniform\" initialization\n",
    "strategy to initialize the weight matrices:\n",
    "\n",
    "- each weight coefficient is randomly sampled from [-scale, scale]\n",
    "- scale is proportional to $\\frac{1}{\\sqrt{n_{in} + n_{out}}}$\n",
    "\n",
    "This strategy is known to work well to initialize deep neural networks\n",
    "with \"tanh\" or \"relu\" activation functions and then trained with\n",
    "standard SGD.\n",
    "\n",
    "To assess the impact of initialization let us plug an alternative init\n",
    "scheme into a 2 hidden layers networks with \"tanh\" activations.\n",
    "For the sake of the example let's use normal distributed weights\n",
    "with a manually adjustable scale (standard deviation) and see the\n",
    "impact the scale value:"
   ]
  },
  {
   "cell_type": "code",
   "execution_count": 139,
   "metadata": {},
   "outputs": [],
   "source": [
    "from tensorflow.keras import initializers\n",
    "\n",
    "normal_init = initializers.TruncatedNormal(stddev=0.01)\n",
    "\n",
    "\n",
    "model = Sequential()\n",
    "model.add(Dense(hidden_dim, input_dim=input_dim, activation=\"tanh\",\n",
    "                kernel_initializer=normal_init))\n",
    "model.add(Dense(hidden_dim, activation=\"tanh\",\n",
    "                kernel_initializer=normal_init))\n",
    "model.add(Dense(output_dim, activation=\"softmax\",\n",
    "                kernel_initializer=normal_init))\n",
    "\n",
    "model.compile(optimizer=optimizers.SGD(learning_rate=0.1),\n",
    "              loss='categorical_crossentropy', metrics=['accuracy'])"
   ]
  },
  {
   "cell_type": "code",
   "execution_count": 140,
   "metadata": {},
   "outputs": [
    {
     "data": {
      "text/plain": [
       "[<keras.layers.core.dense.Dense at 0x2165c11fd00>,\n",
       " <keras.layers.core.dense.Dense at 0x21657656550>,\n",
       " <keras.layers.core.dense.Dense at 0x2165c11ff70>]"
      ]
     },
     "execution_count": 140,
     "metadata": {},
     "output_type": "execute_result"
    }
   ],
   "source": [
    "model.layers"
   ]
  },
  {
   "cell_type": "markdown",
   "metadata": {},
   "source": [
    "Let's have a look at the parameters of the first layer after initialization but before any training has happened:"
   ]
  },
  {
   "cell_type": "code",
   "execution_count": 141,
   "metadata": {
    "collapsed": true,
    "jupyter": {
     "outputs_hidden": true
    },
    "tags": []
   },
   "outputs": [
    {
     "data": {
      "text/plain": [
       "[<tf.Variable 'dense_86/kernel:0' shape=(64, 1000) dtype=float32, numpy=\n",
       " array([[-1.51397579e-03, -9.54735186e-03,  3.67057254e-03, ...,\n",
       "         -9.78895370e-03, -9.62955598e-03,  3.11052287e-03],\n",
       "        [ 1.12249870e-02,  1.71565246e-02,  1.10497922e-02, ...,\n",
       "          9.83377686e-04,  1.46274623e-02,  4.57806978e-03],\n",
       "        [-1.15553960e-02,  1.56625155e-02,  1.44276174e-03, ...,\n",
       "         -2.99982331e-03,  7.51114171e-03,  8.95472767e-05],\n",
       "        ...,\n",
       "        [-3.74185247e-03, -7.56658753e-03, -9.14073177e-03, ...,\n",
       "          6.46110508e-04, -1.27389352e-03,  2.22618645e-03],\n",
       "        [-1.32936835e-02, -7.78082758e-04,  5.78953605e-03, ...,\n",
       "          1.13424705e-03,  1.56359356e-02, -9.04264953e-03],\n",
       "        [-1.00171715e-02,  6.75780000e-03,  1.36589212e-03, ...,\n",
       "         -1.31738735e-02,  1.35586075e-02,  3.39187356e-03]], dtype=float32)>,\n",
       " <tf.Variable 'dense_86/bias:0' shape=(1000,) dtype=float32, numpy=\n",
       " array([0., 0., 0., 0., 0., 0., 0., 0., 0., 0., 0., 0., 0., 0., 0., 0., 0.,\n",
       "        0., 0., 0., 0., 0., 0., 0., 0., 0., 0., 0., 0., 0., 0., 0., 0., 0.,\n",
       "        0., 0., 0., 0., 0., 0., 0., 0., 0., 0., 0., 0., 0., 0., 0., 0., 0.,\n",
       "        0., 0., 0., 0., 0., 0., 0., 0., 0., 0., 0., 0., 0., 0., 0., 0., 0.,\n",
       "        0., 0., 0., 0., 0., 0., 0., 0., 0., 0., 0., 0., 0., 0., 0., 0., 0.,\n",
       "        0., 0., 0., 0., 0., 0., 0., 0., 0., 0., 0., 0., 0., 0., 0., 0., 0.,\n",
       "        0., 0., 0., 0., 0., 0., 0., 0., 0., 0., 0., 0., 0., 0., 0., 0., 0.,\n",
       "        0., 0., 0., 0., 0., 0., 0., 0., 0., 0., 0., 0., 0., 0., 0., 0., 0.,\n",
       "        0., 0., 0., 0., 0., 0., 0., 0., 0., 0., 0., 0., 0., 0., 0., 0., 0.,\n",
       "        0., 0., 0., 0., 0., 0., 0., 0., 0., 0., 0., 0., 0., 0., 0., 0., 0.,\n",
       "        0., 0., 0., 0., 0., 0., 0., 0., 0., 0., 0., 0., 0., 0., 0., 0., 0.,\n",
       "        0., 0., 0., 0., 0., 0., 0., 0., 0., 0., 0., 0., 0., 0., 0., 0., 0.,\n",
       "        0., 0., 0., 0., 0., 0., 0., 0., 0., 0., 0., 0., 0., 0., 0., 0., 0.,\n",
       "        0., 0., 0., 0., 0., 0., 0., 0., 0., 0., 0., 0., 0., 0., 0., 0., 0.,\n",
       "        0., 0., 0., 0., 0., 0., 0., 0., 0., 0., 0., 0., 0., 0., 0., 0., 0.,\n",
       "        0., 0., 0., 0., 0., 0., 0., 0., 0., 0., 0., 0., 0., 0., 0., 0., 0.,\n",
       "        0., 0., 0., 0., 0., 0., 0., 0., 0., 0., 0., 0., 0., 0., 0., 0., 0.,\n",
       "        0., 0., 0., 0., 0., 0., 0., 0., 0., 0., 0., 0., 0., 0., 0., 0., 0.,\n",
       "        0., 0., 0., 0., 0., 0., 0., 0., 0., 0., 0., 0., 0., 0., 0., 0., 0.,\n",
       "        0., 0., 0., 0., 0., 0., 0., 0., 0., 0., 0., 0., 0., 0., 0., 0., 0.,\n",
       "        0., 0., 0., 0., 0., 0., 0., 0., 0., 0., 0., 0., 0., 0., 0., 0., 0.,\n",
       "        0., 0., 0., 0., 0., 0., 0., 0., 0., 0., 0., 0., 0., 0., 0., 0., 0.,\n",
       "        0., 0., 0., 0., 0., 0., 0., 0., 0., 0., 0., 0., 0., 0., 0., 0., 0.,\n",
       "        0., 0., 0., 0., 0., 0., 0., 0., 0., 0., 0., 0., 0., 0., 0., 0., 0.,\n",
       "        0., 0., 0., 0., 0., 0., 0., 0., 0., 0., 0., 0., 0., 0., 0., 0., 0.,\n",
       "        0., 0., 0., 0., 0., 0., 0., 0., 0., 0., 0., 0., 0., 0., 0., 0., 0.,\n",
       "        0., 0., 0., 0., 0., 0., 0., 0., 0., 0., 0., 0., 0., 0., 0., 0., 0.,\n",
       "        0., 0., 0., 0., 0., 0., 0., 0., 0., 0., 0., 0., 0., 0., 0., 0., 0.,\n",
       "        0., 0., 0., 0., 0., 0., 0., 0., 0., 0., 0., 0., 0., 0., 0., 0., 0.,\n",
       "        0., 0., 0., 0., 0., 0., 0., 0., 0., 0., 0., 0., 0., 0., 0., 0., 0.,\n",
       "        0., 0., 0., 0., 0., 0., 0., 0., 0., 0., 0., 0., 0., 0., 0., 0., 0.,\n",
       "        0., 0., 0., 0., 0., 0., 0., 0., 0., 0., 0., 0., 0., 0., 0., 0., 0.,\n",
       "        0., 0., 0., 0., 0., 0., 0., 0., 0., 0., 0., 0., 0., 0., 0., 0., 0.,\n",
       "        0., 0., 0., 0., 0., 0., 0., 0., 0., 0., 0., 0., 0., 0., 0., 0., 0.,\n",
       "        0., 0., 0., 0., 0., 0., 0., 0., 0., 0., 0., 0., 0., 0., 0., 0., 0.,\n",
       "        0., 0., 0., 0., 0., 0., 0., 0., 0., 0., 0., 0., 0., 0., 0., 0., 0.,\n",
       "        0., 0., 0., 0., 0., 0., 0., 0., 0., 0., 0., 0., 0., 0., 0., 0., 0.,\n",
       "        0., 0., 0., 0., 0., 0., 0., 0., 0., 0., 0., 0., 0., 0., 0., 0., 0.,\n",
       "        0., 0., 0., 0., 0., 0., 0., 0., 0., 0., 0., 0., 0., 0., 0., 0., 0.,\n",
       "        0., 0., 0., 0., 0., 0., 0., 0., 0., 0., 0., 0., 0., 0., 0., 0., 0.,\n",
       "        0., 0., 0., 0., 0., 0., 0., 0., 0., 0., 0., 0., 0., 0., 0., 0., 0.,\n",
       "        0., 0., 0., 0., 0., 0., 0., 0., 0., 0., 0., 0., 0., 0., 0., 0., 0.,\n",
       "        0., 0., 0., 0., 0., 0., 0., 0., 0., 0., 0., 0., 0., 0., 0., 0., 0.,\n",
       "        0., 0., 0., 0., 0., 0., 0., 0., 0., 0., 0., 0., 0., 0., 0., 0., 0.,\n",
       "        0., 0., 0., 0., 0., 0., 0., 0., 0., 0., 0., 0., 0., 0., 0., 0., 0.,\n",
       "        0., 0., 0., 0., 0., 0., 0., 0., 0., 0., 0., 0., 0., 0., 0., 0., 0.,\n",
       "        0., 0., 0., 0., 0., 0., 0., 0., 0., 0., 0., 0., 0., 0., 0., 0., 0.,\n",
       "        0., 0., 0., 0., 0., 0., 0., 0., 0., 0., 0., 0., 0., 0., 0., 0., 0.,\n",
       "        0., 0., 0., 0., 0., 0., 0., 0., 0., 0., 0., 0., 0., 0., 0., 0., 0.,\n",
       "        0., 0., 0., 0., 0., 0., 0., 0., 0., 0., 0., 0., 0., 0., 0., 0., 0.,\n",
       "        0., 0., 0., 0., 0., 0., 0., 0., 0., 0., 0., 0., 0., 0., 0., 0., 0.,\n",
       "        0., 0., 0., 0., 0., 0., 0., 0., 0., 0., 0., 0., 0., 0., 0., 0., 0.,\n",
       "        0., 0., 0., 0., 0., 0., 0., 0., 0., 0., 0., 0., 0., 0., 0., 0., 0.,\n",
       "        0., 0., 0., 0., 0., 0., 0., 0., 0., 0., 0., 0., 0., 0., 0., 0., 0.,\n",
       "        0., 0., 0., 0., 0., 0., 0., 0., 0., 0., 0., 0., 0., 0., 0., 0., 0.,\n",
       "        0., 0., 0., 0., 0., 0., 0., 0., 0., 0., 0., 0., 0., 0., 0., 0., 0.,\n",
       "        0., 0., 0., 0., 0., 0., 0., 0., 0., 0., 0., 0., 0., 0., 0., 0., 0.,\n",
       "        0., 0., 0., 0., 0., 0., 0., 0., 0., 0., 0., 0., 0., 0., 0., 0., 0.,\n",
       "        0., 0., 0., 0., 0., 0., 0., 0., 0., 0., 0., 0., 0., 0.],\n",
       "       dtype=float32)>]"
      ]
     },
     "execution_count": 141,
     "metadata": {},
     "output_type": "execute_result"
    }
   ],
   "source": [
    "model.layers[0].weights"
   ]
  },
  {
   "cell_type": "code",
   "execution_count": 142,
   "metadata": {},
   "outputs": [
    {
     "data": {
      "text/plain": [
       "array([[-1.51397579e-03, -9.54735186e-03,  3.67057254e-03, ...,\n",
       "        -9.78895370e-03, -9.62955598e-03,  3.11052287e-03],\n",
       "       [ 1.12249870e-02,  1.71565246e-02,  1.10497922e-02, ...,\n",
       "         9.83377686e-04,  1.46274623e-02,  4.57806978e-03],\n",
       "       [-1.15553960e-02,  1.56625155e-02,  1.44276174e-03, ...,\n",
       "        -2.99982331e-03,  7.51114171e-03,  8.95472767e-05],\n",
       "       ...,\n",
       "       [-3.74185247e-03, -7.56658753e-03, -9.14073177e-03, ...,\n",
       "         6.46110508e-04, -1.27389352e-03,  2.22618645e-03],\n",
       "       [-1.32936835e-02, -7.78082758e-04,  5.78953605e-03, ...,\n",
       "         1.13424705e-03,  1.56359356e-02, -9.04264953e-03],\n",
       "       [-1.00171715e-02,  6.75780000e-03,  1.36589212e-03, ...,\n",
       "        -1.31738735e-02,  1.35586075e-02,  3.39187356e-03]], dtype=float32)"
      ]
     },
     "execution_count": 142,
     "metadata": {},
     "output_type": "execute_result"
    }
   ],
   "source": [
    "w = model.layers[0].weights[0].numpy()\n",
    "w"
   ]
  },
  {
   "cell_type": "code",
   "execution_count": 143,
   "metadata": {},
   "outputs": [
    {
     "data": {
      "text/plain": [
       "0.008799155"
      ]
     },
     "execution_count": 143,
     "metadata": {},
     "output_type": "execute_result"
    }
   ],
   "source": [
    "w.std()"
   ]
  },
  {
   "cell_type": "code",
   "execution_count": 144,
   "metadata": {
    "collapsed": true,
    "jupyter": {
     "outputs_hidden": true
    },
    "tags": []
   },
   "outputs": [
    {
     "data": {
      "text/plain": [
       "array([0., 0., 0., 0., 0., 0., 0., 0., 0., 0., 0., 0., 0., 0., 0., 0., 0.,\n",
       "       0., 0., 0., 0., 0., 0., 0., 0., 0., 0., 0., 0., 0., 0., 0., 0., 0.,\n",
       "       0., 0., 0., 0., 0., 0., 0., 0., 0., 0., 0., 0., 0., 0., 0., 0., 0.,\n",
       "       0., 0., 0., 0., 0., 0., 0., 0., 0., 0., 0., 0., 0., 0., 0., 0., 0.,\n",
       "       0., 0., 0., 0., 0., 0., 0., 0., 0., 0., 0., 0., 0., 0., 0., 0., 0.,\n",
       "       0., 0., 0., 0., 0., 0., 0., 0., 0., 0., 0., 0., 0., 0., 0., 0., 0.,\n",
       "       0., 0., 0., 0., 0., 0., 0., 0., 0., 0., 0., 0., 0., 0., 0., 0., 0.,\n",
       "       0., 0., 0., 0., 0., 0., 0., 0., 0., 0., 0., 0., 0., 0., 0., 0., 0.,\n",
       "       0., 0., 0., 0., 0., 0., 0., 0., 0., 0., 0., 0., 0., 0., 0., 0., 0.,\n",
       "       0., 0., 0., 0., 0., 0., 0., 0., 0., 0., 0., 0., 0., 0., 0., 0., 0.,\n",
       "       0., 0., 0., 0., 0., 0., 0., 0., 0., 0., 0., 0., 0., 0., 0., 0., 0.,\n",
       "       0., 0., 0., 0., 0., 0., 0., 0., 0., 0., 0., 0., 0., 0., 0., 0., 0.,\n",
       "       0., 0., 0., 0., 0., 0., 0., 0., 0., 0., 0., 0., 0., 0., 0., 0., 0.,\n",
       "       0., 0., 0., 0., 0., 0., 0., 0., 0., 0., 0., 0., 0., 0., 0., 0., 0.,\n",
       "       0., 0., 0., 0., 0., 0., 0., 0., 0., 0., 0., 0., 0., 0., 0., 0., 0.,\n",
       "       0., 0., 0., 0., 0., 0., 0., 0., 0., 0., 0., 0., 0., 0., 0., 0., 0.,\n",
       "       0., 0., 0., 0., 0., 0., 0., 0., 0., 0., 0., 0., 0., 0., 0., 0., 0.,\n",
       "       0., 0., 0., 0., 0., 0., 0., 0., 0., 0., 0., 0., 0., 0., 0., 0., 0.,\n",
       "       0., 0., 0., 0., 0., 0., 0., 0., 0., 0., 0., 0., 0., 0., 0., 0., 0.,\n",
       "       0., 0., 0., 0., 0., 0., 0., 0., 0., 0., 0., 0., 0., 0., 0., 0., 0.,\n",
       "       0., 0., 0., 0., 0., 0., 0., 0., 0., 0., 0., 0., 0., 0., 0., 0., 0.,\n",
       "       0., 0., 0., 0., 0., 0., 0., 0., 0., 0., 0., 0., 0., 0., 0., 0., 0.,\n",
       "       0., 0., 0., 0., 0., 0., 0., 0., 0., 0., 0., 0., 0., 0., 0., 0., 0.,\n",
       "       0., 0., 0., 0., 0., 0., 0., 0., 0., 0., 0., 0., 0., 0., 0., 0., 0.,\n",
       "       0., 0., 0., 0., 0., 0., 0., 0., 0., 0., 0., 0., 0., 0., 0., 0., 0.,\n",
       "       0., 0., 0., 0., 0., 0., 0., 0., 0., 0., 0., 0., 0., 0., 0., 0., 0.,\n",
       "       0., 0., 0., 0., 0., 0., 0., 0., 0., 0., 0., 0., 0., 0., 0., 0., 0.,\n",
       "       0., 0., 0., 0., 0., 0., 0., 0., 0., 0., 0., 0., 0., 0., 0., 0., 0.,\n",
       "       0., 0., 0., 0., 0., 0., 0., 0., 0., 0., 0., 0., 0., 0., 0., 0., 0.,\n",
       "       0., 0., 0., 0., 0., 0., 0., 0., 0., 0., 0., 0., 0., 0., 0., 0., 0.,\n",
       "       0., 0., 0., 0., 0., 0., 0., 0., 0., 0., 0., 0., 0., 0., 0., 0., 0.,\n",
       "       0., 0., 0., 0., 0., 0., 0., 0., 0., 0., 0., 0., 0., 0., 0., 0., 0.,\n",
       "       0., 0., 0., 0., 0., 0., 0., 0., 0., 0., 0., 0., 0., 0., 0., 0., 0.,\n",
       "       0., 0., 0., 0., 0., 0., 0., 0., 0., 0., 0., 0., 0., 0., 0., 0., 0.,\n",
       "       0., 0., 0., 0., 0., 0., 0., 0., 0., 0., 0., 0., 0., 0., 0., 0., 0.,\n",
       "       0., 0., 0., 0., 0., 0., 0., 0., 0., 0., 0., 0., 0., 0., 0., 0., 0.,\n",
       "       0., 0., 0., 0., 0., 0., 0., 0., 0., 0., 0., 0., 0., 0., 0., 0., 0.,\n",
       "       0., 0., 0., 0., 0., 0., 0., 0., 0., 0., 0., 0., 0., 0., 0., 0., 0.,\n",
       "       0., 0., 0., 0., 0., 0., 0., 0., 0., 0., 0., 0., 0., 0., 0., 0., 0.,\n",
       "       0., 0., 0., 0., 0., 0., 0., 0., 0., 0., 0., 0., 0., 0., 0., 0., 0.,\n",
       "       0., 0., 0., 0., 0., 0., 0., 0., 0., 0., 0., 0., 0., 0., 0., 0., 0.,\n",
       "       0., 0., 0., 0., 0., 0., 0., 0., 0., 0., 0., 0., 0., 0., 0., 0., 0.,\n",
       "       0., 0., 0., 0., 0., 0., 0., 0., 0., 0., 0., 0., 0., 0., 0., 0., 0.,\n",
       "       0., 0., 0., 0., 0., 0., 0., 0., 0., 0., 0., 0., 0., 0., 0., 0., 0.,\n",
       "       0., 0., 0., 0., 0., 0., 0., 0., 0., 0., 0., 0., 0., 0., 0., 0., 0.,\n",
       "       0., 0., 0., 0., 0., 0., 0., 0., 0., 0., 0., 0., 0., 0., 0., 0., 0.,\n",
       "       0., 0., 0., 0., 0., 0., 0., 0., 0., 0., 0., 0., 0., 0., 0., 0., 0.,\n",
       "       0., 0., 0., 0., 0., 0., 0., 0., 0., 0., 0., 0., 0., 0., 0., 0., 0.,\n",
       "       0., 0., 0., 0., 0., 0., 0., 0., 0., 0., 0., 0., 0., 0., 0., 0., 0.,\n",
       "       0., 0., 0., 0., 0., 0., 0., 0., 0., 0., 0., 0., 0., 0., 0., 0., 0.,\n",
       "       0., 0., 0., 0., 0., 0., 0., 0., 0., 0., 0., 0., 0., 0., 0., 0., 0.,\n",
       "       0., 0., 0., 0., 0., 0., 0., 0., 0., 0., 0., 0., 0., 0., 0., 0., 0.,\n",
       "       0., 0., 0., 0., 0., 0., 0., 0., 0., 0., 0., 0., 0., 0., 0., 0., 0.,\n",
       "       0., 0., 0., 0., 0., 0., 0., 0., 0., 0., 0., 0., 0., 0., 0., 0., 0.,\n",
       "       0., 0., 0., 0., 0., 0., 0., 0., 0., 0., 0., 0., 0., 0., 0., 0., 0.,\n",
       "       0., 0., 0., 0., 0., 0., 0., 0., 0., 0., 0., 0., 0., 0., 0., 0., 0.,\n",
       "       0., 0., 0., 0., 0., 0., 0., 0., 0., 0., 0., 0., 0., 0., 0., 0., 0.,\n",
       "       0., 0., 0., 0., 0., 0., 0., 0., 0., 0., 0., 0., 0., 0., 0., 0., 0.,\n",
       "       0., 0., 0., 0., 0., 0., 0., 0., 0., 0., 0., 0., 0., 0.],\n",
       "      dtype=float32)"
      ]
     },
     "execution_count": 144,
     "metadata": {},
     "output_type": "execute_result"
    }
   ],
   "source": [
    "b = model.layers[0].weights[1].numpy()\n",
    "b"
   ]
  },
  {
   "cell_type": "code",
   "execution_count": 145,
   "metadata": {},
   "outputs": [
    {
     "name": "stdout",
     "output_type": "stream",
     "text": [
      "Epoch 1/15\n",
      "48/48 [==============================] - 2s 12ms/step - loss: 2.1419 - accuracy: 0.5160\n",
      "Epoch 2/15\n",
      "48/48 [==============================] - 1s 11ms/step - loss: 1.0154 - accuracy: 0.7289\n",
      "Epoch 3/15\n",
      "48/48 [==============================] - 0s 10ms/step - loss: 0.4446 - accuracy: 0.8847\n",
      "Epoch 4/15\n",
      "48/48 [==============================] - 0s 10ms/step - loss: 0.2538 - accuracy: 0.9312 0s - loss: 0.2822 - accura\n",
      "Epoch 5/15\n",
      "48/48 [==============================] - 0s 9ms/step - loss: 0.1736 - accuracy: 0.9587\n",
      "Epoch 6/15\n",
      "48/48 [==============================] - 0s 9ms/step - loss: 0.1364 - accuracy: 0.9659\n",
      "Epoch 7/15\n",
      "48/48 [==============================] - 0s 9ms/step - loss: 0.1152 - accuracy: 0.9725\n",
      "Epoch 8/15\n",
      "48/48 [==============================] - 0s 9ms/step - loss: 0.0990 - accuracy: 0.9745\n",
      "Epoch 9/15\n",
      "48/48 [==============================] - 0s 9ms/step - loss: 0.0871 - accuracy: 0.9810\n",
      "Epoch 10/15\n",
      "48/48 [==============================] - 0s 9ms/step - loss: 0.0788 - accuracy: 0.9836\n",
      "Epoch 11/15\n",
      "48/48 [==============================] - 0s 9ms/step - loss: 0.0706 - accuracy: 0.9823\n",
      "Epoch 12/15\n",
      "48/48 [==============================] - 0s 9ms/step - loss: 0.0642 - accuracy: 0.9849\n",
      "Epoch 13/15\n",
      "48/48 [==============================] - 0s 9ms/step - loss: 0.0587 - accuracy: 0.9876\n",
      "Epoch 14/15\n",
      "48/48 [==============================] - 0s 9ms/step - loss: 0.0547 - accuracy: 0.9882\n",
      "Epoch 15/15\n",
      "48/48 [==============================] - 0s 9ms/step - loss: 0.0491 - accuracy: 0.9921\n"
     ]
    },
    {
     "data": {
      "image/png": "[encoded data removed]",
      "text/plain": [
       "<Figure size 864x288 with 1 Axes>"
      ]
     },
     "metadata": {
      "needs_background": "light"
     },
     "output_type": "display_data"
    }
   ],
   "source": [
    "history = model.fit(X_train, Y_train, epochs=15, batch_size=32)\n",
    "\n",
    "plt.figure(figsize=(12, 4))\n",
    "plt.plot(history.history['loss'], label=\"Truncated Normal init\")\n",
    "plt.legend();"
   ]
  },
  {
   "cell_type": "markdown",
   "metadata": {},
   "source": [
    "Once the model has been fit, the weights have been updated and notably the biases are no longer 0:"
   ]
  },
  {
   "cell_type": "code",
   "execution_count": 127,
   "metadata": {
    "collapsed": true,
    "jupyter": {
     "outputs_hidden": true
    },
    "tags": []
   },
   "outputs": [
    {
     "data": {
      "text/plain": [
       "[<tf.Variable 'dense_83/kernel:0' shape=(64, 1000) dtype=float32, numpy=\n",
       " array([[ 0.00695878, -0.01530592,  0.01711873, ...,  0.01717676,\n",
       "          0.00430252, -0.00624382],\n",
       "        [ 0.01610993, -0.00215161,  0.02523053, ..., -0.01658724,\n",
       "         -0.02120814,  0.00156985],\n",
       "        [ 0.01547192,  0.00444596, -0.01080515, ..., -0.01951333,\n",
       "         -0.02035991, -0.01111064],\n",
       "        ...,\n",
       "        [ 0.01870426,  0.00357882,  0.00885614, ..., -0.00711915,\n",
       "         -0.0261149 , -0.00164677],\n",
       "        [ 0.02108141, -0.01684397, -0.00733969, ..., -0.02219195,\n",
       "         -0.0079047 , -0.02977075],\n",
       "        [ 0.01806872, -0.01028818,  0.0094494 , ..., -0.00929769,\n",
       "         -0.01983588,  0.00173853]], dtype=float32)>,\n",
       " <tf.Variable 'dense_83/bias:0' shape=(1000,) dtype=float32, numpy=\n",
       " array([ 1.88959241e-02, -7.53269624e-03,  4.86771110e-04,  1.07188560e-02,\n",
       "         6.83516031e-03, -1.03159780e-02, -1.35068421e-03,  1.62212308e-02,\n",
       "        -1.37192651e-03,  8.59634194e-04,  1.21452529e-02, -3.83608155e-02,\n",
       "        -3.75108124e-04,  2.30527334e-02,  7.61792390e-03, -2.50832383e-02,\n",
       "        -4.00332222e-03,  1.32460902e-02,  4.86935209e-03, -1.37291588e-02,\n",
       "         2.93375948e-03,  1.31100891e-02,  1.20971194e-02,  1.09072382e-04,\n",
       "         5.63662173e-03, -3.02544981e-03,  2.13480811e-03,  8.97649676e-03,\n",
       "         2.26837047e-03,  6.27796212e-03, -3.83586762e-03, -1.10461339e-02,\n",
       "         5.00964886e-03, -1.33080967e-02,  2.18793238e-03,  1.31042181e-02,\n",
       "        -6.11137133e-03,  4.41883318e-03,  4.58685821e-03,  1.69493363e-03,\n",
       "        -9.35910363e-03, -1.33987376e-02, -1.36575839e-02,  1.03822006e-02,\n",
       "        -6.75111730e-03,  1.39840832e-03,  1.68027543e-02, -8.51683691e-03,\n",
       "        -2.89798435e-02, -8.49781674e-04,  6.61711628e-03,  1.23679210e-02,\n",
       "        -2.68191984e-03,  5.86683303e-03,  5.15909772e-03,  8.32907204e-03,\n",
       "         1.16252312e-02, -1.72504764e-02,  1.22247869e-02, -1.79143180e-03,\n",
       "        -6.08227402e-03,  9.38205235e-03, -2.64044874e-03,  4.57491733e-05,\n",
       "        -2.39727125e-02, -4.04786877e-03,  5.87997073e-03,  8.26119352e-03,\n",
       "        -1.06324628e-02,  4.38867573e-04,  8.35651811e-03,  8.78418237e-03,\n",
       "         7.04458402e-03, -5.19422442e-03, -7.67598301e-03, -1.32017480e-02,\n",
       "        -1.14137437e-02,  1.30623318e-02,  5.05694281e-03, -4.30700602e-03,\n",
       "         1.07744848e-02, -1.16253430e-02,  9.01772920e-03, -6.59498153e-03,\n",
       "        -1.68370940e-02,  1.82967423e-03,  2.39157584e-03, -1.01392735e-02,\n",
       "         7.47581199e-03,  1.38285588e-02, -6.08868664e-03,  1.72469765e-02,\n",
       "        -1.40728866e-04, -8.43903236e-03,  1.30838074e-03, -3.27628255e-02,\n",
       "         1.81518625e-02,  1.73989870e-02,  3.38762160e-03,  5.64279407e-03,\n",
       "        -1.76116303e-02, -1.77723430e-02, -8.64232983e-03, -5.84836537e-03,\n",
       "         1.28518790e-02, -9.45689250e-03, -2.43891752e-03,  7.30778230e-03,\n",
       "        -3.56653379e-03, -1.99572253e-03, -4.31802263e-03,  7.42342696e-03,\n",
       "        -9.22621042e-03,  9.41765122e-03,  6.54206797e-03,  3.57560301e-03,\n",
       "        -2.16276087e-02, -6.96989847e-03,  2.86361581e-04,  1.52640734e-02,\n",
       "         1.38643188e-02, -6.49112510e-03,  1.15058022e-02, -1.64934266e-02,\n",
       "        -1.09931463e-02,  8.80949013e-03, -8.66271555e-03,  1.98602825e-02,\n",
       "         5.28123137e-03,  1.09406551e-02, -4.92916303e-03,  2.47304421e-02,\n",
       "         1.08213108e-02,  1.44253401e-02, -3.14120250e-03, -9.69544984e-03,\n",
       "         5.08715957e-03, -2.71303416e-03, -4.55726142e-04, -6.97263889e-03,\n",
       "        -3.40127619e-03, -2.07651313e-02,  5.68501651e-03, -1.72169488e-02,\n",
       "        -1.17535032e-02, -1.74342375e-02,  6.10823336e-04, -1.28146904e-02,\n",
       "         8.60667322e-03,  7.81575404e-03, -3.89599416e-04, -1.20673198e-02,\n",
       "         1.63882263e-02, -1.76932395e-03,  4.86802729e-03,  8.28635413e-04,\n",
       "         1.29759153e-02, -1.84518788e-02, -3.95647436e-03,  1.75506005e-03,\n",
       "        -1.04190325e-02,  1.40912924e-02,  6.90133125e-03,  1.17539130e-02,\n",
       "         2.57476922e-02,  9.12093651e-03,  6.68760389e-03, -1.25924367e-02,\n",
       "         8.56523961e-03, -1.40897799e-02, -2.61633564e-03, -6.90785563e-03,\n",
       "         6.12511300e-04,  4.56112763e-03,  1.27369249e-02,  1.62178334e-02,\n",
       "        -1.07104448e-03, -1.62426755e-02, -4.29422315e-03, -6.38425397e-03,\n",
       "        -3.38259758e-03, -1.15474490e-02, -1.06141623e-02,  1.02166496e-02,\n",
       "        -4.34943708e-03,  1.75962341e-03, -4.32616146e-03, -2.53211707e-02,\n",
       "        -5.91557473e-03, -8.86787288e-03, -5.77746099e-03, -1.04675321e-02,\n",
       "        -7.86175765e-03, -7.96048157e-03,  8.54668487e-03, -4.39513568e-03,\n",
       "         5.39020309e-03, -1.28728868e-02,  2.24810257e-03,  2.86292052e-03,\n",
       "         7.60643184e-03, -8.88833776e-03, -5.55240829e-03,  6.96970243e-03,\n",
       "        -8.31869990e-03, -1.06547950e-02,  5.99224772e-03, -1.22711086e-03,\n",
       "        -4.66441270e-03,  9.69896186e-03,  1.74116099e-03, -1.41790798e-02,\n",
       "        -7.32923578e-03,  4.57138848e-03, -1.69818662e-02,  2.96893250e-03,\n",
       "        -2.55028829e-02, -1.03076233e-03,  3.67210223e-03, -4.10720985e-03,\n",
       "        -5.99521259e-03,  1.36141013e-02,  2.50285445e-03,  3.00403591e-03,\n",
       "         5.20399027e-03, -5.62219135e-03, -9.84845776e-03,  1.52868377e-02,\n",
       "        -7.40606396e-04,  3.79029177e-02, -1.27813397e-02, -1.71209816e-02,\n",
       "         7.79110380e-03, -5.93388965e-03,  6.31476939e-03, -1.53754465e-02,\n",
       "         4.19595453e-04,  9.01418831e-03,  6.79456862e-03, -2.20959168e-03,\n",
       "         5.35635604e-03,  8.92130286e-03, -1.40839117e-03, -2.79947207e-03,\n",
       "        -1.19201699e-02, -5.73591096e-03,  1.39071262e-02,  1.28509458e-02,\n",
       "         5.51389239e-04,  1.29223829e-02,  1.44709190e-02, -3.38426768e-03,\n",
       "         2.02484895e-02, -4.12163878e-04,  1.00841979e-02,  8.18339922e-03,\n",
       "         1.41917039e-02,  1.25484522e-02, -7.36948429e-03,  1.95294358e-02,\n",
       "         8.99502635e-03, -2.36646924e-03, -1.08390301e-02,  4.94919345e-03,\n",
       "         6.57677883e-04, -9.95026994e-03, -1.98786482e-02, -5.40648075e-03,\n",
       "        -4.11304180e-03, -3.51492385e-03, -2.00919970e-03,  1.22418227e-02,\n",
       "        -4.17192047e-03,  3.79471993e-03,  8.65976047e-03,  6.28172595e-04,\n",
       "         2.36708298e-03,  3.53403925e-03, -1.27061009e-02, -1.67197902e-02,\n",
       "         3.72141105e-04, -4.77128569e-03,  4.94102016e-03,  1.71399023e-02,\n",
       "         6.00125466e-04,  5.46863128e-04,  3.76015529e-03,  9.09071323e-03,\n",
       "         3.86933913e-03, -7.78642157e-03,  1.57278012e-02, -1.00971316e-03,\n",
       "         1.99815109e-02,  1.22412490e-02, -1.85393244e-02,  2.60254182e-02,\n",
       "         2.02468876e-03, -5.00644092e-03,  4.05977946e-03,  3.03395391e-02,\n",
       "         1.75503716e-02,  7.70227797e-03,  2.68926378e-02,  7.61221536e-03,\n",
       "        -5.24688000e-03,  3.54349933e-04,  5.52782184e-03,  4.06439463e-03,\n",
       "        -8.11015721e-03, -2.12916266e-03, -1.17323929e-02, -8.32794141e-03,\n",
       "        -6.60018902e-03,  1.73622612e-02,  9.92377382e-03,  1.76447653e-03,\n",
       "        -4.45549982e-03, -7.89748039e-03,  8.05733819e-03,  2.03827005e-02,\n",
       "        -9.53797437e-03,  7.83659169e-04,  9.42735001e-03, -1.44991828e-02,\n",
       "         3.43278539e-03, -1.86223872e-02, -3.95644922e-03,  6.92558289e-03,\n",
       "        -3.55661428e-03,  1.67021789e-02,  9.21720639e-04, -1.92968100e-02,\n",
       "         4.88773221e-03, -6.49355527e-04,  9.10930056e-03, -1.60369615e-03,\n",
       "        -2.87806038e-02, -1.90686889e-03, -9.60458629e-03,  8.45730174e-05,\n",
       "        -1.22156274e-02,  1.03915175e-02,  1.03084266e-03,  1.27555407e-03,\n",
       "         1.14869252e-02,  8.64838064e-03,  1.69798676e-02,  2.30243783e-02,\n",
       "        -3.60997813e-03, -8.19906313e-03, -1.28661357e-02,  6.58200961e-03,\n",
       "         2.71215625e-02, -1.07624233e-02, -1.70640443e-02, -2.17539934e-03,\n",
       "         9.78240557e-03,  1.05368097e-04,  3.49294278e-03, -6.05532061e-03,\n",
       "        -5.67171397e-03, -1.06877238e-02,  3.14881303e-03, -7.78945349e-03,\n",
       "        -8.34700000e-03,  1.31995697e-02,  6.94010966e-03,  1.73778906e-02,\n",
       "        -3.33487708e-03,  1.00002475e-02,  2.44572246e-03, -8.44118651e-03,\n",
       "        -1.08689116e-02,  2.61579338e-03, -3.69437505e-03, -1.78066478e-03,\n",
       "        -3.50206299e-03,  1.56655945e-02, -1.50160613e-02,  9.63692740e-03,\n",
       "        -8.32092715e-04, -9.89878201e-04, -1.04114348e-02,  5.56853181e-03,\n",
       "        -1.05204212e-03,  7.71479961e-03,  1.47647373e-02, -4.32054186e-03,\n",
       "         6.88647339e-03, -2.19451692e-02,  1.50727890e-02, -3.22269602e-03,\n",
       "         8.13511014e-03,  5.37181040e-03, -8.08373559e-03, -1.40808849e-02,\n",
       "        -2.81517487e-03,  5.03879646e-03, -1.20471641e-02,  6.35710265e-03,\n",
       "         1.34152910e-02,  1.76382549e-02, -1.36913848e-03,  2.52030659e-02,\n",
       "         4.87110578e-03,  1.59929581e-02, -8.58884305e-04, -4.27394640e-04,\n",
       "        -1.30555071e-02, -1.97680909e-02, -1.41087896e-03,  8.28662980e-03,\n",
       "        -3.00141214e-03, -3.65267997e-03,  4.63784765e-03,  2.01486200e-02,\n",
       "        -6.17249636e-03, -9.33178060e-04, -7.88637809e-03,  6.16149232e-03,\n",
       "        -4.01485106e-03,  1.24907270e-02,  1.85751021e-02,  2.53688940e-03,\n",
       "        -5.75225335e-03,  7.69009255e-03,  3.82179581e-02,  1.19299034e-03,\n",
       "        -1.53189525e-02,  1.52210426e-02,  1.45638669e-02,  5.77903865e-03,\n",
       "         4.53190273e-03, -7.18508149e-03, -2.76840217e-02, -4.24880069e-03,\n",
       "        -1.72346532e-02, -7.57350586e-03,  2.79572420e-03, -1.45455310e-02,\n",
       "        -3.61136073e-04, -1.57954954e-02, -8.52036756e-04,  4.95588547e-03,\n",
       "         8.66673887e-03,  1.40645111e-03, -2.95731495e-03,  7.28419051e-03,\n",
       "         3.76835349e-03, -7.90930633e-03, -4.30852873e-03,  2.86501311e-02,\n",
       "         1.21963508e-02,  1.56301819e-02, -1.21345008e-02, -4.63269232e-03,\n",
       "        -1.04700681e-02,  1.57296599e-03, -2.78470181e-02,  1.89551972e-02,\n",
       "        -1.85155235e-02, -2.14772392e-02, -1.26235085e-02, -9.50008444e-03,\n",
       "         1.73693246e-04, -7.54755503e-03,  3.02578020e-03, -2.44818337e-04,\n",
       "        -5.30388253e-03, -1.31266089e-02,  5.00489539e-03, -7.32095353e-03,\n",
       "        -4.57599014e-03, -1.59727093e-02,  1.11457994e-02,  9.37637407e-03,\n",
       "         1.41102951e-02, -9.12517495e-03,  1.98681769e-03,  4.66570072e-03,\n",
       "        -1.66292780e-03, -1.14745563e-02, -1.52582750e-02, -6.58781792e-04,\n",
       "         1.32536842e-02, -1.08289681e-02, -1.58239491e-02, -1.77642703e-02,\n",
       "        -9.51626431e-03, -6.73796097e-03, -1.99437775e-02,  4.09619184e-03,\n",
       "        -1.57899724e-03,  2.51652338e-02,  2.77363765e-03,  3.01935733e-03,\n",
       "         1.38337510e-02,  4.05552285e-03,  1.30604757e-02,  7.85342790e-03,\n",
       "         8.54201522e-03,  2.54261345e-02,  3.03641602e-04, -1.55923320e-02,\n",
       "        -1.02478554e-02,  6.79575093e-03, -8.11265130e-03, -1.09779206e-03,\n",
       "         2.47659627e-02, -2.29817331e-02, -1.71774179e-02,  1.70461077e-03,\n",
       "         1.22592691e-02, -2.90470850e-03, -2.10612956e-02, -8.18213739e-04,\n",
       "         1.45150833e-02, -1.99582037e-02,  1.18276896e-03,  1.00463582e-02,\n",
       "        -9.04397387e-03,  1.99886295e-03, -9.35966335e-03, -1.07481135e-02,\n",
       "        -1.26914373e-02, -2.33595725e-02, -1.49474172e-02, -9.09700338e-03,\n",
       "        -5.15992986e-03,  1.43019436e-02,  5.69493929e-03,  5.64028695e-03,\n",
       "        -1.20850448e-02, -2.18205131e-03, -1.00444760e-02, -1.07199671e-02,\n",
       "        -1.18552661e-02, -1.14453709e-04,  3.22419015e-04,  1.07838940e-02,\n",
       "         7.99137075e-03,  3.93806910e-03, -2.40138499e-03,  1.17113814e-02,\n",
       "        -1.43955434e-02,  6.77781133e-03,  3.81421042e-03, -6.61275024e-03,\n",
       "         1.50122363e-02, -1.12167746e-02, -5.83104044e-03, -9.68576409e-04,\n",
       "        -1.24334963e-02, -8.09572451e-03, -1.86722726e-02, -2.22114637e-03,\n",
       "        -6.88868528e-03,  1.48573378e-02, -1.61677338e-02,  8.68012197e-03,\n",
       "         8.59683566e-03, -9.73965600e-03, -2.09805463e-02, -9.56788193e-03,\n",
       "         6.24731742e-03,  2.71586645e-02, -1.77380033e-02,  9.91116278e-03,\n",
       "         1.67597774e-02,  1.11395428e-02,  1.64114311e-03,  7.24411244e-03,\n",
       "        -8.00299676e-05, -1.85410958e-02,  1.27850277e-02,  6.62369281e-03,\n",
       "        -7.25772884e-03,  1.13186371e-02, -1.16776237e-02,  2.50376016e-02,\n",
       "         1.21957511e-02,  2.77128024e-03,  7.09591201e-03, -1.50307240e-02,\n",
       "        -4.30167839e-03, -1.61764282e-03, -7.83190411e-03,  9.49288439e-03,\n",
       "         6.69852085e-03, -1.17992628e-02, -8.94886442e-03, -6.01524720e-03,\n",
       "        -7.31457677e-03,  1.86535390e-03, -2.29481887e-03,  9.92375705e-03,\n",
       "        -1.97092467e-03,  9.75872111e-03, -3.99329839e-03,  7.85563141e-03,\n",
       "         6.47613686e-03, -7.23820506e-03,  1.61233707e-03, -2.32538767e-03,\n",
       "        -1.46927424e-02, -7.69521948e-03,  9.90465516e-04, -3.43804457e-03,\n",
       "         3.01627396e-03,  9.59076360e-03,  1.44282905e-02, -3.15931137e-03,\n",
       "        -1.97210349e-02,  6.97770389e-03,  1.81761645e-02,  1.76241528e-02,\n",
       "        -5.76552644e-04,  1.64960846e-02,  7.24982284e-03,  1.22403977e-02,\n",
       "         4.33399249e-03,  1.50615408e-03, -2.19169408e-02, -5.60326735e-03,\n",
       "        -9.90470522e-04,  3.81443370e-03,  9.23706219e-03,  7.80570460e-03,\n",
       "        -3.60543403e-04, -1.64385617e-03, -1.40249766e-02, -7.11307209e-03,\n",
       "         1.22567173e-02,  1.32726533e-02,  1.37025630e-02,  4.92308335e-03,\n",
       "        -3.04082525e-03, -3.28255421e-03, -1.83962304e-02, -1.00524479e-03,\n",
       "         1.42077142e-02, -9.68240853e-03,  1.46209002e-02, -1.64761133e-02,\n",
       "        -1.81897997e-03,  2.85933283e-03, -2.01911703e-02,  9.17528104e-03,\n",
       "         4.59592184e-03,  6.66249730e-03,  8.94323364e-03, -8.08271766e-03,\n",
       "         7.07549416e-03,  2.22555026e-02, -2.37095309e-03,  8.21446476e-04,\n",
       "        -2.48719379e-03, -1.18970908e-02, -8.91685672e-03,  2.47619841e-02,\n",
       "        -1.32206036e-02, -8.48580059e-03, -7.49851624e-03,  1.45178346e-03,\n",
       "        -1.73214320e-02,  1.14837317e-02,  8.74238787e-04, -6.01646490e-03,\n",
       "        -5.32532670e-03,  1.03498558e-02, -1.78413314e-03, -1.75083540e-02,\n",
       "         4.27865051e-03,  7.20279152e-03,  1.67399198e-02,  8.14798754e-03,\n",
       "         2.40073260e-02,  1.05558764e-02, -3.41195846e-04,  5.86251030e-03,\n",
       "         1.40498569e-02,  4.48986469e-03, -1.75068695e-02,  8.59501213e-03,\n",
       "        -5.52086160e-03,  1.13556255e-02, -9.76463687e-03, -1.73252411e-02,\n",
       "        -1.76648737e-03, -4.85063903e-03,  1.00190816e-02,  1.55706303e-02,\n",
       "         2.59981100e-02, -7.66080292e-03,  6.34458708e-03, -2.10549147e-03,\n",
       "         6.44095149e-03,  3.56700062e-03, -1.40214199e-03, -8.82047974e-03,\n",
       "         1.51437242e-03, -1.02124400e-02,  9.68935061e-03, -1.82274040e-02,\n",
       "        -1.49925519e-02,  8.22741911e-03,  1.34932455e-02, -7.88556505e-03,\n",
       "        -4.02041106e-03, -2.08122116e-02, -1.42357440e-03, -2.08148384e-03,\n",
       "         5.78131946e-03, -4.35964530e-03,  6.41853921e-03, -9.19781253e-03,\n",
       "        -6.92630885e-03,  1.05675776e-03, -9.71777271e-03,  2.99147074e-03,\n",
       "        -3.14448203e-04,  2.03766599e-02,  3.89101473e-03,  2.16705957e-03,\n",
       "         3.21553089e-03,  7.70253688e-03,  4.25305869e-03,  1.61733665e-02,\n",
       "         3.01663531e-03,  9.00002560e-05, -1.08012343e-02, -2.86507560e-03,\n",
       "        -3.74763331e-04,  1.40294712e-02, -5.56963822e-03, -3.10470094e-03,\n",
       "        -6.43717451e-03, -2.31799260e-02, -4.31768334e-04, -1.43456152e-02,\n",
       "         2.28212867e-03,  5.98832453e-03, -2.85590645e-02,  5.41434344e-03,\n",
       "        -1.82653498e-02,  1.42439464e-02,  2.23629503e-03, -7.49913417e-03,\n",
       "         1.14214066e-02, -3.48582049e-03, -9.86614823e-03, -1.54245561e-02,\n",
       "         7.98308011e-03, -1.04206465e-02, -3.69008468e-03,  3.46041354e-03,\n",
       "         1.32486243e-02, -1.35452691e-02,  8.68271664e-03,  4.62690741e-03,\n",
       "         1.23113059e-02,  2.05274262e-02, -5.10713970e-03, -6.10007206e-04,\n",
       "        -7.99508020e-03,  8.82895384e-03, -2.91207358e-02,  1.02470843e-02,\n",
       "        -1.67656003e-03, -2.53941515e-03,  1.81013383e-02,  4.38074768e-03,\n",
       "         1.85647998e-02, -8.38877261e-03, -1.59588587e-02, -1.10720266e-02,\n",
       "         3.53086786e-03, -7.02172052e-03, -5.37271099e-03,  1.86913013e-02,\n",
       "        -1.34074586e-02,  2.11323891e-02, -6.15413999e-03,  8.39325227e-03,\n",
       "         3.64696514e-03,  6.63308383e-05, -8.47317744e-03, -2.53608320e-02,\n",
       "         9.57733300e-03, -5.58142411e-03, -1.90046281e-02, -5.17707458e-03,\n",
       "        -4.60317545e-03,  5.46789635e-03, -1.23495348e-02, -2.30855704e-03,\n",
       "         2.47572153e-03, -1.48338806e-02,  5.75443206e-04, -2.65080575e-03,\n",
       "         4.74221364e-04,  2.43988330e-03, -8.37728288e-03, -2.51877792e-02,\n",
       "         2.50221305e-02,  4.76071611e-03,  1.98490615e-03,  1.30447070e-03,\n",
       "         5.26905712e-03, -6.07987307e-03,  7.95047078e-03,  3.64038325e-03,\n",
       "         2.70718634e-02, -4.93469241e-04, -1.23729371e-02, -1.36674307e-02,\n",
       "         5.28505025e-03,  2.42280941e-02, -1.20004201e-02,  6.92882482e-03,\n",
       "        -4.33276221e-03, -1.70339234e-02,  1.18200493e-03,  1.63041730e-03,\n",
       "         1.91384479e-02,  5.32162236e-03,  2.38485704e-03, -6.93523034e-04,\n",
       "        -7.24059646e-04,  1.23890396e-02,  1.17356796e-02, -6.64336793e-03,\n",
       "        -1.26116620e-02, -3.13422759e-03,  8.03963281e-03, -1.30741885e-02,\n",
       "        -1.51432958e-02,  1.10796057e-02,  1.13998707e-02,  2.27191541e-02,\n",
       "         2.18986970e-04,  1.12743862e-02,  5.34926262e-03, -1.00091435e-02,\n",
       "        -1.64579526e-02, -7.02468120e-03,  3.11891735e-03, -1.91329438e-02,\n",
       "         5.14794933e-03,  3.10734827e-02,  2.75549502e-03, -1.93624590e-02,\n",
       "         1.54325562e-02,  4.57831146e-03, -1.88684603e-03,  3.18063796e-03,\n",
       "         6.41829707e-03,  8.55773501e-03, -4.54541820e-04, -4.28953720e-03,\n",
       "         3.45876440e-03,  1.66979358e-02, -1.13296220e-02,  1.18335923e-02,\n",
       "         1.30479336e-02,  8.54722783e-03, -6.77330609e-05,  8.94498895e-04,\n",
       "         2.00887267e-02,  3.78901255e-03, -3.01081571e-03,  3.85227636e-03,\n",
       "         3.64359957e-03,  5.46413008e-03,  5.93662960e-03,  2.93848244e-03,\n",
       "         9.76880547e-03,  8.17917008e-03, -4.98430803e-03,  4.52846801e-03,\n",
       "        -1.15443701e-02,  1.12334394e-03, -7.41557125e-03,  7.55254086e-03,\n",
       "         2.09249724e-02,  8.01833067e-03,  1.12268990e-02,  2.47603911e-03,\n",
       "        -2.10889690e-02, -1.49562787e-02,  1.42718316e-03,  2.55057565e-03,\n",
       "         7.19892280e-03,  7.88909663e-03,  1.01898275e-02, -1.47872465e-02,\n",
       "         2.79370649e-03,  5.51798055e-03,  9.41994414e-03,  1.63084418e-02,\n",
       "        -3.04628047e-03,  5.59256598e-03,  1.05343219e-02, -2.64963345e-03,\n",
       "        -1.20702507e-02, -9.49254818e-03, -3.12128337e-03,  1.84081669e-03,\n",
       "        -6.26478810e-03,  1.24696633e-02,  1.58235803e-02, -6.77209406e-04,\n",
       "         3.46385152e-03, -1.37215713e-03, -4.85008117e-03,  1.14527140e-02,\n",
       "         2.12663561e-02,  5.01740258e-03,  1.33420182e-02, -2.02954700e-03,\n",
       "         4.49261395e-03, -4.69536800e-03, -5.44062024e-03,  1.23464372e-02,\n",
       "         7.95332808e-03,  1.80774974e-03, -6.01073867e-03, -8.39708722e-04,\n",
       "        -2.09061033e-03,  2.09807209e-03,  9.35027096e-03, -5.82260313e-04,\n",
       "         2.37952452e-02,  5.94993820e-03, -7.78824370e-03,  2.59211194e-02,\n",
       "        -8.37244850e-04,  7.68431835e-03, -5.17516071e-03, -5.86696621e-03,\n",
       "         8.85699876e-03, -4.40429291e-03, -1.83222499e-02,  2.20177304e-02,\n",
       "        -2.60795304e-03,  6.55457983e-03,  1.39159150e-02, -4.89511294e-05,\n",
       "        -1.51966382e-02, -3.31066325e-02, -4.11537272e-04,  1.26547627e-02,\n",
       "        -8.94652959e-03,  1.31497830e-02,  4.46389709e-03,  9.58778150e-03,\n",
       "         3.11985868e-03,  2.86555849e-03, -1.39299240e-02, -6.07420225e-04,\n",
       "        -4.81658196e-03, -1.84904281e-02, -1.13195227e-02,  5.28658740e-04,\n",
       "        -3.18236253e-03, -3.79026448e-03, -2.61225831e-03, -4.10018070e-03,\n",
       "        -1.24915391e-02, -6.25516404e-04, -1.03277182e-02,  5.01619838e-03,\n",
       "        -8.71430896e-03, -5.49753429e-03,  1.34437019e-02, -9.08068102e-03,\n",
       "         2.25330121e-03,  1.38583556e-02,  5.20526571e-03, -3.67479259e-03,\n",
       "        -3.01519083e-03, -7.39556178e-03,  6.89871493e-04,  2.72235903e-03,\n",
       "        -1.25335604e-02, -1.22315986e-02, -3.25924251e-03, -1.51056228e-02,\n",
       "        -2.08340003e-03, -1.21524762e-02, -9.21940058e-03,  5.50936488e-03,\n",
       "         3.69667495e-03, -1.91346370e-02,  7.22057512e-03, -1.00245187e-02,\n",
       "         1.58039890e-02,  3.88197275e-03,  1.27521493e-02,  7.43581215e-03],\n",
       "       dtype=float32)>]"
      ]
     },
     "execution_count": 127,
     "metadata": {},
     "output_type": "execute_result"
    }
   ],
   "source": [
    "model.layers[0].weights"
   ]
  },
  {
   "cell_type": "markdown",
   "metadata": {
    "tags": []
   },
   "source": [
    "#### Questions:\n",
    "\n",
    "- Try the following initialization schemes and see whether\n",
    "  the SGD algorithm can successfully train the network or\n",
    "  not:\n",
    "  \n",
    "  - a very small e.g. `stddev=1e-3`\n",
    "  - a larger scale e.g. `stddev=1` or `10`\n",
    "  - initialize all weights to 0 (constant initialization)\n",
    "  \n",
    "- What do you observe? Can you find an explanation for those\n",
    "  outcomes?\n",
    "\n",
    "- Are more advanced solvers such as SGD with momentum or Adam able\n",
    "  to deal better with such bad initializations?"
   ]
  },
  {
   "cell_type": "code",
   "execution_count": 163,
   "metadata": {},
   "outputs": [
    {
     "data": {
      "image/png": "[encoded data removed]",
      "text/plain": [
       "<Figure size 864x288 with 1 Axes>"
      ]
     },
     "metadata": {
      "needs_background": "light"
     },
     "output_type": "display_data"
    }
   ],
   "source": [
    "### very small initialization:\n",
    "\n",
    "normal_init = initializers.TruncatedNormal(stddev=1e-3)\n",
    "\n",
    "\n",
    "model = Sequential()\n",
    "model.add(Dense(hidden_dim, input_dim=input_dim, activation=\"tanh\",\n",
    "                kernel_initializer=normal_init))\n",
    "model.add(Dense(hidden_dim, activation=\"tanh\",\n",
    "                kernel_initializer=normal_init))\n",
    "model.add(Dense(output_dim, activation=\"softmax\",\n",
    "                kernel_initializer=normal_init))\n",
    "\n",
    "model.compile(optimizer=optimizers.SGD(learning_rate=0.1),\n",
    "              loss='categorical_crossentropy')  # , metrics=['accuracy'])\n",
    "\n",
    "history = model.fit(X_train, Y_train, epochs=15, batch_size=32, verbose=0)\n",
    "\n",
    "plt.figure(figsize=(12, 4))\n",
    "plt.plot(history.history['loss'], label=\"Truncated Normal init stddev=1e-3\")\n",
    "plt.legend();"
   ]
  },
  {
   "cell_type": "markdown",
   "metadata": {},
   "source": [
    "It took the model 15 epochs to just reach a loss of 1.4, whereas with stddev init of 1e-2 it needed 1 epoch to reach a loss of 1."
   ]
  },
  {
   "cell_type": "code",
   "execution_count": 161,
   "metadata": {},
   "outputs": [
    {
     "data": {
      "image/png": "[encoded data removed]",
      "text/plain": [
       "<Figure size 864x288 with 1 Axes>"
      ]
     },
     "metadata": {
      "needs_background": "light"
     },
     "output_type": "display_data"
    }
   ],
   "source": [
    "### big initialization:\n",
    "\n",
    "normal_init = initializers.TruncatedNormal(stddev=1)\n",
    "\n",
    "\n",
    "model = Sequential()\n",
    "model.add(Dense(hidden_dim, input_dim=input_dim, activation=\"tanh\",\n",
    "                kernel_initializer=normal_init))\n",
    "model.add(Dense(hidden_dim, activation=\"tanh\",\n",
    "                kernel_initializer=normal_init))\n",
    "model.add(Dense(output_dim, activation=\"softmax\",\n",
    "                kernel_initializer=normal_init))\n",
    "\n",
    "model.compile(optimizer=optimizers.SGD(learning_rate=0.1),\n",
    "              loss='categorical_crossentropy')\n",
    "\n",
    "history = model.fit(X_train, Y_train, epochs=15, batch_size=32, verbose=0)\n",
    "\n",
    "plt.figure(figsize=(12, 4))\n",
    "plt.plot(history.history['loss'], label=\"Truncated Normal init stddev=10\")\n",
    "plt.legend();"
   ]
  },
  {
   "cell_type": "markdown",
   "metadata": {},
   "source": [
    "Here also, we got a very bad performance, the weights are already large and we need more time to reduce them."
   ]
  },
  {
   "cell_type": "code",
   "execution_count": 153,
   "metadata": {},
   "outputs": [
    {
     "data": {
      "image/png": "[encoded data removed]",
      "text/plain": [
       "<Figure size 864x288 with 1 Axes>"
      ]
     },
     "metadata": {
      "needs_background": "light"
     },
     "output_type": "display_data"
    }
   ],
   "source": [
    "### very small initialization:\n",
    "\n",
    "normal_init = initializers.TruncatedNormal(stddev=0)\n",
    "\n",
    "\n",
    "model = Sequential()\n",
    "model.add(Dense(hidden_dim, input_dim=input_dim, activation=\"tanh\",\n",
    "                kernel_initializer=normal_init))\n",
    "model.add(Dense(hidden_dim, activation=\"tanh\",\n",
    "                kernel_initializer=normal_init))\n",
    "model.add(Dense(output_dim, activation=\"softmax\",\n",
    "                kernel_initializer=normal_init))\n",
    "\n",
    "model.compile(optimizer=optimizers.SGD(learning_rate=0.1),\n",
    "              loss='categorical_crossentropy', metrics=['accuracy'])\n",
    "\n",
    "history = model.fit(X_train, Y_train, epochs=15, batch_size=32, verbose=0)\n",
    "\n",
    "plt.figure(figsize=(12, 4))\n",
    "plt.plot(history.history['loss'], label=\"Truncated Normal init with zeros\")\n",
    "plt.ylim(0,3)\n",
    "plt.legend();"
   ]
  },
  {
   "cell_type": "code",
   "execution_count": 163,
   "metadata": {},
   "outputs": [
    {
     "data": {
      "image/png": "[encoded data removed]",
      "text/plain": [
       "<Figure size 864x288 with 1 Axes>"
      ]
     },
     "metadata": {
      "needs_background": "light"
     },
     "output_type": "display_data"
    }
   ],
   "source": [
    "### very small initialization:\n",
    "\n",
    "normal_init = initializers.TruncatedNormal(stddev=1e-3)\n",
    "\n",
    "\n",
    "model = Sequential()\n",
    "model.add(Dense(hidden_dim, input_dim=input_dim, activation=\"tanh\",\n",
    "                kernel_initializer=normal_init))\n",
    "model.add(Dense(hidden_dim, activation=\"tanh\",\n",
    "                kernel_initializer=normal_init))\n",
    "model.add(Dense(output_dim, activation=\"softmax\",\n",
    "                kernel_initializer=normal_init))\n",
    "\n",
    "model.compile(optimizer=optimizers.SGD(learning_rate=0.1),\n",
    "              loss='categorical_crossentropy')  # , metrics=['accuracy'])\n",
    "\n",
    "history = model.fit(X_train, Y_train, epochs=15, batch_size=32, verbose=0)\n",
    "\n",
    "plt.figure(figsize=(12, 4))\n",
    "plt.plot(history.history['loss'], label=\"Truncated Normal init stddev=1e-3\")\n",
    "plt.legend();"
   ]
  },
  {
   "cell_type": "code",
   "execution_count": 168,
   "metadata": {},
   "outputs": [
    {
     "name": "stdout",
     "output_type": "stream",
     "text": [
      "Fitting with: SGD\n",
      "Fitting with: Adam\n",
      "Fitting with: SGD + Nesterov momentum\n"
     ]
    },
    {
     "data": {
      "image/png": "[encoded data removed]",
      "text/plain": [
       "<Figure size 864x432 with 1 Axes>"
      ]
     },
     "metadata": {
      "needs_background": "light"
     },
     "output_type": "display_data"
    },
    {
     "data": {
      "image/png": "[encoded data removed]",
      "text/plain": [
       "<Figure size 864x432 with 1 Axes>"
      ]
     },
     "metadata": {
      "needs_background": "light"
     },
     "output_type": "display_data"
    },
    {
     "data": {
      "image/png": "[encoded data removed]",
      "text/plain": [
       "<Figure size 864x432 with 1 Axes>"
      ]
     },
     "metadata": {
      "needs_background": "light"
     },
     "output_type": "display_data"
    }
   ],
   "source": [
    "# %load solutions/keras_initializations.py\n",
    "large_scale_init = initializers.TruncatedNormal(stddev=1)\n",
    "small_scale_init = initializers.TruncatedNormal(stddev=1e-3)\n",
    "\n",
    "\n",
    "optimizer_list = [\n",
    "    ('SGD', optimizers.SGD(learning_rate=0.1)),\n",
    "    ('Adam', optimizers.Adam()),\n",
    "    ('SGD + Nesterov momentum', optimizers.SGD(\n",
    "            learning_rate=0.1, momentum=0.9, nesterov=True)),\n",
    "]\n",
    "\n",
    "init_list = [\n",
    "    ('glorot uniform init', 'glorot_uniform', '-'),\n",
    "    ('small init scale', small_scale_init, '-'),\n",
    "    ('large init scale', large_scale_init, '-'),\n",
    "    ('zero init', 'zero', '--'),\n",
    "]\n",
    "\n",
    "\n",
    "for optimizer_name, optimizer in optimizer_list:\n",
    "    print(\"Fitting with:\", optimizer_name)\n",
    "    plt.figure(figsize=(12, 6))\n",
    "    for init_name, init, linestyle in init_list:\n",
    "        model = Sequential()\n",
    "        model.add(Dense(hidden_dim, input_dim=input_dim, activation=\"tanh\",\n",
    "                        kernel_initializer=init))\n",
    "        model.add(Dense(hidden_dim, activation=\"tanh\",\n",
    "                        kernel_initializer=init))\n",
    "        model.add(Dense(output_dim, activation=\"softmax\",\n",
    "                        kernel_initializer=init))\n",
    "\n",
    "        model.compile(optimizer=optimizer,\n",
    "                      loss='categorical_crossentropy')\n",
    "\n",
    "        history = model.fit(X_train, Y_train,\n",
    "                            epochs=10, batch_size=32, verbose=0)\n",
    "        plt.plot(history.history['loss'], linestyle=linestyle,\n",
    "                 label=init_name)\n",
    "\n",
    "    plt.xlabel('# epochs')\n",
    "    plt.ylabel('Training loss')\n",
    "    plt.ylim(0, 6)\n",
    "    plt.legend(loc='best');\n",
    "    plt.title('Impact of initialization on convergence with %s'\n",
    "              % optimizer_name)\n"
   ]
  },
  {
   "cell_type": "code",
   "execution_count": 166,
   "metadata": {},
   "outputs": [],
   "source": [
    "# %load solutions/keras_initializations_analysis.py\n",
    "# Analysis\n",
    "#\n",
    "# If the network is initialized to zero weights, the activations of the hidden\n",
    "# layers are always set to zero, whatever the value of the inputs. The gradient\n",
    "# is always zero for all training samples and no learning can happen with any\n",
    "# gradient-based optimizer (SGD, Adam...): the loss stays constant.\n",
    "#\n",
    "# A network with null weights has null gradients but this not a local minimum\n",
    "# (nor a local maximum): it is a saddle point at the center of a neighborhood\n",
    "# with very low gradients.\n",
    "#\n",
    "# This phenomenon only exists because of the presence of one or more hidden\n",
    "# layers: a logistic regression model (just a single Dense layer with softmax\n",
    "# activations) can bit fit with SGD from 0 initialized weights without any\n",
    "# problem.\n",
    "#\n",
    "# For neural nets when the scale of a random initializations of the weights is\n",
    "# too small, SGD has a hard time evading that area of low gradients. Adding\n",
    "# momentum can help but especially for deep networks it can take many epochs to\n",
    "# evade the area.\n",
    "#\n",
    "# Initializing the weights with large random values will make the output\n",
    "# distribution (softmax) very peaky: the network is very \"confident\" of its\n",
    "# predictions even if they are completely random. This leads to a very high\n",
    "# initial loss value.\n",
    "#\n",
    "# The softmax function does not saturate (bad classification always have a\n",
    "# non-zero gradient). However the intermediate tanh layers can saturate,\n",
    "# therefore squashing the gradient of the loss with respect to the parameters\n",
    "# of the first \"Dense\" layer and making the network train much slower.\n",
    "#\n",
    "# The Glorot uniform init uses a scale that depends on the dimensions of the\n",
    "# weight matrix so has to preserve the average norm of activations and flowing\n",
    "# gradients so as to make learning possible. Keras provides alternatives that\n",
    "# can be better in some cases. Please refer to the references in the Keras\n",
    "# documentation to learn more on the theoretical justifications behind those\n",
    "# schemes.\n",
    "#\n",
    "# Adam tends to be more robust when it comes to bad initialization thanks to\n",
    "# its per-weight learning rate adjustments but still benefits from a good\n",
    "# initialization.\n",
    "#\n",
    "# More on this in a later class on optimization issues. For now  just remember\n",
    "# that if you network fails to learn at all (the loss stays at its initial\n",
    "# value):\n",
    "#\n",
    "# - ensure that the weights are properly initialized,\n",
    "# - inspect the per-layer gradient norms to help identify the bad layer,\n",
    "# - use Adam instead of SGD as your default go-to initializer.\n",
    "#\n",
    "# https://stackoverflow.com/questions/50033312/how-to-monitor-gradient-vanish-and-explosion-in-keras-with-tensorboard\n"
   ]
  },
  {
   "cell_type": "code",
   "execution_count": null,
   "metadata": {},
   "outputs": [],
   "source": []
  }
 ],
 "metadata": {
  "file_extension": ".py",
  "kernelspec": {
   "display_name": "Python 3 (ipykernel)",
   "language": "python",
   "name": "python3"
  },
  "language_info": {
   "codemirror_mode": {
    "name": "ipython",
    "version": 3
   },
   "file_extension": ".py",
   "mimetype": "text/x-python",
   "name": "python",
   "nbconvert_exporter": "python",
   "pygments_lexer": "ipython3",
   "version": "3.8.12"
  },
  "mimetype": "text/x-python",
  "name": "python",
  "npconvert_exporter": "python",
  "pygments_lexer": "ipython3",
  "toc": {
   "base_numbering": 1,
   "nav_menu": {},
   "number_sections": true,
   "sideBar": true,
   "skip_h1_title": false,
   "title_cell": "Table of Contents",
   "title_sidebar": "Contents",
   "toc_cell": false,
   "toc_position": {},
   "toc_section_display": true,
   "toc_window_display": false
  },
  "version": 3
 },
 "nbformat": 4,
 "nbformat_minor": 4
}
